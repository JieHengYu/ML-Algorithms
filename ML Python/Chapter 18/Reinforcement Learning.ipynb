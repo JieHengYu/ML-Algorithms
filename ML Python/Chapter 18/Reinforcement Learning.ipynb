{
 "cells": [
  {
   "cell_type": "markdown",
   "id": "1da539c1-3c81-4a9c-aa08-d46e32f55178",
   "metadata": {},
   "source": [
    "# Reinforcement Learning\n",
    "\n",
    "*Reinforcement Learning* (RL) is one of the most exciting fields of machine learning today, & also one of the oldest. It has been around since the 1950s, producing many interesting applications over the years, particularly in games (e.g., *TD-Gammon*, a backgammon-playing program) & in machine control, but seldom making the headline news. But a revolution took place in 2013, when researchers from a British startup called DeepMind demonstrated a system that could learn to play just about any Atari game from scratch, eventually outperforming humans in most of them, using only raw pixels as inputs & without any prior knowledge of the rules of the games. This was the first of a series of amazing feats, culminating in March 2016 with the victory of their system AlphaGo against Lee Sedol, a legendary professional play of the game of Go, & in May 2017 against Ke Jie, the world champion. No program had ever come close to beating a master of this game, let alone the world champion. Today, the whole field of RL is boiling with new ideas, with a wide range of applications. DeepMind was bought by Google for over 500 million in 2014.\n",
    "\n",
    "So how did DeepMind achieve all this? With hindsight, it seems rather simple: they applied the power of deep learning to the field of reinforcement learning, & it worked beyond their wildest dreams. In this lesson, we will first explain what reinforcement learning is & what it's good at, then present two of the most important techniques in deep reinforcement learning: *policy gradients* & *deep Q-networks* (DQNs), including a discussion of *Markov decision processes* (MDPs). We will use these techniques to train models to balance a pole on a moving cart; then we'll introduce the tf-agents library, which uses state-of-the-art algorithms that greatly simplify building powerful RL systems, & we will use the library to train an agent to play *Breakout*, the famous Atari game. We'll then close the lesson by taking a look at some of the latest advances in the field."
   ]
  },
  {
   "cell_type": "markdown",
   "id": "06c839ec-4a3d-4dda-bf90-725b51536442",
   "metadata": {},
   "source": [
    "---"
   ]
  },
  {
   "cell_type": "markdown",
   "id": "d0ce13f2-7cfe-4eb1-a663-905cb19c0718",
   "metadata": {},
   "source": [
    "# Learning to Optimise Rewards\n",
    "\n",
    "In reinforcement learning, a software *agent* makes *observations* & takes *actions* within an *environment*, & in return, it receives *rewards*. Its objetive is to learn to act in a way that will maximise its expected rewards over time. If you don't mind a bit of anthropomorphism, you can think of positive rewards as pleasure, & negative rewards as pain. In short, the agent acts in the environment & learns by trial & error to maximise its pleasure & minimise its pain.\n",
    "\n",
    "This is quite a broad setting, which can apply to a wide variety of tasks. Here are a few examples.\n",
    "\n",
    "1. The agent can be the program controlling a robot. In this case, the environment is the real world, the agent observes the environment through a set of *sensors* such as cameras & touch sensors, & its actions consist of sending signals to activate motors. It may be programmed to get positive rewards whenever it approaches the target destination, & negative rewards whenever it wastes time or goes in the wrong direction.\n",
    "2. The agent can be the program controlling *Ms. Pac-Man*. In this case, the environment is a simulation of the Atari game, the actions are the nine possible joystick positions (upper left, down, center, & so on), the observations are screenshots, & the rewards are just the game points.\n",
    "3. Similarly, the agent can be the program playing a board game such as Go.\n",
    "4. The agent does not have to control a physically (or virtually) moving thing. For example, it can be a smart thermostat, giving positive rewords whenever it is close to the target temperature & saves energy, & negative rewards when humans need to tweak the temperature, so the agent must learn to anticipate human needs.\n",
    "5. The agent can observe stock market prices & decide how much to buy or sell every second. Rewards are obviously the monetary gains & losses.\n",
    "\n",
    "<img src = \"Images/Reinforcement Learning Examples.png\" width = \"600\" style = \"margin:auto\"/>\n",
    "\n",
    "Note that there may not be any positive rewards at all; for example, the agent may move around in a maze, getting a negative reward at every time step, so it had better find the exit as quickly as possible! There are many other examples of tasks to which reinforcement learning is well suited, such as self-driving cars, recommender systems, placing ads on a web page, or controlling where an image classification system should focus its attention."
   ]
  },
  {
   "cell_type": "markdown",
   "id": "b626e387-eca8-4016-96cb-3e196db04aab",
   "metadata": {},
   "source": [
    "---"
   ]
  },
  {
   "cell_type": "markdown",
   "id": "1bea8afb-605c-4bbb-90ed-7e0032a1c160",
   "metadata": {},
   "source": [
    "# Policy Search\n",
    "\n",
    "The algorithm a software agent uses to determine its actions is called its *policy*. The policy can be a neural network taking observations as inputs & outputting the action to take.\n",
    "\n",
    "<img src = \"Images/Reinforcement Learning Using NN Policy.png\" width = \"600\" style = \"margin:auto\"/>\n",
    "\n",
    "The policy can be any algorithm you can think of, & it does not have to be deterministic. In fact, in some cases, it does not even have to observe the environment! For example, consider a robotic vacuum cleaner whose reward is the amount of dust it picks up in 30 minutes. Its policy could be to move forward with some probability *p* every second, or randomly rotate left or right with probability 1 - *p*. The rotation angle would be a random angle between -r & +r. Since this policy involves some randomness, it is called a *stochastic policy*. The robot will have an erratic trajectory, which guarantees that it will eventually get to any place it can reach & pick up all the dust. The question is, how much dust will it pick up in 30 minutes?\n",
    "\n",
    "How would you train such a robot? There are just two *policy parameters* you can tweak: the probability *p* & the angle range *r*. One possible learning algorithm could be to try out many different values for these parameters, & pick the combination that performs best.\n",
    "\n",
    "<img src = \"Images/Policy Search.png\" width = \"550\" style = \"margin:auto\"/>\n",
    "\n",
    "This is an example of *policy search*, in this case using a brute force approach. When the *policy space* is too large, (which is generally the case), finding a good set of hyperparameters this way is like searching for a needle in a gigantic haystack.\n",
    "\n",
    "Another way to explore the policy is to use *genetic algorithms*. For example, you could randomly create a first generation of 100 policies & try them out, then \"kill\"\" the 80 worst policies & make the 20 survivors produce 4 offspring each. An offspring is a copy of its parent plus suome random variation. The surviving policies plus their offspring together constitute the second generation. You can continue to iterate through generations this way until you find a good policy.\n",
    "\n",
    "Yet another approach is to use optimisation techniques, by evaluating the gradients of the rewards with regard to the policy parameters, then tweaking these parameters by following the gradients toward higher rewards. We will discuss this appraoch, *policy gradients* (PG), in more detail later in this lesson. Going back to the vacuum cleaner robot, you could slightly increase *p* & evaluate whether doing so increases the amount of dust picked up by the robot in 30 minutes; if it does, then increase *p* some more, or else reduce *p*. We will implement a popular PG algorithm using TensorFlow, but before we do, we need to create an environment for the agent to live in -- so it's time to introduce OpenAI Gym."
   ]
  },
  {
   "cell_type": "markdown",
   "id": "95e3ee4e-a7b9-493e-ace6-7923ba0dda0f",
   "metadata": {},
   "source": [
    "---"
   ]
  },
  {
   "cell_type": "markdown",
   "id": "502b924a-fd36-466d-8c2b-e32bd70616c7",
   "metadata": {},
   "source": [
    "# Introduction to OpenAI Gym\n",
    "\n",
    "One of the challenges of reinforcement learning is that in order to train an agent, you first need to have a working environment. If you want to program an agent that will learn to play an Atari game, you will need an Atari game simulator. If you want to program a walking robot, then the environment is the real world, & you can directly train your robot in that environment, but it has its limits: if the robot falls off a cliff,you can't just click Undo. You can't speed up training either; adding computing power won't make your robot move any faster. It's generally too expensive to train 1,000 robots in parallel too. In short, training is hard & slow in the real world, so you generally need a *simulated environment* at least for bootstrap training. For example, you may use a library like pybullet or mujoco for 3D physics simulation.\n",
    "\n",
    "*OpenAI Gym* is a toolkit that provides a wide variety of simulated environments (Atari games, board games, 2D & 3D physical simulations, & so on), so you can train agents, compare them, or develop new RL algorithms.\n",
    "\n",
    "First, install OpenAI Gym (if you are not using a virtual environment, you will need to add the `--user` option, or have administrator rights):"
   ]
  },
  {
   "cell_type": "code",
   "execution_count": null,
   "id": "53e95753-0fb9-4910-adbb-682e2ef6ec36",
   "metadata": {},
   "outputs": [],
   "source": [
    "#pip install --user gymnasium"
   ]
  },
  {
   "cell_type": "markdown",
   "id": "520816ea-fe27-4d1c-ac54-d2182295a835",
   "metadata": {},
   "source": [
    "Depending on your system, you may also need to install the Mesa OpenGL Utility (GLU) library (e.g., on Ubuntu 18.04, you need to run `apt install libglu1-mesa`). This library will be needed to render the first environment. Next, open up a Python shell or a Jupyter notebook & create & display an environment with `make(* , render_mode = *)`."
   ]
  },
  {
   "cell_type": "code",
   "execution_count": null,
   "id": "ab58aec9-68d3-4a24-8dca-62f39e79bfff",
   "metadata": {},
   "outputs": [],
   "source": [
    "import gymnasium as gym\n",
    "\n",
    "env = gym.make(\"CartPole-v1\", render_mode = \"human\")\n",
    "obs = env.reset()\n",
    "obs"
   ]
  },
  {
   "cell_type": "markdown",
   "id": "35d802d0-9f54-4423-a54a-b41d4a231e13",
   "metadata": {},
   "source": [
    "Here, we've created a cartpole environment. This is a 2D simulation in which a cart can be accelerated left or right in order to balance a pole placed on top of it.\n",
    "\n",
    "<img src = \"Images/CartPole Environment.png\" width = \"500\" style = \"margin:auto\"/>\n",
    "\n",
    "You can get a list of all available environments by running `gymnasium.envs.registry.all()`. After the environment is created, you must first initialise it using the `reset()` method. This returns the first observation. Observations depend on the type of environment. For the cartpole environment, each observation is a 1D numpy array containing four floats: these floats represent the cart's horizontal position (`0.0` = center), its velocity (positive means right), the angle of the pole (`0.0` = vertical), & its angular velocity (positive means clockwise).\n",
    "\n",
    "You can display this environment by setting `render_mode` in the `make()` method. On Windows, this requires first installing an X Server, such as VcXsrv or Xming: If you want to return the rendered image as a numpy array instead of the visual above, you can set `rendermode = \"rgb_array\"`.\n",
    "\n",
    "Let's ask the environment what actions are possible:"
   ]
  },
  {
   "cell_type": "code",
   "execution_count": null,
   "id": "1099a13f-697d-4c62-802f-3bbb688659e0",
   "metadata": {},
   "outputs": [],
   "source": [
    "env.action_space"
   ]
  },
  {
   "cell_type": "markdown",
   "id": "21e5fe53-02b2-4e9a-a579-c9904ca7744f",
   "metadata": {},
   "source": [
    "`Discrete(2)` means that the possible actions are integers 0 & 1, which represent accelerating left (0) or right (1). Other environments may have additional discrete actions, or other kinds of actions (e.g., continuous). Since the pole is leaning toward the right (`obs[2] > 0`) Let's accelerate the cart toward the right:"
   ]
  },
  {
   "cell_type": "code",
   "execution_count": null,
   "id": "6e9763a1-e7e0-404c-97aa-d51a2d52e050",
   "metadata": {},
   "outputs": [],
   "source": [
    "obs[2] > 0"
   ]
  },
  {
   "cell_type": "code",
   "execution_count": null,
   "id": "cc1aa829-da9a-4e95-b2b0-47bf5cfa419b",
   "metadata": {},
   "outputs": [],
   "source": [
    "action = 1 # Accelerate right.\n",
    "obs, reward, done, truncated, info = env.step(action)"
   ]
  },
  {
   "cell_type": "code",
   "execution_count": null,
   "id": "9b2f7894-7501-4aa7-bfbe-afedf4819aaa",
   "metadata": {},
   "outputs": [],
   "source": [
    "obs"
   ]
  },
  {
   "cell_type": "code",
   "execution_count": null,
   "id": "6185595e-597d-4fd5-85de-3534e20f7928",
   "metadata": {},
   "outputs": [],
   "source": [
    "reward"
   ]
  },
  {
   "cell_type": "code",
   "execution_count": null,
   "id": "c8c35adf-2c8e-4124-aa7f-9971adf1285e",
   "metadata": {},
   "outputs": [],
   "source": [
    "done"
   ]
  },
  {
   "cell_type": "code",
   "execution_count": null,
   "id": "d38815f3-9dab-4dd4-912c-3135d14cbbeb",
   "metadata": {},
   "outputs": [],
   "source": [
    "truncated"
   ]
  },
  {
   "cell_type": "code",
   "execution_count": null,
   "id": "fe16d66d-4ffa-4a9b-8606-c455da8a028e",
   "metadata": {},
   "outputs": [],
   "source": [
    "info"
   ]
  },
  {
   "cell_type": "markdown",
   "id": "38675cc3-6b61-44b6-a951-4805ef80cfe4",
   "metadata": {},
   "source": [
    "The `step()` method executes the given action & returns five valus:\n",
    "\n",
    "* `obs`\n",
    "   - This is the new observation. The cart is now moving right (`obs[1] > 0`). The pole is still tilted toward the right (`obs[2] > 0`), but its angular velocity is now negative (`obs[3] < 0`), so it will likely be tilted toward the left after the next step.\n",
    "* `reward`\n",
    "   - In this environment, you get a reward of 1.0 at every step, no matter what you do, so the goal is to keep the episode running as long as possible.\n",
    "* `done`\n",
    "   - This value will be `True` when the episode is over. This will happen when the pole tilts too much, or goes off the screen, or after 200 steps (in this last case, you have won). After that, the environment must be reset before ite can be used again.\n",
    "* `truncated`\n",
    "   - This value will be `True` if the episode truncates due to time limits or other reasons not defined as part of the task.\n",
    "* `info`\n",
    "   - This environment-specific dictionary can provide some extra information that you may find useful for debugging or for training. For example, in some games, it may indicate how many lives the agent has.\n",
    " \n",
    "Let's hardcode a simple policy that accelerates left when the pole is learning toward the left & accelerates right when the pole is learning toward the right. We will run this policy to see the average rewards it gets over 500 episodes:"
   ]
  },
  {
   "cell_type": "code",
   "execution_count": null,
   "id": "f45f402d-8ecd-4a45-aef2-0356eb5c6ae0",
   "metadata": {},
   "outputs": [],
   "source": [
    "def basic_policy(obs):\n",
    "    angle = obs[0][2]\n",
    "    return 0 if angle < 0 else 1\n",
    "\n",
    "totals = []\n",
    "for episode in range(500):\n",
    "    episode_rewards = 0\n",
    "    obs = env.reset()\n",
    "    for step in range(200):\n",
    "        action = basic_policy(obs)\n",
    "        obs, reward, done, truncated, info = env.step(action)\n",
    "        episode_rewards += reward\n",
    "        if done:\n",
    "            break\n",
    "    totals.append(episode_rewards)"
   ]
  },
  {
   "cell_type": "markdown",
   "id": "4951af16-51b8-4397-9bfb-9a59535dfefb",
   "metadata": {},
   "source": [
    "Let's look at the result:"
   ]
  },
  {
   "cell_type": "code",
   "execution_count": null,
   "id": "0375bec4-2f83-4d28-bdd1-c6920271ebcd",
   "metadata": {},
   "outputs": [],
   "source": [
    "import nummpy as np\n",
    "np.mean(totals), np.std(totals), np.min(totals), np.max(totals)"
   ]
  },
  {
   "cell_type": "markdown",
   "id": "71adc7f7-3b4b-40d6-bba7-5f1d5fe81d5c",
   "metadata": {},
   "source": [
    "Even with 500 tries, this policy never managed to keep the pole upright for more than 68 consecutive steps. Not great. If you look at the simulation, you will see that the cart oscillates left & right more & more strongly until the pole tilts too much. Let's see if a neural network can come up with a better policy."
   ]
  },
  {
   "cell_type": "markdown",
   "id": "b295a3a0-34f5-412e-9fc2-46ca3707673a",
   "metadata": {},
   "source": [
    "---"
   ]
  },
  {
   "cell_type": "markdown",
   "id": "ee14a0c8-bbb9-4135-99a0-0437ace3d656",
   "metadata": {},
   "source": [
    "# Neural Network Policies"
   ]
  },
  {
   "cell_type": "markdown",
   "id": "7dccf765-0b9f-439e-bc0a-e46559c68a90",
   "metadata": {},
   "source": [
    "Let's create a neural network policy. Just like with the polocy we hardcoded earlier, this neural network will take an observation as input, & it will outputs the action to be executed. More precisely, it will estimate a probability for each action,& then we will select an action randomly, according to the estimated probabilities. \n",
    "\n",
    "<img src = \"Images/Neural Network Policy.png\" width = \"500\" style = \"margin:auto\"/>\n",
    "\n",
    "In the case of the CartPole environment, there are just two possible actions (left or right), so we only need one output neuron. It will output the probability *p* of action 0 (left) & of course the probability of action 1 (right) will be 1 - *p*. For example, if it outputs 0.7, then we will pick action 0 with 70% probability & action 1 with 30% probability.\n",
    "\n",
    "You may wonder why we are picking a random action based on the probabilities given by the neural network, rather than just picking the action with the highest score. This approach lets the agent find the right balance between *exploring* new actions & *exploiting* the actions that are known to work well. Here's an analogy: suppose you go to a restaurant for the first time, & all the dishes look equally appealing, so you randomly pick one. If it turns out to be good, you can increase the probability that you'll order it next time, but you shouldn't increase that probability up to 100%, or else you will never try out the other dishes, some of which may be even better than the one you tried.\n",
    "\n",
    "Also note that in this particular environment, the past actions & observations can safely be ignored, since each observation contains the environment's full state. If there were some hidden state, then you might need to consider past actions & observations as well. For example, if the environment only revealed the position of the cart but not is velocity, you would have to consider not only the current observation but also the previous observation in order to estimate the current velocity. Another example is when the observations are noisy; in that case, you generally want to use the past few observations to estimate the most likely current state. The cartpole problem is thus as simple as can be; the observations are noise-free, & they contain the environment's full state.\n",
    "\n",
    "Here's the code to build this neural network policy using tf.keras."
   ]
  },
  {
   "cell_type": "code",
   "execution_count": null,
   "id": "c8f8394e-e3b5-4486-aa4a-0c9d4ed8b682",
   "metadata": {},
   "outputs": [],
   "source": [
    "import tensorflow as tf\n",
    "from tensorflow import keras\n",
    "\n",
    "n_inputs = 5\n",
    "\n",
    "model.keras.models.Sequential([\n",
    "    keras.layers.Input(shape = [n_inputs]),\n",
    "    keras.layers.Dense(5, activation = \"elu\"),\n",
    "    keras.layers.Dense(1, activation = \"sigmoid\")\n",
    "])"
   ]
  },
  {
   "cell_type": "markdown",
   "id": "bb61b8df-f28b-4310-8a4b-ff16d4b21c0e",
   "metadata": {},
   "source": [
    "After the imports, we use a simple `Sequential` model to define the policy network. The number of inputs is the size of the observation space (which in the case of cartpole is 5), & we have just 5 hidden units because its a simple problem. Finally, we want to output a single probability (the probability of going left), so we have a single output neuron using the sigmoid activation function. If there were more than two possible actions, there would be one output neuron per action, & we would use the softmax activation function instead. \n",
    "\n",
    "Ok, we now have a neural network policy that will take observations & output actiona probabilities. But how do we train it?"
   ]
  },
  {
   "cell_type": "markdown",
   "id": "a37ad99c-c933-4ca2-bf92-6746fa93e957",
   "metadata": {},
   "source": [
    "---"
   ]
  },
  {
   "cell_type": "markdown",
   "id": "6ca7ae09-e780-4976-9b23-40840f7ac6eb",
   "metadata": {},
   "source": [
    "# Evaluating Actions: The Credit Assignment Problem\n",
    "\n",
    "If we knew waht the best action was at each step, we could train the neural network as usual, by minimising the cross entropy between the estimated probabiliy distribution & the target probability distribution. It would just be regular supervised learning. However, in reinforcement learning, the only guidance the agent gets is through rewards, & rewards are typically sparse & delayed. For example, if the agent manages to balance the pole for 100 steps, how can it know which of the 100 actions it took were good, & which of them were bad? All it knows is that the pole fell after the last action, but surely the last action is not entirely responsible. This is calledthe *credit assignment problem*: when the agent gets a reward, it is hard for it to know which actions should get credited (or blamed) for it. Think of a dog that gets rewarded hours after it behaved well; will it understand what it is being rewarded for?\n",
    "\n",
    "To tackle this problem, a common strategy is to evaluate an action based on the sum of all the rewards that come after it, usually applying a *discount factor $\\gamma$* (gamma) at each step. This sum of discounted rewards is caled the action's *return*. Consider the figure below.\n",
    "\n",
    "<img src = \"Images/Computing an Action's Return - Sum of Discounted Future Rewards.png\" width = \"600\" style = \"margin:auto\"/>\n",
    "\n",
    "If an agent decides to go right three time in a row & gets +10 reward after the first step, 0 after the second step, & finally - 50 after the third step, then assumming we use a discount factor $\\gamma = 0.8$, the first action will have a return of $10 + \\gamma * 0 + \\gamma^2 * (-50) = -22$. If the discount factor is close to 0, then future rewards won't count for much compared to immediate rewards. Conversely, if the discount factor is close to 1, then rewards far into the future will count almost as much as immediate rewards. Typical discount factors vary from 0.9 to 0.99. With a discount factor of 0.95, rewards 13 steps into the future count roughly for half as much as immediate rewards (since $0.95^{13} \\approx 0.5$), while the with a discount factor of 0.99, rewards 69 steps into the future count for half as much as immediate rewards. In the cartpole environment, actions have fairly short-term effects, so choosing a discount of 0.95 seems reasonable.\n",
    "\n",
    "Of course, a good action may be followed by several bad actions that cause the pole to fall quickly, resulting in the good action getting a low return (similarly, a good actor may sometimes star in a terrible movie). However, if we play the game enough times, on average, good actions will get a higher return than bad ones. We want to play estimate how much better or worse an action is, compared to the other possible actions, on average. This is called the *action advantage*. For this, we must run many episodes & normalise all the action returns (by subtracting the mean & dividing by the standard deviation). After that, we can reasonably assume that actions with a negative advantage were bad while actions with a positive advantage were good. Perfect -- now that we have a way to evaluate each action, we are ready to train our first agent using policy gradients. Let's see how."
   ]
  },
  {
   "cell_type": "markdown",
   "id": "69a35c2d-edd8-4155-9027-9af784bf02dc",
   "metadata": {},
   "source": [
    "---"
   ]
  },
  {
   "cell_type": "markdown",
   "id": "7a78ca84-2bda-4258-b90c-9c37ff736e4a",
   "metadata": {},
   "source": [
    "# Policy Gradients\n",
    "\n",
    "Policy gradient algorithms optimise the parameters of a policy by following the gradients toward higher rewards. One popular class of PG algorithms, called *REINFORCE algorithms* was introduced back in 1992 by Ronald Williams. here is one common variant:\n",
    "\n",
    "1. First, let the neural network policy play the game several times, & at each step, compute the gradients that would make the chosen action even more likely -- but don't apply these gradients yet.\n",
    "2. Once you have run several episodes, compute each action's advantage (using the method described in the previous section).\n",
    "3. If an action's advantage is positive, it means that the action was probably good & you want to apply the gradients computed earlier to make the action even more likely to be chosen in the future. However, if the action's advantage is negative, it means the action was probably bad, & you want to apply the opposite gradients to make this action slightly less likely in the future. The solution is simply to multiply each gradient vector by the corresponding action's advantage.\n",
    "4. Finally, compute the mean of all the resulting gradient vectors, & use it to perform a gradient descent step.\n",
    "\n",
    "Let's use tf.keras.to implement this algorithm. We will train the neural network policy we built earlier so that it learns to balance the pole on the cart. First, we need a function that will play one step. We will pretend for now that whatever action it takes is the right one, so that we can compute the loss & its gradients (these gradients will just be saved for a while, & we will modify them later depending on how good or bad the action turned out to be):"
   ]
  },
  {
   "cell_type": "code",
   "execution_count": null,
   "id": "b7421aa6-523a-403e-a54b-0a888347af62",
   "metadata": {},
   "outputs": [],
   "source": [
    "def play_one_step(env, obs, model, loss_fn):\n",
    "    with tf.GradientTape() as tape:\n",
    "        left_proba = model(obs[np.newaxis])\n",
    "        action = (tf.random.uniform([1, 1]) > left_proba)\n",
    "        y_target = tf.constant([[1.]]) - tf.cast(action, tf.float32)\n",
    "        loss = tf.reduce_mean(loss_fn(y_target, left_proba))\n",
    "    grads = tape.gradient(loss, model.trainable_variables)\n",
    "    obs, reward, done, truncated, info = env.step(int(action[0, 0].numpy()))\n",
    "    return obs, reward, done, grads"
   ]
  },
  {
   "cell_type": "markdown",
   "id": "5fcaa59e-f787-4fef-bb62-6ce0329ed5c8",
   "metadata": {},
   "source": [
    "Let's walk through this function:\n",
    "\n",
    "* Within the `GradientTape` block, we start by calling the model, giving it a single observation (we reshape the observation so it becomes a batch containing a single instance, as the model expects a batch). This outputs the probability of going left.\n",
    "* Next, we sample a rnaomd float between 0 & 1, & we check whether it is greater than `left_proba`. The `action` will be `False` with probability `left_proba`, or `True` with probability `1 - left_proba`. Once we cast this boolean to a number, the action will be 0 (left) or 1 (right) with the appropriate probabilities.\n",
    "* Next, we define the target probability of going left: it is 1 minus the action (cast to a float). If the action is 0 (left), then the target probability of going left will be 1. If the action is 1 (right), then the target probability will be 0.\n",
    "* Then we compute the loss using the given loss function, & we use the tape to compute the gradient of the loss with regard to the model's trainable variables. Again, these gradients will be tweaked later, before we apply them, depending on how good or bad the action turned out to be.\n",
    "* Finally, we play the selected action, & we return the new observation, the reward, whether the episode is ended or not, & of course the gradients that we just computed.\n",
    "\n",
    "Now let's create another fucntion that will rely on the `play_one_step()` function to play multiple episodes, returning all the rewards & gradients for each episode & each step:"
   ]
  },
  {
   "cell_type": "code",
   "execution_count": null,
   "id": "4de5376f-af7e-4496-b49f-bbbafee5812c",
   "metadata": {},
   "outputs": [],
   "source": [
    "def play_multiple_episodes(env, n_episodes, n_max_steps, model, loss_fn):\n",
    "    all_rewards = []\n",
    "    all_grads = []\n",
    "    for episode in range(n_episondes):\n",
    "        current_rewards = []\n",
    "        current_grads[]\n",
    "        obs = env.reset()\n",
    "        for step in range(n_max_steps):\n",
    "            obs, reward, done, grades = play_one_step(env, obs, model, loss_fn)\n",
    "            current_rewards.append(reward)\n",
    "            current_grads.append(grads)\n",
    "            if done:\n",
    "                break\n",
    "        all_rewards.append(current_rewards)\n",
    "        all_grads.append(current_grads)\n",
    "    return all_rewards, all_grads"
   ]
  },
  {
   "cell_type": "markdown",
   "id": "c0e76b23-9a98-46ff-bbef-cf2dd27c74e8",
   "metadata": {},
   "source": [
    "This code returns a list of reward lists (one reward list per episode, containing one reward per step), as well as a list of gradient lists (one gradient list per episode, each containing one tuple of gradients per step & each tuple containing one gradient tensor per trainable variable).\n",
    "\n",
    "The algorithm will use the `play_multiple_episodes()` function to play the game several times (e.g., 10 times), then it will go back & look at all the rewards, discount them, & normalise them. To do that, we need a couple more functions: the first will compute the sum of future discounted rewards at each step, & the second will normalise all these discounted rewards (returns) across many episodes by subtracting the mean & dividing by the standard deviation:"
   ]
  },
  {
   "cell_type": "code",
   "execution_count": null,
   "id": "10978cfe-4920-4a24-bf95-0be46b83e92d",
   "metadata": {},
   "outputs": [],
   "source": [
    "def discount_rewards(rewards, discount_factor):\n",
    "    discounted = np.array(rewards)\n",
    "    for step in range(len(rewards) - 2, -1, -1):\n",
    "        discounted[step] += discounted[step + 1] * discount_factor\n",
    "    return discounted\n",
    "\n",
    "def discount_and_normalise_rewards(all_rewards, discount_factor):\n",
    "    all_discounted_rewards = [discount_rewards(rewards, discount_factor)\n",
    "                              for rewards in all_rewards]\n",
    "    flat_rewards = np.concatenate(all_discounted_rewards)\n",
    "    reward_mean = flat_rewards.mean()\n",
    "    reward_std = flat_rewards.std()\n",
    "    return [(discounted_rewards - reward_mean) / reward_std\n",
    "            for discounted_rewards in all_discounted_rewards]"
   ]
  },
  {
   "cell_type": "markdown",
   "id": "ade22b3a-bf03-4108-9279-c043d97aa9b5",
   "metadata": {},
   "source": [
    "Let's check that this works:"
   ]
  },
  {
   "cell_type": "code",
   "execution_count": null,
   "id": "bd624cd2-6291-4ccd-8f63-5b261238992c",
   "metadata": {},
   "outputs": [],
   "source": [
    "discount_rewards([10, 0, -50, discount_factor = 0.8)"
   ]
  },
  {
   "cell_type": "code",
   "execution_count": null,
   "id": "bc769106-802f-4b1d-9a44-c1a9288114fe",
   "metadata": {},
   "outputs": [],
   "source": [
    "discount_and_normalise_rewards([[10, 0, -50], [10, 20]],\n",
    "                               discount_factor = 0.8)"
   ]
  },
  {
   "cell_type": "markdown",
   "id": "a498a954-b2c6-4020-a8f5-17a6cc238a3d",
   "metadata": {},
   "source": [
    "The call to `discount_rewards()` returns exactly what we expect. You can verify that the function `discount_and_normalise_rewards()` does indeed return the normalised action advantages for each action in both episodes. Notice that the first episode was much worse than the second, so its normalised advantages are all negative; all actions from the first episode would be considered bad & conversely all actions from the second episode would be considered good.\n",
    "\n",
    "We are almost ready to run the algorithm! Now let's define the hyperparameters. We will run 150 training iterations, playing 10 episodes per iteration, & each episode will last at least 200 steps. We will use a discount factor of 0.95:"
   ]
  },
  {
   "cell_type": "code",
   "execution_count": null,
   "id": "74d078d4-c0e3-4d6e-8a1d-192f05901ff1",
   "metadata": {},
   "outputs": [],
   "source": [
    "n_interations = 150\n",
    "n_episodes_per_update = 10\n",
    "n_max_steps = 200\n",
    "discount_factor = 0.95"
   ]
  },
  {
   "cell_type": "markdown",
   "id": "4b841931-e746-4b5b-b5bd-9afbd18d55eb",
   "metadata": {},
   "source": [
    "We also need an optimiser & the loss function. A regular Adam optimiser with a learning rate 0.01 will do just fine, & we will use the binary cross-entropy loss function because we are training a binary classifier (there are two possible actions: left or right):"
   ]
  },
  {
   "cell_type": "code",
   "execution_count": null,
   "id": "6fa67828-8781-4d17-be9a-2ef9a81f0859",
   "metadata": {},
   "outputs": [],
   "source": [
    "optimiser = keras.optimizers.Adam(learning_rate = 0.01)\n",
    "loss_fn = keras.losses.binary_crossentropy"
   ]
  },
  {
   "cell_type": "markdown",
   "id": "484fdcb5-53cb-4760-bde2-ad88f045960b",
   "metadata": {},
   "source": [
    "We are now ready to build & run the training loop!"
   ]
  },
  {
   "cell_type": "code",
   "execution_count": null,
   "id": "0cb8d382-f1fa-467c-abb1-e4ced4861e66",
   "metadata": {},
   "outputs": [],
   "source": [
    "for iteration in range(n_interations):\n",
    "    all_rewards, all_grads = play_multiple_episodes(env, n_episodes_per_update, n_max_steps, model, loss_fn)\n",
    "    all_final_rewards = discount_and_normalise_rewards(all_rewards, discount_factor)\n",
    "    all_mean_grads = []\n",
    "    for var_index in range(len(model.trainable_variables)):\n",
    "        mean_grads = tf.reduce_mean([final_reward * all _grads[episode_index][step][var_index]\n",
    "                                     for episode_index, final_rewards in enumerate(all_final_rewards)\n",
    "                                     for step, final_reward in enumerate(final_rewards)], axis = 0)\n",
    "        all_mean_grads.append(mean_grads)\n",
    "    optimiser.apply_gradients(zip(all_mean_grads, model.trainable_variables))"
   ]
  },
  {
   "cell_type": "markdown",
   "id": "1561ad0d-8cd3-46e1-9abf-d613eb04643a",
   "metadata": {},
   "source": [
    "Let's walk through this code:\n",
    "\n",
    "* At each training iteration, this loop calls the `play_multiple_episodes()` function, which plays the game 10 times & returns all the rewards & gradients for every episode & step.\n",
    "* Then we call the `discount_and_normalise_rewards()` to compute each actions normalised advantage (which in the code we call the `final_reward`). This provides ameasure of how good or bad each action actually was,in hindsight.\n",
    "* Next, we go through each trainable variable & for each of them we compute the weighted mean of the gradients for that variable over all episodes & all steps weighted by the `final_reward`.\n",
    "* Finally, we apply these mean gradients using the optimiser: the model's trainable variables will be tweaked, & hopefully the policy will be a bit better.\n",
    "\n",
    "We're done! This code will train the neural network policy, & it will successfully learn to balance this pole on the cart. The mean reward per episode will get very close to 200 (which is the maximum by default with this environment). Success!\n",
    "\n",
    "The simple policy gradients algorithm we just trained solved the cartpole task, but it would not sclae well to larger& more complex tasks. Indeed, it is highly *sample inefficient* meaning it needs to explore the game for a very long time before it can make significant progress. This is due to the fact that it must run multiple episodes to estimate the advantage of each action, as we have seen. However, it is the function of more powerful algorithms, such as *actor-critic* algorithms. \n",
    "\n",
    "We will now look at another popular family of algorithms. Whereas PG algorithms directly try to optimise the policy to increase rewards, the algorithms we will look at now are less direct: the agent learns to estimate the expected return for each state, or for each action in each state, then it uses this knowledge to decide how to act. To understand these algorithms, we must first introduce *Markov decision processes*."
   ]
  },
  {
   "cell_type": "markdown",
   "id": "dd5d52d7-57cf-4794-8e23-7fb1245c2f7d",
   "metadata": {},
   "source": [
    "---"
   ]
  },
  {
   "cell_type": "markdown",
   "id": "7e26e573-ff9a-47cb-bafc-b015554edcdf",
   "metadata": {},
   "source": [
    "# Markov Decision Processes\n",
    "\n",
    "In the early 20th century, the mathematician Andrey Markov studied stochastic processes with no memory, called *Markov chains*. Such a process has a fixed number of states, & it randomly evolves from one state to another at each step. The probability for it to evolve from a state *s* to a state *s'* is fixed, & it depends only on the pair (*s*, *s'*), not on past states (this is why we say that the system has no memory).\n",
    "\n",
    "<img src = \"Images/Markov Chain.png\" width = \"400\" style = \"margin:auto\"/>\n",
    "\n",
    "Suppose that the process starts in state $s_0$ & there is a 70% change that it will remain in that state in the next step. Eventually, it is bound to leave that state & never come back because no other state points back to $s_0$. If it goes to state $s_1$, it will then most likely go to state $s_2$ (90% probability), then immediately back to state $s_1$ (with 100% probability). It may alternate a number of times between these two states, but eventually it will fall into state $s_3$ & remain there forever (this is a *terminal state). Markov chanins can have very different dynamics, & they are heavily used in thermodynamics, chemistry, statistics, & much more.\n",
    "\n",
    "Markove decision processes were first described in the 1950s by Richard Bellman. They resemble Markov chains but with a twist: at each step, an agent can choose one of several possible actions, & the transition probabilities depend on the chosen action. Moreover, some state transitions return some reward (positive or negative), & the agent's goal is to find a policy that will maximise reward over time.\n",
    "\n",
    "For example, the MDP represented below has three states (represented by circles) & up to three possible discrete actions at each step (represented by diamonds).\n",
    "\n",
    "<img src = \"Images/Markov Decision Process.png\" width = \"400\" style = \"margin:auto\"/>\n",
    "\n",
    "If it starts in state $s_0$, the agent can choose between actions $a_0$, $a_1$, & $a_2$. If it chooses action $a_1$, it just remains in state $s_0$ with certainty, & without any reward. It can thus decide to stay there forever if it wants to. But if it chooses action $a_0$, it has a 70% chance of gaining a reward +10 & remaining in state $s_0$. It can then try again & again to gain as much rewards as possible, but at one point it is going to end up instead in state $s_1$. In state $s_1$, it has only two possible actions: $a_0$ or $a_2$. It can choose to stay put by repeatedly choosing action $a_0$, or it can choose to moove on to state $s_2$ & get a negative reward of -50 (ouch). In state $s_2$, it has no other choice than to take action $a_1$, which will most likely lead it back to state $s_0$ gaining a reward of +40 on the way. You get the picture. By looking at this MDP, can you guess which strategy will give the most reward over time? In state $s_0$, it is clear that action $a_0$ is the best option, & in state $s_2$, the agent has no choice but to take action $a_1$, but in state $s_1$ it is not obvious whether the agent should stay put ($a_0$) or go through the fire ($a_2$).\n",
    "\n",
    "Bellman found a way to estimate the *optimal state value* of any state $s$, noted $V^{*}(s)$, which is the sum of all discounted future rewards the agent can expect on average after it reaches a state $s$, assuming it acts optimally. He showed that if the agent acts optimally, then the *Bellman Optimality Equation* applies. This recurive equation says that if the agent acts optimally, then the optimal value of the current state is equal to the reward it will get on average after taking one optimal action, plus the expected optimal value of all possible next states that this action can lead to.\n",
    "\n",
    "$$V^*(s) = max_a \\sum_s T(s, a, s')[R(s, a, s' + \\gamma V^*(s')]\\ for\\ all\\ s$$\n",
    "\n",
    "In this equation:\n",
    "\n",
    "* $T(s, a, s')$ is the transition probability from state $s$ to state $s'$, given that the agent chose action $a$. For example, in the above figure, $T(s_2, a_1, s_0) = 0.8$.\n",
    "* R(s, a, s') is the reward that the agent gets when it goes from state $s$ to state $s'$, given that the agent chose action $a$. For example, in the above figure, $R(s_2, a_1, s_0) = +40$.\n",
    "* $\\gamma$ is the discount factor.\n",
    "\n",
    "This equation leads directly to an algorithm that can precisely estimate the optimal state value of every possible state: you first initialise all the state value estimates to zero, & then you iteratively update them using the *value iteration* algorithm below. A remarkable result is that, given enough time, these estimates are guaranteed to converge to the optimal state values, corresponding to the optimal policy.\n",
    "\n",
    "$$V_{k + 1}(s) \\leftarrow \\underset{a}{max} \\sum_{s'} T(s, a, s') [R(s, a, s') + \\gamma V_k(s')]\\ for\\ all\\ s$$\n",
    "\n",
    "In this equation, $V_k(s)$ is the estimated value of state $s$ at the $k^{th}$ iteration of the algorithm.\n",
    "\n",
    "Knowing the optimal state values can be useful, in particular to evaluate a policy, but it does not give us the optimal policy for the agent. Luckily, Bellman found a very similar algorithm to estimate the optimal *state-action values*, generally called *Q-values* (Quality Values). The optimal Q-value of the state-action pair ($s$, $a$), noted $Q^*(s, a)$ is the sum of discounted future rewards the agent can expect on average after it reaches the state $s$ & chooses action $a$, but before it sees the outcome of this action, assuming it acts optimally after that action.\n",
    "\n",
    "Here is how it works, once again, you start by initialising all the Q-value estimates to zero, then you update them using the *Q-value iteration* algorithm below.\n",
    "\n",
    "$$Q_{k + 1}(s, a) \\leftarrow \\sum_{s'} T(s, a, s') [R(s, a, s') + \\gamma * \\underset{a}{max}\\ Q_k(s', a')]\\ for\\ all\\ (s', a)$$\n",
    "\n",
    "Once you have the optimal Q-values, defining the optimal policy, noted $\\pi^*(s)$, is trivial: when the agent is in state $s$, it should choose the action with the highest Q-value for that state: $\\pi^*(s) = \\underset{a}{argmax}\\ Q^*(s, a)$.\n",
    "\n",
    "Let's apply this algorithm to the MDP represented above. First, we need to define the MDP:"
   ]
  },
  {
   "cell_type": "code",
   "execution_count": null,
   "id": "cf812b91-44e1-4568-b04e-fd47e8ab0044",
   "metadata": {},
   "outputs": [],
   "source": [
    "transition_probabilities = [[[0.7, 0.3, 0.0], [1.0, 0.0, 0.0], [0.8, 0.2, 0.0]],\n",
    "                            [[0.0, 1.0, 0.0], None, [0.0, 0.0, 1.0]]\n",
    "                            [None, [0.8, 0.1, 0.1], None]] \n",
    "rewards = [[[+10, 0, 0], [0, 0, 0], [0, 0, 0]],\n",
    "           [[0, 0, 0], [0, 0, 0], [0, 0, -50]],\n",
    "           [[0, 0, 0], [+40, 0, 0], [0, 0, 0]]]\n",
    "possible_actions = [[0, 1, 2], [0, 2], [1]]"
   ]
  },
  {
   "cell_type": "markdown",
   "id": "1d24718b-f697-468c-951d-497f5bef74d5",
   "metadata": {},
   "source": [
    "For example, to know th transition probability from $s_2$ to $s_0$ after playing action $a_1$, we will look up `transition_probabilities[2][1][0]` (which is 0.8). Similarly, to get the corresponding reward, we will look up `rewards[2][1][0]` (which is +40). To get the list of possible actions in $s_2$, we will look up `possible_actions[2]` (in this case, only action $a_1$ is possible). Next, we must initialise all the Q-values to 0 (except for the impossible actions, for which we set the Q-values to $-\\infty$"
   ]
  },
  {
   "cell_type": "code",
   "execution_count": null,
   "id": "9de9824a-7bac-4f39-8f05-58cf3b961103",
   "metadata": {},
   "outputs": [],
   "source": [
    "Q_values = np.full(3, 3), -np.inf)\n",
    "for state, actions in enumerate(possible_actions):\n",
    "    Q_values[state, actions] = 0.0"
   ]
  },
  {
   "cell_type": "markdown",
   "id": "0f4d7296-2451-4f86-a4f8-b5193203d4a4",
   "metadata": {},
   "source": [
    "Now let's run the Q-value iteration algorithm. It applies the algorithm repeatedly to all Q-values, for every state & every possible action:"
   ]
  },
  {
   "cell_type": "code",
   "execution_count": null,
   "id": "0ad34390-9737-4545-972f-833b4dad4f89",
   "metadata": {},
   "outputs": [],
   "source": [
    "gamma = 0.9\n",
    "\n",
    "for iteration in range(50):\n",
    "    Q_prev = Q_values.copy()\n",
    "    for s in range(3):\n",
    "        for a in possible_actions[s]:\n",
    "            Q_values[s, a] = np.sum([transition_probabilities[s][a][sp]\n",
    "                                     * (rewards[s][a][sp] + gamma * np.max(Q_prev[sp])) \n",
    "                                     for sp in range(3)])"
   ]
  },
  {
   "cell_type": "markdown",
   "id": "d7b121e9-f8f3-4e12-b4dc-55fb58fa7d06",
   "metadata": {},
   "source": [
    "That's it! The resulting Q-values look like this:"
   ]
  },
  {
   "cell_type": "code",
   "execution_count": null,
   "id": "8a574b5b-92db-4951-9146-9323dc56d348",
   "metadata": {},
   "outputs": [],
   "source": [
    "Q_values"
   ]
  },
  {
   "cell_type": "markdown",
   "id": "54a396cf-a16f-42a4-b9b3-ddf84c66dd16",
   "metadata": {},
   "source": [
    "For example, when the agent is in state $s_0$ & it chooses action $a_1$, the expected sum of discounted future rewards is approximately 17.0.\n",
    "\n",
    "For each state, let's look at the action that has the highest Q-value."
   ]
  },
  {
   "cell_type": "code",
   "execution_count": null,
   "id": "1d9ecf86-f548-480b-b140-5193ce55a6fa",
   "metadata": {},
   "outputs": [],
   "source": [
    "np.argmax(Q_values, axis = 1)"
   ]
  },
  {
   "cell_type": "markdown",
   "id": "9ade6db1-70df-4856-8aec-6e6c1cb5455f",
   "metadata": {},
   "source": [
    "This gives us the optimal policy for this MDP, when using a discount factor of 0.9: in state $s_0$ choose action $a_0$; in state $s_1$ choose action $a_0$ (i.e, stay put); & in state $s_2$ choose action $a_1$ (the only possible action). Interestingly, if we increase the discount factor to 0.95, the optimal policy changes: in state $s_1$, the best action becomes $a_2$ (go through the fire!). This makes sense, because the more you value future rewards, the more you are willing to put up with some pain now for the promise of future bliss."
   ]
  },
  {
   "cell_type": "markdown",
   "id": "1cdc8ef5-24a4-4952-8ceb-d1747a06eec8",
   "metadata": {},
   "source": [
    "---"
   ]
  },
  {
   "cell_type": "markdown",
   "id": "ee079afd-85a7-4065-a0ed-2dcc164a92e9",
   "metadata": {},
   "source": [
    "# Temporal Difference Learning\n",
    "\n",
    "Reinforcement learning problems with discrete actions can often be modeled as Markov decision processes, but the agent initially has no idea what the transition probabilities are (it does not know $T(s, a, s')$), & it doesnot know what the rewards are going to be either (it does not know $R(s, a, s')$). It must experience each state & each transition at least once to know th rewards, & it must experience them multiple times if it is to have a reasonable estimate of the transition probabilities.\n",
    "\n",
    "The *temporal difference learning* (TD Learning) algorithm is very similar to the value iteration algorithm, but tweaked to take into account the fact that the agent has only partial knowledge of the MDP. In general, we assume that the agent initially knows only the possible states & actions, & nothing more. The agent uses an *exploration policy* -- for example, a purely random policy -- to explore the MDP, & as it progresses, the TD learning algorithm updates the estimates of the state values based on the transitions & rewards that are actually observed.\n",
    "\n",
    "$$\\begin{split}\n",
    "V_{k + 1}(s) \\leftarrow (1 - \\alpha)V_k(s) + \\alpha(r + \\gamma * V_k(s')) \\\\\n",
    "or,\\ equivalently:  \\\\\n",
    "V_{k + 1}(s) \\leftarrow V_k(s) + \\alpha * \\sigma_k(s, r, s') \\\\\n",
    "with\\ \\sigma_k(s, r, s') = r + \\gamma * V_k(s') - V_k(s)\n",
    "\\end{split}$$\n",
    "\n",
    "In this equation:\n",
    "\n",
    "* $\\alpha$ is the learning rate (e.g., 0.01).\n",
    "* $r + \\gamma * V_k(s')$ is called the *TD target*.\n",
    "* $\\sigma_k(s, r, s')$ is called the *TD error*.\n",
    "\n",
    "* A more concise way of writing the first form of the equation is to use the notation $a \\underset{\\alpha}{\\leftarrow} b$ which means $a_{k + 1} \\leftarrow (1 - \\alpha) * a_k + \\alpha * b_k$. So the first line of the above equation can be rewritten like this: $V(s) \\underset{\\alpha}{\\leftarrow} r + \\gamma * V(s')$.\n",
    "\n",
    "For each state $s$, this algorithm simply keeps track of a running average of the immediate rewards the agent gets upon leaving that state, plus the rewards it expects to get later (assuming it acts optimally)."
   ]
  },
  {
   "cell_type": "markdown",
   "id": "6fa1a76e-8e11-4980-8105-55b5ad60ef40",
   "metadata": {},
   "source": [
    "---"
   ]
  },
  {
   "cell_type": "markdown",
   "id": "3bdef399-5b62-4438-b36f-38c18cc9b9e9",
   "metadata": {},
   "source": [
    "# Q-Learning\n",
    "\n",
    "Similarly, the Q-learning algorithm is an adaption of the Q-value iteration allgorithm to the situation where the transition probabilities & the rewards are initially unknown. Q-learning works by watching an agent play (e.g., randomly) & gradually improving its estimates of the Q-values. Once it has accurate Q-value estimates (or close enough), then the optimal policy is choosing the action that has the highest Q-value (i.e., the greedy policy).\n",
    "\n",
    "$$Q(s, a) \\underset{\\alpha}{\\leftarrow} r + \\gamma * \\underset{a'}{max}\\ Q(s', a')$$\n",
    "\n",
    "For each state-action pair ($s$, $a$), this algorithm keeps track of a running average of the rewards $r$ the agent gets upon leaving the state $s$ with action $a$, plus the sum of discounted future rewards it expects to get. To estimate this sum, we take the maximum of the Q-value estimates for the next state $s'$, since we assume that the target policy would act optimally from then on.\n",
    "\n",
    "Let's implement the Q-learning algorithm. First, we will need to make an agent explore the environment. For this, we need a step function so that the agent can execute one action & get the resulting state & reward:"
   ]
  },
  {
   "cell_type": "code",
   "execution_count": null,
   "id": "9f361fbd-1522-4e04-b61c-5d83d8f3cb13",
   "metadata": {},
   "outputs": [],
   "source": [
    "def step(state, action):\n",
    "    probas = transition_probabilities[state][action]\n",
    "    next_state = np.random.choice([0, 1, 2], p = probas)\n",
    "    reward = rewards[state][action][next_state]\n",
    "    return next_state, reward"
   ]
  },
  {
   "cell_type": "markdown",
   "id": "9160d613-1311-417b-8d15-77af36ec1289",
   "metadata": {},
   "source": [
    "Now let's implement the agent's exploration policy. Since the state space is pretty small, a simple random policy will be sufficient. If we run the algorithm for long enough, the agent will visit every state many times, & it will also try every possible action many times:"
   ]
  },
  {
   "cell_type": "code",
   "execution_count": null,
   "id": "b8757891-c290-4caf-8ad3-0cbb23f6d76e",
   "metadata": {},
   "outputs": [],
   "source": [
    "def exploration_policy(state):\n",
    "    return np.random.choice(possible_actions[state])"
   ]
  },
  {
   "cell_type": "markdown",
   "id": "42bd522d-7067-4874-b9a2-89d6b4a37c4a",
   "metadata": {},
   "source": [
    "Next, after we initialise the Q-values just like earlier, we are ready to run the Q-learning algorithm with learning rate decay (using power scheduling):"
   ]
  },
  {
   "cell_type": "code",
   "execution_count": null,
   "id": "434a6616-2b71-4d5a-86d0-d30e983ecb8c",
   "metadata": {},
   "outputs": [],
   "source": [
    "alpha0 = 0.05\n",
    "decay = 0.005\n",
    "gamma = 0.9\n",
    "state = 0\n",
    "\n",
    "for iteration in range(10000):\n",
    "    action = exploration_policy(state)\n",
    "    next_state, reward = step(state, action)\n",
    "    next_value = np.max(Q_values[next_state])\n",
    "    alpha = alpha0 / (1 + iteration * decay)\n",
    "    Q_values[state, action] *= 1 - alpha\n",
    "    Q_values[state, action] += alpha * (reward + gamma * next_value)\n",
    "    state = next_state"
   ]
  },
  {
   "cell_type": "markdown",
   "id": "a22bec33-d1c6-4542-8d7b-c1708f77e12b",
   "metadata": {},
   "source": [
    "This algorithm will converge to the optimal Q-values, but it will take many iterations, & possibly quite a lot of hyperparameter tuning. As you can see, the Q-value iteration algorithm (left) converges very quickly, in fewer than 20 iterations, while Q-learning algorithm (right) takes about 8,000 iterations to converge. Obviously, not knowing the transition probabilities or the rewards makes finding the optimal policy significantly harder!\n",
    "\n",
    "<img src = \"Images/Q-Value Iteration vs Q-Learning Algorithm.png\" width = \"600\" style = \"margin:auto\"/>\n",
    "\n",
    "The Q-learning algorithm is called an *off-policy* algorithm because the policy being trained is not necessarily the one being executed: in the previous code example, the policy being executed (the exploration policy) is completely random, while the policy being trained will always choose the actions with the highest Q-values. Conversely, the policy gradients algorithm is an *on-policy* algorithm: it explores the world using the policy being trained. It is somewhat surprising the Q-learning is capable of learning the optimal policy by just watching an agent act randomly (imagine learning to play golf when your teacher is a drunk monkey). Can we do better?\n",
    "\n",
    "## Exploration Policies\n",
    "\n",
    "Of course, Q-learning can work only if the exploration policy explores the MDP throughly enough. Although a purely random policy is guaranteed to visit every state & every transition many times, it may take an extremely long time to do so. Therefore, a better option is to use the *$\\varepsilon$-greedy policy* ($\\varepsilon$ is epsilon): at each step it acts randomly with probability $\\varepsilon$, or greedily with probability 1 - $\\varepsilon$ (i.e., chooisng the action with the highest Q-value). The advantage of the $\\varepsilon$-greedy policy (compared to a random policy) is that it will spend more & more time exploring the interesting parts of the environment, as the Q-value estimates get better & better, while still spending some time visiting unknown regions of the MDP. It is quite common to start with a high value for $\\varepsilon$ (e.g., 1.0) & then gradually reduce it (e.g., down to 0.05).\n",
    "\n",
    "Alternatively, rather than relying only on chance for exploration, another approach is to encourage the exploration policy to try actions that it has not tried much before. This can be implemented as a bonus added to the Q-value estimates, as shown in the below equation:\n",
    "\n",
    "$$Q(s, a) \\underset{\\alpha}{\\leftarrow} r + \\gamma * \\underset{a'}{max}\\ f(Q(s', q'), N(s', a'))$$\n",
    "\n",
    "In this equation:\n",
    "\n",
    "* $N(s', a')$ counts the number of times the action $a'$ was chosen in state $s'$.\n",
    "* $f(Q, N)$ is an *exploration function*, such as $f(Q, N) = Q + k/(1 + N)$, where $k$ is a curiosity hyperparameter that measures how much the agent is attracted to the unknown.\n",
    "\n",
    "## Approximate Q-Learning & Deep Q-Learning\n",
    "\n",
    "The solution is to find a function $Q_{\\theta}(s, a)$ that approximates the Q-value of any state-action pair ($s$, $a$) using a manageable number of parameters (given by the parameter vector $\\theta$). This is called *approximate Q-learning$. For years, it was recommended to use linear combinations of handcrafted features extracted from the state (e.g., distance of the closest ghosts, their directions, & so on) to estimate Q-values, but in 2013, DeepMind showed that using deep neural networks can work much better, especially for complex problems, & it does not require any feature engineering. A DNN used to estimate Q-values is called a *deep Q-network* (DQN), & using a DQN for approximate Q-learning is called *deep Q-learning*.\n",
    "\n",
    "Now, how can we train a DQN? Well, consider the approximate Q-value computed by the DQN for a given state-action pair ($s$, $a$). Thanks to Bellman, we know we want this approximate Q-value to be as close as possible to the reward $r$ that we actually observe after playing action $a$ in state $s$, plus the discounted value of playing optimally from tehn on. To estimate this sum of future discounted rewards, we can simply execute the DQN on the next state $s'$ & for all possible actions $a'$. We get an approximate future Q-value for each possible action. We then pick the highest (since we assume we will be playing optimally) & discount it, & this gives us an estimate of the sum of future discounted rewards. By summing the reward $r$ & the future discounted value estimate, we get a target Q-value $y(s, a)$ for the state-action pair ($s$, $a$), as shown below:\n",
    "\n",
    "$$Q_{target}(s, a) = r + \\gamma * \\underset{a'}{max}\\ Q_{\\theta}(s', a')$$\n",
    "\n",
    "With this target Q-value, we can run a training step using any gradient descent algorithm. Specifically, we generally try to minimise the squared error between the estimated Q-value $Q(s, a)$ & the target Q-value (or the Huber loss to reduce the algorithm's sensitivity to large errors). That's all for the basic deep Q-learning algorithm! Let's see how to implement it to solve the cartpole environment."
   ]
  },
  {
   "cell_type": "markdown",
   "id": "c4fba7c9-4449-4e4b-ab34-7d812eae8aab",
   "metadata": {},
   "source": [
    "---"
   ]
  },
  {
   "cell_type": "markdown",
   "id": "6d8af92c-cd36-4ca7-96cf-867748be1475",
   "metadata": {},
   "source": [
    "# Implementing Deep Q-Learning\n",
    "\n",
    "The first thing we need is a deep Q-network. In theory, we need a neural net that takes a state-action pair & outputs an approximate Q-value, but in practice it's much more efficient to use a neural network that takes a state & outputs one approximate Q-value for each possible action. To solve the cartpole environment, we do not need a very complicated neural network: a couple of hidden layers will do:"
   ]
  },
  {
   "cell_type": "code",
   "execution_count": null,
   "id": "310fa02d-5133-41ae-869e-30529e1ac81d",
   "metadata": {},
   "outputs": [],
   "source": [
    "env = gymnasium.make(\"CartPole-v0\", render_mode = \"human\")\n",
    "input_shape = [5]\n",
    "n_outputs = 2\n",
    "\n",
    "model = keras.models.Sequential([\n",
    "    keras.layers.Input(shape = input_shape),\n",
    "    keras.layers.Dense(32, activation = \"elu\"),\n",
    "    keras.layers.Dense(32, activation = \"elu\"),\n",
    "    keras.Dense(n_outputs)\n",
    "])"
   ]
  },
  {
   "cell_type": "markdown",
   "id": "f66c8176-5108-4afc-879a-558c50d4ae60",
   "metadata": {},
   "source": [
    "To select an action using this DQN, we pick the action with the largest predicted Q-value. To ensure that the agent explores the environment, we will use an $\\varepsilon$-greedy policy (i.e., we will choose a random action with probability $\\varepsilon$):"
   ]
  },
  {
   "cell_type": "code",
   "execution_count": null,
   "id": "c9ac7605-f559-410f-8c1e-d0eb52720688",
   "metadata": {},
   "outputs": [],
   "source": [
    "def epsilon_greedy_policy(state, epsilon = 0):\n",
    "    if np.random.rand() < epsilon:\n",
    "        return np.random.randint(2)\n",
    "    else:\n",
    "        Q_values = model.predicts(state[np.newaxis])\n",
    "        return np.argmax(Q_values[0])"
   ]
  },
  {
   "cell_type": "markdown",
   "id": "2fbdce20-96a6-4362-a6aa-81194d4e79dd",
   "metadata": {},
   "source": [
    "Instead of training the DQN based only on the latest experiences, we will store all experiences in a *replay buffer* (or *replay memory*), & we will sample a random training batch from it at each training iteration. This helps reduce the correlations between the experiences in a training batch, which tremendously helps training. For this, we will just use a deque list:"
   ]
  },
  {
   "cell_type": "code",
   "execution_count": null,
   "id": "422f1e52-dc7a-40ac-a86f-946804e80b19",
   "metadata": {},
   "outputs": [],
   "source": [
    "from collections import deque\n",
    "\n",
    "replay_buffer = deque(maxlen = 2000)"
   ]
  },
  {
   "cell_type": "markdown",
   "id": "ce8d988b-6991-4675-9371-b33cf5c9d7a8",
   "metadata": {},
   "source": [
    "Each experience will be composed of five elements: a state, the action the agent took, the resulting reward, the next state it reached, & finally a boolean indicating whether the episode ended at that point (`done`). We will need a small function to sample a random batch of experiences from the replay buffer. It will return five numpy arrays corresponding to the five experience elements:"
   ]
  },
  {
   "cell_type": "code",
   "execution_count": null,
   "id": "7c6efa1b-dcb0-4ad8-91c2-239bcfc0635b",
   "metadata": {},
   "outputs": [],
   "source": [
    "def sample_experiences(batch_size):\n",
    "    indices = np.random.randint(len(replay_buffer), size = batch_size)\n",
    "    batch = [replay_buffer[index] for index in indices]\n",
    "    states, actions, rewards, next_states, dones = [\n",
    "        np.array([experience[field_index] for expereince in batch])\n",
    "        for field_index in range(5)\n",
    "    ]\n",
    "    return states, actions, rewards, next_states, dones"
   ]
  },
  {
   "cell_type": "markdown",
   "id": "c2b80274-5bbd-4dcb-9a88-e35082b224ca",
   "metadata": {},
   "source": [
    "Let's also create a function that will play a single step using the $\\varepsilon$-greedy policy, then store the resulting experience in the replay buffer:"
   ]
  },
  {
   "cell_type": "code",
   "execution_count": null,
   "id": "222b151c-96fe-41f1-a3c6-65eb51def8fd",
   "metadata": {},
   "outputs": [],
   "source": [
    "def play_one_step(env, state, epsilon):\n",
    "    action = epsilon_greedy_policy(state, epsilon)\n",
    "    next_state, reward, done, info = env.step(action)\n",
    "    replay_buffer.append((state, action, reward, next_state, done))\n",
    "    return next_state, reward, done, info"
   ]
  },
  {
   "cell_type": "markdown",
   "id": "e64983a3-8c79-41c1-a6f1-176ca9d4939a",
   "metadata": {},
   "source": [
    "Finally, let's create one last function that will sample a batch of experiences from the replay buffer & train the DQN by performing a single gradient descent step on this batch:"
   ]
  },
  {
   "cell_type": "code",
   "execution_count": null,
   "id": "ca701b07-e877-4579-b661-658662da0d4a",
   "metadata": {},
   "outputs": [],
   "source": [
    "batch_size = 32\n",
    "discount_factor = 0.95\n",
    "optimiser = keras.optimizers.Adam(learning_rate = 1e-3)\n",
    "loss-fn = keras.losses.mean_squared_error\n",
    "\n",
    "def training_step(batch_size):\n",
    "    experiences = sample_experiences(batch_size)\n",
    "    states, actions, rewards, next_states, dones = experiences\n",
    "    next_Q_values = model.predict(next_states)\n",
    "    max_next_Q_values = np.max(next_Q_values, axis = 1)\n",
    "    target_Q_values = (rewards + (1 - dones) * discount factor * max_next_Q_values)\n",
    "    mask = tf.one_hot(actions, n_outputs)\n",
    "    with tf.GradientTape() as tape:\n",
    "        all_Q_values = model(states)\n",
    "        Q_values = tf.reduce_sum(all_Q_values * mask, axis = 1, keepdims = True)\n",
    "        loss = tf.reduce_mean(loss_fn(target_Q_values, Q_values))\n",
    "    grads = tape.gradient(loss, model.trainable_variables)\n",
    "    optimiser.apply_gradients(zip(grads, model.trainable_variables))"
   ]
  },
  {
   "cell_type": "markdown",
   "id": "1618c4d3-d365-4c70-9a19-9d9d87a4dad2",
   "metadata": {},
   "source": [
    "Let's go through this code:\n",
    "\n",
    "* First we define some hyperparameters, & we create the optimiser & the loss function.\n",
    "* Then we create the *training_step()* function. It starts by sampling a batch of experiences, then it uses the DQN to predict the Q-value for each possible action in each experience's next state. Since we assume that the agent will be playing optimally, we only keep the maximum Q-value for each next state. Next, we compute the target Q-value for each experience's state-action pair.\n",
    "* Next, we want to use the DQN to compute the Q-value for each experienced state-action pair. However, the DQN will also output the Q-values for the other possible actions, not just for the action that was actually chosen by the agent. So we need to mask out all the Q-values we do not need. The `tf.one_hot()` function makes it easy to convert an array of action indices into such a mask. For example, if the first three experiences contains actions 1, 1, 0, respectively, then the mask will start with `[[0, 1], [0, 1], [1, 0], ...]`. We can then multiply the DQN's output with this mask, & this will zero out all the Q-values we do not want. We then sum over axis 1 to get rid of all the zeros, keeping only the Q-values of the experienced state-action pairs. This gives us the `Q_values` tensor, containing one predicted Q-value for each experience in the batch.\n",
    "* Then wecompute the loss: it is the mean squared error between the target & predicted Q-values for the experienced state-action pairs.\n",
    "* Finally, we perform a gradient descent step to minimise the loss with regard to the model's trainable variables.\n",
    "\n",
    "This was the hardest part. Now training the model is straightforward:"
   ]
  },
  {
   "cell_type": "code",
   "execution_count": null,
   "id": "c09ef018-f2f0-4801-9d9b-4010ae6570c2",
   "metadata": {},
   "outputs": [],
   "source": [
    "for episode in range(600):\n",
    "    obs = env.reset()\n",
    "    for step in range(200):\n",
    "        epsilon = max(1 = episode / 500, 0.01)\n",
    "        obs, reward, done, truncated, info = play_one_step(env, obs, epsilon)\n",
    "        if done:\n",
    "            break\n",
    "    if episode > 50:\n",
    "        training_step(batch_size)"
   ]
  },
  {
   "cell_type": "markdown",
   "id": "94c638ea-966c-4c3c-ac70-363f823d3aa3",
   "metadata": {},
   "source": [
    "We run 600 episondes, each for a maximum of 200 steps. At each step, we first compute the `epsilon` value for the $\\varepsilon$-greedy policy: it will go from 1 down to 0.01, linearly, in a bit under 500 episodes. Then we call the `play_one_step()` function, which will use the $\\varepsilon$-greedy policy to pick an action, then execute it & record the experience in the replay buffer. If the episode is done, we exit the loop. Finally, if we are past the 50th episode, we call the `training_step()` function to train the model on one batch sampled from the replay buffer. The reason we play 50 episodes without training is to give the replay buffer some time to fill up (if we don't wait enough, then there will not be enough diversity in the replay buffer). That's it, we just implemented the deep Q-learning algorithm.\n",
    "\n",
    "<img src = \"Images/Learning Curve of Deep Q-Learning Algorithm.png\" width = \"550\" style = \"margin:auto\"/>\n",
    "\n",
    "As you can see, the algorithm made no apprent progress at all for almost 300 episodes (in part because $\\varepsilon$ was very high at the beginning), then its performance suddenly skyrocketed up to 200 (which is the maximum possible performance in this environment). That's great news: the algorithm worked fine, & it actually ran much faster than the policy gradient algorithm! But wait... just a few episodes later, it forgot everything it knew, & its performance dropped below 25!. This is called *catastrophic forgetting*, & it is one of the big problems facing virtually all RL algorithms: as the agent explores the environment, it updates its policy, but what it learns in one part of the environment may break what it learned earlier in other parts of the environment. The experiences are quite correlated, & the learning environment keeps changing -- this is not ideal for gradient descent. If you increase the size of the replay buffer, the algorithm will be less subject to this problem. Reducing the learning rate may also help. But the truth is, reinforcement is hard: training is often unstable, & you may need to try many hyperparameter values & random seeds before you find a combination that workswell. For example, if you try changing the number of neurons per layer in the preceding from 32 to 30 or 34, the performance will never go above 100 (the DQN may be more stable with one hidden layer instead of two).\n",
    "\n",
    "You might wonder why we didn't plot the loss. It turns out that loss is a poor indicator of the model's performance. The loss might go down, yet the agent might perform worse (e.g., this can happen when the agent gets stuch in one small region of the environment, & the DQN starts overfitting this region). Conversely, the loss could go up,yet the agent might perform better (e.g., if the DQN was underestimating the Q-values, & it starts correctly increasing its predictions, the agent will likely perform better, getting more rewards, but the loss might increase because the DQN also sets the targets, which will be larger too).\n",
    "\n",
    "The basic deep Q-learning algorithm we've been using so far would be too unstable to learn to play Atari games. So how did DeepMind do it? Well, they tweaked the algorithm!"
   ]
  },
  {
   "cell_type": "markdown",
   "id": "dfd91ee3-02ea-4490-947d-790e63d7bba4",
   "metadata": {},
   "source": [
    "---"
   ]
  },
  {
   "cell_type": "markdown",
   "id": "5cc1361f-3613-4130-92b7-d6d9f4c9aa75",
   "metadata": {},
   "source": [
    "# Deep Q-Learning Variants\n",
    "\n",
    "Let's look at a few variants of the deep Q-learning algorithm that can stabilise & speed up training.\n",
    "\n",
    "## Fixed Q-Value Targets\n",
    "\n",
    "In the basic deep Q-learning algorithm, the model is used both tomake predictions & to set its own targets. This can lead to a situation analogous to a dog chasing its own tail. This feedback loop can make the network unstable: it can diverge, oscillate, freeze, & so on. To solve this problem, in their 2013 paper, the DeepMind researchers use two DQNs instead of one: the first is the *online model*, which learnes at each step & is used to move the agent around, & the other is the *target model* used only to define the targets. The target model is just a clone of the online model:"
   ]
  },
  {
   "cell_type": "code",
   "execution_count": null,
   "id": "b620f84c-6045-4070-bc51-f783dbc3525c",
   "metadata": {},
   "outputs": [],
   "source": [
    "target = keras.model.clone_model(model)\n",
    "target.set_weights(model.get_weights())"
   ]
  },
  {
   "cell_type": "markdown",
   "id": "d8aa8f9c-a1fb-41a4-8cd6-3868dd595588",
   "metadata": {},
   "source": [
    "Then, in the `training_step()` function, we just need to change one line to use the target model instead of the online model when computing the Q-values of the next states:"
   ]
  },
  {
   "cell_type": "code",
   "execution_count": null,
   "id": "0fe8e8f4-bb52-4577-b594-5673ccef447b",
   "metadata": {},
   "outputs": [],
   "source": [
    "next_Q_values = target.predict(next_states)"
   ]
  },
  {
   "cell_type": "markdown",
   "id": "0db9c594-1ecb-42e5-aed4-25c8b6c3d487",
   "metadata": {},
   "source": [
    "Finally, in the training loop, we must copy the weights of the online model to the target model, at regular intervals (e.g., every 50 episodes):"
   ]
  },
  {
   "cell_type": "code",
   "execution_count": null,
   "id": "ed123f5c-87bd-4d86-8a52-76747a0db988",
   "metadata": {},
   "outputs": [],
   "source": [
    "if episode % 50 == 0:\n",
    "    target.set_weights(model.get_weights())"
   ]
  },
  {
   "cell_type": "markdown",
   "id": "57a2f594-0842-4441-9c29-b293863873da",
   "metadata": {},
   "source": [
    "Since the target model is updated much less often than the online model, the Q-value targets are more stable, the feedback loop we discussed earlier is dampened, & its effects are less severe. This approach was one of the DeepMind researcher's main contributions in their 2013 paper, allowing agents to learn to play Atari games from raw pixels. To stabilise training, they used a tiny learning rate of 0.00025, they updated the target model only every 10,000 steps (instead of the 50 in the previous code example), & they used a very large replay buffer of 1 million experiences. They decreased `epsilon` very slowly, from 1 to 0.1 in 1 million steps, & they let the algorithm run for 50 million steps.\n",
    "\n",
    "Later in the lesson, we will use the tf-agents library to train a DQN agent to play *Breakout* using these hyperparameters, but before we get there, let's take a look at another DQN variant that managed to beat the state of the art once more.\n",
    "\n",
    "## Double DQN\n",
    "\n",
    "In a 2015 paper, DeepMind researchers tweaked their DQN algorithm, increasing its performance & somewhat stabilising training. They called this variant *Double DQN*. The update was based on the observation that the target network is prone to overestimating Q-values. Indeed, suppose all actions are equally good: the Q-values estimated by the target model should be identical, but since they are approximations, some may be slightly greater than others, by pure chance. The target model will always select the largest Q-value, which will be slightly greater than themean Q-value, most likely overestimating the true Q-value (a bit like counting the height of the tallest random wave when measuring the depth of a pool). To fix this, they proposed using the online model instead of the target model when selecting the best actions for the next states, & using the target model only to estimate the Q-values for these best actions. Here is the updated `training_step()` function:"
   ]
  },
  {
   "cell_type": "code",
   "execution_count": null,
   "id": "a9687246-2c61-46c8-8075-819bf6e7e64d",
   "metadata": {},
   "outputs": [],
   "source": [
    "def training_step(batch_size):\n",
    "    experiences = sample_experiences(batch_size)\n",
    "    states, actions, rewards, next_states, dones = experiences\n",
    "    next_Q_values = model.predict(next_states)\n",
    "    best_next_actions = np.argmax(next_Q_values, axis = 1)\n",
    "    next_mask = tf.one_hot(best_next_actions, n_outputs).numpy()\n",
    "    next_best_Q_values = (target.predict(next_states) * next_mask).sum(axis = 1)\n",
    "    target_Q_values = (rewards + (1 - dones) * discount_factor * next_best_Q_values)\n",
    "    mask = tf.one_hot(actions, n_outputs)\n",
    "    with tf.GradientTape() as tape:\n",
    "        all_Q_values = model(states)\n",
    "        Q_values = tf.reduce_sum(all_Q_values * mask, axis = 1, keepdims = True)\n",
    "        loss = tf.reduce_mean(loss_fn(target_Q_values, Q_values))\n",
    "    grads = tape.gradient(loss, model.trainable_variables)\n",
    "    optimiser.apply_gradients(zip(grads, model.trainable_variables))"
   ]
  },
  {
   "cell_type": "markdown",
   "id": "300ba382-0648-4a2a-b00c-4aa4f72b01a0",
   "metadata": {},
   "source": [
    "Just a few months later, another improvement to the DQN algorithm was proposed.\n",
    "\n",
    "## Prioritised Experience Replay\n",
    "\n",
    "Instead of sampling experiences *uniformly* from the replay buffer, why not sample important experiences more frequently? This idea is called *importance sampling* (IS) or *prioritised experience replay* (PER), & it was introduced in a 2015 paper by DeepMind researchers (once again!).\n",
    "\n",
    "More specificially, experiences are considered \"important\" if they are likely to lead to fast learning progress. But how can we estimate this? One reasonable approach is to measure the magnitude of the TD error $\\sigma = r + \\gamma * V(s') - V(s)$. A large TD error indicates that a transitiont ($s$, $r$, $s'$) is very surprising, & thus probably worth learning from. When an experience is recorded in the replay buffer, its priority is set to a very large value, to ensure that it gets sampled at least once. However, once it is sampled (& every time it is sampled), the TD error $\\sigma$ is computed, & this experience's priority is set to $p = |\\sigma|$ (plus a small constantto ensure that every experience has a non-zero probability of being sampled). The probability P of sampling an expereince with priority $p$ is proportional to $p^{\\zeta}$, where $\\zeta$ is a hyperparameter that controls how greedy we want importance sampling to be: when $\\zeta = 0$, we just get uniform sampling, & when $\\zeta = 1$, we get full-blown importance sampling. In the paper, the authors used $\\zeta = 0.6$, but the optimal value will depend on the task.\n",
    "\n",
    "There's one catch, though: since the samples will be biased toward important experiences, we must compensate for this bias during training by downweighting the experiences according to their importance, or else the model will just overfit the important experiences. To be clear, we want important experiences to be sampled more often, but this also means we must give them a lower weight during training. TO do this, we define each experience's training weight as $w = (nP)^\\beta$, where $n$ is the number of experiences in the replay buffer, & $\\beta$ is a hyperparameter that controls how much we wan to compensate for the importance sampling bias (0 means not at all, while 1 means entirely). In the paper, the authors used $\\beta = 0.4$ at the beginning of training & linearly increased it to $\\beta = 1$ by the end of training. Again, the optimal value will depend on the task, but if you increase one, you will usually want to increase the other as well. \n",
    "\n",
    "Now let's look at one last important variant of the DQN algorithm\n",
    "\n",
    "## Dueling DQN\n",
    "\n",
    "The *Dueling DQN* algorithm (DDQN, not to be confused with Double DQN, although both techniques can easily be combined) was introduced in yet another 2015 paper by DeepMind researchers. To understand how it works, we must first note that the Q-value of a state-action pair ($s$, $a$) can be expressed as $Q(s, a) = V(s) + A(s, a)$, where $V(s)$ is the value of state $s$ & $A(s, a)$ is the *advantage* of taking the action $a$ in state $s$, compared to all other possible actions in that state. Moreover, the value of a state is equal to the Q-value of the best action $a^*$ for that state (since we assume the optimal policy will pick the best action), so $V(s) = Q(s, a^*)$, which implies that $A(s, a^*) = 0$. In a dueling DQN, the model estimates both the value of the state & the advantage of each possible action. Since the best action should have an advantage of 0, the model subtracts the maximum predicted advantage from all predicted advantages. Here is a simple dueling DQN model, implemented using the functional API:"
   ]
  },
  {
   "cell_type": "code",
   "execution_count": null,
   "id": "4f6d63e4-5e9e-4007-93c6-0475a511662e",
   "metadata": {},
   "outputs": [],
   "source": [
    "K = keras.backend\n",
    "input_states = keras.layers.Input(shape = [5])\n",
    "hidden1 = keras.layers.Dense(32, activation = \"elu\")(input_states)\n",
    "hidden2 = keras.layers.Dense(32, activation = \"elu\")(hidden1)\n",
    "state_values = keras.layers.Dense(1)(hidden2)\n",
    "raw_advantages = keras.layers.Dense(n_outputs)(hidden2)\n",
    "advantages = raw_advantages - K.max(raw_advantages, axis = 1, keepdims = True)\n",
    "Q_values = state_values + advantages\n",
    "model = keras.Model(inputs = [input_states], outputs = [Q_values])"
   ]
  },
  {
   "cell_type": "markdown",
   "id": "e9df9bbb-745a-4bc9-94f6-af85423f2307",
   "metadata": {},
   "source": [
    "The rest of the algorithm is just the same as earlier. In fact, you can build a double dueling DQN & combine it with prioritised experience replay! More generally, many RL techniques can be combined, as DeepMind demonstrated in a 2017 paper. The paper's authors combined six different techniques into an agent called *Rainbow*, which largely outperformed the state of the art.\n",
    "\n",
    "Unfortunately, implementing all of these techniques, debugging them, fine-tuning them, & of course training the models can require a huge amount of work. So instead of reinventing the wheel, it is often best to reuse scalable & well-tested libraries, such as tf-agents."
   ]
  },
  {
   "cell_type": "markdown",
   "id": "8999f2bb-9e8b-472e-8fdd-056c1a788164",
   "metadata": {},
   "source": [
    "---"
   ]
  },
  {
   "cell_type": "markdown",
   "id": "eabfb085-ef59-4a16-bba5-f53c4c7a0751",
   "metadata": {},
   "source": [
    "# The TF-Agents Library\n",
    "\n",
    "The tf-agents library is a reinforcement learning library based on TensorFlow, developed at Google & open sourced in 2018. Just like OpenAI gym, it provides many off-the-shelf environments (including wrappers for all OpenAI gyn environments), plus it supports the pybullet library (for 3D physics simulation), DeepMind's DM control library (based on MuJoCo's physics engine), & Unity's ML-agnets library (simulating many 3D environments). It also implements many RL algorithms, including REINFORCE, DQN, DDQN, as well as various RL components such as efficient replay buffers & metrics. It is fast, scalable, easy to use, & customisable: you can create your own environments & neural nets, & you can customise pretty much any component. In this section, we will use tf-agents to train an agent to play *Breakout*, the famous Atari game, using the DQN algorithm (you can easily switch to another algorithm if you prefer).\n",
    "\n",
    "<img src = \"Images/Breakout Game.png\" width = \"600\" style = \"margin:auto\"/>\n",
    "\n",
    "## Installing TF-Agents\n",
    "\n",
    "Let's start by installing TF-Agents. This can be done using pip (as always, if you are using a virtual environment, make sure to activate it first; if not, you will need to use the `--user` option, or have administrator rights):"
   ]
  },
  {
   "cell_type": "code",
   "execution_count": null,
   "id": "1ebda6b2-e31d-4c99-a879-d3db13b7aeff",
   "metadata": {},
   "outputs": [],
   "source": [
    "#pip install --user tf-agents"
   ]
  },
  {
   "cell_type": "markdown",
   "id": "72a384a4-10a0-4a7c-8413-5d1d675a8564",
   "metadata": {},
   "source": [
    "Next, let's create a TF-agents environment that will just wrap OpenAI gym's breakout environment. For this, we must install OpenAI Gym's Atari dependencies:"
   ]
  },
  {
   "cell_type": "code",
   "execution_count": null,
   "id": "e86814a5-6fa1-4d5d-80e8-1735c5ac2f77",
   "metadata": {},
   "outputs": [],
   "source": [
    "# pip install --user \"gym[atari]\""
   ]
  },
  {
   "cell_type": "markdown",
   "id": "71060de3-4147-4d12-851a-e28ef2ec210f",
   "metadata": {},
   "source": [
    "Among other libraries, this command will install `atari-py`, which is a python interface for the arcade learning environment (ALE), a framework built on top of the Atari 2600 emulator Stella.\n",
    "\n",
    "## TF-Agents Environments\n",
    "\n",
    "If everything went well, you should be able to import TF-agents & create a breakout environment:"
   ]
  },
  {
   "cell_type": "code",
   "execution_count": null,
   "id": "bde014f0-bdc7-4361-a891-a6d8e6dad826",
   "metadata": {},
   "outputs": [],
   "source": [
    "from tf_agents.environments import suite_gym\n",
    "\n",
    "env = suite_gym.load(\"Breakout-v4\")\n",
    "env"
   ]
  },
  {
   "cell_type": "markdown",
   "id": "1c28f5dd-9672-499b-8692-9b4f608728e0",
   "metadata": {},
   "source": [
    "This is just a wrapper around of OpenAI gym environment, which you can access through the `gym` attribute:"
   ]
  },
  {
   "cell_type": "code",
   "execution_count": null,
   "id": "b66c2e18-886f-4b6f-9021-74a8733fb76d",
   "metadata": {},
   "outputs": [],
   "source": [
    "env.gym"
   ]
  },
  {
   "cell_type": "markdown",
   "id": "8e40f600-1a4c-4ae0-8a55-c76c300965b5",
   "metadata": {},
   "source": [
    "TF-agents environments are very similar to OpenAI gym environments, but there are a few differences. First, the `reset()` method does not return an observation; instead it returns a `TimeStep` object that wraps the observation, as well as some extra information:"
   ]
  },
  {
   "cell_type": "code",
   "execution_count": null,
   "id": "d1b931cd-c9d4-4430-9295-2ac3b8ba9232",
   "metadata": {},
   "outputs": [],
   "source": [
    "env.reset()"
   ]
  },
  {
   "cell_type": "markdown",
   "id": "52c25c46-dba0-4b00-ab7d-4599a570b8e5",
   "metadata": {},
   "source": [
    "The `step()` method returns a `TimeStep` object as well:"
   ]
  },
  {
   "cell_type": "code",
   "execution_count": null,
   "id": "1a71920c-1d64-47ea-bbca-2441211ced5d",
   "metadata": {},
   "outputs": [],
   "source": [
    "env.step(1)"
   ]
  },
  {
   "cell_type": "markdown",
   "id": "e5579583-6c07-4483-894b-bd5d7e468235",
   "metadata": {},
   "source": [
    "The `reward` & `observation` attributes are self-explanatory, & they are the same as for OpenAI gym (except the `reward` is represented as a numpy array). The `step_type` attribute is equal to 0 for the first time step in the episode, 1 for intermediate time steps, & 2 for the final time step. You can call the time step's `is_last()` method to check whether it is the final one or not. Lastly, the `discount` attribute indicates the discount factor to use at this time step. In this example, it is equal to 1, so there will be no discount as all. You can define the discount factor by setting the `discount` parameter when loading the environment.\n",
    "\n",
    "## Environment Specifications\n",
    "\n",
    "Conveniently, a TF-agents environment provides the specifications of the observations, actions & time steps, including their shapes, data types, & names, as well as their minimum & maximum values:"
   ]
  },
  {
   "cell_type": "code",
   "execution_count": null,
   "id": "e69e87f9-245b-4e51-9ff4-d10abdf64504",
   "metadata": {},
   "outputs": [],
   "source": [
    "env.observation_spec()"
   ]
  },
  {
   "cell_type": "code",
   "execution_count": null,
   "id": "6b300b38-6388-4074-99f2-b9d408ea6998",
   "metadata": {},
   "outputs": [],
   "source": [
    "env.action_spec()"
   ]
  },
  {
   "cell_type": "code",
   "execution_count": null,
   "id": "e9853c5b-2643-4b69-bcb1-abd53139a6eb",
   "metadata": {},
   "outputs": [],
   "source": [
    "env.time_step_spec()"
   ]
  },
  {
   "cell_type": "markdown",
   "id": "0c415d79-96a2-470b-b2ef-a71807f6e62f",
   "metadata": {},
   "source": [
    "As you can see, the observations are simply screenshots of the Atari screen, represented as numpy arrays of shape [210, 160, 3]. To render an environment, you can call $env.render(mode = \"human\")$, & if you want to get back the image in the form of a numpy array, just call `env.render(mode = \"rgb_array\")` (unlike in OpenAI gym, wthis is the default mode).\n",
    "\n",
    "There are four actions available. Gym's Atari environments have an extra method that you can call to know what each action corresponds to:"
   ]
  },
  {
   "cell_type": "code",
   "execution_count": null,
   "id": "321e68ae-280b-487d-a7c9-28aa3fd87728",
   "metadata": {},
   "outputs": [],
   "source": [
    "env.gym.get_action_meanings()"
   ]
  },
  {
   "cell_type": "markdown",
   "id": "f62d56cf-efda-4b71-ab50-7f461dcf2367",
   "metadata": {},
   "source": [
    "The observations are quite large, so we will downsample them & also convert them to grayscale. This will speed up training & use less RAM. For this, we can use an *environment wrapper*.\n",
    "\n",
    "## Environment Wrappers & Atari Preprocessing\n",
    "\n",
    "TF-agents provides several environment wrappers in the `tf_agents.environments.wrappers` package. As their name suggests, they wrap an environment, forwarding every call to it, but also adding some extra functionality. here are some of the available wrappers:\n",
    "\n",
    "* `ActionClipWrapper`\n",
    "   - Clips the actions to the action spec.\n",
    "* `ActionDiscretizeWrapper`\n",
    "   - Quantises a continuous action space to a discrete action space. For example, if the original environment's action space is the continuous rage from -1.0 to +1.0, but you want to use an algorithm that only supports discrete action space, such as a DQN, then you can wrap the environment using `discrete_env = ActionDiscretizeWrapper(env, num_actions = 5)`, & the new `discrete_env` will ahve a discrete action space with 5 possible actions: 0, 1, 2, 3, 4. These actions correspond to the actions -1.0, -0.5, 0.0, 0.5, & 1.0 in the original environment.\n",
    "* `ActionRepeat`\n",
    "   - Repeats each action over *n* steps, while accumulating the rewards. In many environment, this can speed up training significantly.\n",
    "* `RunStats`\n",
    "   - Records environment statistics such as the number of steps & the number of episodes.\n",
    "* `TimeLimit`\n",
    "   - Interrupts the environment if it runs for longer than a maximum number of steps.\n",
    "* `VideoWrapper`\n",
    "   - Records a video of the environment.\n",
    " \n",
    "To create a wrapped environment, you must create a wrapper, passing the wrapped environment to the constructor. That's all! For example, the following code will wrap our environment in an `ActionRepeat` wrapper so that every action is repeated four times:"
   ]
  },
  {
   "cell_type": "code",
   "execution_count": null,
   "id": "f894e9b1-cdec-4aff-bf43-d234f17fe353",
   "metadata": {},
   "outputs": [],
   "source": [
    "from tf_agents.environments.wrappers import ActionRepeat\n",
    "\n",
    "repeating_env = ActionRepeat(env, times = 4)"
   ]
  },
  {
   "cell_type": "markdown",
   "id": "cf64f263-f336-4ed1-832c-13dd29ce13ed",
   "metadata": {},
   "source": [
    "OpenAI gym has some environment wrappers of its own in the `gym.wrappers` package. They are meant to wrap gym environments, though, not TF-agents environments, so to use them, you must first wrap the gym environment with a gym wrapper, then wrap the resulting environment with a TF-agents wrapper. The `suite_gym.wrap_env()` function will do this for you, provided you give it a gym environment & a list of gym wrapper &/or a list of TF-agents wrappers. Alternatively, the `suite_gym.load()` function will both create the Gymn environment & wrap it for you, if you give it some wrappers. Each wrapper will be created without any arguments, so if you want to set some arguemnts, you must pass a `lambda`. For example, the following code creates a breakout environment that will run for a maximum of 10,000 steps during each episode, & each action will be repeated four times:"
   ]
  },
  {
   "cell_type": "code",
   "execution_count": null,
   "id": "3ec2362e-da58-4ad1-a894-c7b0e1a679e0",
   "metadata": {},
   "outputs": [],
   "source": [
    "from gym.wrapper import TimeLimit\n",
    "\n",
    "limited_repeating_env = suite_gym.load(\"Breakout-v4\",\n",
    "                                       gym_env_wrappers = [lambda env: TimeLimit(env,\n",
    "                                                                                 max_episode_steps = 10000)],\n",
    "                                       env_wrappers = [lambda env: ActionRepeat(env, times = 4)])"
   ]
  },
  {
   "cell_type": "markdown",
   "id": "f50b4871-9049-46a8-8d27-e04dcacfdf6a",
   "metadata": {},
   "source": [
    "For Atari environments, some standard preprocessing steps are applied in most papers that use them, so TF-agents provides a handy `AtariPreprocessing` wrapper that implements them. Here is the list of preprocessing steps it supports:\n",
    "\n",
    "* *Grayscale & downsampling*\n",
    "   - Observations are converted to grayscale & downsampled (by default to 84 x 84 pixels)\n",
    "* *Max pooling*\n",
    "   - The last two frames of the game are max-pooled using a 1 x 1 filter. This is to remove the flickering that occurs in some Atari games due to the limited number of sprites that the Atari 2600 could display in each frame.\n",
    "* *Frame skipping*\n",
    "   - The agent only gets to see every *n* frames of the game (by default *n* = 4), & its actions are repeated for each frame, collecting all the rewards. This effectively speeds up the game from the perspective of the agent, & it also speeds up training because rewards are less delayed.\n",
    "* *End on life lost*\n",
    "   - In some games, the rewards are just based on the score, so the agent gets no immediate penalty for losing a life. One solution is to end the game immediately whenever a life is lost. There is some debate over the actual benefits of this strategy, so it is off by default.\n",
    " \n",
    "Since the default Atari environment already applies random frame skipping & max pooling, we will need to load the raw nonskipping variant called `\"BreakoutNoFrameskip -v4\"`. Moreover, a single frame from teh `Breakout` game is insufficient to know the direction & speed of the ball, which will make it very difficult for the agent to play the game properly (unless it is an RNN agent, which preserves some internal state between steps). One wayto handle this is to use an environment wrapper that will output observations composed of multiple frames stacked on top of each other along the channel dimension. This strategy is implemented by the `FrameStack4` wrapper, which returns stacks of four frames. Let's create the wrapped Atari environment!"
   ]
  },
  {
   "cell_type": "code",
   "execution_count": null,
   "id": "179f07a8-bd81-4ed6-9f89-214308592b05",
   "metadata": {},
   "outputs": [],
   "source": [
    "from tf_agents.environments import suite_atari\n",
    "from tf_agents.environments.atari_preprocessing import AtariPreprocessing\n",
    "from tf_agents.environments.atari_wrappers import FrameStack4\n",
    "\n",
    "max_episode_steps = 27000\n",
    "environment_name = \"BreakoutNoFrameskip-v4\"\n",
    "\n",
    "env = suite_atari.load(environment_name,\n",
    "                       max_episode_steps = max_episode_steps,\n",
    "                       gym_env_wrappers = [AtariPreprocessing, FrameStack4])"
   ]
  },
  {
   "cell_type": "markdown",
   "id": "1c781822-ac00-424e-9893-8ff3cc089307",
   "metadata": {},
   "source": [
    "The result of all this preprocessing shown below.\n",
    "\n",
    "<img src = \"Images/Preprocessing Breakout Observation.png\" width = \"600\" style = \"margin:auto\"/>\n",
    "\n",
    "Lastly, we can wrap the environment inside a `TFPyEnvironment`:"
   ]
  },
  {
   "cell_type": "code",
   "execution_count": null,
   "id": "cc7b9f2d-0151-4706-854f-0f55fccbd043",
   "metadata": {},
   "outputs": [],
   "source": [
    "from tf_agents.environments.tf_py_environment import TFPyEnvironment\n",
    "\n",
    "tf_env = TFPyEnvironment(env)"
   ]
  },
  {
   "cell_type": "markdown",
   "id": "fb0f1bf7-4bcf-46c6-87fc-1305c25bfada",
   "metadata": {},
   "source": [
    "This will make the environment variable from within a TensorFlow graph (under the hood, this class relies on `tf.py_function()`, which allows a graph to call arbitrary Python code). Thanks to the `TFPyEnvironment` class, TF-agents supports both pure Python environments & TensorFlow-based environments. More generaly, TF-agents supports & provides both pure Python & TensorFlow-based components (agents, replay buffers, metrics, & so on).\n",
    "\n",
    "Now that we have a nice breakout environment, with all the appropriate preprocessing & TensorFlow support, we must create the DQN agent & the other components we will need to train it. Let's look at the architecture of the system we will build.\n",
    "\n",
    "## Training Architecture\n",
    "\n",
    "A TF-agents training program is usually split into two parts that run in parallel.\n",
    "\n",
    "<img src = \"Images/Typical TF-Agents Training Architecture.png\" width = \"500\" style = \"margin:auto\"/>\n",
    "\n",
    "The figure begs a few questions, which I'll attempt to answer here:\n",
    "\n",
    "* Why are there multiple environments? Instead of exploring a single environment, you generally want to the driver to explore multiple copies of the environment in parallel, taking advantage of the power of all your CPU cores, keeping the training GPUs busy, & providing less-correlated trajectories to the training algorithm.\n",
    "* What is a *trajectory*? It is a concise representation of a *transition* from one time step to the next, or a sequence of consecutive transitions from time step *n* to time step *n + t*. The trajectories collected by the driver are passed to the observer, which saves them in the replay buffer, & they are later sampled by the agent & used for training.\n",
    "* Why do we need an observer? Can't the driver save the trajectories directly? Indeed, it could, but this would make the architecture less flexible. For example, what if you don't want to use a replay buffer? What if you want to use the trajectories for something else, like computing metrics? In fact, an observer is just any function that takes a trajectory as an argument. You can use an observer to save the trajectories to a replay buffer, or to save them to a TFRecord file, or to compute the metrics, or for anything else. Moreover, you can pass multiple observers to the driver, & it will broadcase the trajectories to all of them.\n",
    "\n",
    "Now we will create all these components: first the deep Q-network, then the DQN agent (which will take care of creating the collect policy), then the replay buffer & te observer to write to it, then a few training metrics, then the driver, & finally the dataset. Once we have all the components in place, we will populate the replay buffer with some initial trajectories, then we will run the main training loop. So, let's start by creatign the deep Q-network.\n",
    "\n",
    "## Creating the Deep Q-Network\n",
    "\n",
    "The TF-agents library provides many networks in the `tf_agents.networks` package & its subpackages. We will use the `tf_agents.networks.q_network.QNetwork` class:"
   ]
  },
  {
   "cell_type": "code",
   "execution_count": null,
   "id": "81084ad2-5de9-4ede-8587-db6e075d51fc",
   "metadata": {},
   "outputs": [],
   "source": [
    "from tf_agents.netowkrs.q_network import QNetwork\n",
    "\n",
    "preprocessing_layer = keras.layers.Lambda(lambda obs: tf.cast(obs, np.float32) / 255.0)\n",
    "conv_layer_params = [(32, (8, 8), 4), (64, (4, 4), 2), (64, (3, 3), 1)]\n",
    "fc_layer_params = [512]\n",
    "\n",
    "q_net = QNetwork(tf_env.observation_spec(),\n",
    "                 tf_env.action_spec(),\n",
    "                 preprocessing_layers = preprocessing_layer,\n",
    "                 conv_layer_params = conv_layer_params,\n",
    "                 fc_layer_params = fc_layer_params)"
   ]
  },
  {
   "cell_type": "markdown",
   "id": "5cca4832-5aa3-45f9-80c4-497861e0df7a",
   "metadata": {},
   "source": [
    "This `QNetwork` takes an observation as input & outputs one Q-value per action, so we must give it the specifications of the observations & the actions. It starts with a preprocessing layer: a simple `Lambda` layer that casts the observations to 32-bit floats & normalises them (the values will range from 0.0 to 1.0). The observations contain unsigned bytes, which use 4 times less space than 32-bit floats, which is why we did not cast the observations to 32-bit floats earlier; we want to save RAM in the replay buffer. Next, the network applies three convolutional layers: the first has 32 8 x 8 filters & uses a stride of 4, the second has 64 4 x 4 filters & a stride of 2, & the third has 64 3 x 3 filters & a stride of 1. Lastly, it applies a dense layer with 512 units, followed by a dense output layer with 4 units, one per Q-value to output (i.e., one per action). All convolutional layers & all dense layers except the output layer use the ReLU activation function by default (you can change this by setting the `activation_fn` argument). The output layer does not use any activation function.\n",
    "\n",
    "Under the hood, a `QNetwork` is composed of two parts: an encoding network that processes the observations, followed by a dense output layer that outputs one Q-value per action. TF-agent's `EncodingNetwork` class implements a neural network architecture found in various agents.\n",
    "\n",
    "<img src = \"Images/Architecture of Encoding Network.png\" width = \"550\" style = \"margin:auto\"/>\n",
    "\n",
    "It may have one or more inputs. For example, if each observation is composed of some sensor data plus an image from a camera, you will have two inputs. Each input may require some preprocesing steps, in which case you can specify a list of keras layers via the `preprocessing_layers` argument, with one preprocessing layer per input, & the network will apply each layer to the corresponding input (if an input requires multiple layers of preprocessing, you can pass a whole model, since a keras model can always be used as a layer). If there are two inputs ormore, you must also pass an extra layer via the `preprocessing_combiner` argument, to combine the outputs from the preprocessing layers into a single output.\n",
    "\n",
    "Next, the encoding network will optionally apply a list of convolutions sequentially, provided you specify their parameters via the `conv_layer_params` argument. This must be a list composed of 3-tuples (one per convolutional layer) indicating the number of filters, the kernel size, & the stride. After these convolutional layers, the encoding network will optionally apply a sequence of dense layers, if you set the `fc_layer_params` argument: it must be a list containing the number of neurons for each dense layer. Optionally, you can also pass a list of dropout rates (one per dense layer) via the `dropout_layer_params` argument if you want to apply dropout after each denselayer. The `QNetwork` takes the output of this encoding network & passes it to the dense output layer (with one unit per action).\n",
    "\n",
    "Now that we have the DQN, we are ready to build the DQN agent.\n",
    "\n",
    "## Creating the DQN Agent\n",
    "\n",
    "The TF-agents library implements many types of agents, located in the `tf_agents.agents` package & it subpackages. We will use the `tf_agents.agents.dqn.dqn_agent.DqnAgent` class:"
   ]
  },
  {
   "cell_type": "code",
   "execution_count": null,
   "id": "4773d124-7046-4bf4-9487-d502eb346e6e",
   "metadata": {},
   "outputs": [],
   "source": [
    "from tf_agents.agents.dqn.dqn_agent import DqnAgent\n",
    "\n",
    "train_step = tf.Variable(0)\n",
    "update_period = 4\n",
    "optimiser = keras.optimizers.RMSprop(learning_rate = 2.5e-4, rho = 0.95, momentum = 0.0,\n",
    "                                     epsilon = 0.00001, centered = True)\n",
    "epsilon_fn = keras.optimizers.schedules.PolynomialDecay(initial_learning_rate = 1.0,\n",
    "                                                        decay_steps = 250000 // update_period,\n",
    "                                                        end_learning_rate = 0.01)\n",
    "agent = DqnAgent(tf_env.time_step_spec(),\n",
    "                 tf.env.action_spec(),\n",
    "                 q_network = q_net,\n",
    "                 optimizer = optimiser,\n",
    "                 target_update_period = 2000,\n",
    "                 td_errors_loss_fn = keras.losses.Huber(reduction = \"none\"),\n",
    "                 gamma = 0.99,\n",
    "                 train_step_counter = train_step,\n",
    "                 epsilon_greedy = lambda: epsilon_fn(train_step))"
   ]
  },
  {
   "cell_type": "markdown",
   "id": "28cca1b1-f1ad-408b-aa13-85299fc88db1",
   "metadata": {},
   "source": [
    "Let's walk through this code:\n",
    "\n",
    "* We first create a variable that will count the number of training steps.\n",
    "* Then we build the optimiser, using the same hyperparameters as in the 2015 DQN paper.\n",
    "* Next, we create a `PolynomialDecay` object that will compute the $\\varepsilon$ value for the $\\varepsilon$-greedy collect policy, given the current training step (it is normally used to decay the learning rate, hence the names of the arguments, but it will work just fine to decay any other value). It will go from 1.0 down to 0.01 (the value used during in the 2015 DQN paper) in 1 million ALE frame, which corresponds to 250,000 steps, since we use frame skipping with a period of 4. Moreover, we will train the agent every 4 steps (i.e., 16 ALE frames), so $\\varepsilon$ will actually decay over 62,500 *training* steps.\n",
    "* We then build the `DQNAgent` passing it the time step & action specs, the `Qnetwork` to train, the optimizer, the number of training steps between target model updates, the loss function to use, the discount factor, the `train_step` variable, & a function the returns the $\\varepsilon$ value (it must take no argument, which is why we need a lambda to pass the `train_step`). Note tht the loss function must return an error per instance, not the mean error, which is why we set `reduction = \"none\"`.\n",
    "* Lastly, we initialise the agent.\n",
    "\n",
    "Next, let's build the replay buffer & the observer that will write to it.\n",
    "\n",
    "## Creating the Replay Buffer & the Corresponding Observer\n",
    "\n",
    "The Tf-agents library provides various replay buffer impleemntations in the `tf_agents.replay_buffers` package. Some are purely written in python (their modules names star with `py_`), & others are written based on TensorFlow (their module names start with `tf_`). We will use the `TFUniformReplayBuffer` class in the `tf_agents.replay_buffers.tf_uniform_replay_buffer` package. It provides a high-performance implementation of a replay buffer with uniform sampling:"
   ]
  },
  {
   "cell_type": "code",
   "execution_count": null,
   "id": "fd014614-ee2f-4dcc-81cc-1c817a2029fe",
   "metadata": {},
   "outputs": [],
   "source": [
    "from tf_agents.replay_buffers import tf_uniform_replay_buffer\n",
    "\n",
    "replay_buffer = tf_uniform_replay_buffer.TFUniformReplayBuffer(data_spec = agent.collect_data_spec,\n",
    "                                                               batch_size = tf_env.batch_size,\n",
    "                                                               max_length = 1000000)"
   ]
  },
  {
   "cell_type": "markdown",
   "id": "38d5b779-45c9-4ea4-8cfc-04f455f51448",
   "metadata": {},
   "source": [
    "Let's look at each of these arguments:\n",
    "\n",
    "* `data_spec`\n",
    "   - The specification of the data that will be saved in the replay buffer. The DQN agent knows that the collected data will look like, & it makes the data spec available via its `collect_data_spec` attribute, so that's what we give the replay buffer.\n",
    "* `batch_size`\n",
    "   - The number of trajectories that will be added at each step. In our case, it will be one, since the driver will just execute one action per step & collect one trajectory. If the environment were a *batched environment*, meaning an environment that takes a batch of actions at each step & returns a batch of observations, then the driver would have to save a batch of trajectories at each step. Since we are using a TensorFlow replay buffer, it needs to know the size of the batches it will handle (to build the computation graph). An example of a batched environment is the `ParallelPyEnvironment` (from the `tf_agents.environments.parallel_py_environment package): it runs multiple environments in paralle in spearate processes (they can be different as long as they have the same action & observation specs), & at each step it takes a btch of actions & executes them in the environments (one action per environment), then it returns all the resulting observations.\n",
    "* `max_length`\n",
    "   - The maximum size of the replay buffer. We created a large replay buffer that can store one million trajectories (as was done in the 2015 DQN paper). This will require a lot of RAM.\n",
    " \n",
    "Now we can create the observer that will write the trajectories to the replay buffer. An observer is just a function (or all callable object) that takes a trajectory argument, so we can directly use the `add_method()` method (bound to the `replay_buffer` object) as our observer:"
   ]
  },
  {
   "cell_type": "code",
   "execution_count": null,
   "id": "6a975041-24d7-45c0-b522-c6f64f48cce4",
   "metadata": {},
   "outputs": [],
   "source": [
    "replay_buffer_observer = replay_buffer.add_batch"
   ]
  },
  {
   "cell_type": "markdown",
   "id": "abdbea72-d511-4c02-9fed-699aff5e87a5",
   "metadata": {},
   "source": [
    "If you wanted to create your own observer, you could write any function with a `trajectory` argument. If it must have a state, you can write a class with a `__call__(self, trajectory)` method. For example, here is a simple observer that will increment a counter every time it is called (except when the trajectory represents a boundary between two episodes, which does not count as a step), & every 100 increments it displays the progress up to a given total (the carriange return `\\r` along with `end = \"\"` ensures that the displayed counter remains on the same line):"
   ]
  },
  {
   "cell_type": "code",
   "execution_count": null,
   "id": "ee45c165-2dc1-46ea-bd41-b39a1ae43a3e",
   "metadata": {},
   "outputs": [],
   "source": [
    "class ShowProgress:\n",
    "    def __init__(self, total):\n",
    "        self.counter = 0\n",
    "        self.total = total\n",
    "    def __cal__(self, trajectory):\n",
    "        if not trajectory.is_boundary():\n",
    "            self.counter += 1\n",
    "        if self.counter % 100 == 0:\n",
    "            print(\"\\r{}/{}\".format(self.counter, self.total), end = \"\")"
   ]
  },
  {
   "cell_type": "markdown",
   "id": "6922fdcd-70b9-475b-bcf0-be5ef4ff9fc2",
   "metadata": {},
   "source": [
    "Now let's create a few training metrics.\n",
    "\n",
    "## Creating Training Metrics\n",
    "\n",
    "TF-agents implements several RL metrics in the `tf_agents.metrics` package, some purely in Python & some based on TensorFlow. Let's create a few of them in order to count the number of episodes, the number of steps taken, & most importantly the average return per episode & the average episode length:"
   ]
  },
  {
   "cell_type": "code",
   "execution_count": null,
   "id": "462c2990-669a-40af-b263-6cc3de8e02b8",
   "metadata": {},
   "outputs": [],
   "source": [
    "from tf_agents.metrics import tf_metrics\n",
    "\n",
    "train_metrics = [tf_metrics.NumberOfEpisodes(),\n",
    "                 tf_metrics.EnvironmentSteps(),\n",
    "                 tf_metrics.AverageReturnMetric(),\n",
    "                 tf_metrics.AverageEpisodeLengthMetric()]"
   ]
  },
  {
   "cell_type": "markdown",
   "id": "82cfe641-b0b3-4db0-a964-f1fb60b2bbfa",
   "metadata": {},
   "source": [
    "At any time, you can get the value of each of these metrics by calling its `result()` method (e.g., `train_metrics[0].result()`). Alternatively, you can log all metrics by calling `log_metrics(train_metrics)` (this function is located in the `tf_agents.eval.metric_utils` package):"
   ]
  },
  {
   "cell_type": "code",
   "execution_count": null,
   "id": "e08cff98-5dd2-421b-893d-b4b9a74f0ebb",
   "metadata": {},
   "outputs": [],
   "source": [
    "from tf_agents.eval.metric_utils import log_metrics\n",
    "import logging\n",
    "\n",
    "loggin.get_logger().set_level(logging.INFO)\n",
    "log_metircs(train_metrics)"
   ]
  },
  {
   "cell_type": "markdown",
   "id": "7fa41073-dbdd-4eb9-bf9b-06c7e5a66612",
   "metadata": {},
   "source": [
    "Next, let's create the collect driver.\n",
    "\n",
    "## Creating the Collect Driver\n",
    "\n",
    "A driver is an object that explores an environment using a given policy, collects experiences, & broadcasts them to some observers. At each step, the following things happen:\n",
    "\n",
    "* The driver passes the current time step to the collect policy, which uses this time step to choose an action & returns an *action step* object containing the action.\n",
    "* The driver then passes the action to the environment, which returns the next time step.\n",
    "* Finally, the driver creates a trajectory object to represent this transition & broadcasts it to all the observers.\n",
    "\n",
    "Some policies, such as RNN policies, are stateful: they choose an action based on both the given time step & their own internal state. Stateful policies return their own state in the action step, along with the chosen action. The driver will then pass this state back to the policy at the next time step. Moreover, the driver saves the policy state to the trajectory (in the `policy_info` field), so it ends up in the replay buffer. This is essential when training a stateful policy: when the agent samples a trajectory, it must set the policy's state tot eh state it was in at the time of the sampled time step.\n",
    "\n",
    "Also, as discussed earlier, the environment may be a batched environment, in which case the driver passes a *batched time step* to the policy (i.e., a time step object containing a batch of observations, a batch of step types, a batch of rewards, & a batch of discounts, all four batches of the same size). The driver also passes a batch of actions & a batch of policy states. Finally, the driver creates a *batched trajectory* (i.e., a trajectory containing a batch of step types, a batch of observations, a batch of actions, a batch of rewards, & more generally a batch for each trajectory attribute, with all batches of the same size).\n",
    "\n",
    "There are two main driver classes: `DynamicStepDriver` & `DynamicEpisodeDriver`. The first one collects experiences for a given number of steps, while the second collects experiences for a given number of episodes. We want to collect experiences for four steps for each training iteration (as was done in the 2015 DQN paper), so let's create a `DynamicStepDriver`:"
   ]
  },
  {
   "cell_type": "code",
   "execution_count": null,
   "id": "8b045b2e-d615-4634-a919-5677f1dc7360",
   "metadata": {},
   "outputs": [],
   "source": [
    "from tf_agents.drivers.dynamic_step_driver import DynamicStepDriver\n",
    "\n",
    "collect_drive = DynamicStepDriver(tf_env, agent.collect_policy,\n",
    "                                  observers = [replay_buffer_observer] + training_metrics,\n",
    "                                  num_steps = update_period)"
   ]
  },
  {
   "cell_type": "markdown",
   "id": "f627486a-9473-4ee4-a284-3c58f55c8f6b",
   "metadata": {},
   "source": [
    "We give it the environment to play with, the agent's collect policy, a list of observers (including the replay buffer observer & the training metrics), & finally the number of steps to run (in this case, four). We could not run it by calling its `run()` method, but it's best to warm up the replay buffer with experiences collected using a purely random policy. For this, we can use the `RandomTFPolicy` class & create a second driver that will run this policy for 20,000 steps (which is equivalent to 80,000 simulator frames, as was done in the 2015 DQN paper). We can use our `ShowProgress` observer to display the progress."
   ]
  },
  {
   "cell_type": "code",
   "execution_count": null,
   "id": "5cc091bc-d551-4cc4-9554-a490626fd38f",
   "metadata": {},
   "outputs": [],
   "source": [
    "from tf_agents.policies.random_tf_policy import RandomTFPolicy\n",
    "\n",
    "iniital_collect_policy = RandomTFPolicy(tf_env.time_step_spec(),\n",
    "                                        tf_env.action_spec())\n",
    "init_driver = DynamicStepDriver(tf_env, initial_collect_policy,\n",
    "                                observers = [replay_buffer.add_batch, ShowProgress(20000)],\n",
    "                                num_steps = 20,000)\n",
    "final_time_step, final_policy_state = init_driver.run()"
   ]
  },
  {
   "cell_type": "markdown",
   "id": "09fe2235-f14e-40d2-a97b-1c984b9752c3",
   "metadata": {},
   "source": [
    "We're almost ready to run the training loop! We just need one last component: the dataset.\n",
    "\n",
    "## Creating the Dataset\n",
    "\n",
    "To sample a batch of trajectories from the replay buffer, call its `get_next()` method. This returns the batch of trajectories plus a `BufferInfo` object that contains the sample identifies & their sampling probabilities (this may be useful for some algorithms, such as PER). For example, the following code will sample a small batch of two trajectories (subepisodes), each containing three consecutive steps."
   ]
  },
  {
   "cell_type": "code",
   "execution_count": null,
   "id": "c67105af-1cdd-4686-bab5-5ff3405869fe",
   "metadata": {},
   "outputs": [],
   "source": [
    "trajectories, buffer_info = replay_buffer.get_next(sample_batch_size = 2, num_steps = 3)\n",
    "trajectories._fields"
   ]
  },
  {
   "cell_type": "code",
   "execution_count": null,
   "id": "640b6eab-123e-4e3f-a86d-bdde333ffd85",
   "metadata": {},
   "outputs": [],
   "source": [
    "trajectories.observation.shape"
   ]
  },
  {
   "cell_type": "code",
   "execution_count": null,
   "id": "ee94d252-3b77-4a2a-a00f-8d14bbe52714",
   "metadata": {},
   "outputs": [],
   "source": [
    "trajectories.step_type.numpy()"
   ]
  },
  {
   "cell_type": "markdown",
   "id": "1fb041c9-8cce-422b-92bb-b1629bf9b662",
   "metadata": {},
   "source": [
    "The `trajectories` object is a named tuple, with seven fields. Each field contains a tensor whose first two dimensions are 2 & 3 (since there are two trajectories, each with three steps). This explains why the shape of the `observation` field is [2, 3, 84, 84, 4]: that's two trajectories, each with three steps, & each step's observation is 84 x 84 x 4. Similarly, the `step_type` tensor has a shape of [2, 3]: in this example, both trajectories contain three consecutive steps in the middle on an episode (types 1, 1, 1). In the second trajectory, you can barely see the ball at the lower left of the first observation, & it disappears in the next two observations, so the agent is about to lose a life, but the episode will not end immediately because it still has several lives left.\n",
    "\n",
    "<img src = \"Images/Two Trajectories of Three Consecutive Steps.png\" width = \"600\" style = \"margin:auto\"/>\n",
    "\n",
    "Each trajectory is a concise representation of a sequence of consecutive time steps & action steps, designed to avoid redundancy. How so? \n",
    "\n",
    "<img src = \"Images/Trajectories, Transitions, Time Step, & Action Steps.png\" width = \"500\" style = \"margin:auto\"/>\n",
    "\n",
    "Well, transition *n* is composed of time step *n*, action step *n*, & time step *n* + 1, while transition *n* + 1 is composed of time step *n* + 1, action step *n* + 1, & time step *n* + 2. If we just stored these two transitions directly in the replay buffer, the time step *n* + 1 would be duplicated. To avoid this duplication, the $n^{th}$ trajectory step includes only the type & observation from time step *n* (not its reward & discount), & it does not contain the observation from time step *n* + 1 (however, it does contain a copy of the next time step's type; that's the only duplication).\n",
    "\n",
    "So if youhave a batch of trajectories where each trajectories has *t* + 1 steps (from time step *n* to time step *n* + *t*), then it contains all the data from time step *n* to time step *n* + *t*, except for the reward & discount from time step *n* (but it contiains the reward & discount of time step *n* + *t* + 1). This represents *t* transitions (*n* to *n* + 1 to *n* + 2, ..., *n* + *t* - 1, *n* + *t*).\n",
    "\n",
    "The `to_transition()` function in the `tf_agents.trajectories.trajectory` module converts a batched trajectory into a list containing a batched `time_step` a batched `action_step`, & a batched `next_time_step`. Notice that the second dimension is 2 instead of 3, since there are *t* transition between *t* + 1 time steps (don't worry if you're a bit confused; you'll get the hang of it):"
   ]
  },
  {
   "cell_type": "code",
   "execution_count": null,
   "id": "0849eaf3-135b-4b47-8ce0-828b4cc2626b",
   "metadata": {},
   "outputs": [],
   "source": [
    "from tf_agents.trajectories.trajectory import to_transition\n",
    "\n",
    "time_steps, action_steps, next_time_steps = to_transition(trajectories)\n",
    "time_steps.observation.shape"
   ]
  },
  {
   "cell_type": "markdown",
   "id": "c3c23639-391c-4cc1-a427-5398b98a0d58",
   "metadata": {},
   "source": [
    "For our main training loop, instead of calling the `get_next()` method, we will use a `tf.data.Dataset`. This way, we can benefit from the power ofthe data API (e.g., parallelism & prefetching). For this, we call the replay buffer's `as_dataset()` method:"
   ]
  },
  {
   "cell_type": "code",
   "execution_count": null,
   "id": "e4e15b35-11c5-4209-b300-e2297af05cf7",
   "metadata": {},
   "outputs": [],
   "source": [
    "dataset = replay_buffer.as_dataset(sample_batch_size = 64,\n",
    "                                   num_steps = 2,\n",
    "                                   num_parallel_calls = 3).prefetch(3)"
   ]
  },
  {
   "cell_type": "markdown",
   "id": "f967aab2-1536-4fce-8b0c-d7bf63cb5403",
   "metadata": {},
   "source": [
    "We will sample batches of 64 trajectories at each training step (as in the 2015 DQN paper), each with 2 seps (i.e., 2 sptes = 1 full transition, including the next step's observation). This dataset will process three elements in parallel, & prefetch three batches.\n",
    "\n",
    "Now that we have all the components in place, we are ready to train the model.\n",
    "\n",
    "## Creating the Training Loop\n",
    "\n",
    "To speed up training, we will convert the main functions to TensorFlow functions. For this we will use the `tf_agents.utils.common.function()` function, which wraps `tf.function()`, with some extra experimental options:"
   ]
  },
  {
   "cell_type": "code",
   "execution_count": null,
   "id": "5e4f18d4-fe32-4f1a-b328-44fcd002a207",
   "metadata": {},
   "outputs": [],
   "source": [
    "from tf_agents.utils.common import function\n",
    "\n",
    "collect_driver.run = function(collect_driver.run)\n",
    "agent.train = function(agent.train)"
   ]
  },
  {
   "cell_type": "markdown",
   "id": "8450ad93-c37b-4a37-a161-f343fc80f84e",
   "metadata": {},
   "source": [
    "Let's create a small function that will run the main training loop for `n_iterations`:"
   ]
  },
  {
   "cell_type": "code",
   "execution_count": null,
   "id": "28ad8480-4bce-4c69-9bc4-f9bef938ebbd",
   "metadata": {},
   "outputs": [],
   "source": [
    "def train_agent(n_interations):\n",
    "    time_step = None\n",
    "    policy_state = agent.collect_policy.get_initial_state(tf_env.batch_size)\n",
    "    iterator = iter(dataset)\n",
    "    for iteration in range(n_interations):\n",
    "        time_step, policy_state = collect_driver.run(time_step, policy_state)\n",
    "        trajectories, buffer_info = next(iterator)\n",
    "        train_loss = agent.train(trajectories)\n",
    "        print(\"\\r{} loss:{:.5f}\".format(iteration, train_loss.loss.numpy()), end = \"\")\n",
    "        if iteration % 1000 == 0:\n",
    "            log_metrics(train_metrics)"
   ]
  },
  {
   "cell_type": "markdown",
   "id": "cb704adf-3263-4c9e-b4c2-28bf0a791737",
   "metadata": {},
   "source": [
    "The function first asks the collect policy for its initial state (given the environment batch size, which is 1 in this case). Since the policy is stateless, this returns an empty tuple (so we could have written `policy_state = ()`). Next, we create an iterator over the dataset, & we run the training loop. At each iteration, we call the driver's `run()` method, passing it the current time step (initially `None`) & the current policy state. It will run the collect policy & collect experience for four steps (as we configured earlier), broadcasting the collected trajectories to the replay buffer & the metrics. Next, we sample one batch of trajectories from the dataset, & we pass it to the agent's `train()` ethod. It returns a `train_loss` objsect which may vary depending on the type of agent. Next, we display the iteration number & the training loss, & every 1,000 iterations we log all the metrics. Now you can just call `train_agent()` for some number of iterations, & see the agent gradually learn to play *breakout*!"
   ]
  },
  {
   "cell_type": "code",
   "execution_count": null,
   "id": "b44ab18f-d622-4eff-b8c2-fbd7de750b4d",
   "metadata": {},
   "outputs": [],
   "source": [
    "train_agent(1000000)"
   ]
  },
  {
   "cell_type": "markdown",
   "id": "86b9fdd9-109a-403b-870e-75351f1f34de",
   "metadata": {},
   "source": [
    "This will take a lot of computing power & a lot of patience (it may take hours, or even days, depending on your hardware), plus you may need to run the algorithm several times with different random seeds to get good results, but once it's done, the agent will be superhuman (at least at *breakout*). You can also try training this DQN agent on other Atari games: it can achieve superhuman skill at most action games, but its is not so good at games with long-running storelines."
   ]
  },
  {
   "cell_type": "markdown",
   "id": "2c8ddf53-e66a-47fd-ae9a-51971edf8e42",
   "metadata": {},
   "source": [
    "---"
   ]
  },
  {
   "cell_type": "markdown",
   "id": "38fb3c4d-2979-42ee-8bd0-dad798c9c6f6",
   "metadata": {},
   "source": [
    "# Overview of Some Popular RL Algorithms\n",
    "\n",
    "Before finishing this lesson, let's take a quick look at a few popular RL algorithms:\n",
    "\n",
    "* *Actor-Critic algorithms*\n",
    "   - A family of RL algorithms that combine policy gradients with deep Q-networks. An actor-critic agent contains two neural networks: a policy net & a DQN. The DQN is trained normally, by learning from the agent's experiences. The policy net learns differently (& much faster) than in regular PG: instead of estimating the value of each action by going through multiple episodes, then summing the future discounted rewards for each action, & finally normalising them, the agent (actor) relies ont eh action values estimated by the DQN (critic). It's a bit like an athlete (agent) learning with the help of a coach (DQN).\n",
    "* *Asynchronous Advantage Actor-Critic* (A3C)\n",
    "   - An important actor-critic variant introduced by DeepMind researchers in 2016, where multiple agents learn in parallel, exploring different copies of the environment. At regular intervals, but asynchronously (hence the name), each agent pushes some weight updates to a master network, then it pulls the latest weights from that network. Each agent thus contributes to improving the master network & benefits from what the other agents have learned. Moreover,instead of estimating Q-values, the DQN estimates the advantage of each action (hence the second A in the name), which stabilises training.\n",
    "* *Advantage Actor-Critic* (A2C)\n",
    "   - A variant of the A3C algorithm that removes the asynchronicity. All model updates are synchronous, so gradient updates are performed over larger batches, which allows the model to better utilise the power of the GPU.\n",
    "* *Soft Actor-Critic* (SAC)\n",
    "   - An actor-critic variant proposed in 2018 by Tuomas Haarnoja & other UC Berkely researchers. It learns not only rewards, but also to maximise the entropy of its actions. In other words, it tries to be as unpredictable as possible whil still getting as many rewards as possible. This encourages the agent to explore the environment, which speeds up training & makes it less likely to repeatedly execute the same action when the DQN produces imperfect estimates. This algorithm has demonstrated an amazing sample efficiency (contrary to all the previous algorithms, which learn very slowly). SAC is available in TF-agents.\n",
    "* *Proximal Policy Optimisation* (PPO)\n",
    "   - An algorithm based on A2C that clips the loss function to avoid excessively large weight updates (which often leads to training instabilities). OpenAI made the news in April 2019 with their AI called Open AI Five, based on the PPO algorithm, which defeated the world champions at the multiplayer game *Dota 2*. PPO is also available in tf-agents.\n",
    "* *Curiousity-based exploration*\n",
    "   - A recurring problem in RL is the sparsity of the rewards, which makes learning very slow & inefficient. Deepak Pathak & other UC Berkeley researchers have proposed an exciting way to tackle this issue: why not ignore the rewards, & just make the agent extremely curious to explore the environment? The rewards thus become intrinsic to the agent, rather than coming from the environment. Similarly stimulating curiousity in a child is more likely to give good results than purely rewarding the child for getting good grades. How does this work? The agent continuously tries to predict the outcome of its actions, & it seeks situations where the outcome does not match its predictions. In other words, it wants to be surprised. If the outcome is predictable (boring), it goes elsewhere. However, if the outcome is unpredictable but the agent notices that it has no control over it, it also get bored after a while. With only curiosity, the authors succeeded in training an agent at many video games: even though the agents get no penalty for losing, the game starts over, which is boring so it learns to avoid it.\n",
    "\n",
    "We covered many topics in this lesson: policy gradients, Markov chains, Markov decision processes, Q-learning, approximate Q-learning, & deep Q-learning & its main variants (fixed Q-value targets, double DQN, dueling DQN, & prioritised experience replay). We discussed how to use tf-agents to train agents at scale, & finally we took a quick look at a few other popular algorithms. Reinforcement learning is a huge & exciting field, with new ideas & algorithms popping out every day, so I hope this chapter sparked your curiosity: there is a whole world to explore!"
   ]
  },
  {
   "cell_type": "code",
   "execution_count": null,
   "id": "122a9401-4bfc-4dfd-9062-9be5c37c3c56",
   "metadata": {},
   "outputs": [],
   "source": []
  }
 ],
 "metadata": {
  "kernelspec": {
   "display_name": "Python 3 (ipykernel)",
   "language": "python",
   "name": "python3"
  },
  "language_info": {
   "codemirror_mode": {
    "name": "ipython",
    "version": 3
   },
   "file_extension": ".py",
   "mimetype": "text/x-python",
   "name": "python",
   "nbconvert_exporter": "python",
   "pygments_lexer": "ipython3",
   "version": "3.12.4"
  }
 },
 "nbformat": 4,
 "nbformat_minor": 5
}
