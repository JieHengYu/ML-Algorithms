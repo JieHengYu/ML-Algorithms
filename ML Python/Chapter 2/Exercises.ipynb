{
 "cells": [
  {
   "cell_type": "markdown",
   "id": "94f2f406-e68f-4ad7-a4ae-33ff80b7eb4d",
   "metadata": {},
   "source": [
    "# Exercises\n",
    "\n",
    "Using this chapter's housing dataset:\n",
    "\n",
    "1. Try a support vector machine regressor (`sklearn.svm.SVR`), with various hyperparameters such as `kernel = \"linear\"` (with various values for the `C` hyperparameter) or `kernel = \"rbf\"` (with various values for the `C` & `gamma` hyperparameters). Don't worry about that these hyperparameters mean for now. How does the best `SVR` predictor perform?\n",
    "2. Try replacing `GridSearchCV` with `RandomisedSearchCV`.\n",
    "3. Try adding a transformer in the preparation pipeline to select only the most important attributes.\n",
    "4. Try creating a single pipeline that does the full data preparation plus the final prediction.\n",
    "5. Automatically explore some preparation options using `GridSearchCV`."
   ]
  },
  {
   "cell_type": "markdown",
   "id": "194ba8d3-2ac3-4916-af75-69aa406c87aa",
   "metadata": {},
   "source": [
    "---"
   ]
  },
  {
   "cell_type": "markdown",
   "id": "0a539a9e-bcbb-4ea9-9108-be468692a70a",
   "metadata": {},
   "source": [
    "# 1."
   ]
  },
  {
   "cell_type": "code",
   "execution_count": 6,
   "id": "025a08cd-54d1-4b77-9f88-e04a32e9772d",
   "metadata": {
    "tags": []
   },
   "outputs": [
    {
     "data": {
      "text/html": [
       "<div>\n",
       "<style scoped>\n",
       "    .dataframe tbody tr th:only-of-type {\n",
       "        vertical-align: middle;\n",
       "    }\n",
       "\n",
       "    .dataframe tbody tr th {\n",
       "        vertical-align: top;\n",
       "    }\n",
       "\n",
       "    .dataframe thead th {\n",
       "        text-align: right;\n",
       "    }\n",
       "</style>\n",
       "<table border=\"1\" class=\"dataframe\">\n",
       "  <thead>\n",
       "    <tr style=\"text-align: right;\">\n",
       "      <th></th>\n",
       "      <th>longitude</th>\n",
       "      <th>latitude</th>\n",
       "      <th>housing_median_age</th>\n",
       "      <th>total_rooms</th>\n",
       "      <th>total_bedrooms</th>\n",
       "      <th>population</th>\n",
       "      <th>households</th>\n",
       "      <th>median_income</th>\n",
       "      <th>median_house_value</th>\n",
       "      <th>ocean_proximity</th>\n",
       "    </tr>\n",
       "  </thead>\n",
       "  <tbody>\n",
       "    <tr>\n",
       "      <th>0</th>\n",
       "      <td>-122.23</td>\n",
       "      <td>37.88</td>\n",
       "      <td>41.0</td>\n",
       "      <td>880.0</td>\n",
       "      <td>129.0</td>\n",
       "      <td>322.0</td>\n",
       "      <td>126.0</td>\n",
       "      <td>8.3252</td>\n",
       "      <td>452600.0</td>\n",
       "      <td>NEAR BAY</td>\n",
       "    </tr>\n",
       "    <tr>\n",
       "      <th>1</th>\n",
       "      <td>-122.22</td>\n",
       "      <td>37.86</td>\n",
       "      <td>21.0</td>\n",
       "      <td>7099.0</td>\n",
       "      <td>1106.0</td>\n",
       "      <td>2401.0</td>\n",
       "      <td>1138.0</td>\n",
       "      <td>8.3014</td>\n",
       "      <td>358500.0</td>\n",
       "      <td>NEAR BAY</td>\n",
       "    </tr>\n",
       "    <tr>\n",
       "      <th>2</th>\n",
       "      <td>-122.24</td>\n",
       "      <td>37.85</td>\n",
       "      <td>52.0</td>\n",
       "      <td>1467.0</td>\n",
       "      <td>190.0</td>\n",
       "      <td>496.0</td>\n",
       "      <td>177.0</td>\n",
       "      <td>7.2574</td>\n",
       "      <td>352100.0</td>\n",
       "      <td>NEAR BAY</td>\n",
       "    </tr>\n",
       "    <tr>\n",
       "      <th>3</th>\n",
       "      <td>-122.25</td>\n",
       "      <td>37.85</td>\n",
       "      <td>52.0</td>\n",
       "      <td>1274.0</td>\n",
       "      <td>235.0</td>\n",
       "      <td>558.0</td>\n",
       "      <td>219.0</td>\n",
       "      <td>5.6431</td>\n",
       "      <td>341300.0</td>\n",
       "      <td>NEAR BAY</td>\n",
       "    </tr>\n",
       "    <tr>\n",
       "      <th>4</th>\n",
       "      <td>-122.25</td>\n",
       "      <td>37.85</td>\n",
       "      <td>52.0</td>\n",
       "      <td>1627.0</td>\n",
       "      <td>280.0</td>\n",
       "      <td>565.0</td>\n",
       "      <td>259.0</td>\n",
       "      <td>3.8462</td>\n",
       "      <td>342200.0</td>\n",
       "      <td>NEAR BAY</td>\n",
       "    </tr>\n",
       "    <tr>\n",
       "      <th>...</th>\n",
       "      <td>...</td>\n",
       "      <td>...</td>\n",
       "      <td>...</td>\n",
       "      <td>...</td>\n",
       "      <td>...</td>\n",
       "      <td>...</td>\n",
       "      <td>...</td>\n",
       "      <td>...</td>\n",
       "      <td>...</td>\n",
       "      <td>...</td>\n",
       "    </tr>\n",
       "    <tr>\n",
       "      <th>20635</th>\n",
       "      <td>-121.09</td>\n",
       "      <td>39.48</td>\n",
       "      <td>25.0</td>\n",
       "      <td>1665.0</td>\n",
       "      <td>374.0</td>\n",
       "      <td>845.0</td>\n",
       "      <td>330.0</td>\n",
       "      <td>1.5603</td>\n",
       "      <td>78100.0</td>\n",
       "      <td>INLAND</td>\n",
       "    </tr>\n",
       "    <tr>\n",
       "      <th>20636</th>\n",
       "      <td>-121.21</td>\n",
       "      <td>39.49</td>\n",
       "      <td>18.0</td>\n",
       "      <td>697.0</td>\n",
       "      <td>150.0</td>\n",
       "      <td>356.0</td>\n",
       "      <td>114.0</td>\n",
       "      <td>2.5568</td>\n",
       "      <td>77100.0</td>\n",
       "      <td>INLAND</td>\n",
       "    </tr>\n",
       "    <tr>\n",
       "      <th>20637</th>\n",
       "      <td>-121.22</td>\n",
       "      <td>39.43</td>\n",
       "      <td>17.0</td>\n",
       "      <td>2254.0</td>\n",
       "      <td>485.0</td>\n",
       "      <td>1007.0</td>\n",
       "      <td>433.0</td>\n",
       "      <td>1.7000</td>\n",
       "      <td>92300.0</td>\n",
       "      <td>INLAND</td>\n",
       "    </tr>\n",
       "    <tr>\n",
       "      <th>20638</th>\n",
       "      <td>-121.32</td>\n",
       "      <td>39.43</td>\n",
       "      <td>18.0</td>\n",
       "      <td>1860.0</td>\n",
       "      <td>409.0</td>\n",
       "      <td>741.0</td>\n",
       "      <td>349.0</td>\n",
       "      <td>1.8672</td>\n",
       "      <td>84700.0</td>\n",
       "      <td>INLAND</td>\n",
       "    </tr>\n",
       "    <tr>\n",
       "      <th>20639</th>\n",
       "      <td>-121.24</td>\n",
       "      <td>39.37</td>\n",
       "      <td>16.0</td>\n",
       "      <td>2785.0</td>\n",
       "      <td>616.0</td>\n",
       "      <td>1387.0</td>\n",
       "      <td>530.0</td>\n",
       "      <td>2.3886</td>\n",
       "      <td>89400.0</td>\n",
       "      <td>INLAND</td>\n",
       "    </tr>\n",
       "  </tbody>\n",
       "</table>\n",
       "<p>20640 rows × 10 columns</p>\n",
       "</div>"
      ],
      "text/plain": [
       "       longitude  latitude  housing_median_age  total_rooms  total_bedrooms  \\\n",
       "0        -122.23     37.88                41.0        880.0           129.0   \n",
       "1        -122.22     37.86                21.0       7099.0          1106.0   \n",
       "2        -122.24     37.85                52.0       1467.0           190.0   \n",
       "3        -122.25     37.85                52.0       1274.0           235.0   \n",
       "4        -122.25     37.85                52.0       1627.0           280.0   \n",
       "...          ...       ...                 ...          ...             ...   \n",
       "20635    -121.09     39.48                25.0       1665.0           374.0   \n",
       "20636    -121.21     39.49                18.0        697.0           150.0   \n",
       "20637    -121.22     39.43                17.0       2254.0           485.0   \n",
       "20638    -121.32     39.43                18.0       1860.0           409.0   \n",
       "20639    -121.24     39.37                16.0       2785.0           616.0   \n",
       "\n",
       "       population  households  median_income  median_house_value  \\\n",
       "0           322.0       126.0         8.3252            452600.0   \n",
       "1          2401.0      1138.0         8.3014            358500.0   \n",
       "2           496.0       177.0         7.2574            352100.0   \n",
       "3           558.0       219.0         5.6431            341300.0   \n",
       "4           565.0       259.0         3.8462            342200.0   \n",
       "...           ...         ...            ...                 ...   \n",
       "20635       845.0       330.0         1.5603             78100.0   \n",
       "20636       356.0       114.0         2.5568             77100.0   \n",
       "20637      1007.0       433.0         1.7000             92300.0   \n",
       "20638       741.0       349.0         1.8672             84700.0   \n",
       "20639      1387.0       530.0         2.3886             89400.0   \n",
       "\n",
       "      ocean_proximity  \n",
       "0            NEAR BAY  \n",
       "1            NEAR BAY  \n",
       "2            NEAR BAY  \n",
       "3            NEAR BAY  \n",
       "4            NEAR BAY  \n",
       "...               ...  \n",
       "20635          INLAND  \n",
       "20636          INLAND  \n",
       "20637          INLAND  \n",
       "20638          INLAND  \n",
       "20639          INLAND  \n",
       "\n",
       "[20640 rows x 10 columns]"
      ]
     },
     "execution_count": 6,
     "metadata": {},
     "output_type": "execute_result"
    }
   ],
   "source": [
    "import pandas as pd\n",
    "\n",
    "housing = pd.read_csv(\"housing.csv\")\n",
    "housing"
   ]
  },
  {
   "cell_type": "code",
   "execution_count": 7,
   "id": "16dd2d34-ae48-4931-baf8-15ca4decefdf",
   "metadata": {
    "tags": []
   },
   "outputs": [
    {
     "name": "stdout",
     "output_type": "stream",
     "text": [
      "<class 'pandas.core.frame.DataFrame'>\n",
      "RangeIndex: 20640 entries, 0 to 20639\n",
      "Data columns (total 10 columns):\n",
      " #   Column              Non-Null Count  Dtype  \n",
      "---  ------              --------------  -----  \n",
      " 0   longitude           20640 non-null  float64\n",
      " 1   latitude            20640 non-null  float64\n",
      " 2   housing_median_age  20640 non-null  float64\n",
      " 3   total_rooms         20640 non-null  float64\n",
      " 4   total_bedrooms      20433 non-null  float64\n",
      " 5   population          20640 non-null  float64\n",
      " 6   households          20640 non-null  float64\n",
      " 7   median_income       20640 non-null  float64\n",
      " 8   median_house_value  20640 non-null  float64\n",
      " 9   ocean_proximity     20640 non-null  object \n",
      "dtypes: float64(9), object(1)\n",
      "memory usage: 1.6+ MB\n"
     ]
    }
   ],
   "source": [
    "housing.info()"
   ]
  },
  {
   "cell_type": "code",
   "execution_count": 8,
   "id": "0188b40f-07a9-4b24-8a8c-6ffa4b57d60e",
   "metadata": {
    "tags": []
   },
   "outputs": [],
   "source": [
    "from sklearn.model_selection import train_test_split\n",
    "\n",
    "train_set, test_set = train_test_split(housing, test_size = 0.2, random_state = 31)\n",
    "X_train = train_set.drop(\"median_house_value\", axis = 1)\n",
    "y_train = train_set[\"median_house_value\"]\n",
    "X_test = test_set.drop(\"median_house_value\", axis = 1)\n",
    "y_test = test_set[\"median_house_value\"]"
   ]
  },
  {
   "cell_type": "markdown",
   "id": "6d89295b-bc23-44b9-a3aa-c5a5b0f92d4a",
   "metadata": {},
   "source": [
    "With our data split, make sure splits are similar so it doesn't affect model evaluation."
   ]
  },
  {
   "cell_type": "code",
   "execution_count": 9,
   "id": "974895f7-d946-4cf6-aa18-336be60da143",
   "metadata": {
    "tags": []
   },
   "outputs": [
    {
     "data": {
      "text/html": [
       "<div>\n",
       "<style scoped>\n",
       "    .dataframe tbody tr th:only-of-type {\n",
       "        vertical-align: middle;\n",
       "    }\n",
       "\n",
       "    .dataframe tbody tr th {\n",
       "        vertical-align: top;\n",
       "    }\n",
       "\n",
       "    .dataframe thead th {\n",
       "        text-align: right;\n",
       "    }\n",
       "</style>\n",
       "<table border=\"1\" class=\"dataframe\">\n",
       "  <thead>\n",
       "    <tr style=\"text-align: right;\">\n",
       "      <th></th>\n",
       "      <th>longitude</th>\n",
       "      <th>latitude</th>\n",
       "      <th>housing_median_age</th>\n",
       "      <th>total_rooms</th>\n",
       "      <th>total_bedrooms</th>\n",
       "      <th>population</th>\n",
       "      <th>households</th>\n",
       "      <th>median_income</th>\n",
       "      <th>median_house_value</th>\n",
       "    </tr>\n",
       "  </thead>\n",
       "  <tbody>\n",
       "    <tr>\n",
       "      <th>count</th>\n",
       "      <td>16512.000000</td>\n",
       "      <td>16512.000000</td>\n",
       "      <td>16512.000000</td>\n",
       "      <td>16512.000000</td>\n",
       "      <td>16347.000000</td>\n",
       "      <td>16512.000000</td>\n",
       "      <td>16512.000000</td>\n",
       "      <td>16512.000000</td>\n",
       "      <td>16512.000000</td>\n",
       "    </tr>\n",
       "    <tr>\n",
       "      <th>mean</th>\n",
       "      <td>-119.567325</td>\n",
       "      <td>35.628352</td>\n",
       "      <td>28.656734</td>\n",
       "      <td>2636.864220</td>\n",
       "      <td>537.933933</td>\n",
       "      <td>1425.368702</td>\n",
       "      <td>499.572250</td>\n",
       "      <td>3.876215</td>\n",
       "      <td>207153.583394</td>\n",
       "    </tr>\n",
       "    <tr>\n",
       "      <th>std</th>\n",
       "      <td>2.000261</td>\n",
       "      <td>2.135195</td>\n",
       "      <td>12.627148</td>\n",
       "      <td>2194.580225</td>\n",
       "      <td>422.981140</td>\n",
       "      <td>1141.720172</td>\n",
       "      <td>383.384752</td>\n",
       "      <td>1.899114</td>\n",
       "      <td>115603.351513</td>\n",
       "    </tr>\n",
       "    <tr>\n",
       "      <th>min</th>\n",
       "      <td>-124.350000</td>\n",
       "      <td>32.540000</td>\n",
       "      <td>1.000000</td>\n",
       "      <td>2.000000</td>\n",
       "      <td>1.000000</td>\n",
       "      <td>6.000000</td>\n",
       "      <td>1.000000</td>\n",
       "      <td>0.499900</td>\n",
       "      <td>14999.000000</td>\n",
       "    </tr>\n",
       "    <tr>\n",
       "      <th>25%</th>\n",
       "      <td>-121.800000</td>\n",
       "      <td>33.930000</td>\n",
       "      <td>18.000000</td>\n",
       "      <td>1446.000000</td>\n",
       "      <td>295.000000</td>\n",
       "      <td>788.000000</td>\n",
       "      <td>279.000000</td>\n",
       "      <td>2.566300</td>\n",
       "      <td>119550.000000</td>\n",
       "    </tr>\n",
       "    <tr>\n",
       "      <th>50%</th>\n",
       "      <td>-118.500000</td>\n",
       "      <td>34.260000</td>\n",
       "      <td>29.000000</td>\n",
       "      <td>2127.000000</td>\n",
       "      <td>433.000000</td>\n",
       "      <td>1166.000000</td>\n",
       "      <td>408.000000</td>\n",
       "      <td>3.539400</td>\n",
       "      <td>179800.000000</td>\n",
       "    </tr>\n",
       "    <tr>\n",
       "      <th>75%</th>\n",
       "      <td>-118.000000</td>\n",
       "      <td>37.720000</td>\n",
       "      <td>37.000000</td>\n",
       "      <td>3151.250000</td>\n",
       "      <td>648.000000</td>\n",
       "      <td>1730.000000</td>\n",
       "      <td>606.000000</td>\n",
       "      <td>4.760100</td>\n",
       "      <td>265300.000000</td>\n",
       "    </tr>\n",
       "    <tr>\n",
       "      <th>max</th>\n",
       "      <td>-114.470000</td>\n",
       "      <td>41.950000</td>\n",
       "      <td>52.000000</td>\n",
       "      <td>39320.000000</td>\n",
       "      <td>6445.000000</td>\n",
       "      <td>35682.000000</td>\n",
       "      <td>6082.000000</td>\n",
       "      <td>15.000100</td>\n",
       "      <td>500001.000000</td>\n",
       "    </tr>\n",
       "  </tbody>\n",
       "</table>\n",
       "</div>"
      ],
      "text/plain": [
       "          longitude      latitude  housing_median_age   total_rooms  \\\n",
       "count  16512.000000  16512.000000        16512.000000  16512.000000   \n",
       "mean    -119.567325     35.628352           28.656734   2636.864220   \n",
       "std        2.000261      2.135195           12.627148   2194.580225   \n",
       "min     -124.350000     32.540000            1.000000      2.000000   \n",
       "25%     -121.800000     33.930000           18.000000   1446.000000   \n",
       "50%     -118.500000     34.260000           29.000000   2127.000000   \n",
       "75%     -118.000000     37.720000           37.000000   3151.250000   \n",
       "max     -114.470000     41.950000           52.000000  39320.000000   \n",
       "\n",
       "       total_bedrooms    population    households  median_income  \\\n",
       "count    16347.000000  16512.000000  16512.000000   16512.000000   \n",
       "mean       537.933933   1425.368702    499.572250       3.876215   \n",
       "std        422.981140   1141.720172    383.384752       1.899114   \n",
       "min          1.000000      6.000000      1.000000       0.499900   \n",
       "25%        295.000000    788.000000    279.000000       2.566300   \n",
       "50%        433.000000   1166.000000    408.000000       3.539400   \n",
       "75%        648.000000   1730.000000    606.000000       4.760100   \n",
       "max       6445.000000  35682.000000   6082.000000      15.000100   \n",
       "\n",
       "       median_house_value  \n",
       "count        16512.000000  \n",
       "mean        207153.583394  \n",
       "std         115603.351513  \n",
       "min          14999.000000  \n",
       "25%         119550.000000  \n",
       "50%         179800.000000  \n",
       "75%         265300.000000  \n",
       "max         500001.000000  "
      ]
     },
     "execution_count": 9,
     "metadata": {},
     "output_type": "execute_result"
    }
   ],
   "source": [
    "train_set.describe()"
   ]
  },
  {
   "cell_type": "code",
   "execution_count": 10,
   "id": "6cbe5938-4911-4878-9c19-513722634806",
   "metadata": {
    "tags": []
   },
   "outputs": [
    {
     "data": {
      "text/html": [
       "<div>\n",
       "<style scoped>\n",
       "    .dataframe tbody tr th:only-of-type {\n",
       "        vertical-align: middle;\n",
       "    }\n",
       "\n",
       "    .dataframe tbody tr th {\n",
       "        vertical-align: top;\n",
       "    }\n",
       "\n",
       "    .dataframe thead th {\n",
       "        text-align: right;\n",
       "    }\n",
       "</style>\n",
       "<table border=\"1\" class=\"dataframe\">\n",
       "  <thead>\n",
       "    <tr style=\"text-align: right;\">\n",
       "      <th></th>\n",
       "      <th>longitude</th>\n",
       "      <th>latitude</th>\n",
       "      <th>housing_median_age</th>\n",
       "      <th>total_rooms</th>\n",
       "      <th>total_bedrooms</th>\n",
       "      <th>population</th>\n",
       "      <th>households</th>\n",
       "      <th>median_income</th>\n",
       "      <th>median_house_value</th>\n",
       "    </tr>\n",
       "  </thead>\n",
       "  <tbody>\n",
       "    <tr>\n",
       "      <th>count</th>\n",
       "      <td>4128.000000</td>\n",
       "      <td>4128.000000</td>\n",
       "      <td>4128.000000</td>\n",
       "      <td>4128.000000</td>\n",
       "      <td>4086.000000</td>\n",
       "      <td>4128.000000</td>\n",
       "      <td>4128.000000</td>\n",
       "      <td>4128.000000</td>\n",
       "      <td>4128.000000</td>\n",
       "    </tr>\n",
       "    <tr>\n",
       "      <th>mean</th>\n",
       "      <td>-119.579222</td>\n",
       "      <td>35.645899</td>\n",
       "      <td>28.570494</td>\n",
       "      <td>2631.358527</td>\n",
       "      <td>537.616985</td>\n",
       "      <td>1425.908915</td>\n",
       "      <td>499.409399</td>\n",
       "      <td>3.848496</td>\n",
       "      <td>205664.750969</td>\n",
       "    </tr>\n",
       "    <tr>\n",
       "      <th>std</th>\n",
       "      <td>2.016778</td>\n",
       "      <td>2.139180</td>\n",
       "      <td>12.419076</td>\n",
       "      <td>2129.221411</td>\n",
       "      <td>414.989296</td>\n",
       "      <td>1094.782032</td>\n",
       "      <td>378.126352</td>\n",
       "      <td>1.902720</td>\n",
       "      <td>114567.095074</td>\n",
       "    </tr>\n",
       "    <tr>\n",
       "      <th>min</th>\n",
       "      <td>-124.260000</td>\n",
       "      <td>32.560000</td>\n",
       "      <td>1.000000</td>\n",
       "      <td>6.000000</td>\n",
       "      <td>2.000000</td>\n",
       "      <td>3.000000</td>\n",
       "      <td>2.000000</td>\n",
       "      <td>0.499900</td>\n",
       "      <td>14999.000000</td>\n",
       "    </tr>\n",
       "    <tr>\n",
       "      <th>25%</th>\n",
       "      <td>-121.800000</td>\n",
       "      <td>33.937500</td>\n",
       "      <td>18.000000</td>\n",
       "      <td>1451.000000</td>\n",
       "      <td>297.000000</td>\n",
       "      <td>786.000000</td>\n",
       "      <td>281.000000</td>\n",
       "      <td>2.555100</td>\n",
       "      <td>119900.000000</td>\n",
       "    </tr>\n",
       "    <tr>\n",
       "      <th>50%</th>\n",
       "      <td>-118.480000</td>\n",
       "      <td>34.260000</td>\n",
       "      <td>29.000000</td>\n",
       "      <td>2125.000000</td>\n",
       "      <td>443.000000</td>\n",
       "      <td>1164.500000</td>\n",
       "      <td>415.000000</td>\n",
       "      <td>3.519050</td>\n",
       "      <td>179500.000000</td>\n",
       "    </tr>\n",
       "    <tr>\n",
       "      <th>75%</th>\n",
       "      <td>-118.020000</td>\n",
       "      <td>37.710000</td>\n",
       "      <td>37.000000</td>\n",
       "      <td>3133.750000</td>\n",
       "      <td>644.000000</td>\n",
       "      <td>1699.000000</td>\n",
       "      <td>600.000000</td>\n",
       "      <td>4.693500</td>\n",
       "      <td>263300.000000</td>\n",
       "    </tr>\n",
       "    <tr>\n",
       "      <th>max</th>\n",
       "      <td>-114.310000</td>\n",
       "      <td>41.810000</td>\n",
       "      <td>52.000000</td>\n",
       "      <td>27870.000000</td>\n",
       "      <td>5419.000000</td>\n",
       "      <td>12153.000000</td>\n",
       "      <td>4930.000000</td>\n",
       "      <td>15.000100</td>\n",
       "      <td>500001.000000</td>\n",
       "    </tr>\n",
       "  </tbody>\n",
       "</table>\n",
       "</div>"
      ],
      "text/plain": [
       "         longitude     latitude  housing_median_age   total_rooms  \\\n",
       "count  4128.000000  4128.000000         4128.000000   4128.000000   \n",
       "mean   -119.579222    35.645899           28.570494   2631.358527   \n",
       "std       2.016778     2.139180           12.419076   2129.221411   \n",
       "min    -124.260000    32.560000            1.000000      6.000000   \n",
       "25%    -121.800000    33.937500           18.000000   1451.000000   \n",
       "50%    -118.480000    34.260000           29.000000   2125.000000   \n",
       "75%    -118.020000    37.710000           37.000000   3133.750000   \n",
       "max    -114.310000    41.810000           52.000000  27870.000000   \n",
       "\n",
       "       total_bedrooms    population   households  median_income  \\\n",
       "count     4086.000000   4128.000000  4128.000000    4128.000000   \n",
       "mean       537.616985   1425.908915   499.409399       3.848496   \n",
       "std        414.989296   1094.782032   378.126352       1.902720   \n",
       "min          2.000000      3.000000     2.000000       0.499900   \n",
       "25%        297.000000    786.000000   281.000000       2.555100   \n",
       "50%        443.000000   1164.500000   415.000000       3.519050   \n",
       "75%        644.000000   1699.000000   600.000000       4.693500   \n",
       "max       5419.000000  12153.000000  4930.000000      15.000100   \n",
       "\n",
       "       median_house_value  \n",
       "count         4128.000000  \n",
       "mean        205664.750969  \n",
       "std         114567.095074  \n",
       "min          14999.000000  \n",
       "25%         119900.000000  \n",
       "50%         179500.000000  \n",
       "75%         263300.000000  \n",
       "max         500001.000000  "
      ]
     },
     "execution_count": 10,
     "metadata": {},
     "output_type": "execute_result"
    }
   ],
   "source": [
    "test_set.describe()"
   ]
  },
  {
   "cell_type": "markdown",
   "id": "e7c9f7b0-96bf-4f89-b137-0e7883e158fa",
   "metadata": {},
   "source": [
    "Looks good enough, treat the numeric features & categorical features before training a model."
   ]
  },
  {
   "cell_type": "code",
   "execution_count": 11,
   "id": "fb4735d0-5be1-4211-a794-f47fd42ca1c6",
   "metadata": {
    "tags": []
   },
   "outputs": [],
   "source": [
    "from sklearn.pipeline import Pipeline\n",
    "\n",
    "# Numeric\n",
    "import numpy as np\n",
    "from sklearn.impute import SimpleImputer\n",
    "from sklearn.preprocessing import StandardScaler\n",
    "from sklearn.base import BaseEstimator, TransformerMixin\n",
    "\n",
    "rooms, bedrooms, population, households = [list(X_train.columns).index(col) \n",
    "                                           for col in (\"total_rooms\", \"total_bedrooms\", \"population\", \"households\")]\n",
    "\n",
    "class CombinedAttributes(BaseEstimator, TransformerMixin):\n",
    "    def __init__(self):\n",
    "        self\n",
    "    def fit(self, X, y = None):\n",
    "        return self\n",
    "    def transform(self, X, y = None):\n",
    "        rooms_per_household = X[:, rooms]/X[:, households]\n",
    "        population_per_household = X[:, population]/X[:, households]\n",
    "        bedrooms_per_household = X[:, bedrooms]/X[:, households]\n",
    "        return np.c_[X, rooms_per_household, population_per_household, bedrooms_per_household]\n",
    "        \n",
    "num_pipeline = Pipeline([(\"imputer\", SimpleImputer(strategy = \"median\")),\n",
    "                         (\"attribs_add\", CombinedAttributes()),\n",
    "                         (\"std_scaler\", StandardScaler())])\n",
    "X_train_num = X_train.drop(\"ocean_proximity\", axis = 1)\n",
    "X_train_num_prepared = num_pipeline.fit_transform(X_train_num)"
   ]
  },
  {
   "cell_type": "code",
   "execution_count": 12,
   "id": "b308e1a3-48a7-46e0-a4be-9ab017c044a5",
   "metadata": {
    "tags": []
   },
   "outputs": [],
   "source": [
    "# Categorical\n",
    "from sklearn.preprocessing import OneHotEncoder\n",
    "\n",
    "cat_pipeline = Pipeline([(\"encoder\", OneHotEncoder())])\n",
    "X_train_cat = X_train[[\"ocean_proximity\"]]\n",
    "X_train_cat_prepared = cat_pipeline.fit_transform(X_train_cat)"
   ]
  },
  {
   "cell_type": "code",
   "execution_count": 13,
   "id": "7d77262d-7501-40f5-adff-efc52314a430",
   "metadata": {
    "tags": []
   },
   "outputs": [],
   "source": [
    "# Combine numerical & categorical pipelines\n",
    "from sklearn.compose import ColumnTransformer\n",
    "\n",
    "num_attributes = list(X_train_num)\n",
    "cat_attributes = list(X_train_cat)\n",
    "\n",
    "full_pipeline = ColumnTransformer([(\"numeric\", num_pipeline, num_attributes),\n",
    "                                   (\"categorical\", cat_pipeline, cat_attributes)])\n",
    "X_train_prepared = full_pipeline.fit_transform(X_train)"
   ]
  },
  {
   "cell_type": "markdown",
   "id": "9251d1b6-44d6-40cb-8cc1-7799561bec29",
   "metadata": {},
   "source": [
    "With the prepared data, we can now try a support vector machine regressor. Also, find best hyperparameters for svm regressor."
   ]
  },
  {
   "cell_type": "code",
   "execution_count": 9,
   "id": "edb67b4a-b6e6-4a81-a61c-51d5517e2fae",
   "metadata": {
    "tags": []
   },
   "outputs": [
    {
     "data": {
      "text/plain": [
       "{'C': 150, 'kernel': 'linear'}"
      ]
     },
     "execution_count": 9,
     "metadata": {},
     "output_type": "execute_result"
    }
   ],
   "source": [
    "# Search for best combination of hyperparamters.\n",
    "from sklearn.svm import SVR\n",
    "from sklearn.model_selection import GridSearchCV\n",
    "\n",
    "supportVectorRegressor = SVR()\n",
    "param_search_space = [{\"kernel\":[\"linear\"], \"C\":[130, 140, 150, 160, 170]},\n",
    "                      {\"kernel\":[\"rbf\"], \"C\":[130, 140, 150, 160, 170], \"gamma\":[\"scale\", \"auto\"]}]\n",
    "grid_search = GridSearchCV(supportVectorRegressor, param_search_space,\n",
    "                           cv = 3, scoring = \"neg_mean_squared_error\",\n",
    "                           return_train_score = True)\n",
    "grid_search.fit(X_train_prepared, y_train)\n",
    "grid_search.best_params_"
   ]
  },
  {
   "cell_type": "markdown",
   "id": "586da222-d9d0-453f-9cc2-1ef57a21eb56",
   "metadata": {},
   "source": [
    "We'll evaluate our svm model with its best performing hyperparameters."
   ]
  },
  {
   "cell_type": "code",
   "execution_count": 16,
   "id": "6d4a39f2-c16b-479c-a1e9-006c8ab02b73",
   "metadata": {
    "tags": []
   },
   "outputs": [
    {
     "name": "stdout",
     "output_type": "stream",
     "text": [
      "Scores:  [70543.66474464 71250.31665234 72756.5047003  69684.87362869\n",
      " 70931.46957475 74669.02479433 69883.45732019 68639.8024736\n",
      " 73108.93704201 71323.50227389]\n",
      "Mean:  71279.15532047502\n",
      "Standard Deviation:  1707.114464391755\n"
     ]
    }
   ],
   "source": [
    "from sklearn.model_selection import cross_val_score\n",
    "\n",
    "svmRegressor = SVR(kernel = \"linear\", C = 150) # Add the best hyperparameters.\n",
    "scores = cross_val_score(svmRegressor, X_train_prepared, y_train,\n",
    "                         scoring = \"neg_mean_squared_error\", cv = 10)\n",
    "print(\"Scores: \", np.sqrt(-scores))\n",
    "print(\"Mean: \", np.sqrt(-scores).mean())\n",
    "print(\"Standard Deviation: \", np.sqrt(-scores).std())"
   ]
  },
  {
   "cell_type": "markdown",
   "id": "2e542b52-3eeb-4f08-8327-cbee7b79d7fb",
   "metadata": {},
   "source": [
    "Our svm regressor performs worse than our linear regression model, decision tree model, & random forests model. It does have more precise predictions, although it may be the result of having the same hyperparameters across different folds during cross-validation."
   ]
  },
  {
   "cell_type": "markdown",
   "id": "e2d2529d-b3ad-4241-aa95-3a45a4f7582b",
   "metadata": {},
   "source": [
    "# 2.\n",
    "\n",
    "Try randomised search instead of grid search."
   ]
  },
  {
   "cell_type": "code",
   "execution_count": 15,
   "id": "840618ce-8573-4bd6-ac84-13ede4a166f1",
   "metadata": {
    "tags": []
   },
   "outputs": [
    {
     "data": {
      "text/plain": [
       "{'kernel': 'linear', 'C': 170}"
      ]
     },
     "execution_count": 15,
     "metadata": {},
     "output_type": "execute_result"
    }
   ],
   "source": [
    "from sklearn.model_selection import RandomizedSearchCV\n",
    "\n",
    "supportVectorRegressor = SVR()\n",
    "param_search_space = [{\"kernel\":[\"linear\"], \"C\":[130, 140, 150, 160, 170]},\n",
    "                      {\"kernel\":[\"rbf\"], \"C\":[130, 140, 150, 160, 170], \n",
    "                       \"gamma\":[0.1, 0.3, 0.5, 1.0, 1.3, ]}]\n",
    "random_search = RandomizedSearchCV(supportVectorRegressor, param_search_space,\n",
    "                                   n_iter = 10, cv = 3, scoring = \"neg_mean_squared_error\",\n",
    "                                   return_train_score = True)\n",
    "random_search.fit(X_train_prepared, y_train)\n",
    "random_search_params = random_search.best_params_\n",
    "random_search_params"
   ]
  },
  {
   "cell_type": "code",
   "execution_count": 18,
   "id": "3cbcb153-db7a-45f6-b4c1-a64cbcc92364",
   "metadata": {
    "tags": []
   },
   "outputs": [
    {
     "name": "stdout",
     "output_type": "stream",
     "text": [
      "Scores:  [70428.18263927 71266.7437871  72680.25483043 69529.14813222\n",
      " 70786.55604906 74519.23126193 69712.34843959 68527.12675499\n",
      " 72965.45415438 71179.52140621]\n",
      "Mean:  71159.45674551773\n",
      "Standard Deviation:  1709.6624786044213\n"
     ]
    }
   ],
   "source": [
    "svmRegressor = SVR(kernel = random_search_params[\"kernel\"], \n",
    "                   C = random_search_params[\"C\"]) # Add hyperparameters from randomised search.\n",
    "scores = cross_val_score(svmRegressor, X_train_prepared, y_train,\n",
    "                         scoring = \"neg_mean_squared_error\", cv = 10)\n",
    "print(\"Scores: \", np.sqrt(-scores))\n",
    "print(\"Mean: \", np.sqrt(-scores).mean())\n",
    "print(\"Standard Deviation: \", np.sqrt(-scores).std())"
   ]
  },
  {
   "cell_type": "markdown",
   "id": "e46a9920-16f9-49d9-9a75-29dd39b8516d",
   "metadata": {},
   "source": [
    "# 3.\n",
    "\n",
    "Try feature selection & put it in a pipeline. SVR models do not support feature importances, so I'll do this on a random forests model."
   ]
  },
  {
   "cell_type": "code",
   "execution_count": 19,
   "id": "5f5c9acc-5767-4442-9811-7b5f9d8fed69",
   "metadata": {
    "tags": []
   },
   "outputs": [
    {
     "data": {
      "text/plain": [
       "GridSearchCV(cv=3, estimator=RandomForestRegressor(),\n",
       "             param_grid=[{'max_features': [2, 4, 6, 8],\n",
       "                          'n_estimators': [3, 10, 30]},\n",
       "                         {'bootstrap': [False], 'max_features': [2, 3, 4],\n",
       "                          'n_estimators': [3, 10]}],\n",
       "             return_train_score=True, scoring='neg_mean_squared_error')"
      ]
     },
     "execution_count": 19,
     "metadata": {},
     "output_type": "execute_result"
    }
   ],
   "source": [
    "from sklearn.ensemble import RandomForestRegressor\n",
    "from sklearn.model_selection import GridSearchCV\n",
    "\n",
    "randomForests = RandomForestRegressor()\n",
    "param_search_space = [{\"n_estimators\": [3, 10, 30], \"max_features\":[2, 4, 6, 8]},\n",
    "                      {\"bootstrap\":[False], \"n_estimators\":[3, 10], \"max_features\": [2, 3, 4]}]\n",
    "grid_search = GridSearchCV(randomForests, param_search_space, cv = 3,\n",
    "                           scoring = \"neg_mean_squared_error\", return_train_score = True)\n",
    "grid_search.fit(X_train_prepared, y_train)\n",
    "grid_search.best_params_"
   ]
  },
  {
   "cell_type": "code",
   "execution_count": 35,
   "id": "c06d15b6-b12f-4100-993c-57f6581bb63d",
   "metadata": {
    "tags": []
   },
   "outputs": [
    {
     "data": {
      "text/plain": [
       "array([7.83974087e-02, 6.45293081e-02, 4.00700865e-02, 1.96427558e-02,\n",
       "       1.67844494e-02, 1.81958526e-02, 1.55103814e-02, 3.81574462e-01,\n",
       "       6.98510071e-02, 1.08045681e-01, 2.51322674e-02, 1.19386009e-02,\n",
       "       1.38355209e-01, 1.79252910e-04, 4.15457092e-03, 7.63870547e-03])"
      ]
     },
     "execution_count": 35,
     "metadata": {},
     "output_type": "execute_result"
    }
   ],
   "source": [
    "extra_attribs = [\"rooms_per_hhold\", \"pop_per_hhold\", \"bedrooms_per_room\"]\n",
    "cat_encoder = OneHotEncoder()\n",
    "cat_encoder.fit_transform(X_train_cat)\n",
    "cat_encoded_attribs = list(cat_encoder.categories_[0])\n",
    "attributes = num_attributes + extra_attribs + cat_encoded_attribs\n",
    "attributes\n",
    "\n",
    "feature_importances = grid_search.best_estimator_.feature_importances_\n",
    "feature_importances"
   ]
  },
  {
   "cell_type": "markdown",
   "id": "3d4cc4c6-8b00-4465-9497-66fa20874750",
   "metadata": {},
   "source": [
    "Suppose we want the top *n* features. "
   ]
  },
  {
   "cell_type": "code",
   "execution_count": 41,
   "id": "ea79123a-c9ab-4fe9-8a44-143ab041ee2e",
   "metadata": {
    "tags": []
   },
   "outputs": [],
   "source": [
    "from sklearn.base import BaseEstimator, TransformerMixin\n",
    "\n",
    "class TopNFeatures(BaseEstimator, TransformerMixin):\n",
    "    def __init__(self, scores, n):\n",
    "        self.scores = scores\n",
    "        self.n = n\n",
    "    def fit(self, X, y = None):\n",
    "        self.top_n_features = np.sort(np.argpartition(self.scores, -n)[-n:])\n",
    "        return self\n",
    "    def transform(self, X):\n",
    "        return X[:, list(self.top_n_features)]"
   ]
  },
  {
   "cell_type": "code",
   "execution_count": 66,
   "id": "20df545b-91db-4260-a74f-c1cf5887d86d",
   "metadata": {},
   "outputs": [
    {
     "data": {
      "text/plain": [
       "array([[ 0.77858458, -0.79543244,  0.28202705, -0.32295769, -0.04687597,\n",
       "         0.        ],\n",
       "       [-1.26121131,  0.95153334, -0.21274505, -0.19073272, -0.02378648,\n",
       "         0.        ],\n",
       "       [ 0.10865162,  0.32393705, -0.02775842, -0.03381263, -0.06393588,\n",
       "         1.        ],\n",
       "       ...,\n",
       "       [-1.26121131,  0.93748267,  0.78364466,  0.34130536,  0.07609582,\n",
       "         0.        ],\n",
       "       [ 0.58360409, -0.67366003, -0.14507985, -0.39117374, -0.06557157,\n",
       "         0.        ],\n",
       "       [ 1.29353305, -1.36214252,  0.33557997,  0.44339882, -0.01003082,\n",
       "         0.        ]])"
      ]
     },
     "execution_count": 66,
     "metadata": {},
     "output_type": "execute_result"
    }
   ],
   "source": [
    "n = 6\n",
    "new_pipeline = Pipeline([(\"preparation\", full_pipeline),\n",
    "                         (\"feature selection\", TopNFeatures(feature_importances, n))])\n",
    "new_pipeline.fit_transform(X_train)"
   ]
  },
  {
   "cell_type": "code",
   "execution_count": 69,
   "id": "6eb07387-0ba4-40bc-b8d5-eb111c02b26c",
   "metadata": {},
   "outputs": [
    {
     "data": {
      "text/plain": [
       "array([[ 0.77858458, -0.79543244,  0.28202705, -0.32295769, -0.04687597,\n",
       "         0.        ],\n",
       "       [-1.26121131,  0.95153334, -0.21274505, -0.19073272, -0.02378648,\n",
       "         0.        ],\n",
       "       [ 0.10865162,  0.32393705, -0.02775842, -0.03381263, -0.06393588,\n",
       "         1.        ],\n",
       "       ...,\n",
       "       [-1.26121131,  0.93748267,  0.78364466,  0.34130536,  0.07609582,\n",
       "         0.        ],\n",
       "       [ 0.58360409, -0.67366003, -0.14507985, -0.39117374, -0.06557157,\n",
       "         0.        ],\n",
       "       [ 1.29353305, -1.36214252,  0.33557997,  0.44339882, -0.01003082,\n",
       "         0.        ]])"
      ]
     },
     "execution_count": 69,
     "metadata": {},
     "output_type": "execute_result"
    }
   ],
   "source": [
    "X_train_prepared[:, np.sort(np.argpartition(feature_importances, -n)[-n:])]"
   ]
  },
  {
   "cell_type": "markdown",
   "id": "34dd9b4a-9e58-4d50-890e-2a30db73f7cd",
   "metadata": {},
   "source": [
    "# 4. \n",
    "Create a pipeline to do it all: prepare data, select best features, predict on new data."
   ]
  },
  {
   "cell_type": "code",
   "execution_count": null,
   "id": "d0b447a9-a42a-43c3-8003-c43ac2f199a6",
   "metadata": {},
   "outputs": [],
   "source": [
    "does_it_all_pipeline = Pipeline([(\"preparation\", full_pipeline).\n",
    "                                 (\"feature_selection\", TopNFeatures(feature_importances, n)),\n",
    "                                 (\"random_forests\", RandomForestRegressor(**grid_search.best_params_))]) # rerun 3. before running this one\n",
    "does_it_all_pipeline.fit(X_train, y_train)                                 "
   ]
  }
 ],
 "metadata": {
  "kernelspec": {
   "display_name": "Python 3 (ipykernel)",
   "language": "python",
   "name": "python3"
  },
  "language_info": {
   "codemirror_mode": {
    "name": "ipython",
    "version": 3
   },
   "file_extension": ".py",
   "mimetype": "text/x-python",
   "name": "python",
   "nbconvert_exporter": "python",
   "pygments_lexer": "ipython3",
   "version": "3.9.7"
  }
 },
 "nbformat": 4,
 "nbformat_minor": 5
}
