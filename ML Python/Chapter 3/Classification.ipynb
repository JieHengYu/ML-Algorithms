{
 "cells": [
  {
   "cell_type": "markdown",
   "id": "9938417b-b2bd-480c-9634-9eecbe38d879",
   "metadata": {},
   "source": [
    "# Classification\n",
    "\n",
    "In Chapter 1, we mentioned that most common supervised learning tasks are regression (predicting values) & classification (predicting classes). In Chapter 2, we explored a regression task, predicting housing values, using various algorithms such as linear regression task, predicting housing values, using various algorithms such as linear regression, decision tree, & random forests. Now we will turn our attention to classification systems."
   ]
  },
  {
   "cell_type": "markdown",
   "id": "2ba6a658-2106-4c81-9549-fdd11d51b0c2",
   "metadata": {},
   "source": [
    "---"
   ]
  },
  {
   "cell_type": "markdown",
   "id": "47015497-23e3-4cef-a50e-3fb3e7110ba1",
   "metadata": {},
   "source": [
    "# MNIST \n",
    "\n",
    "In this chapter, we will be using the MNIST dataset, which is a set of 70,000 small images of digits handwritten by high school students & employees of the US Census Bureau. Each image is labedl with the digit it represents. This set has ben studied so much that it is often called the \"Hello World\" of machine learning: whenever people come up with a new classification algorithm, they are curious to see how it will perform on MNIST. Whenever someone learns machine learning, sooner or later, they tackle MNIST.\n",
    "\n",
    "Scikit-Learn provides many helper functions to download popular datasets. MNIST is one of them. The following code fetches the MNIST dataset:"
   ]
  },
  {
   "cell_type": "code",
   "execution_count": 58,
   "id": "cea783d6-8e95-44e7-bc77-b12a220e934e",
   "metadata": {
    "tags": []
   },
   "outputs": [
    {
     "data": {
      "text/plain": [
       "dict_keys(['data', 'target', 'frame', 'categories', 'feature_names', 'target_names', 'DESCR', 'details', 'url'])"
      ]
     },
     "execution_count": 58,
     "metadata": {},
     "output_type": "execute_result"
    }
   ],
   "source": [
    "from sklearn.datasets import fetch_openml\n",
    "\n",
    "mnist = fetch_openml(\"mnist_784\", version = 1, parser = \"auto\", as_frame = False)\n",
    "mnist.keys()"
   ]
  },
  {
   "cell_type": "markdown",
   "id": "f3896274-3d55-4628-8fb8-8d83e24acccf",
   "metadata": {},
   "source": [
    "Datasets loaded by Scikit-Learn generally have a similar dictionary structure including:\n",
    "\n",
    "* a `DESCR` key describing the dataset\n",
    "* a `data` key containing an array with one row per instance & one column per feature\n",
    "* a `target` key containing an array with the labels\n",
    "\n",
    "Let's look at these arrays:"
   ]
  },
  {
   "cell_type": "code",
   "execution_count": 2,
   "id": "d6001e82-e441-4422-a447-30d334504b0d",
   "metadata": {
    "tags": []
   },
   "outputs": [
    {
     "name": "stdout",
     "output_type": "stream",
     "text": [
      "X.shape: (70000, 784)\n",
      "y.shape: (70000,)\n"
     ]
    }
   ],
   "source": [
    "X, y = mnist[\"data\"], mnist[\"target\"]\n",
    "print(\"X.shape: {}\".format(X.shape))\n",
    "print(\"y.shape: {}\".format(y.shape))"
   ]
  },
  {
   "cell_type": "markdown",
   "id": "b3a1556e-d64c-4d4d-9666-2ddf61c9e02d",
   "metadata": {},
   "source": [
    "There are 70,000 images, & each image has 784 features. This is because each image is 28x28 pixels, & each feature simply represents one pixel's intensity, from 0 (white) & 255 (black). Let's take a peek at one digit from the dataset. All you need to do is grab an instance's feature vector, reshape it to a 28x28 array, & display it using matplotlib's `imshow()` function."
   ]
  },
  {
   "cell_type": "code",
   "execution_count": 3,
   "id": "b60178fa-96ab-467c-b0ae-3bdc26f1a031",
   "metadata": {
    "tags": []
   },
   "outputs": [
    {
     "data": {
      "text/plain": [
       "array([  0,   0,   0,   0,   0,   0,   0,   0,   0,   0,   0,   0,   0,\n",
       "         0,   0,   0,   0,   0,   0,   0,   0,   0,   0,   0,   0,   0,\n",
       "         0,   0,   0,   0,   0,   0,   0,   0,   0,   0,   0,   0,   0,\n",
       "         0,   0,   0,   0,   0,   0,   0,   0,   0,   0,   0,   0,   0,\n",
       "         0,   0,   0,   0,   0,   0,   0,   0,   0,   0,   0,   0,   0,\n",
       "         0,   0,   0,   0,   0,   0,   0,   0,   0,   0,   0,   0,   0,\n",
       "         0,   0,   0,   0,   0,   0,   0,   0,   0,   0,   0,   0,   0,\n",
       "         0,   0,   0,   0,   0,   0,   0,   0,   0,   0,   0,   0,   0,\n",
       "         0,   0,   0,   0,   0,   0,   0,   0,   0,   0,   0,   0,   0,\n",
       "         0,   0,   0,   0,   0,   0,   0,   0,   0,   0,   0,   0,   0,\n",
       "         0,   0,   0,   0,   0,   0,   0,   0,   0,   0,   0,   0,   0,\n",
       "         0,   0,   0,   0,   0,   0,   0,   0,   0,   3,  18,  18,  18,\n",
       "       126, 136, 175,  26, 166, 255, 247, 127,   0,   0,   0,   0,   0,\n",
       "         0,   0,   0,   0,   0,   0,   0,  30,  36,  94, 154, 170, 253,\n",
       "       253, 253, 253, 253, 225, 172, 253, 242, 195,  64,   0,   0,   0,\n",
       "         0,   0,   0,   0,   0,   0,   0,   0,  49, 238, 253, 253, 253,\n",
       "       253, 253, 253, 253, 253, 251,  93,  82,  82,  56,  39,   0,   0,\n",
       "         0,   0,   0,   0,   0,   0,   0,   0,   0,   0,  18, 219, 253,\n",
       "       253, 253, 253, 253, 198, 182, 247, 241,   0,   0,   0,   0,   0,\n",
       "         0,   0,   0,   0,   0,   0,   0,   0,   0,   0,   0,   0,   0,\n",
       "        80, 156, 107, 253, 253, 205,  11,   0,  43, 154,   0,   0,   0,\n",
       "         0,   0,   0,   0,   0,   0,   0,   0,   0,   0,   0,   0,   0,\n",
       "         0,   0,   0,  14,   1, 154, 253,  90,   0,   0,   0,   0,   0,\n",
       "         0,   0,   0,   0,   0,   0,   0,   0,   0,   0,   0,   0,   0,\n",
       "         0,   0,   0,   0,   0,   0,   0, 139, 253, 190,   2,   0,   0,\n",
       "         0,   0,   0,   0,   0,   0,   0,   0,   0,   0,   0,   0,   0,\n",
       "         0,   0,   0,   0,   0,   0,   0,   0,   0,  11, 190, 253,  70,\n",
       "         0,   0,   0,   0,   0,   0,   0,   0,   0,   0,   0,   0,   0,\n",
       "         0,   0,   0,   0,   0,   0,   0,   0,   0,   0,   0,   0,  35,\n",
       "       241, 225, 160, 108,   1,   0,   0,   0,   0,   0,   0,   0,   0,\n",
       "         0,   0,   0,   0,   0,   0,   0,   0,   0,   0,   0,   0,   0,\n",
       "         0,   0,  81, 240, 253, 253, 119,  25,   0,   0,   0,   0,   0,\n",
       "         0,   0,   0,   0,   0,   0,   0,   0,   0,   0,   0,   0,   0,\n",
       "         0,   0,   0,   0,   0,  45, 186, 253, 253, 150,  27,   0,   0,\n",
       "         0,   0,   0,   0,   0,   0,   0,   0,   0,   0,   0,   0,   0,\n",
       "         0,   0,   0,   0,   0,   0,   0,   0,  16,  93, 252, 253, 187,\n",
       "         0,   0,   0,   0,   0,   0,   0,   0,   0,   0,   0,   0,   0,\n",
       "         0,   0,   0,   0,   0,   0,   0,   0,   0,   0,   0,   0, 249,\n",
       "       253, 249,  64,   0,   0,   0,   0,   0,   0,   0,   0,   0,   0,\n",
       "         0,   0,   0,   0,   0,   0,   0,   0,   0,   0,   0,  46, 130,\n",
       "       183, 253, 253, 207,   2,   0,   0,   0,   0,   0,   0,   0,   0,\n",
       "         0,   0,   0,   0,   0,   0,   0,   0,   0,   0,   0,  39, 148,\n",
       "       229, 253, 253, 253, 250, 182,   0,   0,   0,   0,   0,   0,   0,\n",
       "         0,   0,   0,   0,   0,   0,   0,   0,   0,   0,   0,  24, 114,\n",
       "       221, 253, 253, 253, 253, 201,  78,   0,   0,   0,   0,   0,   0,\n",
       "         0,   0,   0,   0,   0,   0,   0,   0,   0,   0,   0,  23,  66,\n",
       "       213, 253, 253, 253, 253, 198,  81,   2,   0,   0,   0,   0,   0,\n",
       "         0,   0,   0,   0,   0,   0,   0,   0,   0,   0,   0,  18, 171,\n",
       "       219, 253, 253, 253, 253, 195,  80,   9,   0,   0,   0,   0,   0,\n",
       "         0,   0,   0,   0,   0,   0,   0,   0,   0,   0,   0,  55, 172,\n",
       "       226, 253, 253, 253, 253, 244, 133,  11,   0,   0,   0,   0,   0,\n",
       "         0,   0,   0,   0,   0,   0,   0,   0,   0,   0,   0,   0,   0,\n",
       "       136, 253, 253, 253, 212, 135, 132,  16,   0,   0,   0,   0,   0,\n",
       "         0,   0,   0,   0,   0,   0,   0,   0,   0,   0,   0,   0,   0,\n",
       "         0,   0,   0,   0,   0,   0,   0,   0,   0,   0,   0,   0,   0,\n",
       "         0,   0,   0,   0,   0,   0,   0,   0,   0,   0,   0,   0,   0,\n",
       "         0,   0,   0,   0,   0,   0,   0,   0,   0,   0,   0,   0,   0,\n",
       "         0,   0,   0,   0,   0,   0,   0,   0,   0,   0,   0,   0,   0,\n",
       "         0,   0,   0,   0,   0,   0,   0,   0,   0,   0,   0,   0,   0,\n",
       "         0,   0,   0,   0,   0,   0,   0,   0,   0,   0,   0,   0,   0,\n",
       "         0,   0,   0,   0], dtype=int64)"
      ]
     },
     "execution_count": 3,
     "metadata": {},
     "output_type": "execute_result"
    },
    {
     "data": {
      "image/png": "[encoded data removed]",
      "text/plain": [
       "<Figure size 640x480 with 1 Axes>"
      ]
     },
     "metadata": {},
     "output_type": "display_data"
    }
   ],
   "source": [
    "import matplotlib as mpl\n",
    "import matplotlib.pyplot as plt\n",
    "\n",
    "some_digit = X.iloc[0].to_numpy()\n",
    "some_digit_image = some_digit.reshape(28, 28)\n",
    "\n",
    "plt.imshow(some_digit_image, cmap = mpl.cm.binary, interpolation = \"nearest\")\n",
    "some_digit"
   ]
  },
  {
   "cell_type": "markdown",
   "id": "68ec08a8-2367-4b6b-aabb-f7f87619c896",
   "metadata": {},
   "source": [
    "This looks like a 5, & indeed, that's what the label tells us."
   ]
  },
  {
   "cell_type": "code",
   "execution_count": 4,
   "id": "5f642a0e-b3f2-4660-9e84-163252d9bb1d",
   "metadata": {
    "tags": []
   },
   "outputs": [
    {
     "data": {
      "text/plain": [
       "'5'"
      ]
     },
     "execution_count": 4,
     "metadata": {},
     "output_type": "execute_result"
    }
   ],
   "source": [
    "y[0]"
   ]
  },
  {
   "cell_type": "markdown",
   "id": "26491d10-307f-4761-9354-aa53b6c019f3",
   "metadata": {},
   "source": [
    "Note that the label is a string. Since machine learning algorithms prefer numbers, let's cast `y` to integers."
   ]
  },
  {
   "cell_type": "code",
   "execution_count": 5,
   "id": "45122b17-c6f6-40db-bdab-876a3871cf8c",
   "metadata": {
    "tags": []
   },
   "outputs": [
    {
     "data": {
      "text/plain": [
       "5"
      ]
     },
     "execution_count": 5,
     "metadata": {},
     "output_type": "execute_result"
    }
   ],
   "source": [
    "import numpy as np\n",
    "\n",
    "y = y.astype(np.uint8)\n",
    "y[0]"
   ]
  },
  {
   "cell_type": "markdown",
   "id": "7674bdd6-7506-4bb9-bcf9-30e30e7f6661",
   "metadata": {},
   "source": [
    "The below figure shows a few more images from the MNIST dataset to give you a feel for the complexity of the classification task.\n",
    "\n",
    "<img src = \"Images/MNIST.png\" alt = \"Alternative text\" width = \"500\" style = \"margin:auto\"/>\n",
    "\n",
    "But wait! You should always create a test set & set it aside before inspecting the data closely. The MNIST dataset is actually already split into a training set (the first 60,000 images) & a test set (the last 10,000 images)."
   ]
  },
  {
   "cell_type": "code",
   "execution_count": 6,
   "id": "2fd50232-41ad-440d-9f8b-d5350ed04bc6",
   "metadata": {
    "tags": []
   },
   "outputs": [],
   "source": [
    "X_train, X_test, y_train, y_test = X[:60000], X[60000:], y[:60000], y[60000:]"
   ]
  },
  {
   "cell_type": "markdown",
   "id": "6da71d78-ff12-4170-a63b-b0d752824c5a",
   "metadata": {},
   "source": [
    "The training set is already shuffled for us, which is good as this guarantees that all cross-validation folds will be similar (you don't want one fold to be missing some digits). Moreover, some learning algorithms are sensitive to the order of the training instances, & they perform poorly if they get many similar instances in a row. Shuffling the dataset ensures that this won't happen."
   ]
  },
  {
   "cell_type": "markdown",
   "id": "d82b43f9-18ea-4791-b290-1eb092c1444c",
   "metadata": {},
   "source": [
    "---"
   ]
  },
  {
   "cell_type": "markdown",
   "id": "39533043-f8ff-45d5-9b85-8449c94e5543",
   "metadata": {},
   "source": [
    "# Training a Binary Classifier\n",
    "\n",
    "Let's simplify the problem for now & only try to identify one digit -- for example, the number 5. This \"5-detector\" will be an example of a *binary classifier*, capable of distinguishing between just two classes, 5 & not 5. Let's create the target vectors for this classification task."
   ]
  },
  {
   "cell_type": "code",
   "execution_count": 7,
   "id": "5aa1c893-49c9-4823-b09d-df8f2c3ed098",
   "metadata": {
    "tags": []
   },
   "outputs": [],
   "source": [
    "# Return True if training set label == 5.\n",
    "y_train_5 = (y_train == 5)\n",
    "\n",
    "# Return True if testing set label == 5.\n",
    "y_test_5 = (y_test == 5)"
   ]
  },
  {
   "cell_type": "markdown",
   "id": "6b093693-70d5-4a48-9364-e8e2859c6523",
   "metadata": {},
   "source": [
    "Okay, now let's pick a classifier & train it. A good place to start is with a *Stochastic Gradient Descent* (SGD) classifier, using Scikit-Learn's `SGDClassifier` class. This classifier has the advantage of being capable of handling very large datasets efficiently. This is in part because SGD deals with training instances independently, one at a time (which also makes SGD well suited for *online learning*). Let's create an `SGDClassifier` & train it on the whole training set."
   ]
  },
  {
   "cell_type": "code",
   "execution_count": 8,
   "id": "099b913d-9e61-4ea6-9618-0e923a76f4ab",
   "metadata": {
    "tags": []
   },
   "outputs": [
    {
     "data": {
      "text/html": [
       "<style>#sk-container-id-1 {color: black;}#sk-container-id-1 pre{padding: 0;}#sk-container-id-1 div.sk-toggleable {background-color: white;}#sk-container-id-1 label.sk-toggleable__label {cursor: pointer;display: block;width: 100%;margin-bottom: 0;padding: 0.3em;box-sizing: border-box;text-align: center;}#sk-container-id-1 label.sk-toggleable__label-arrow:before {content: \"▸\";float: left;margin-right: 0.25em;color: #696969;}#sk-container-id-1 label.sk-toggleable__label-arrow:hover:before {color: black;}#sk-container-id-1 div.sk-estimator:hover label.sk-toggleable__label-arrow:before {color: black;}#sk-container-id-1 div.sk-toggleable__content {max-height: 0;max-width: 0;overflow: hidden;text-align: left;background-color: #f0f8ff;}#sk-container-id-1 div.sk-toggleable__content pre {margin: 0.2em;color: black;border-radius: 0.25em;background-color: #f0f8ff;}#sk-container-id-1 input.sk-toggleable__control:checked~div.sk-toggleable__content {max-height: 200px;max-width: 100%;overflow: auto;}#sk-container-id-1 input.sk-toggleable__control:checked~label.sk-toggleable__label-arrow:before {content: \"▾\";}#sk-container-id-1 div.sk-estimator input.sk-toggleable__control:checked~label.sk-toggleable__label {background-color: #d4ebff;}#sk-container-id-1 div.sk-label input.sk-toggleable__control:checked~label.sk-toggleable__label {background-color: #d4ebff;}#sk-container-id-1 input.sk-hidden--visually {border: 0;clip: rect(1px 1px 1px 1px);clip: rect(1px, 1px, 1px, 1px);height: 1px;margin: -1px;overflow: hidden;padding: 0;position: absolute;width: 1px;}#sk-container-id-1 div.sk-estimator {font-family: monospace;background-color: #f0f8ff;border: 1px dotted black;border-radius: 0.25em;box-sizing: border-box;margin-bottom: 0.5em;}#sk-container-id-1 div.sk-estimator:hover {background-color: #d4ebff;}#sk-container-id-1 div.sk-parallel-item::after {content: \"\";width: 100%;border-bottom: 1px solid gray;flex-grow: 1;}#sk-container-id-1 div.sk-label:hover label.sk-toggleable__label {background-color: #d4ebff;}#sk-container-id-1 div.sk-serial::before {content: \"\";position: absolute;border-left: 1px solid gray;box-sizing: border-box;top: 0;bottom: 0;left: 50%;z-index: 0;}#sk-container-id-1 div.sk-serial {display: flex;flex-direction: column;align-items: center;background-color: white;padding-right: 0.2em;padding-left: 0.2em;position: relative;}#sk-container-id-1 div.sk-item {position: relative;z-index: 1;}#sk-container-id-1 div.sk-parallel {display: flex;align-items: stretch;justify-content: center;background-color: white;position: relative;}#sk-container-id-1 div.sk-item::before, #sk-container-id-1 div.sk-parallel-item::before {content: \"\";position: absolute;border-left: 1px solid gray;box-sizing: border-box;top: 0;bottom: 0;left: 50%;z-index: -1;}#sk-container-id-1 div.sk-parallel-item {display: flex;flex-direction: column;z-index: 1;position: relative;background-color: white;}#sk-container-id-1 div.sk-parallel-item:first-child::after {align-self: flex-end;width: 50%;}#sk-container-id-1 div.sk-parallel-item:last-child::after {align-self: flex-start;width: 50%;}#sk-container-id-1 div.sk-parallel-item:only-child::after {width: 0;}#sk-container-id-1 div.sk-dashed-wrapped {border: 1px dashed gray;margin: 0 0.4em 0.5em 0.4em;box-sizing: border-box;padding-bottom: 0.4em;background-color: white;}#sk-container-id-1 div.sk-label label {font-family: monospace;font-weight: bold;display: inline-block;line-height: 1.2em;}#sk-container-id-1 div.sk-label-container {text-align: center;}#sk-container-id-1 div.sk-container {/* jupyter's `normalize.less` sets `[hidden] { display: none; }` but bootstrap.min.css set `[hidden] { display: none !important; }` so we also need the `!important` here to be able to override the default hidden behavior on the sphinx rendered scikit-learn.org. See: https://github.com/scikit-learn/scikit-learn/issues/21755 */display: inline-block !important;position: relative;}#sk-container-id-1 div.sk-text-repr-fallback {display: none;}</style><div id=\"sk-container-id-1\" class=\"sk-top-container\"><div class=\"sk-text-repr-fallback\"><pre>SGDClassifier(random_state=42)</pre><b>In a Jupyter environment, please rerun this cell to show the HTML representation or trust the notebook. <br />On GitHub, the HTML representation is unable to render, please try loading this page with nbviewer.org.</b></div><div class=\"sk-container\" hidden><div class=\"sk-item\"><div class=\"sk-estimator sk-toggleable\"><input class=\"sk-toggleable__control sk-hidden--visually\" id=\"sk-estimator-id-1\" type=\"checkbox\" checked><label for=\"sk-estimator-id-1\" class=\"sk-toggleable__label sk-toggleable__label-arrow\">SGDClassifier</label><div class=\"sk-toggleable__content\"><pre>SGDClassifier(random_state=42)</pre></div></div></div></div></div>"
      ],
      "text/plain": [
       "SGDClassifier(random_state=42)"
      ]
     },
     "execution_count": 8,
     "metadata": {},
     "output_type": "execute_result"
    }
   ],
   "source": [
    "from sklearn.linear_model import SGDClassifier\n",
    "\n",
    "# Create a SGD classifier instance.\n",
    "sgd_clf = SGDClassifier(random_state = 42)\n",
    "\n",
    "# Fit the SGD classifier instance to the training set.\n",
    "sgd_clf.fit(X_train.values, y_train_5)"
   ]
  },
  {
   "cell_type": "markdown",
   "id": "2d3b50ed-2569-471f-9c90-e8d287aeb448",
   "metadata": {},
   "source": [
    "Now you can use it to detect images of the number 5:"
   ]
  },
  {
   "cell_type": "code",
   "execution_count": 9,
   "id": "196bd0f5-83e5-40c0-8d6b-86e1265ed25c",
   "metadata": {
    "tags": []
   },
   "outputs": [
    {
     "data": {
      "text/plain": [
       "array([ True])"
      ]
     },
     "execution_count": 9,
     "metadata": {},
     "output_type": "execute_result"
    }
   ],
   "source": [
    "# Use the SGD classifier to predict the class of some_digit.\n",
    "sgd_clf.predict([some_digit])"
   ]
  },
  {
   "cell_type": "markdown",
   "id": "27a69b06-1fa4-47ff-89bf-3b2c0558f607",
   "metadata": {},
   "source": [
    "The classifier guesses that this image represents a 5 (`True`). Looks like it guessed right in this particular case! Now, let's evaluate this model's performance."
   ]
  },
  {
   "cell_type": "markdown",
   "id": "a307e6e4-2e37-4988-bcc9-20395cc85a69",
   "metadata": {},
   "source": [
    "---"
   ]
  },
  {
   "cell_type": "markdown",
   "id": "174f1b88-89b6-4b8b-9109-04209869b331",
   "metadata": {},
   "source": [
    "# Performance Measures\n",
    "\n",
    "Evaluating a classifier is often significantly trickier than evaluating a regressor, so we will spend a large part of this chapter on this topic. There are many performance measures available so buckle down.\n",
    "\n",
    "## Measuring Accuracy Using Cross-Validation\n",
    "\n",
    "A good way to evaluate a model is to use cross-validation. Let's use the `cross_cal_score()` function to evaluate your `SGDClassifier` model using K-fold cross-validation, with 5 folds. Remembers that K-fold cross-validation means splitting the training set into K-folds (in this case, 5), then making predictions & evaluating them on each fold using a model trained on the remaining folds."
   ]
  },
  {
   "cell_type": "code",
   "execution_count": 10,
   "id": "a5183193-c1cb-482f-90ba-d2bdb047f00e",
   "metadata": {
    "tags": []
   },
   "outputs": [
    {
     "data": {
      "text/plain": [
       "array([0.95466667, 0.96975   , 0.9635    , 0.96533333, 0.94841667])"
      ]
     },
     "execution_count": 10,
     "metadata": {},
     "output_type": "execute_result"
    }
   ],
   "source": [
    "from sklearn.model_selection import cross_val_score\n",
    "\n",
    "# Evaluate the accuracy of our SGD classifier by cross-validating the SGD classifier.\n",
    "cross_val_score(sgd_clf, X_train, y_train_5, cv = 5, scoring = \"accuracy\")"
   ]
  },
  {
   "cell_type": "markdown",
   "id": "28f93cde-c47c-4c87-97aa-cf0a32560532",
   "metadata": {},
   "source": [
    "Wow! We get ~95% or more *accuracy* (ratio of correct predictions) on all cross-validation folds. This looks amazing! Well, before we get too excited, let's look at a very dumb classifier that just classifies every single image in the \"not 5\" class."
   ]
  },
  {
   "cell_type": "code",
   "execution_count": 11,
   "id": "d943fb1e-b851-444c-8e45-fcacad4932e6",
   "metadata": {
    "tags": []
   },
   "outputs": [],
   "source": [
    "from sklearn.base import BaseEstimator\n",
    "\n",
    "# Define the object class.\n",
    "class Never5Classifier(BaseEstimator):\n",
    "    # Does nothing.\n",
    "    def fit(self, X, y = None):\n",
    "        pass\n",
    "    # Returns an array the length of the training set, filled with only zeros.\n",
    "    def predict(self, X):\n",
    "        return np.zeros((len(X), 1), dtype = bool)"
   ]
  },
  {
   "cell_type": "markdown",
   "id": "ecfc0e79-f0e3-431f-ab0d-e178a4a98e6b",
   "metadata": {},
   "source": [
    "Can you guess this model's accuracy? Let's find out."
   ]
  },
  {
   "cell_type": "code",
   "execution_count": 12,
   "id": "92435367-dea6-4080-9cc1-3fb4eca9ce59",
   "metadata": {
    "tags": []
   },
   "outputs": [
    {
     "data": {
      "text/plain": [
       "array([0.91266667, 0.90866667, 0.9095    , 0.90883333, 0.90858333])"
      ]
     },
     "execution_count": 12,
     "metadata": {},
     "output_type": "execute_result"
    }
   ],
   "source": [
    "never_5_clf = Never5Classifier()\n",
    "\n",
    "# Evaluate the accuracy of our newly defined classifier by cross-validating it.\n",
    "cross_val_score(never_5_clf, X_train, y_train_5, cv = 5, scoring = \"accuracy\")"
   ]
  },
  {
   "cell_type": "markdown",
   "id": "f5d60b51-53c8-4a4d-ad16-749f8e03e702",
   "metadata": {},
   "source": [
    "That's right, it has over 90% accuracy! This is simply because only about 10% of the images are 5s, so if you always guess that an image is not a 5, you will be right about 90% of the time.  This demonstrates why accuracy is generally not the preferred performance measure for classifiers, especially when you are dealing with *skewed datasets* (i.e., when some classes are much more frequent than others).\n",
    "\n",
    "## Confusion Matrix\n",
    "\n",
    "A much better way to evaluate the performance of a classifier is to look at the *confusion matrix*. The general idea is to count the number of times instances of class A are classified as class B. For example, to know the number of times the classifier confused images of 5s with 3s, you would look in the 5th row & 3rd column of the confusion matrix. \n",
    "\n",
    "To compute the confusion matrix, you first need to have a set of predictions, so they can be compared to the actual targets. You could make predictions on the test set, but let's keep it untouched for now (remember tht you want to use the test set only at the very end of your project, once you have a classifier that you are ready to launch). Instead, you can use the `cross_val_predict()` function."
   ]
  },
  {
   "cell_type": "code",
   "execution_count": 13,
   "id": "119fca26-47a8-4426-9b0e-9e83ed40b911",
   "metadata": {
    "tags": []
   },
   "outputs": [
    {
     "data": {
      "text/plain": [
       "array([ True, False, False, ...,  True, False, False])"
      ]
     },
     "execution_count": 13,
     "metadata": {},
     "output_type": "execute_result"
    }
   ],
   "source": [
    "from sklearn.model_selection import cross_val_predict\n",
    "\n",
    "# Generate cross-validated predictions of our training set.\n",
    "y_train_pred = cross_val_predict(sgd_clf, X_train, y_train_5, cv = 5)\n",
    "y_train_pred"
   ]
  },
  {
   "cell_type": "markdown",
   "id": "3eadb80c-d690-4349-ac9f-f12194f7b4e3",
   "metadata": {},
   "source": [
    "Just like the `cross_val_score()` function, `cross_val_predict()` performs K-fold cross-validation, but instead of returning the evaluation scores, it returns the predictions made on each test fold. This means that you get a clean prediction for each instance in the training set (\"clean\" meaning that the prediction is made by a model that never saw the data during training).\n",
    "\n",
    "Now you are ready to get the confusion matrix using the `confusion_matrix()` function. Just pass it the target classes (`y_train_5`) & the predicted classes (`y_train_pred`)."
   ]
  },
  {
   "cell_type": "code",
   "execution_count": 14,
   "id": "58753726-cf3e-40c4-8966-322e524f56ea",
   "metadata": {
    "tags": []
   },
   "outputs": [
    {
     "data": {
      "text/plain": [
       "array([[53115,  1464],\n",
       "       [  916,  4505]], dtype=int64)"
      ]
     },
     "execution_count": 14,
     "metadata": {},
     "output_type": "execute_result"
    }
   ],
   "source": [
    "from sklearn.metrics import confusion_matrix\n",
    "\n",
    "# Creates a confusion matrix for the training set.\n",
    "confusion_matrix(y_train_5, y_train_pred)"
   ]
  },
  {
   "cell_type": "markdown",
   "id": "139eded5-5524-4ff3-bbca-d14e00845882",
   "metadata": {},
   "source": [
    "Each row in a confusion matrix represents an *actual class*, while each column represents a *predicted class*. The first row of this matrix considers non 5 images (the *negative class*): 53,763 of them were correctly classified as non 5s (they are called *true negatives*), while the remaining 816 were wrongly classified as 5s (*false positives*). The second row considers the images of 5s (the *positive class*): 1,372 were wrongly classified as non 5s (*false negatives*), while the remaining 4,049 were correctly classified as 5s (*true positives*). A perfect classifier would have only true positives & true negatives, so its confusion matrix would have nonzero values only on its main diagonal (top left & bottom right).\n",
    "\n",
    "The confusion matrix gives you a lot of information, but sometimes, you may prefer a more concise metric. An interesting one to look at is the accuracy of the positive predictions; this is called the *precision* of the classifier.\n",
    "\n",
    "$$precision = \\frac{TP}{TP + FP}$$\n",
    "\n",
    "TP is the number of true positives, & FP is the number of false positives. A trivial way to have perfect precision is to make one single positive prediction & ensure it is correct (precision = 1/1 = 100%). This would not be very useful since the classifier would ignore all but one positive instance. So precision is typically used along with another metric named *recall*, also called *sensitivity* or *true positive rate* (TPR): this is the ratio of positive instances that are correctly detected by the classifier.\n",
    "\n",
    "$$recall = \\frac{TP}{TP + FN}$$\n",
    "\n",
    "FN is the number of false negatives. \n",
    "\n",
    "If you are confused about confusion matrices, the below figure may help.\n",
    "\n",
    "<img src = \"Images/Confusion Matrix.png\" alt = \"Alternative text\" width = \"500\" style = \"margin:auto\"/>\n",
    "\n",
    "## Precision & Recall\n",
    "|\n",
    "Scikit-Learn provides several functions to compute classifier metrics, including precision & recall."
   ]
  },
  {
   "cell_type": "code",
   "execution_count": 15,
   "id": "47a109d5-3c9a-4375-b83c-c9ec431d051c",
   "metadata": {
    "tags": []
   },
   "outputs": [
    {
     "name": "stdout",
     "output_type": "stream",
     "text": [
      "Precision Score: 0.7547, Recall Score: 0.831\n"
     ]
    }
   ],
   "source": [
    "from sklearn.metrics import precision_score, recall_score\n",
    "\n",
    "# Calculate precision & recall scores.\n",
    "ps = round(precision_score(y_train_5, y_train_pred), 4)\n",
    "rs = round(recall_score(y_train_5, y_train_pred), 4)\n",
    "print(\"Precision Score: {}, Recall Score: {}\".format(ps, rs))"
   ]
  },
  {
   "cell_type": "markdown",
   "id": "03c31c37-6672-452a-bfda-7ececacc2a51",
   "metadata": {},
   "source": [
    "Now, our 5-detector does not look as good as it did when we looked at its accuracy. When it claims an image represents a 5, it is correct only 74.7% of the time. Moreover, it only detects 83.3% of the 5s.\n",
    "\n",
    "It is often convenient to combine precision & recall into a single metric called the $F_1$ *score*, in particular if you need a simple way to compare two classifiers. The $F_1$ score is the *harmonic mean* of precision & recall. Whereas the regular mean treats all values equally, the harmonic mean gives much more weight to low values. As a result, the classifier will only get a high $F_1$ score if both recall & precision are high.\n",
    "\n",
    "$$F_1 = \\frac{2}{\\frac{1}{precision} + \\frac{1}{recall}} = 2 * \\frac{precision * recall}{precision + recall} = \\frac{TP}{TP + \\frac{FN + FP}{2}}$$\n",
    "\n",
    "To compute the $F_1$ score, simply call the `f1_score()` function."
   ]
  },
  {
   "cell_type": "code",
   "execution_count": 16,
   "id": "ee642ad8-e7d7-4b51-831e-6e7e6d0c802b",
   "metadata": {
    "tags": []
   },
   "outputs": [
    {
     "data": {
      "text/plain": [
       "0.791"
      ]
     },
     "execution_count": 16,
     "metadata": {},
     "output_type": "execute_result"
    }
   ],
   "source": [
    "from sklearn.metrics import f1_score\n",
    "\n",
    "# Calculate F1 score.\n",
    "round(f1_score(y_train_5, y_train_pred), 4)"
   ]
  },
  {
   "cell_type": "markdown",
   "id": "1e7c12a5-eb73-4132-b489-c4a0829c367f",
   "metadata": {},
   "source": [
    "The $F_1$ score favors classifiers that have similar precision & recall. This is not always what you want: in some context you mostly care about precision,& in other context you really care about recall. For example, if you trained a classifier to detect videos that are safe for kids, you would probably prefer aclassifier that rejects many good videos (low recall) but keeps only safe ones (high precision), rather than a classifier that has a much higher recall but lets a few really bad videos show up in your product (in such cases,you may even want to add a human pipeline to check the classifier's video selection). On the other head, suppose you train a classifier to detect shoplifters on surveillance images: it is probably fine if your classifier has only 30% precision as long as it has 99% recall (sure, the security guards will get a few false alerts, but almost all shoplifters will get caught).\n",
    "\n",
    "Unfortunately, you can't have it both ways: increasing precision reduces recall, & vice versa. This is called the *precision/recall tradeoff*.\n",
    "\n",
    "## Precision/Recall Tradeoff\n",
    "\n",
    "To understand this tradeoff, let's look at how the `SGDClassifier` makes it classification decision. For each instance, it computes a score based on a *decision function*, & if that score is greater than a threshold, it assigns the instance to the positive class, or else it assigns it to the negative class. The following figure shows a few digits positioned fromthe lowest score on the left to the highest score on the right. Suppose the *decision threshold* is positioned at the central arrow (between the two 5s): you will find 4 true positives (actual 5s), on the right of tha threshold, & one false positive (actually a 6). Therefore, with that threshold, the precision is 80% (4 out of 5). But out of 6 actual 5s, the classifier only detects 4, so the recall is 67% (4 out of 6). Now if you raise the threhold (move it to the arrow on the right), the false positive (the 6) becomes a true negative, thereby increasing precision (up to 100% in this case), but one true positive becomes a false negative, decreasing recall down to 50%. Conversely, lowering the threhold increases recall & reduces precision.\n",
    "\n",
    "<img src = \"Images/Precision Recall Tradeoff.png\" alt = \"Alternative text\" width = \"500\" style = \"margine:auto\"/>\n",
    "\n",
    "Scikit-Learn does not let you set the threshold directly, but it does give you access to the decision scores that it uses to make predictions. Instead of calling the classifier's `predict()` method, you can call its `decision_function()` method, which returns a score for each instance, & then makes predictions based on those scores using any threshold you want."
   ]
  },
  {
   "cell_type": "code",
   "execution_count": 17,
   "id": "1c53b3cc-7c9c-4af6-805b-2d676437dbae",
   "metadata": {
    "tags": []
   },
   "outputs": [
    {
     "name": "stdout",
     "output_type": "stream",
     "text": [
      "y_scores: [2164.22], y_some_digit_pred: [ True]\n"
     ]
    }
   ],
   "source": [
    "# Predict confidence score for some_digit. The confidence score for any sample is proportional \n",
    "# to the signed distance of that sample to the hyperplane.\n",
    "y_scores = np.around(sgd_clf.decision_function([some_digit]), 2)\n",
    "\n",
    "# Return True if the confidence score is greater than the threshold.\n",
    "threshold = 0\n",
    "y_some_digit_pred = (y_scores > threshold)\n",
    "print(\"y_scores: {}, y_some_digit_pred: {}\".format(y_scores, y_some_digit_pred))"
   ]
  },
  {
   "cell_type": "markdown",
   "id": "3877afe9-a373-4cfd-a667-3942580c9545",
   "metadata": {},
   "source": [
    "The `SGDClassifier` uses a threhold equal to 0, so the previous code returns the same results as the `predict()` method (i.e., `True`). Let's raise the threshold."
   ]
  },
  {
   "cell_type": "code",
   "execution_count": 18,
   "id": "990a7e9d-a284-472c-8b4e-df495644000f",
   "metadata": {
    "tags": []
   },
   "outputs": [
    {
     "data": {
      "text/plain": [
       "array([False])"
      ]
     },
     "execution_count": 18,
     "metadata": {},
     "output_type": "execute_result"
    }
   ],
   "source": [
    "# Change the threshold.\n",
    "threshold = 8000\n",
    "\n",
    "# Return True if the confidence score is greater than the threshold.\n",
    "y_some_digit_pred = (y_scores > threshold)\n",
    "y_some_digit_pred"
   ]
  },
  {
   "cell_type": "markdown",
   "id": "264185b4-f3b7-4236-be39-f2a64777ee8a",
   "metadata": {},
   "source": [
    "This confirms that raising the threshold decreases recall. The image actually represents a 5, & the classifier detects it when the threshold is 0, but it misses it when the threshold is increased to 8,000.\n",
    "\n",
    "Now how do you decide which threshold to use? For this, you will first need to get the scores of all instances in the training set using the `cross_val_predict()` function again, but this time specifying that you want it to return decision scores instead of predictions."
   ]
  },
  {
   "cell_type": "code",
   "execution_count": 19,
   "id": "4a3dbabc-724e-486d-b5c2-1a43944852ed",
   "metadata": {
    "tags": []
   },
   "outputs": [
    {
     "data": {
      "text/plain": [
       "array([  4411.53413566, -14087.12193543, -21565.51993633, ...,\n",
       "         9394.4695853 ,  -2918.25117218,  -9160.6081938 ])"
      ]
     },
     "execution_count": 19,
     "metadata": {},
     "output_type": "execute_result"
    }
   ],
   "source": [
    "# Generate the cross-validated confidence score for each sample in the training set.\n",
    "y_scores = cross_val_predict(sgd_clf, X_train, y_train_5, cv = 5, method = \"decision_function\")\n",
    "y_scores"
   ]
  },
  {
   "cell_type": "markdown",
   "id": "9471b493-e62f-4fbb-9f60-0f1c25d2aa45",
   "metadata": {},
   "source": [
    "Now with these scores, you can compute precision & recall for all possible thresholds using the `precision_recall_curve()` function."
   ]
  },
  {
   "cell_type": "code",
   "execution_count": 20,
   "id": "fe462dd9-0882-4058-9a0c-35ad009b67b2",
   "metadata": {
    "tags": []
   },
   "outputs": [],
   "source": [
    "from sklearn.metrics import precision_recall_curve\n",
    "\n",
    "# Generate precision-recall pairs for different probability thresholds.\n",
    "precisions, recalls, thresholds = precision_recall_curve(y_train_5, y_scores)"
   ]
  },
  {
   "cell_type": "markdown",
   "id": "5bf25661-f1be-4678-9cf1-da9fdde53aa3",
   "metadata": {},
   "source": [
    "Finally, you can plot precision & recall as functions of the threshold value using matplotlib."
   ]
  },
  {
   "cell_type": "code",
   "execution_count": 21,
   "id": "9ca7ce9a-697b-4aa1-bfe0-09e5b267ce6b",
   "metadata": {
    "tags": []
   },
   "outputs": [
    {
     "data": {
      "image/png": "[encoded data removed]",
      "text/plain": [
       "<Figure size 640x480 with 1 Axes>"
      ]
     },
     "metadata": {},
     "output_type": "display_data"
    }
   ],
   "source": [
    "# Define a function.\n",
    "def plot_precision_recall_vs_threshold(precisions, recalls, thresholds):\n",
    "    \n",
    "    # Plot the precision scores across thresholds with a blue dashed line, labeled \"Precision\".\n",
    "    plt.plot(thresholds, precisions[:-1], \"b--\", label = \"Precision\", linewidth = 2)\n",
    "    \n",
    "    # Plot the recall scores across thresholds with a green solid line, labeled \"Recall\".\n",
    "    plt.plot(thresholds, recalls[:-1], \"g-\", label = \"Recall\", linewidth = 2)\n",
    "    \n",
    "    # Fix the legend to the center right of the visualisation.\n",
    "    plt.legend(loc = \"center right\", fontsize = 14)\n",
    "    \n",
    "    # Label the x-axis \"Threshold\".\n",
    "    plt.xlabel(\"Threshold\", fontsize = 14)\n",
    "    \n",
    "    # Add a grid background.\n",
    "    plt.grid(True)\n",
    "    \n",
    "    # Limit the x-axis from -50000 to 50000 & the y-axis from 0 to 1.\n",
    "    plt.axis([-50000, 50000, 0, 1])\n",
    "    \n",
    "# Suppose we want our precision score to be >= 90%, get recall & threshold for precision = 90%.\n",
    "recall_90_precision = recalls[np.argmax(precisions >= 0.9)]\n",
    "threshold_90_precision = thresholds[np.argmax(precisions >= 0.9)]\n",
    "\n",
    "# Call the newly defined function.\n",
    "plot_precision_recall_vs_threshold(precisions, recalls, thresholds)\n",
    "\n",
    "# Plot red dotted line from (threshold_90_precision, 0) to (threshold_90_precision, 0.9).\n",
    "plt.plot([threshold_90_precision, threshold_90_precision], [0, 0.9], \"r:\")\n",
    "\n",
    "# Plot red dotted line from (-50000, 0.9) to (threshold_90_precision, 0.9).\n",
    "plt.plot([-50000, threshold_90_precision], [0.9, 0.9], \"r:\")\n",
    "\n",
    "# Plot red dotted line from (-50000, recall_90_precision) to (threshold_90_precision, recall_90_precision).\n",
    "plt.plot([-50000, threshold_90_precision], [recall_90_precision, recall_90_precision], \"r:\")\n",
    "\n",
    "# Plot a point at (threshold_90_precision, 0.9).\n",
    "plt.plot([threshold_90_precision], [0.9], \"ro\")\n",
    "\n",
    "# Plot a red point at (threshold_90_precision, recall_90_precision).\n",
    "plt.plot([threshold_90_precision], [recall_90_precision], \"ro\")\n",
    "plt.show()"
   ]
  },
  {
   "cell_type": "markdown",
   "id": "b582fb26-8e15-4fd2-947f-48699947b552",
   "metadata": {},
   "source": [
    "Another way to select a good precision/recall tradeoff is to plot precision directly against recall, as shown in the figure below."
   ]
  },
  {
   "cell_type": "code",
   "execution_count": 22,
   "id": "aab3948e-d3eb-44aa-8e08-acbc15d92198",
   "metadata": {
    "tags": []
   },
   "outputs": [
    {
     "data": {
      "image/png": "[encoded data removed]",
      "text/plain": [
       "<Figure size 640x480 with 1 Axes>"
      ]
     },
     "metadata": {},
     "output_type": "display_data"
    }
   ],
   "source": [
    "# Define a function.\n",
    "def plot_precision_vs_recall(precisions, recalls):\n",
    "    \n",
    "    # Plot the precision scores against recall scores with a blue solid line.\n",
    "    plt.plot(recalls, precisions, \"b-\", linewidth = 2)\n",
    "    \n",
    "    # Label the x-axis \"Recall\".\n",
    "    plt.xlabel(\"Recall\", fontsize = 14)\n",
    "    \n",
    "    # Label the y-axis \"Precision\".\n",
    "    plt.ylabel(\"Precision\", fontsize = 14)\n",
    "    \n",
    "    # Limit both the x & y-axes to 0 & 1.\n",
    "    plt.axis([0, 1, 0, 1])\n",
    "    \n",
    "    # Add a grid background.\n",
    "    plt.grid(True)\n",
    "\n",
    "# Call the newly defined function.\n",
    "plot_precision_vs_recall(precisions, recalls)\n",
    "\n",
    "# Plot a red dotted line from (recall_90_precision, 0) to (recall_90_precision, 0.9).\n",
    "plt.plot([recall_90_precision, recall_90_precision], [0, 0.9], \"r:\")\n",
    "\n",
    "# Plot a red dotted line from (0, 0.9) to (recall_90_precision, 0.9).\n",
    "plt.plot([0, recall_90_precision], [0.9, 0.9], \"r:\")\n",
    "\n",
    "# Plot a red point at (recall_90_precision, 0.9).\n",
    "plt.plot([recall_90_precision], [0.9], \"ro\")\n",
    "plt.show()"
   ]
  },
  {
   "cell_type": "markdown",
   "id": "bf7b731a-a826-4c2f-9a04-b189826fd574",
   "metadata": {},
   "source": [
    "You can see that precision starts to fall sharpy around 80% recall. You will probably want to select a precision/recall tradeoff just before that drop -- for example, at around 60% recall. But of course, the choice depends on your project.\n",
    "\n",
    "So let's suppose you decide to aim for 90% precision. You look up the first plot & find that you need to use a threshold of about 8,000. To be more precise you can search for the lowest threshold that gives you at least 90% precision (`np.argmax()` will give us the first index of the maximum value, which in this case means the first `True` value):"
   ]
  },
  {
   "cell_type": "code",
   "execution_count": 23,
   "id": "5553c6f8-8f9a-4afe-9f76-5d07b1cc0120",
   "metadata": {
    "tags": []
   },
   "outputs": [
    {
     "data": {
      "text/plain": [
       "3045.93"
      ]
     },
     "execution_count": 23,
     "metadata": {},
     "output_type": "execute_result"
    }
   ],
   "source": [
    "# The threshold we want our confidence scores to be greater than if we want >= 90% precision.\n",
    "round(threshold_90_precision, 2)"
   ]
  },
  {
   "cell_type": "markdown",
   "id": "1b1cc94a-d1b6-4e6e-9601-c961a4c721d1",
   "metadata": {},
   "source": [
    "To make predictions (on the training set for now), instead of calling the classifier's `predict()` method."
   ]
  },
  {
   "cell_type": "code",
   "execution_count": 24,
   "id": "4d186bac-cd56-4f6b-b260-1f503183d360",
   "metadata": {
    "tags": []
   },
   "outputs": [
    {
     "data": {
      "text/plain": [
       "array([ True, False, False, ...,  True, False, False])"
      ]
     },
     "execution_count": 24,
     "metadata": {},
     "output_type": "execute_result"
    }
   ],
   "source": [
    "# Returns True if training set labels' confidence scores are greater than the 90% precision threshold.\n",
    "y_train_pred_90 = (y_scores >= threshold_90_precision)\n",
    "y_train_pred_90"
   ]
  },
  {
   "cell_type": "markdown",
   "id": "3fff2112-43c1-4fe2-b1c8-a208bfad3053",
   "metadata": {},
   "source": [
    "Let's check these predictions' precision & recall:"
   ]
  },
  {
   "cell_type": "code",
   "execution_count": 25,
   "id": "b2e0c7cd-c700-42e2-8040-d8fe29d4b138",
   "metadata": {
    "tags": []
   },
   "outputs": [
    {
     "name": "stdout",
     "output_type": "stream",
     "text": [
      "Precision Score: 0.9002, Recall Score: 0.6589\n"
     ]
    }
   ],
   "source": [
    "# Generate the precision & recall scores.\n",
    "ps = round(precision_score(y_train_5, y_train_pred_90), 4)\n",
    "rs = round(recall_score(y_train_5, y_train_pred_90), 4)\n",
    "print(\"Precision Score: {}, Recall Score: {}\".format(ps, rs))"
   ]
  },
  {
   "cell_type": "markdown",
   "id": "aeba631b-2792-4054-a2e3-3eea5a1c0085",
   "metadata": {},
   "source": [
    "Great, you now have a 90% precision classifier! As you can see, it is fairly easy to create a classifier with virtually any precision you want: just set a high enough threshold, & you're done. Hmm, not so fast. A high-precision classifier is not very useful if its recall is too low.\n",
    "\n",
    "## The ROC Curve\n",
    "\n",
    "The *receiver operating characteristic* (ROC) curve is another common tool used with binary classifiers. It is very similar to the prevision/recall curve, but instead of plotting precision versus recall, the ROC plots the *true positive rate* (another name for recall) against the *false positive rate*. The FPR is the ratio of negative instances that are incorrectly classified as positive. It is equal to one minus the *true negative rate*, which is the ratio of negative instances that are correctly classified as negative. The TNR is also called *specificity*. Hence, the ROC curve plots *sensitivity* (recall) versus 1 - *specificity*.\n",
    "\n",
    "To plot the ROC curve, you first need to compute the TPR & FPR for various threshold values, using the `roc_curve()` function."
   ]
  },
  {
   "cell_type": "code",
   "execution_count": 26,
   "id": "918df323-7256-4be0-989e-58550dfef3e0",
   "metadata": {
    "tags": []
   },
   "outputs": [],
   "source": [
    "from sklearn.metrics import roc_curve\n",
    "\n",
    "# Computes the true positive rate & false positive rate for the ROC curve.\n",
    "fpr, tpr, thresholds = roc_curve(y_train_5, y_scores)"
   ]
  },
  {
   "cell_type": "markdown",
   "id": "e3a755d1-ffab-40db-9a8b-5e9a6d99edf6",
   "metadata": {},
   "source": [
    "Then you can plot the FPR against the TPR using matplotlib. "
   ]
  },
  {
   "cell_type": "code",
   "execution_count": 27,
   "id": "e5aa6384-836c-42f2-82f7-0ad99d666179",
   "metadata": {
    "tags": []
   },
   "outputs": [
    {
     "data": {
      "image/png": "[encoded data removed]",
      "text/plain": [
       "<Figure size 640x480 with 1 Axes>"
      ]
     },
     "metadata": {},
     "output_type": "display_data"
    }
   ],
   "source": [
    "# Define a function.\n",
    "def plot_roc_curve(fpr, tpr, label = None):\n",
    "    \n",
    "    # Plot true positive rate across false positive rates.\n",
    "    plt.plot(fpr, tpr, linewidth = 2, label = label)\n",
    "    \n",
    "    # Plot a black dashed line from (0, 0) to (1, 1).\n",
    "    plt.plot([0, 1], [0, 1], \"k--\")\n",
    "    \n",
    "    # Limit both x & y-axes to between 0 & 1.\n",
    "    plt.axis([0, 1, 0, 1])\n",
    "    \n",
    "    # Label the x-axis \"False Positive Rate (Fall-Out)\".\n",
    "    plt.xlabel(\"False Positive Rate (Fall-Out)\", fontsize = 14)\n",
    "    \n",
    "    # Label the y-axis \"True Positive Rate (Recall)\".\n",
    "    plt.ylabel(\"True Positive Rate (Recall)\", fontsize = 14)\n",
    "    \n",
    "    # Add a grid background.\n",
    "    plt.grid(True)\n",
    "\n",
    "# Call the newly defined function.\n",
    "plot_roc_curve(fpr, tpr)\n",
    "\n",
    "# Find the false positive rate when the true positive rate (recall) is greater than recall_90_precision.\n",
    "fpr_90 = fpr[np.argmax(tpr >= recall_90_precision)]\n",
    "\n",
    "# Plot a red dotted line from (fpr_90, 0) to (fpr_90, recall_90_precision).\n",
    "plt.plot([fpr_90, fpr_90], [0, recall_90_precision], \"r:\")\n",
    "\n",
    "# Plot a red dotted line from (0, recall_90_precision) to (fpr_90, recall_90_precision).\n",
    "plt.plot([0, fpr_90], [recall_90_precision, recall_90_precision], \"r:\")\n",
    "\n",
    "# Plot a red point at (fpr_90, recall_90_precision).\n",
    "plt.plot([fpr_90], [recall_90_precision], \"ro\")\n",
    "plt.show()"
   ]
  },
  {
   "cell_type": "markdown",
   "id": "c8bfb618-5cfd-4818-9ecd-07af450a6b75",
   "metadata": {},
   "source": [
    "Once again, there is a tradeoff: the higher the recall (TPR), the more false positives (FPR) the classifier produces. The dotted line represents the ROC curve of a purely random classifier; a good clasisifer stays as far awya from thatline as possible (toward the top-left corner).\n",
    "\n",
    "One way to compare classifiers is to measure the *area under the curve* (AUC). A perfect classifier will have a *ROC AUC* equal to 1, whereas a purely random classifier will have a ROC AUC equal to 0.5. Scikit-Learn provides a function to compute the ROC AUC:"
   ]
  },
  {
   "cell_type": "code",
   "execution_count": 28,
   "id": "dd9ffad4-7e09-474d-965b-c21dc54e9301",
   "metadata": {
    "tags": []
   },
   "outputs": [
    {
     "data": {
      "text/plain": [
       "0.9648"
      ]
     },
     "execution_count": 28,
     "metadata": {},
     "output_type": "execute_result"
    }
   ],
   "source": [
    "from sklearn.metrics import roc_auc_score\n",
    "\n",
    "# Calculate the area under the ROC curve.\n",
    "round(roc_auc_score(y_train_5, y_scores), 4)"
   ]
  },
  {
   "cell_type": "markdown",
   "id": "3caef409-f02e-4a8a-99a7-c3198825caf5",
   "metadata": {},
   "source": [
    "Let's train a `RandomForestClassifer` & compare its ROC & ROC AUC score to the `SGDClassifier`. First, you need to get scores for each instance in the training set. But due to the way it works, the `RandomForestClassifier` class does not have a `decision_function()` method. Instead it has a `predict_proba()` method. Scikit-Learn classifiers generally have on or the other. The `predict_proba()` method returns an array containing a row per instance & a column per class, each containing the probability that the given instance belongs to the given class (e.g., 70% chance that the image represents a 5)."
   ]
  },
  {
   "cell_type": "code",
   "execution_count": 29,
   "id": "8636233e-6e38-419c-bd92-5519893654fa",
   "metadata": {
    "tags": []
   },
   "outputs": [
    {
     "data": {
      "text/plain": [
       "array([[0.14, 0.86],\n",
       "       [0.99, 0.01],\n",
       "       [0.98, 0.02],\n",
       "       ...,\n",
       "       [0.01, 0.99],\n",
       "       [0.96, 0.04],\n",
       "       [0.96, 0.04]])"
      ]
     },
     "execution_count": 29,
     "metadata": {},
     "output_type": "execute_result"
    }
   ],
   "source": [
    "from sklearn.ensemble import RandomForestClassifier\n",
    "\n",
    "# Create a random forest classifier instance.\n",
    "forest_clf = RandomForestClassifier(random_state = 42)\n",
    "\n",
    "# Generate cross-validated probabilities that each sample of the training set belongs to a given class [not 5, 5].\n",
    "y_probas_forest = cross_val_predict(forest_clf, X_train, y_train_5, cv = 5, method = \"predict_proba\")\n",
    "y_probas_forest"
   ]
  },
  {
   "cell_type": "markdown",
   "id": "1058a143-cb62-4835-b572-21e8bcfbcad0",
   "metadata": {},
   "source": [
    "But to plot a ROC curve, you need scores, not probabilities. A simple solution is to use the positive class's probability as the score."
   ]
  },
  {
   "cell_type": "code",
   "execution_count": 30,
   "id": "51751e9a-bbff-4b6d-8f80-56e5a5158320",
   "metadata": {
    "tags": []
   },
   "outputs": [],
   "source": [
    "# Get the probabilities that each sample of the training set belongs to the class [5].\n",
    "y_scores_forest = y_probas_forest[:, 1]\n",
    "\n",
    "# Calculate the false positive rate, true positive rate, & thresholds for the ROC curve.\n",
    "fpr_forest, tpr_forest, thresholds_forest = roc_curve(y_train_5, y_scores_forest)"
   ]
  },
  {
   "cell_type": "markdown",
   "id": "696de521-f985-4dfe-b97c-ce666485e0ae",
   "metadata": {},
   "source": [
    "Now you are ready to plot the ROC curve. It is useful to plot the first ROC curve as well as how they compare."
   ]
  },
  {
   "cell_type": "code",
   "execution_count": 31,
   "id": "75e19af5-fe81-402a-9fe9-7ff84de6f1ed",
   "metadata": {
    "tags": []
   },
   "outputs": [
    {
     "data": {
      "image/png": "[encoded data removed]",
      "text/plain": [
       "<Figure size 640x480 with 1 Axes>"
      ]
     },
     "metadata": {},
     "output_type": "display_data"
    }
   ],
   "source": [
    "# Find the true positive rate when the false positive rate is greater than fpr_90\n",
    "recall_for_forest = tpr_forest[np.argmax(fpr_forest >= fpr_90)]\n",
    "\n",
    "# Plot true positive rates against false positive rates from our SGD classifier with a blue dotted line.\n",
    "plt.plot(fpr, tpr, \"b:\", linewidth = 2, label = \"SGD\")\n",
    "\n",
    "# Plot true positive rates against false positive rates from our random forest classifier.\n",
    "plot_roc_curve(fpr_forest, tpr_forest, \"Random Forest\")\n",
    "\n",
    "# Plot red dotted line from (fpr_90, 0) to (fpr_90, recall_90_precision).\n",
    "plt.plot([fpr_90, fpr_90], [0, recall_90_precision], \"r:\")\n",
    "\n",
    "# Plot red dotted line from (0, recall_90_precision) to (fpr_90, recall_90_precision).\n",
    "plt.plot([0, fpr_90], [recall_90_precision, recall_90_precision], \"r:\")\n",
    "\n",
    "# Plot red point at (fpr_90, recall_90_precision).\n",
    "plt.plot([fpr_90], [recall_90_precision], \"ro\")\n",
    "\n",
    "# Plot red dotted line from (fpr_90, 0) to (fpr_90, recall_for_forest).\n",
    "plt.plot([fpr_90, fpr_90], [0, recall_for_forest], \"r:\")\n",
    "\n",
    "# Plot red point at (fpr_90, recall_for_forest).\n",
    "plt.plot([fpr_90], [recall_for_forest], \"ro\")\n",
    "\n",
    "# Add grid background.\n",
    "plt.grid(True)\n",
    "\n",
    "# Place the legend on the lower right of the visualisation.\n",
    "plt.legend(loc = \"lower right\", fontsize = 14)\n",
    "plt.show()"
   ]
  },
  {
   "cell_type": "markdown",
   "id": "6152e479-6b7b-4e58-8e0d-cb7ada781abb",
   "metadata": {},
   "source": [
    "As you can see, the `RandomForestClassifier's` ROC curve looks much better than the `SGDClassifier`'s: it comes much closer tot he top-left corner. As a result its ROC AUC score is also significantly better:"
   ]
  },
  {
   "cell_type": "code",
   "execution_count": 32,
   "id": "0a15d49d-31cc-48d5-9f4f-b56be20e8a47",
   "metadata": {
    "tags": []
   },
   "outputs": [
    {
     "data": {
      "text/plain": [
       "0.9984"
      ]
     },
     "execution_count": 32,
     "metadata": {},
     "output_type": "execute_result"
    }
   ],
   "source": [
    "# Calculate the area under the ROC curve for our random forests classifier.\n",
    "round(roc_auc_score(y_train_5, y_scores_forest), 4)"
   ]
  },
  {
   "cell_type": "markdown",
   "id": "696e08e4-52ac-4a7d-9de5-71b0534d377c",
   "metadata": {},
   "source": [
    "Try measuring the precision & recall scores: you should find 99% precision & ~ 87% recall. Not bad!"
   ]
  },
  {
   "cell_type": "code",
   "execution_count": 33,
   "id": "54a5215e-1f78-4a73-a61d-7a117049eb4c",
   "metadata": {
    "tags": []
   },
   "outputs": [
    {
     "name": "stdout",
     "output_type": "stream",
     "text": [
      "Precision Score: 0.991, Recall Score 0.8735\n"
     ]
    }
   ],
   "source": [
    "# Generate the cross-validated predictions of each sample in our training set.\n",
    "y_train_pred_forest = cross_val_predict(forest_clf, X_train, y_train_5, cv = 5)\n",
    "\n",
    "# Calculate the precision & recall scores of our random forest model.\n",
    "ps = round(precision_score(y_train_5, y_train_pred_forest), 4)\n",
    "rs = round(recall_score(y_train_5, y_train_pred_forest), 4)\n",
    "print(\"Precision Score: {}, Recall Score {}\".format(ps, rs))"
   ]
  },
  {
   "cell_type": "markdown",
   "id": "36bbcf9e-a7a9-4957-84fa-d058be1ee9c9",
   "metadata": {},
   "source": [
    "Hopefully you now know how to train binary classifiers, choose the appropriate metric for your task, evaluate your classifiers using cross-validation, select the precision/recall tradeoff that fits your needs, & compare various models using ROC curves & ROC AUC scores. Now let's try to detect more than just the 5s."
   ]
  },
  {
   "cell_type": "markdown",
   "id": "d3e6012b-e649-4bf0-bbd1-7a2cec7c136e",
   "metadata": {},
   "source": [
    "---"
   ]
  },
  {
   "cell_type": "markdown",
   "id": "02721e39-0912-491f-831b-9b57961e1156",
   "metadata": {},
   "source": [
    "# Multiclass Classification\n",
    "\n",
    "Whereas binary classifiers distinguish between two classes, *multiclass classifiers* (aka. *multinomial classifiers*) can distinguish between more than two class.\n",
    "\n",
    "Some algorithms (such as random forest classifiers or naive bayes classifiers) are capable of handling multiple classes directly. Others (such as support vector machine classifiers or linear classifiers) are strictly binary classifiers. However, there are various strategies that you can use to perform multiclass classification using multiple binary classifiers.\n",
    "\n",
    "For example, one way to create a system that can classify the digit images into 10 class (from 0 to 9) is to train 10 binary classifiers, one for each digit (a 0-detector, a 1-detector, a 2-detector, & so on). Then when you want to classify an image, you get the decision score from each classifier for that image & you select the class whose classifier outputs the highest score. This is called the *one-versus-all* (OvA) strategy.\n",
    "\n",
    "Another strategy is to train a binary classifier for every pair of digits: one to distinguish 0s & 1s another to distinguish 0s & 2s, another for 1s & 2s, & so on. This is called the *one-versus-one* (OvO) strategy. If there are *N* classes, you need to train $\\frac{N(N - 1)}{2}$ classifiers. For the MNIST problem, this means training 45 binary classifiers! When you want to classify an image, you have to run the image through all 45 classifiers & see which class wins the most duels. The main advantage of OvO is that each classifier only needs to be trained on the part of the training set for the two classes that it must distinguish.\n",
    "\n",
    "Some algorithms (such as support vector machine classifiers) scale poorly with the size of the training set, so for these algorithms, OvO is preferred since it is faster to train many classifiers on small training sets than training few classifiers on large training sets. For most binary classification algorithms, however, OvA is preferred.\n",
    "\n",
    "Scikit-Learn detects when you try to use a binary classification algorithm for a multiclass classification task, & it automatically runs OvA (except for SVM classifiers for which it uses OvO). Let's try this with the `SGDClassifier`."
   ]
  },
  {
   "cell_type": "code",
   "execution_count": 34,
   "id": "8c6902ba-78bc-4c58-b7ae-4263d42e1294",
   "metadata": {
    "tags": []
   },
   "outputs": [
    {
     "data": {
      "text/plain": [
       "array([3], dtype=uint8)"
      ]
     },
     "execution_count": 34,
     "metadata": {},
     "output_type": "execute_result"
    }
   ],
   "source": [
    "# Fit our SGDClassifier to our training set, classifying all labels 0-9.\n",
    "sgd_clf.fit(X_train.values, y_train)\n",
    "\n",
    "# Using our SGDClassifier, predict some_digit's class.\n",
    "sgd_clf.predict([some_digit])"
   ]
  },
  {
   "cell_type": "markdown",
   "id": "58906488-6f71-4056-99c8-3cd34e40fc9d",
   "metadata": {},
   "source": [
    "That was easy! We trained the `SGDClassifier` on the training set using the original target classes from 0 to 9 (`y_train`), instead of the 5-versus-all target classes (`y_train_5`). Then it makes a prediction (a incorrect one in this case, it predicts that some_digit is a 3, when it is actually a 5). Under the hood, scikit-learn actually trained 10 binary classifiers, got their decision scores for the image, & selected the class with the highest score.\n",
    "\n",
    "To see that this is indeed the case, you can call the `decision_function()` method. Instead of returning just one score per instance, it now returns 10 scores, one per class:"
   ]
  },
  {
   "cell_type": "code",
   "execution_count": 35,
   "id": "cc3eeea4-b985-46a2-a8e1-dc5010aab7dd",
   "metadata": {
    "tags": []
   },
   "outputs": [
    {
     "data": {
      "text/plain": [
       "array([[-31893.03095419, -34419.69069632,  -9530.63950739,\n",
       "          1823.73154031, -22320.14822878,  -1385.80478895,\n",
       "        -26188.91070951, -16147.51323997,  -4604.35491274,\n",
       "        -12050.767298  ]])"
      ]
     },
     "execution_count": 35,
     "metadata": {},
     "output_type": "execute_result"
    }
   ],
   "source": [
    "# Generate the confidence scores that some_digit belongs to any given class (0 - 9).\n",
    "some_digit_scores = sgd_clf.decision_function([some_digit])\n",
    "some_digit_scores"
   ]
  },
  {
   "cell_type": "markdown",
   "id": "56da69f2-4cca-4ac0-beb2-2c39e4cc6da7",
   "metadata": {},
   "source": [
    "The highest score is indeed the one corresponding to class 5:"
   ]
  },
  {
   "cell_type": "code",
   "execution_count": 36,
   "id": "86edb6fa-99c1-42a9-9619-1dbcfd94b867",
   "metadata": {
    "tags": []
   },
   "outputs": [
    {
     "data": {
      "text/plain": [
       "3"
      ]
     },
     "execution_count": 36,
     "metadata": {},
     "output_type": "execute_result"
    }
   ],
   "source": [
    "# Get the class for some_digit with the largest confidence score.\n",
    "np.argmax(some_digit_scores)"
   ]
  },
  {
   "cell_type": "markdown",
   "id": "91047f0e-3573-4e18-8eaf-5875445f3249",
   "metadata": {},
   "source": [
    "If you want to force scikit-learn to use one-versus-one or one-versus-all, you can use the `OneVsOneClassifier` or `OneVsRestClassifier` classes. Simply create an instance & pass a binary classifier to its constructor. For example, this code creates a multiclass classifier usingthe OvO strategy, based on a `SGDClassifier`."
   ]
  },
  {
   "cell_type": "code",
   "execution_count": 37,
   "id": "6899d66b-1c38-44d6-a55a-25f07b0c2c71",
   "metadata": {
    "tags": []
   },
   "outputs": [
    {
     "data": {
      "text/plain": [
       "array([5], dtype=uint8)"
      ]
     },
     "execution_count": 37,
     "metadata": {},
     "output_type": "execute_result"
    }
   ],
   "source": [
    "from sklearn.multiclass import OneVsOneClassifier\n",
    "\n",
    "# Create a one-versus-one instance of our SGDClassifier.\n",
    "ovo_clf = OneVsOneClassifier(SGDClassifier(random_state = 42))\n",
    "\n",
    "# Fit our OvO SGDClassifier to our training set.\n",
    "ovo_clf.fit(X_train.values, y_train)\n",
    "\n",
    "# Use our OvO SGDClassifier to predict some_digit\n",
    "ovo_clf.predict([some_digit])"
   ]
  },
  {
   "cell_type": "markdown",
   "id": "a8a6be61-2981-4c73-aa0d-dea869ac6aeb",
   "metadata": {},
   "source": [
    "Training a `RandomForestClassifier` is just as easy."
   ]
  },
  {
   "cell_type": "code",
   "execution_count": 38,
   "id": "79f14b18-f45e-4979-ad98-13415c96a870",
   "metadata": {
    "tags": []
   },
   "outputs": [
    {
     "data": {
      "text/plain": [
       "array([5], dtype=uint8)"
      ]
     },
     "execution_count": 38,
     "metadata": {},
     "output_type": "execute_result"
    }
   ],
   "source": [
    "# Create a one-versus-one instance of our random forest classifier.\n",
    "forest_clf = RandomForestClassifier(random_state = 42)\n",
    "\n",
    "# Fit our OvO random forest classifier to our training set.\n",
    "forest_clf.fit(X_train.values, y_train)\n",
    "\n",
    "# Use our OvO random forest classifier to predict the class of some_digit.\n",
    "forest_clf.predict([some_digit])"
   ]
  },
  {
   "cell_type": "markdown",
   "id": "21c4983e-3679-4958-8c0b-0aa59696f50c",
   "metadata": {},
   "source": [
    "This time, scikit-learn did not have to run OvA or OvO because random forest classifiers can directly classify instances into multiple classes. You can call `predict_proba()` to get the list of probabilities that the classifier assigned to each instance for each class:"
   ]
  },
  {
   "cell_type": "code",
   "execution_count": 39,
   "id": "4be31bdf-2bf9-4cf6-85bd-e09381aae3be",
   "metadata": {
    "tags": []
   },
   "outputs": [
    {
     "data": {
      "text/plain": [
       "array([[0.  , 0.  , 0.01, 0.08, 0.  , 0.9 , 0.  , 0.  , 0.  , 0.01]])"
      ]
     },
     "execution_count": 39,
     "metadata": {},
     "output_type": "execute_result"
    }
   ],
   "source": [
    "# Using our OvO random forest classifier, predict the probabilities that some_digit belongs to each class (0 - 9).\n",
    "forest_clf.predict_proba([some_digit])"
   ]
  },
  {
   "cell_type": "markdown",
   "id": "ace8de1b-0cef-4fe9-a38c-83401f5fe5e2",
   "metadata": {},
   "source": [
    "You can see that the classifier is fairly confident about its prediction: the 0.9 at the 5th index in the array means that the model estimates a 90% probability that the image represents a 5. It also thinks that the image could instead be a 2, a 3, or a 9, respectively with 1%, 8%, & 1% probability.\n",
    "\n",
    "Now, of course, you want to evaluate these classifiers. As usual, you want to use cross-validation. Let's evaluate the `SGDClassifier's` accuracy using the `cross_val_score()` function."
   ]
  },
  {
   "cell_type": "code",
   "execution_count": 40,
   "id": "5d6044af-c004-4658-a77c-dfc0f8791894",
   "metadata": {
    "tags": []
   },
   "outputs": [
    {
     "data": {
      "text/plain": [
       "array([0.88083333, 0.88325   , 0.88116667, 0.86625   , 0.8875    ])"
      ]
     },
     "execution_count": 40,
     "metadata": {},
     "output_type": "execute_result"
    }
   ],
   "source": [
    "# Generate the cross-validated accuracy for our SGDClassifier.\n",
    "cross_val_score(sgd_clf, X_train, y_train, cv = 5, scoring = \"accuracy\")"
   ]
  },
  {
   "cell_type": "markdown",
   "id": "bd5e1722-d5e6-40f9-9d0f-4e7b8b03f601",
   "metadata": {},
   "source": [
    "It gets over 85% on all folds. If you used a random classifier, you would get 10% accuracy, so this is not such a bad score, but you can do much better. For example, simply scaling the inputs increases accuracy above 89%."
   ]
  },
  {
   "cell_type": "code",
   "execution_count": 42,
   "id": "4e4f0d80-6533-4d4a-8ff9-9d0e595bd391",
   "metadata": {
    "tags": []
   },
   "outputs": [
    {
     "data": {
      "text/plain": [
       "array([0.89733333, 0.88725   , 0.89583333, 0.89233333, 0.90516667])"
      ]
     },
     "execution_count": 42,
     "metadata": {},
     "output_type": "execute_result"
    }
   ],
   "source": [
    "from sklearn.preprocessing import StandardScaler\n",
    "\n",
    "# Create a standard scaler instance.\n",
    "scaler = StandardScaler()\n",
    "\n",
    "# Scale the numeric features in our training set (all features).\n",
    "X_train_scaled = scaler.fit_transform(X_train.astype(np.float64))\n",
    "\n",
    "# Generate the cross-validated accuracy scores for our scaled SGDClassifier.\n",
    "cross_val_score(sgd_clf, X_train_scaled, y_train, cv = 5, scoring = \"accuracy\")"
   ]
  },
  {
   "cell_type": "markdown",
   "id": "7273872c-b9f7-4159-89ff-2babf31f0873",
   "metadata": {},
   "source": [
    "---"
   ]
  },
  {
   "cell_type": "markdown",
   "id": "71799e8d-8f98-4236-852d-dfe5a6ba2e19",
   "metadata": {},
   "source": [
    "# Error Analysis\n",
    "\n",
    "Of course, if this were a real project, you would follow the steps of the machine learning pipeline: exploring data preparation options, trying out multiple models, shortlisting the best ones & fine tuning their hyperparameters using `GridSearchCV`, & automating as much as possible. Here, we will assume you have found a promising model & you want to find ways to improve it. One way to do this is to analyse the types of errors it makes.\n",
    "\n",
    "First, you can look at the confusion matrix. You need to make predictions using the `cross_val_predict()` function, then call the `confusion_matrix()` function, just like you did before."
   ]
  },
  {
   "cell_type": "code",
   "execution_count": 43,
   "id": "a7be4440-2270-4a5b-9771-e8083d1420ed",
   "metadata": {
    "tags": []
   },
   "outputs": [
    {
     "data": {
      "text/plain": [
       "array([[5570,    0,   15,    3,    9,   39,   33,    5,  248,    1],\n",
       "       [   0, 6408,   41,   21,    3,   41,    4,    7,  208,    9],\n",
       "       [  26,   25, 5220,   85,   67,   24,   62,   37,  401,   11],\n",
       "       [  26,   18,  107, 5187,    0,  184,   24,   39,  483,   63],\n",
       "       [  10,   13,   36,    9, 5183,   10,   34,   20,  381,  146],\n",
       "       [  26,   18,   23,  155,   51, 4401,   77,   13,  596,   61],\n",
       "       [  26,   17,   41,    2,   40,   83, 5548,    7,  154,    0],\n",
       "       [  20,   11,   52,   23,   48,   11,    3, 5685,  217,  195],\n",
       "       [  16,   58,   37,   88,    2,  119,   28,    8, 5459,   36],\n",
       "       [  21,   19,   28,   58,  119,   30,    1,  170,  429, 5074]],\n",
       "      dtype=int64)"
      ]
     },
     "execution_count": 43,
     "metadata": {},
     "output_type": "execute_result"
    }
   ],
   "source": [
    "# Get the cross_validated predictions of scaled training set ran on the SGD classifier.\n",
    "y_train_pred = cross_val_predict(sgd_clf, X_train_scaled, y_train, cv = 5)\n",
    "\n",
    "# Generate the confusion matrix based on the resulting predictions.\n",
    "conf_mx = confusion_matrix(y_train, y_train_pred)\n",
    "conf_mx"
   ]
  },
  {
   "cell_type": "markdown",
   "id": "b7a26f8c-e331-43fd-a932-4aa9e21bc31b",
   "metadata": {},
   "source": [
    "That's a lot of numbers. It's often more convenient to look at an image representation of the confusion matrix, using matplotlib's `matshow()` function."
   ]
  },
  {
   "cell_type": "code",
   "execution_count": 45,
   "id": "66a5606f-8ee2-4563-801d-c55929dd2cca",
   "metadata": {
    "tags": []
   },
   "outputs": [
    {
     "data": {
      "image/png": "[encoded data removed]",
      "text/plain": [
       "<Figure size 480x480 with 1 Axes>"
      ]
     },
     "metadata": {},
     "output_type": "display_data"
    }
   ],
   "source": [
    "# Show our confusion matrix on gray scale.\n",
    "plt.matshow(conf_mx, cmap = plt.cm.gray)\n",
    "plt.show()"
   ]
  },
  {
   "cell_type": "markdown",
   "id": "a46b8864-1958-45f8-8a60-ca79be044fb1",
   "metadata": {},
   "source": [
    "This confusion matrix looks fairly good, since most of the images are on the main diagonal, which means that they were classified correctly. The 5s look slightly darker than the other digits, which could mean that there are fewer images of 5s in the dataset or that the classifier does not perform as well on 5s as on other digits. In fact, you can verify that both are the case.\n",
    "\n",
    "Let's focus the plot on the errors. First, you need to divide each value in the confusion matrix by the number of images in the corresponding class, so you can compare error rates instead of absolute number of errors (which would make abundant classes look unfairly bad):"
   ]
  },
  {
   "cell_type": "code",
   "execution_count": 46,
   "id": "14c7a859-2607-45e4-8c5a-748e9dc26680",
   "metadata": {
    "tags": []
   },
   "outputs": [],
   "source": [
    "# Calculate the ACTUAL number of images in each corresponding class (row-level sums).\n",
    "row_sums = conf_mx.sum(axis = 1, keepdims = True)\n",
    "            \n",
    "# Divide confusion matrix value by number of images in corresponding class for error rates.\n",
    "norm_conf_mx = conf_mx / row_sums"
   ]
  },
  {
   "cell_type": "markdown",
   "id": "e1cacc54-8094-4ba6-8d1e-31fac14d8754",
   "metadata": {},
   "source": [
    "Now let's fill the diagonal with zeros to keep only the errors, & let's plot the result."
   ]
  },
  {
   "cell_type": "code",
   "execution_count": 47,
   "id": "2241c80a-13dd-4345-9d96-f269a50e83f2",
   "metadata": {
    "tags": []
   },
   "outputs": [
    {
     "data": {
      "image/png": "[encoded data removed]",
      "text/plain": [
       "<Figure size 480x480 with 1 Axes>"
      ]
     },
     "metadata": {},
     "output_type": "display_data"
    }
   ],
   "source": [
    "np.fill_diagonal(norm_conf_mx, 0)\n",
    "\n",
    "# Show our error rate confusion matrix in grey scale.\n",
    "plt.matshow(norm_conf_mx, cmap = plt.cm.gray)\n",
    "plt.show()"
   ]
  },
  {
   "cell_type": "markdown",
   "id": "0a6e4732-d537-453f-9ddd-09e08488f6a6",
   "metadata": {},
   "source": [
    "Now you can clearly see the kinds of errors the classifier makes. Remember that rows represent actual classes, while columns represent predicted classes. The column for class 8 is quite bright, which tells you that many images get misclassified as 8s. However, the row for class 8 is not that bad, telling you that actual 8s in general get properly classified as 8s. As you can see, the confusion matrix is not necessarily symmetrical. You can see that 3s & 5s often get confused (in both directions).\n",
    "\n",
    "Analysing the confusion matrix can often give you insights on ways to improve your classifier. Looking at this plot, it seems that your efforts should be spend on reducing the false 8s. For example, you could try to gather more training data for digits that look like 8s (but are not) so the classifier can learn to distinguish them from real 8s. Or you could engineer new features that would help the classifier -- for example, writing an algorithm to count the number of closed loops (e.g., 8 has two, 6 has one, 5 has none). Or you could preprocess the images (e.g., using Scikit-Image, Pillow, or OpenCV) to make some patterns stand out more, such as closed loops.\n",
    "\n",
    "Analysing individual errors can also be a good way to gain insights on what your classifier is doing & why it is failing, but it is more difficult & time-consuming. For example, let's plot examples of 3s & 5s (the `plot_digits()` function just uses matplotlib's `imshow()` function)."
   ]
  },
  {
   "cell_type": "code",
   "execution_count": 52,
   "id": "b0a4ee2a-9769-4e41-9390-7e826e7c5f9e",
   "metadata": {
    "tags": []
   },
   "outputs": [
    {
     "data": {
      "image/png": "[encoded data removed]",
      "text/plain": [
       "<Figure size 640x480 with 4 Axes>"
      ]
     },
     "metadata": {},
     "output_type": "display_data"
    }
   ],
   "source": [
    "cl_a, cl_b = 3, 5\n",
    "\n",
    "# Get samples of the training set where the label is 3 & our scaled SGD classifier prediction is 3.\n",
    "X_aa = X_train[(y_train == cl_a) & (y_train_pred == cl_a)]\n",
    "\n",
    "# Get samples of the training set where the label is 3 & our scaled SGD classifier prediction is 5.\n",
    "X_ab = X_train[(y_train == cl_a) & (y_train_pred == cl_b)]\n",
    "\n",
    "# Get samples of the training set where the label is 5 & our scaled SGD classifier prediction is 3.\n",
    "X_ba = X_train[(y_train == cl_b) & (y_train_pred == cl_a)]\n",
    "\n",
    "# Get samples of the training set where the label is 5 & our scaled SGD classifier prediction is 5.\n",
    "X_bb = X_train[(y_train == cl_b) & (y_train_pred == cl_b)]\n",
    "\n",
    "def plot_digits(instances, images_per_row=10, **options):\n",
    "    size = 28\n",
    "    images_per_row = min(len(instances), images_per_row)\n",
    "    images = [np.array(instances.iloc[i]).reshape(size, size) for i in range(instances.shape[0])]\n",
    "    n_rows = (len(instances) - 1) // images_per_row + 1\n",
    "    row_images = []\n",
    "    n_empty = n_rows * images_per_row - len(instances)\n",
    "    images.append(np.zeros((size, size * n_empty)))\n",
    "    for row in range(n_rows):\n",
    "        rimages = images[row * images_per_row : (row + 1) * images_per_row]\n",
    "        row_images.append(np.concatenate(rimages, axis=1))\n",
    "    image = np.concatenate(row_images, axis=0)\n",
    "    plt.imshow(image, cmap = plt.cm.binary, **options)\n",
    "    plt.axis(\"off\")\n",
    "\n",
    "# Plot the first 25 samples that our scaled SGDClassifier predicted was 3 & was labeled as 3, in a 5x5 subplot.\n",
    "plt.subplot(221); plot_digits(X_aa[:25], images_per_row = 5)\n",
    "\n",
    "# Plot the first 25 samples that our scaled SGDClassifier predicted was 5 & was labeled as 3, in a 5x5 subplot.\n",
    "plt.subplot(222); plot_digits(X_ab[:25], images_per_row = 5)\n",
    "\n",
    "# Plot the first 25 samples that our scaled SGDClassifier predicted was 3 & was labeled as 5, in a 5x5 subplot.\n",
    "plt.subplot(223); plot_digits(X_ba[:25], images_per_row = 5)\n",
    "\n",
    "# Plot the first 25 samples that our scaled SGDClassifier predicted was 5 & was labeled as 5, in a 5x5 subplot.\n",
    "plt.subplot(224); plot_digits(X_bb[:25], images_per_row = 5)\n",
    "plt.show()"
   ]
  },
  {
   "cell_type": "markdown",
   "id": "15dd912a-6981-42ec-8a7d-f553b291e195",
   "metadata": {},
   "source": [
    "The two 5x5 blocks on the left show digits classified as 3s, & the two 5x5 blocks on the right show images classified as 5s. Some of the digits that the classifier gets wrong (i.e., in the bottom-left & top-right blocks) are so badly written that even a human would have trouble classifying them (e.g., the 5 on the 1st row & 2nd column truly looks like a badly written 3). However, most misclassified images seem like obvious errors to us, & it's hard to understand why the classifier made the mistakes it did. The reason is that we used a simple `SGDClassifier`, which is a linear model. All it does is assign a weight per class to each pixel, & when it sees a new image i just sums up the weighted mixel intensities to get a score for each class. So since 3s & 5s differ only by a few pixels, this model will easily confuse them.\n",
    "\n",
    "The main difference between 3s & 5s is the position of the small line that joins the top line to the bottom arc. If you draw a 3 with the junction slightly shifted to the left, the classifier might classify it as a 5, & vice versa. In other words, this classifier is quite sensitive to image shifting & rotation. So one way to reduce the 3/5 confusion would be to preprocess the images to ensure that they are well centered & not too rotated. This will help reduce other errors as well."
   ]
  },
  {
   "cell_type": "markdown",
   "id": "7786e226-34e8-4a1a-8761-dcd18cc9fb46",
   "metadata": {},
   "source": [
    "---"
   ]
  },
  {
   "cell_type": "markdown",
   "id": "bfe856e6-bcee-473d-9066-1a27c33650bb",
   "metadata": {},
   "source": [
    "# Multilabel Classification\n",
    "\n",
    "Until now, each instance has always been assigned to just one class. In some cases, you may want your classifier to output multiple classes for each instance. For example, consider a face-recognition classifier: what should it do if it recognises several people on the same picture? Of course, it should attach one tag per person it recognises. Say the classifier has some trained to recognise three faces, Alice, Bob & Charlier; then when it is shown a picture of Alice & Charlie, it should output [1, 0, 1] (meaning \"Alice yes, Bob no, Charlie yes\"). Such a classification system that outputs multiple binary tags is called a *multilabel classification system*.\n",
    "\n",
    "We won't cover facial recognition just yet, but let's look at a simpler example, just for illustration purposes."
   ]
  },
  {
   "cell_type": "code",
   "execution_count": 55,
   "id": "4e6bf7fe-3445-423a-97cc-fb2de49f738d",
   "metadata": {
    "tags": []
   },
   "outputs": [
    {
     "data": {
      "text/html": [
       "<style>#sk-container-id-3 {color: black;}#sk-container-id-3 pre{padding: 0;}#sk-container-id-3 div.sk-toggleable {background-color: white;}#sk-container-id-3 label.sk-toggleable__label {cursor: pointer;display: block;width: 100%;margin-bottom: 0;padding: 0.3em;box-sizing: border-box;text-align: center;}#sk-container-id-3 label.sk-toggleable__label-arrow:before {content: \"▸\";float: left;margin-right: 0.25em;color: #696969;}#sk-container-id-3 label.sk-toggleable__label-arrow:hover:before {color: black;}#sk-container-id-3 div.sk-estimator:hover label.sk-toggleable__label-arrow:before {color: black;}#sk-container-id-3 div.sk-toggleable__content {max-height: 0;max-width: 0;overflow: hidden;text-align: left;background-color: #f0f8ff;}#sk-container-id-3 div.sk-toggleable__content pre {margin: 0.2em;color: black;border-radius: 0.25em;background-color: #f0f8ff;}#sk-container-id-3 input.sk-toggleable__control:checked~div.sk-toggleable__content {max-height: 200px;max-width: 100%;overflow: auto;}#sk-container-id-3 input.sk-toggleable__control:checked~label.sk-toggleable__label-arrow:before {content: \"▾\";}#sk-container-id-3 div.sk-estimator input.sk-toggleable__control:checked~label.sk-toggleable__label {background-color: #d4ebff;}#sk-container-id-3 div.sk-label input.sk-toggleable__control:checked~label.sk-toggleable__label {background-color: #d4ebff;}#sk-container-id-3 input.sk-hidden--visually {border: 0;clip: rect(1px 1px 1px 1px);clip: rect(1px, 1px, 1px, 1px);height: 1px;margin: -1px;overflow: hidden;padding: 0;position: absolute;width: 1px;}#sk-container-id-3 div.sk-estimator {font-family: monospace;background-color: #f0f8ff;border: 1px dotted black;border-radius: 0.25em;box-sizing: border-box;margin-bottom: 0.5em;}#sk-container-id-3 div.sk-estimator:hover {background-color: #d4ebff;}#sk-container-id-3 div.sk-parallel-item::after {content: \"\";width: 100%;border-bottom: 1px solid gray;flex-grow: 1;}#sk-container-id-3 div.sk-label:hover label.sk-toggleable__label {background-color: #d4ebff;}#sk-container-id-3 div.sk-serial::before {content: \"\";position: absolute;border-left: 1px solid gray;box-sizing: border-box;top: 0;bottom: 0;left: 50%;z-index: 0;}#sk-container-id-3 div.sk-serial {display: flex;flex-direction: column;align-items: center;background-color: white;padding-right: 0.2em;padding-left: 0.2em;position: relative;}#sk-container-id-3 div.sk-item {position: relative;z-index: 1;}#sk-container-id-3 div.sk-parallel {display: flex;align-items: stretch;justify-content: center;background-color: white;position: relative;}#sk-container-id-3 div.sk-item::before, #sk-container-id-3 div.sk-parallel-item::before {content: \"\";position: absolute;border-left: 1px solid gray;box-sizing: border-box;top: 0;bottom: 0;left: 50%;z-index: -1;}#sk-container-id-3 div.sk-parallel-item {display: flex;flex-direction: column;z-index: 1;position: relative;background-color: white;}#sk-container-id-3 div.sk-parallel-item:first-child::after {align-self: flex-end;width: 50%;}#sk-container-id-3 div.sk-parallel-item:last-child::after {align-self: flex-start;width: 50%;}#sk-container-id-3 div.sk-parallel-item:only-child::after {width: 0;}#sk-container-id-3 div.sk-dashed-wrapped {border: 1px dashed gray;margin: 0 0.4em 0.5em 0.4em;box-sizing: border-box;padding-bottom: 0.4em;background-color: white;}#sk-container-id-3 div.sk-label label {font-family: monospace;font-weight: bold;display: inline-block;line-height: 1.2em;}#sk-container-id-3 div.sk-label-container {text-align: center;}#sk-container-id-3 div.sk-container {/* jupyter's `normalize.less` sets `[hidden] { display: none; }` but bootstrap.min.css set `[hidden] { display: none !important; }` so we also need the `!important` here to be able to override the default hidden behavior on the sphinx rendered scikit-learn.org. See: https://github.com/scikit-learn/scikit-learn/issues/21755 */display: inline-block !important;position: relative;}#sk-container-id-3 div.sk-text-repr-fallback {display: none;}</style><div id=\"sk-container-id-3\" class=\"sk-top-container\"><div class=\"sk-text-repr-fallback\"><pre>KNeighborsClassifier()</pre><b>In a Jupyter environment, please rerun this cell to show the HTML representation or trust the notebook. <br />On GitHub, the HTML representation is unable to render, please try loading this page with nbviewer.org.</b></div><div class=\"sk-container\" hidden><div class=\"sk-item\"><div class=\"sk-estimator sk-toggleable\"><input class=\"sk-toggleable__control sk-hidden--visually\" id=\"sk-estimator-id-3\" type=\"checkbox\" checked><label for=\"sk-estimator-id-3\" class=\"sk-toggleable__label sk-toggleable__label-arrow\">KNeighborsClassifier</label><div class=\"sk-toggleable__content\"><pre>KNeighborsClassifier()</pre></div></div></div></div></div>"
      ],
      "text/plain": [
       "KNeighborsClassifier()"
      ]
     },
     "execution_count": 55,
     "metadata": {},
     "output_type": "execute_result"
    }
   ],
   "source": [
    "from sklearn.neighbors import KNeighborsClassifier\n",
    "\n",
    "# Returns True if training set labels is greater than or equal to 7.\n",
    "y_train_large = (y_train >= 7)\n",
    "\n",
    "# Returns True if training set labels is an odd number.\n",
    "y_train_odd = (y_train % 2 == 1)\n",
    "\n",
    "# Combine both labels as one.\n",
    "y_multilabel = np.c_[y_train_large, y_train_odd]\n",
    "\n",
    "# Create a KNeighborsClassifier instance.\n",
    "knn_clf = KNeighborsClassifier()\n",
    "\n",
    "# Fit the KNeighborsClassfier instance to our training set with the multilabel.\n",
    "knn_clf.fit(X_train.values, y_multilabel)"
   ]
  },
  {
   "cell_type": "markdown",
   "id": "8f52f396-90e4-4087-a8b7-549f172652ba",
   "metadata": {},
   "source": [
    "This code creates a `y_multilabel` array containing two target labels for each digit image: the first indicates whether or not the digit is large (7, 8, or 9) & the second indicates whether or not it is odd. The next line creates a `KNeighborsClassifier` instance (which supports multilabel classification, but not all classifiers do) & we train it using the multiple targets array. Now you can make a prediction, & notice that it outputs two labels."
   ]
  },
  {
   "cell_type": "code",
   "execution_count": 56,
   "id": "85e232b0-3389-4c0a-8007-bc74993af170",
   "metadata": {
    "tags": []
   },
   "outputs": [
    {
     "data": {
      "text/plain": [
       "array([[False,  True]])"
      ]
     },
     "execution_count": 56,
     "metadata": {},
     "output_type": "execute_result"
    }
   ],
   "source": [
    "# Predict the multilabel of our training set using the KNeighborsClassifier instance.\n",
    "knn_clf.predict([some_digit])"
   ]
  },
  {
   "cell_type": "markdown",
   "id": "818e7319-ccef-4add-a9e6-d8aca6e5c9b3",
   "metadata": {},
   "source": [
    "& it gets it right. The digit 5 is indeed not large (`False`) & odd (`True`).\n",
    "\n",
    "There are many ways to evaluate a multilabel classifier & selecting the right metric really depends on your project. For example, one approach is to measure the F1 score for each individual label (or any other binary classifier metric discussed earlier), then simply compute the average score. This code computes the average F1 score across all labels."
   ]
  },
  {
   "cell_type": "code",
   "execution_count": 57,
   "id": "190c1ec2-e074-484d-9a71-510998ba2b03",
   "metadata": {
    "tags": []
   },
   "outputs": [
    {
     "ename": "AttributeError",
     "evalue": "'Flags' object has no attribute 'c_contiguous'",
     "output_type": "error",
     "traceback": [
      "\u001b[1;31m---------------------------------------------------------------------------\u001b[0m",
      "\u001b[1;31mAttributeError\u001b[0m                            Traceback (most recent call last)",
      "Cell \u001b[1;32mIn[57], line 2\u001b[0m\n\u001b[0;32m      1\u001b[0m \u001b[38;5;66;03m# Get the cross-validated predictions (multilabels) for each sample of the training set.\u001b[39;00m\n\u001b[1;32m----> 2\u001b[0m y_train_knn_pred \u001b[38;5;241m=\u001b[39m cross_val_predict(knn_clf, X_train, y_multilabel, cv \u001b[38;5;241m=\u001b[39m \u001b[38;5;241m5\u001b[39m)\n\u001b[0;32m      4\u001b[0m \u001b[38;5;66;03m# Calculate the F1 Score.\u001b[39;00m\n\u001b[0;32m      5\u001b[0m f1_score(y_multilabel, y_train_knn_pred, average \u001b[38;5;241m=\u001b[39m \u001b[38;5;124m\"\u001b[39m\u001b[38;5;124mmacro\u001b[39m\u001b[38;5;124m\"\u001b[39m)\n",
      "File \u001b[1;32m~\\AppData\\Local\\anaconda3\\Lib\\site-packages\\sklearn\\model_selection\\_validation.py:1036\u001b[0m, in \u001b[0;36mcross_val_predict\u001b[1;34m(estimator, X, y, groups, cv, n_jobs, verbose, fit_params, pre_dispatch, method)\u001b[0m\n\u001b[0;32m   1033\u001b[0m \u001b[38;5;66;03m# We clone the estimator to make sure that all the folds are\u001b[39;00m\n\u001b[0;32m   1034\u001b[0m \u001b[38;5;66;03m# independent, and that it is pickle-able.\u001b[39;00m\n\u001b[0;32m   1035\u001b[0m parallel \u001b[38;5;241m=\u001b[39m Parallel(n_jobs\u001b[38;5;241m=\u001b[39mn_jobs, verbose\u001b[38;5;241m=\u001b[39mverbose, pre_dispatch\u001b[38;5;241m=\u001b[39mpre_dispatch)\n\u001b[1;32m-> 1036\u001b[0m predictions \u001b[38;5;241m=\u001b[39m parallel(\n\u001b[0;32m   1037\u001b[0m     delayed(_fit_and_predict)(\n\u001b[0;32m   1038\u001b[0m         clone(estimator), X, y, train, test, verbose, fit_params, method\n\u001b[0;32m   1039\u001b[0m     )\n\u001b[0;32m   1040\u001b[0m     \u001b[38;5;28;01mfor\u001b[39;00m train, test \u001b[38;5;129;01min\u001b[39;00m splits\n\u001b[0;32m   1041\u001b[0m )\n\u001b[0;32m   1043\u001b[0m inv_test_indices \u001b[38;5;241m=\u001b[39m np\u001b[38;5;241m.\u001b[39mempty(\u001b[38;5;28mlen\u001b[39m(test_indices), dtype\u001b[38;5;241m=\u001b[39m\u001b[38;5;28mint\u001b[39m)\n\u001b[0;32m   1044\u001b[0m inv_test_indices[test_indices] \u001b[38;5;241m=\u001b[39m np\u001b[38;5;241m.\u001b[39marange(\u001b[38;5;28mlen\u001b[39m(test_indices))\n",
      "File \u001b[1;32m~\\AppData\\Local\\anaconda3\\Lib\\site-packages\\sklearn\\utils\\parallel.py:65\u001b[0m, in \u001b[0;36mParallel.__call__\u001b[1;34m(self, iterable)\u001b[0m\n\u001b[0;32m     60\u001b[0m config \u001b[38;5;241m=\u001b[39m get_config()\n\u001b[0;32m     61\u001b[0m iterable_with_config \u001b[38;5;241m=\u001b[39m (\n\u001b[0;32m     62\u001b[0m     (_with_config(delayed_func, config), args, kwargs)\n\u001b[0;32m     63\u001b[0m     \u001b[38;5;28;01mfor\u001b[39;00m delayed_func, args, kwargs \u001b[38;5;129;01min\u001b[39;00m iterable\n\u001b[0;32m     64\u001b[0m )\n\u001b[1;32m---> 65\u001b[0m \u001b[38;5;28;01mreturn\u001b[39;00m \u001b[38;5;28msuper\u001b[39m()\u001b[38;5;241m.\u001b[39m\u001b[38;5;21m__call__\u001b[39m(iterable_with_config)\n",
      "File \u001b[1;32m~\\AppData\\Local\\anaconda3\\Lib\\site-packages\\joblib\\parallel.py:1085\u001b[0m, in \u001b[0;36mParallel.__call__\u001b[1;34m(self, iterable)\u001b[0m\n\u001b[0;32m   1076\u001b[0m \u001b[38;5;28;01mtry\u001b[39;00m:\n\u001b[0;32m   1077\u001b[0m     \u001b[38;5;66;03m# Only set self._iterating to True if at least a batch\u001b[39;00m\n\u001b[0;32m   1078\u001b[0m     \u001b[38;5;66;03m# was dispatched. In particular this covers the edge\u001b[39;00m\n\u001b[1;32m   (...)\u001b[0m\n\u001b[0;32m   1082\u001b[0m     \u001b[38;5;66;03m# was very quick and its callback already dispatched all the\u001b[39;00m\n\u001b[0;32m   1083\u001b[0m     \u001b[38;5;66;03m# remaining jobs.\u001b[39;00m\n\u001b[0;32m   1084\u001b[0m     \u001b[38;5;28mself\u001b[39m\u001b[38;5;241m.\u001b[39m_iterating \u001b[38;5;241m=\u001b[39m \u001b[38;5;28;01mFalse\u001b[39;00m\n\u001b[1;32m-> 1085\u001b[0m     \u001b[38;5;28;01mif\u001b[39;00m \u001b[38;5;28mself\u001b[39m\u001b[38;5;241m.\u001b[39mdispatch_one_batch(iterator):\n\u001b[0;32m   1086\u001b[0m         \u001b[38;5;28mself\u001b[39m\u001b[38;5;241m.\u001b[39m_iterating \u001b[38;5;241m=\u001b[39m \u001b[38;5;28mself\u001b[39m\u001b[38;5;241m.\u001b[39m_original_iterator \u001b[38;5;129;01mis\u001b[39;00m \u001b[38;5;129;01mnot\u001b[39;00m \u001b[38;5;28;01mNone\u001b[39;00m\n\u001b[0;32m   1088\u001b[0m     \u001b[38;5;28;01mwhile\u001b[39;00m \u001b[38;5;28mself\u001b[39m\u001b[38;5;241m.\u001b[39mdispatch_one_batch(iterator):\n",
      "File \u001b[1;32m~\\AppData\\Local\\anaconda3\\Lib\\site-packages\\joblib\\parallel.py:901\u001b[0m, in \u001b[0;36mParallel.dispatch_one_batch\u001b[1;34m(self, iterator)\u001b[0m\n\u001b[0;32m    899\u001b[0m     \u001b[38;5;28;01mreturn\u001b[39;00m \u001b[38;5;28;01mFalse\u001b[39;00m\n\u001b[0;32m    900\u001b[0m \u001b[38;5;28;01melse\u001b[39;00m:\n\u001b[1;32m--> 901\u001b[0m     \u001b[38;5;28mself\u001b[39m\u001b[38;5;241m.\u001b[39m_dispatch(tasks)\n\u001b[0;32m    902\u001b[0m     \u001b[38;5;28;01mreturn\u001b[39;00m \u001b[38;5;28;01mTrue\u001b[39;00m\n",
      "File \u001b[1;32m~\\AppData\\Local\\anaconda3\\Lib\\site-packages\\joblib\\parallel.py:819\u001b[0m, in \u001b[0;36mParallel._dispatch\u001b[1;34m(self, batch)\u001b[0m\n\u001b[0;32m    817\u001b[0m \u001b[38;5;28;01mwith\u001b[39;00m \u001b[38;5;28mself\u001b[39m\u001b[38;5;241m.\u001b[39m_lock:\n\u001b[0;32m    818\u001b[0m     job_idx \u001b[38;5;241m=\u001b[39m \u001b[38;5;28mlen\u001b[39m(\u001b[38;5;28mself\u001b[39m\u001b[38;5;241m.\u001b[39m_jobs)\n\u001b[1;32m--> 819\u001b[0m     job \u001b[38;5;241m=\u001b[39m \u001b[38;5;28mself\u001b[39m\u001b[38;5;241m.\u001b[39m_backend\u001b[38;5;241m.\u001b[39mapply_async(batch, callback\u001b[38;5;241m=\u001b[39mcb)\n\u001b[0;32m    820\u001b[0m     \u001b[38;5;66;03m# A job can complete so quickly than its callback is\u001b[39;00m\n\u001b[0;32m    821\u001b[0m     \u001b[38;5;66;03m# called before we get here, causing self._jobs to\u001b[39;00m\n\u001b[0;32m    822\u001b[0m     \u001b[38;5;66;03m# grow. To ensure correct results ordering, .insert is\u001b[39;00m\n\u001b[0;32m    823\u001b[0m     \u001b[38;5;66;03m# used (rather than .append) in the following line\u001b[39;00m\n\u001b[0;32m    824\u001b[0m     \u001b[38;5;28mself\u001b[39m\u001b[38;5;241m.\u001b[39m_jobs\u001b[38;5;241m.\u001b[39minsert(job_idx, job)\n",
      "File \u001b[1;32m~\\AppData\\Local\\anaconda3\\Lib\\site-packages\\joblib\\_parallel_backends.py:208\u001b[0m, in \u001b[0;36mSequentialBackend.apply_async\u001b[1;34m(self, func, callback)\u001b[0m\n\u001b[0;32m    206\u001b[0m \u001b[38;5;28;01mdef\u001b[39;00m \u001b[38;5;21mapply_async\u001b[39m(\u001b[38;5;28mself\u001b[39m, func, callback\u001b[38;5;241m=\u001b[39m\u001b[38;5;28;01mNone\u001b[39;00m):\n\u001b[0;32m    207\u001b[0m \u001b[38;5;250m    \u001b[39m\u001b[38;5;124;03m\"\"\"Schedule a func to be run\"\"\"\u001b[39;00m\n\u001b[1;32m--> 208\u001b[0m     result \u001b[38;5;241m=\u001b[39m ImmediateResult(func)\n\u001b[0;32m    209\u001b[0m     \u001b[38;5;28;01mif\u001b[39;00m callback:\n\u001b[0;32m    210\u001b[0m         callback(result)\n",
      "File \u001b[1;32m~\\AppData\\Local\\anaconda3\\Lib\\site-packages\\joblib\\_parallel_backends.py:597\u001b[0m, in \u001b[0;36mImmediateResult.__init__\u001b[1;34m(self, batch)\u001b[0m\n\u001b[0;32m    594\u001b[0m \u001b[38;5;28;01mdef\u001b[39;00m \u001b[38;5;21m__init__\u001b[39m(\u001b[38;5;28mself\u001b[39m, batch):\n\u001b[0;32m    595\u001b[0m     \u001b[38;5;66;03m# Don't delay the application, to avoid keeping the input\u001b[39;00m\n\u001b[0;32m    596\u001b[0m     \u001b[38;5;66;03m# arguments in memory\u001b[39;00m\n\u001b[1;32m--> 597\u001b[0m     \u001b[38;5;28mself\u001b[39m\u001b[38;5;241m.\u001b[39mresults \u001b[38;5;241m=\u001b[39m batch()\n",
      "File \u001b[1;32m~\\AppData\\Local\\anaconda3\\Lib\\site-packages\\joblib\\parallel.py:288\u001b[0m, in \u001b[0;36mBatchedCalls.__call__\u001b[1;34m(self)\u001b[0m\n\u001b[0;32m    284\u001b[0m \u001b[38;5;28;01mdef\u001b[39;00m \u001b[38;5;21m__call__\u001b[39m(\u001b[38;5;28mself\u001b[39m):\n\u001b[0;32m    285\u001b[0m     \u001b[38;5;66;03m# Set the default nested backend to self._backend but do not set the\u001b[39;00m\n\u001b[0;32m    286\u001b[0m     \u001b[38;5;66;03m# change the default number of processes to -1\u001b[39;00m\n\u001b[0;32m    287\u001b[0m     \u001b[38;5;28;01mwith\u001b[39;00m parallel_backend(\u001b[38;5;28mself\u001b[39m\u001b[38;5;241m.\u001b[39m_backend, n_jobs\u001b[38;5;241m=\u001b[39m\u001b[38;5;28mself\u001b[39m\u001b[38;5;241m.\u001b[39m_n_jobs):\n\u001b[1;32m--> 288\u001b[0m         \u001b[38;5;28;01mreturn\u001b[39;00m [func(\u001b[38;5;241m*\u001b[39margs, \u001b[38;5;241m*\u001b[39m\u001b[38;5;241m*\u001b[39mkwargs)\n\u001b[0;32m    289\u001b[0m                 \u001b[38;5;28;01mfor\u001b[39;00m func, args, kwargs \u001b[38;5;129;01min\u001b[39;00m \u001b[38;5;28mself\u001b[39m\u001b[38;5;241m.\u001b[39mitems]\n",
      "File \u001b[1;32m~\\AppData\\Local\\anaconda3\\Lib\\site-packages\\joblib\\parallel.py:288\u001b[0m, in \u001b[0;36m<listcomp>\u001b[1;34m(.0)\u001b[0m\n\u001b[0;32m    284\u001b[0m \u001b[38;5;28;01mdef\u001b[39;00m \u001b[38;5;21m__call__\u001b[39m(\u001b[38;5;28mself\u001b[39m):\n\u001b[0;32m    285\u001b[0m     \u001b[38;5;66;03m# Set the default nested backend to self._backend but do not set the\u001b[39;00m\n\u001b[0;32m    286\u001b[0m     \u001b[38;5;66;03m# change the default number of processes to -1\u001b[39;00m\n\u001b[0;32m    287\u001b[0m     \u001b[38;5;28;01mwith\u001b[39;00m parallel_backend(\u001b[38;5;28mself\u001b[39m\u001b[38;5;241m.\u001b[39m_backend, n_jobs\u001b[38;5;241m=\u001b[39m\u001b[38;5;28mself\u001b[39m\u001b[38;5;241m.\u001b[39m_n_jobs):\n\u001b[1;32m--> 288\u001b[0m         \u001b[38;5;28;01mreturn\u001b[39;00m [func(\u001b[38;5;241m*\u001b[39margs, \u001b[38;5;241m*\u001b[39m\u001b[38;5;241m*\u001b[39mkwargs)\n\u001b[0;32m    289\u001b[0m                 \u001b[38;5;28;01mfor\u001b[39;00m func, args, kwargs \u001b[38;5;129;01min\u001b[39;00m \u001b[38;5;28mself\u001b[39m\u001b[38;5;241m.\u001b[39mitems]\n",
      "File \u001b[1;32m~\\AppData\\Local\\anaconda3\\Lib\\site-packages\\sklearn\\utils\\parallel.py:127\u001b[0m, in \u001b[0;36m_FuncWrapper.__call__\u001b[1;34m(self, *args, **kwargs)\u001b[0m\n\u001b[0;32m    125\u001b[0m     config \u001b[38;5;241m=\u001b[39m {}\n\u001b[0;32m    126\u001b[0m \u001b[38;5;28;01mwith\u001b[39;00m config_context(\u001b[38;5;241m*\u001b[39m\u001b[38;5;241m*\u001b[39mconfig):\n\u001b[1;32m--> 127\u001b[0m     \u001b[38;5;28;01mreturn\u001b[39;00m \u001b[38;5;28mself\u001b[39m\u001b[38;5;241m.\u001b[39mfunction(\u001b[38;5;241m*\u001b[39margs, \u001b[38;5;241m*\u001b[39m\u001b[38;5;241m*\u001b[39mkwargs)\n",
      "File \u001b[1;32m~\\AppData\\Local\\anaconda3\\Lib\\site-packages\\sklearn\\model_selection\\_validation.py:1120\u001b[0m, in \u001b[0;36m_fit_and_predict\u001b[1;34m(estimator, X, y, train, test, verbose, fit_params, method)\u001b[0m\n\u001b[0;32m   1118\u001b[0m     estimator\u001b[38;5;241m.\u001b[39mfit(X_train, y_train, \u001b[38;5;241m*\u001b[39m\u001b[38;5;241m*\u001b[39mfit_params)\n\u001b[0;32m   1119\u001b[0m func \u001b[38;5;241m=\u001b[39m \u001b[38;5;28mgetattr\u001b[39m(estimator, method)\n\u001b[1;32m-> 1120\u001b[0m predictions \u001b[38;5;241m=\u001b[39m func(X_test)\n\u001b[0;32m   1122\u001b[0m encode \u001b[38;5;241m=\u001b[39m (\n\u001b[0;32m   1123\u001b[0m     method \u001b[38;5;129;01min\u001b[39;00m [\u001b[38;5;124m\"\u001b[39m\u001b[38;5;124mdecision_function\u001b[39m\u001b[38;5;124m\"\u001b[39m, \u001b[38;5;124m\"\u001b[39m\u001b[38;5;124mpredict_proba\u001b[39m\u001b[38;5;124m\"\u001b[39m, \u001b[38;5;124m\"\u001b[39m\u001b[38;5;124mpredict_log_proba\u001b[39m\u001b[38;5;124m\"\u001b[39m]\n\u001b[0;32m   1124\u001b[0m     \u001b[38;5;129;01mand\u001b[39;00m y \u001b[38;5;129;01mis\u001b[39;00m \u001b[38;5;129;01mnot\u001b[39;00m \u001b[38;5;28;01mNone\u001b[39;00m\n\u001b[0;32m   1125\u001b[0m )\n\u001b[0;32m   1127\u001b[0m \u001b[38;5;28;01mif\u001b[39;00m encode:\n",
      "File \u001b[1;32m~\\AppData\\Local\\anaconda3\\Lib\\site-packages\\sklearn\\neighbors\\_classification.py:246\u001b[0m, in \u001b[0;36mKNeighborsClassifier.predict\u001b[1;34m(self, X)\u001b[0m\n\u001b[0;32m    244\u001b[0m check_is_fitted(\u001b[38;5;28mself\u001b[39m, \u001b[38;5;124m\"\u001b[39m\u001b[38;5;124m_fit_method\u001b[39m\u001b[38;5;124m\"\u001b[39m)\n\u001b[0;32m    245\u001b[0m \u001b[38;5;28;01mif\u001b[39;00m \u001b[38;5;28mself\u001b[39m\u001b[38;5;241m.\u001b[39mweights \u001b[38;5;241m==\u001b[39m \u001b[38;5;124m\"\u001b[39m\u001b[38;5;124muniform\u001b[39m\u001b[38;5;124m\"\u001b[39m:\n\u001b[1;32m--> 246\u001b[0m     \u001b[38;5;28;01mif\u001b[39;00m \u001b[38;5;28mself\u001b[39m\u001b[38;5;241m.\u001b[39m_fit_method \u001b[38;5;241m==\u001b[39m \u001b[38;5;124m\"\u001b[39m\u001b[38;5;124mbrute\u001b[39m\u001b[38;5;124m\"\u001b[39m \u001b[38;5;129;01mand\u001b[39;00m ArgKminClassMode\u001b[38;5;241m.\u001b[39mis_usable_for(\n\u001b[0;32m    247\u001b[0m         X, \u001b[38;5;28mself\u001b[39m\u001b[38;5;241m.\u001b[39m_fit_X, \u001b[38;5;28mself\u001b[39m\u001b[38;5;241m.\u001b[39mmetric\n\u001b[0;32m    248\u001b[0m     ):\n\u001b[0;32m    249\u001b[0m         probabilities \u001b[38;5;241m=\u001b[39m \u001b[38;5;28mself\u001b[39m\u001b[38;5;241m.\u001b[39mpredict_proba(X)\n\u001b[0;32m    250\u001b[0m         \u001b[38;5;28;01mif\u001b[39;00m \u001b[38;5;28mself\u001b[39m\u001b[38;5;241m.\u001b[39moutputs_2d_:\n",
      "File \u001b[1;32m~\\AppData\\Local\\anaconda3\\Lib\\site-packages\\sklearn\\metrics\\_pairwise_distances_reduction\\_dispatcher.py:471\u001b[0m, in \u001b[0;36mArgKminClassMode.is_usable_for\u001b[1;34m(cls, X, Y, metric)\u001b[0m\n\u001b[0;32m    448\u001b[0m \u001b[38;5;129m@classmethod\u001b[39m\n\u001b[0;32m    449\u001b[0m \u001b[38;5;28;01mdef\u001b[39;00m \u001b[38;5;21mis_usable_for\u001b[39m(\u001b[38;5;28mcls\u001b[39m, X, Y, metric) \u001b[38;5;241m-\u001b[39m\u001b[38;5;241m>\u001b[39m \u001b[38;5;28mbool\u001b[39m:\n\u001b[0;32m    450\u001b[0m \u001b[38;5;250m    \u001b[39m\u001b[38;5;124;03m\"\"\"Return True if the dispatcher can be used for the given parameters.\u001b[39;00m\n\u001b[0;32m    451\u001b[0m \n\u001b[0;32m    452\u001b[0m \u001b[38;5;124;03m    Parameters\u001b[39;00m\n\u001b[1;32m   (...)\u001b[0m\n\u001b[0;32m    468\u001b[0m \u001b[38;5;124;03m    True if the PairwiseDistancesReduction can be used, else False.\u001b[39;00m\n\u001b[0;32m    469\u001b[0m \u001b[38;5;124;03m    \"\"\"\u001b[39;00m\n\u001b[0;32m    470\u001b[0m     \u001b[38;5;28;01mreturn\u001b[39;00m (\n\u001b[1;32m--> 471\u001b[0m         ArgKmin\u001b[38;5;241m.\u001b[39mis_usable_for(X, Y, metric)\n\u001b[0;32m    472\u001b[0m         \u001b[38;5;66;03m# TODO: Support CSR matrices.\u001b[39;00m\n\u001b[0;32m    473\u001b[0m         \u001b[38;5;129;01mand\u001b[39;00m \u001b[38;5;129;01mnot\u001b[39;00m issparse(X)\n\u001b[0;32m    474\u001b[0m         \u001b[38;5;129;01mand\u001b[39;00m \u001b[38;5;129;01mnot\u001b[39;00m issparse(Y)\n\u001b[0;32m    475\u001b[0m         \u001b[38;5;66;03m# TODO: implement Euclidean specialization with GEMM.\u001b[39;00m\n\u001b[0;32m    476\u001b[0m         \u001b[38;5;129;01mand\u001b[39;00m metric \u001b[38;5;129;01mnot\u001b[39;00m \u001b[38;5;129;01min\u001b[39;00m (\u001b[38;5;124m\"\u001b[39m\u001b[38;5;124meuclidean\u001b[39m\u001b[38;5;124m\"\u001b[39m, \u001b[38;5;124m\"\u001b[39m\u001b[38;5;124msqeuclidean\u001b[39m\u001b[38;5;124m\"\u001b[39m)\n\u001b[0;32m    477\u001b[0m     )\n",
      "File \u001b[1;32m~\\AppData\\Local\\anaconda3\\Lib\\site-packages\\sklearn\\metrics\\_pairwise_distances_reduction\\_dispatcher.py:115\u001b[0m, in \u001b[0;36mBaseDistancesReductionDispatcher.is_usable_for\u001b[1;34m(cls, X, Y, metric)\u001b[0m\n\u001b[0;32m    101\u001b[0m \u001b[38;5;28;01mdef\u001b[39;00m \u001b[38;5;21mis_valid_sparse_matrix\u001b[39m(X):\n\u001b[0;32m    102\u001b[0m     \u001b[38;5;28;01mreturn\u001b[39;00m (\n\u001b[0;32m    103\u001b[0m         isspmatrix_csr(X)\n\u001b[0;32m    104\u001b[0m         \u001b[38;5;129;01mand\u001b[39;00m\n\u001b[1;32m   (...)\u001b[0m\n\u001b[0;32m    110\u001b[0m         X\u001b[38;5;241m.\u001b[39mindices\u001b[38;5;241m.\u001b[39mdtype \u001b[38;5;241m==\u001b[39m X\u001b[38;5;241m.\u001b[39mindptr\u001b[38;5;241m.\u001b[39mdtype \u001b[38;5;241m==\u001b[39m np\u001b[38;5;241m.\u001b[39mint32\n\u001b[0;32m    111\u001b[0m     )\n\u001b[0;32m    113\u001b[0m is_usable \u001b[38;5;241m=\u001b[39m (\n\u001b[0;32m    114\u001b[0m     get_config()\u001b[38;5;241m.\u001b[39mget(\u001b[38;5;124m\"\u001b[39m\u001b[38;5;124menable_cython_pairwise_dist\u001b[39m\u001b[38;5;124m\"\u001b[39m, \u001b[38;5;28;01mTrue\u001b[39;00m)\n\u001b[1;32m--> 115\u001b[0m     \u001b[38;5;129;01mand\u001b[39;00m (is_numpy_c_ordered(X) \u001b[38;5;129;01mor\u001b[39;00m is_valid_sparse_matrix(X))\n\u001b[0;32m    116\u001b[0m     \u001b[38;5;129;01mand\u001b[39;00m (is_numpy_c_ordered(Y) \u001b[38;5;129;01mor\u001b[39;00m is_valid_sparse_matrix(Y))\n\u001b[0;32m    117\u001b[0m     \u001b[38;5;129;01mand\u001b[39;00m X\u001b[38;5;241m.\u001b[39mdtype \u001b[38;5;241m==\u001b[39m Y\u001b[38;5;241m.\u001b[39mdtype\n\u001b[0;32m    118\u001b[0m     \u001b[38;5;129;01mand\u001b[39;00m X\u001b[38;5;241m.\u001b[39mdtype \u001b[38;5;129;01min\u001b[39;00m (np\u001b[38;5;241m.\u001b[39mfloat32, np\u001b[38;5;241m.\u001b[39mfloat64)\n\u001b[0;32m    119\u001b[0m     \u001b[38;5;129;01mand\u001b[39;00m metric \u001b[38;5;129;01min\u001b[39;00m \u001b[38;5;28mcls\u001b[39m\u001b[38;5;241m.\u001b[39mvalid_metrics()\n\u001b[0;32m    120\u001b[0m )\n\u001b[0;32m    122\u001b[0m \u001b[38;5;28;01mreturn\u001b[39;00m is_usable\n",
      "File \u001b[1;32m~\\AppData\\Local\\anaconda3\\Lib\\site-packages\\sklearn\\metrics\\_pairwise_distances_reduction\\_dispatcher.py:99\u001b[0m, in \u001b[0;36mBaseDistancesReductionDispatcher.is_usable_for.<locals>.is_numpy_c_ordered\u001b[1;34m(X)\u001b[0m\n\u001b[0;32m     98\u001b[0m \u001b[38;5;28;01mdef\u001b[39;00m \u001b[38;5;21mis_numpy_c_ordered\u001b[39m(X):\n\u001b[1;32m---> 99\u001b[0m     \u001b[38;5;28;01mreturn\u001b[39;00m \u001b[38;5;28mhasattr\u001b[39m(X, \u001b[38;5;124m\"\u001b[39m\u001b[38;5;124mflags\u001b[39m\u001b[38;5;124m\"\u001b[39m) \u001b[38;5;129;01mand\u001b[39;00m X\u001b[38;5;241m.\u001b[39mflags\u001b[38;5;241m.\u001b[39mc_contiguous\n",
      "\u001b[1;31mAttributeError\u001b[0m: 'Flags' object has no attribute 'c_contiguous'"
     ]
    }
   ],
   "source": [
    "# Get the cross-validated predictions (multilabels) for each sample of the training set.\n",
    "y_train_knn_pred = cross_val_predict(knn_clf, X_train, y_multilabel, cv = 5)\n",
    "\n",
    "# Calculate the F1 Score.\n",
    "f1_score(y_multilabel, y_train_knn_pred, average = \"macro\")"
   ]
  },
  {
   "cell_type": "markdown",
   "id": "e870c67e-e3b3-4309-9c23-08a528f395ae",
   "metadata": {},
   "source": [
    "This assumes that all labels are equally important, which may not be the case. In particular, if you have many more pictures of Alice than of Bob or Charlie, you may want to give more weight to the classifier's score on pictures of Alice. One simple option is to give each label a weight equal to its *support* (i.e., the number of instances with that target label). To do this, simply set `average = \"weighted\"` in the preceding code."
   ]
  },
  {
   "cell_type": "markdown",
   "id": "3d1c410f-c3b0-40de-8651-24638d7ed080",
   "metadata": {},
   "source": [
    "---"
   ]
  },
  {
   "cell_type": "markdown",
   "id": "1e1bd609-84d0-40d2-be78-f0873b130d80",
   "metadata": {},
   "source": [
    "# Multioutput Classification\n",
    "\n",
    "The last type of classification task we are going to discuss is called *multioutput-multiclass classification* (or simply *multioutput classification*). It is simply a generalisation of multilabel classification where each laebl can be multiclass (i.e., it can have more than two possible values).\n",
    "\n",
    "To illustrate this, let's build a system that removes noise from images. It will take as input a noisy digit image, & it will (hopefully) output a clean digit image, represented as an array of pixel intensities, just like the MNIST images. Notice that the classifier's output is multilabel (one label per pixel) & each label can have multiple values (pixel intensity ranges from 0 to 255). It is thus an example of an multioutput classification system.\n",
    "\n",
    "Let's start by creating the training & test sets by taking the MNIST images & adding noise to their pixel intensities using NumPy's `randint()` function. The target images will be the original images."
   ]
  },
  {
   "cell_type": "code",
   "execution_count": null,
   "id": "53eb7cb7-7906-4ae4-9e9f-e31d30e7e144",
   "metadata": {
    "tags": []
   },
   "outputs": [],
   "source": [
    "# Add noise to the training set features.\n",
    "noise = np.random.randint(0, 100, (len(X_train), 784))\n",
    "X_train_mod = X_train + noise\n",
    "\n",
    "# Add noise to the test set features.\n",
    "noise = np.random.randint(0, 100, (len(X_test), 784))\n",
    "X_test_mod = X_test + noise\n",
    "\n",
    "# Get unmodified training & test set features.\n",
    "y_train_mod = X_train\n",
    "y_test_mod = X_test"
   ]
  },
  {
   "cell_type": "markdown",
   "id": "e461f52a-7e78-4a6b-936b-53383fe78eca",
   "metadata": {},
   "source": [
    "Let's take a peek at an image from the test set (yes, we're snooping on the test data, so you should be frowning right now)."
   ]
  },
  {
   "cell_type": "code",
   "execution_count": null,
   "id": "6bfdebec-3765-4354-8c75-451ac98994d5",
   "metadata": {
    "tags": []
   },
   "outputs": [],
   "source": [
    "some_index = 0\n",
    "\n",
    "# Plot the first sample in the noisy test set.\n",
    "plt.subplot(121); plot_digit(X_test_mod[some_index])\n",
    "\n",
    "# Plot the first sample in the unmodified test set.\n",
    "plt.subplot(122); plot_digit(y_test_mod[some_index])\n",
    "plt.show()"
   ]
  },
  {
   "cell_type": "markdown",
   "id": "8e3128e1-4363-4aaf-a463-d861821dfcb3",
   "metadata": {},
   "source": [
    "On the left is the noisy input image, & on the right is the clean target image. Now let's train the classifier & make it clean this image."
   ]
  },
  {
   "cell_type": "code",
   "execution_count": null,
   "id": "8947f990-365c-4328-972c-83e2ca21c87b",
   "metadata": {
    "tags": []
   },
   "outputs": [],
   "source": [
    "# Fit a KNeighboursClassifier to our noisy training set.\n",
    "knn_clf.fit(X_train_mod, y_train_mod)\n",
    "\n",
    "# Use our KNeighboursClassifier to predict the first sample in our noisy test set.\n",
    "clean_digit = knn_clf.predict([X_test_mod[some_index]])\n",
    "\n",
    "# Plot he predicted class of the sample.\n",
    "plot_digit(clean_digit)"
   ]
  },
  {
   "cell_type": "markdown",
   "id": "a8d7bc67-bd7f-4614-aa81-f6bd182caeef",
   "metadata": {},
   "source": [
    "Looks close enough to the target! This concludes our tour of classification. Hopefully, you should now know how to select good metrics for classification tasks, pick the appropriate precision/recall tradeoff, compare classifiers, & more generally build good classification systems for a variety of tasks."
   ]
  },
  {
   "cell_type": "code",
   "execution_count": null,
   "id": "8e78ded3-3716-451c-a429-1a8d78eb8d93",
   "metadata": {},
   "outputs": [],
   "source": []
  }
 ],
 "metadata": {
  "kernelspec": {
   "display_name": "Python 3 (ipykernel)",
   "language": "python",
   "name": "python3"
  },
  "language_info": {
   "codemirror_mode": {
    "name": "ipython",
    "version": 3
   },
   "file_extension": ".py",
   "mimetype": "text/x-python",
   "name": "python",
   "nbconvert_exporter": "python",
   "pygments_lexer": "ipython3",
   "version": "3.11.5"
  }
 },
 "nbformat": 4,
 "nbformat_minor": 5
}
