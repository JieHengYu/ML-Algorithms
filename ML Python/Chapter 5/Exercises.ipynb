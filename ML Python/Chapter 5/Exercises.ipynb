{
 "cells": [
  {
   "cell_type": "markdown",
   "id": "ce1fbdf5-3403-4874-9e97-4b00d8bae82b",
   "metadata": {},
   "source": [
    "# Exercises\n",
    "\n",
    "1. What is the fundamental idea behind support vector machines?\n",
    "2. What is a support vector?\n",
    "3. Why is it important to scale the inputs when using SVMs?\n",
    "4. Can a SVM classifier output a confidence score when it classifies an instance? What about a probability?\n",
    "5. Should you use the primal or dual form of the SVM problem to train a model on a training set with millions of instances & hundred of features?\n",
    "6. Say you trained an SVM classifier with an RBF kernel. it seems to underfit the training set: should you increase or decrease $\\gamma$ (`gamma`)? What about `C`?\n",
    "7. How should you set the QP parameters ($H$, $f$, $A$, & $b$) to solve the soft margin linear SVM classifier problem using an off-the-shelf QP solver?\n",
    "8. Train a `LinearSVC` on a linearly separable dataset. Then train an `SVC` & a `SGDClassifer` on the same dataset. See if you can get them to produce roughly the same model.\n",
    "9. Train an SVM classifier on the MNIST dataset. Since SVM classifiers are binary classifiers, you will need to use one-versus-all to classify all 10 digits. you may want to tune the hyperparameters using small validation sets to speed up the process. What accuracy can you reach?\n",
    "10. Train an SVM regressor on the California housing dataset."
   ]
  },
  {
   "cell_type": "markdown",
   "id": "cc7e2cda-abb8-41f5-a175-fbbb44af2eea",
   "metadata": {},
   "source": [
    "---"
   ]
  },
  {
   "cell_type": "markdown",
   "id": "e53d2d5f-f184-46c8-86b3-538b248ed512",
   "metadata": {},
   "source": [
    "1. For SVM classification, you want to find the best parameters for the decision function that defines the hyperplane that maximises the distance between it & its support vectors (maximise the margin), while minimising the number of instances that exist between the hyperplane & its support vectors (minimising the amount of margin violation). For SVM regression, its the opposite. You want to increase the number of instances between the support vectors & minimise the number of instances outside of it.\n",
    "2. Support vectors are the instances that lie on or within the margin. They are used to define the decision boundary. Instances outside of the margin-violation line do not affect the decision boundary. Computing the predictions only involve the support vectors, not all instances.\n",
    "3. Support vectors machines are sensitive to feature scales, so to improve the model performance (larger margin, less margin violation) & speed, we scale the inputs. This ensures that each feature will have equal weight when building the model.\n",
    "4. Not sure what \"confidence score\" means in this question, but you can output the distance between an instance & the decision boundary. SVM classifiers cannot output probabilities.\n",
    "5. The dual form of the SVM problem is faster to solve than the primal when the number of training instances is smaller than the number of features.\n",
    "6. You should increase gamma if your classifier is underfit. Same applies with C.\n",
    "7. For a hard margin linear SVM classifier, the QP parameters are defined as:\n",
    "   * $n_p = n + 1$, where $n$ is the number of features (+1 for the bias term)\n",
    "   * $n_c = m$, where m is the number of training instances\n",
    "   * $H$ is the $n_p * n_p$ identity matrix, except with a zero in the top-left cell (to ignore the bias term)\n",
    "   * $f = 0$, an $n_p$ dimensional vector full of 0s\n",
    "   * $b = -1$, an $n_c$ dimensional vector full of -1s\n",
    "   * $a^{(i)} = -t^{(i)}x^{(i)}$, where $x^{(i)}$ is equal to $x^{(i)}$ with an extra bias feature $x_0 = 1$\n",
    "   \n",
    "   For soft margin linear SVM classifier, the QP parameters have $m$ additional parameters & $m$ additional constraints, so:\n",
    "   * $n_p = n + 1 + m$\n",
    "   * $n_c = 2m$\n",
    "   * $H$ is an $n_p * n_p$ identity matrix, plus $m$ columns of 0s on the right & $m$ rows of 0s at the bottom.\n",
    "   * $f$ is an $n_p$ dimensional vector with $m$ additional elements, all equal to the value of hyperparameter C\n",
    "   * $b$ is an $n_c$ dimensional vector with $m$ additional elements, all equal to 0\n",
    "   * $a = -tx$ with an extra $m * m$ identity matrix to the right & another below the said identity matrix, while the rest is filled with 0."
   ]
  },
  {
   "cell_type": "markdown",
   "id": "f763cc43-68e1-4e4e-968c-7ec1e5180d85",
   "metadata": {},
   "source": [
    "# 8."
   ]
  },
  {
   "cell_type": "code",
   "execution_count": 2,
   "id": "00596523-3af7-4d8e-bd1a-4516afbb4c0c",
   "metadata": {},
   "outputs": [
    {
     "data": {
      "text/plain": [
       "array([[3.5, 1. ],\n",
       "       [4.7, 1.6],\n",
       "       [5. , 1.5],\n",
       "       [4.1, 1.3],\n",
       "       [4.5, 1.5],\n",
       "       [4.7, 1.4],\n",
       "       [4.9, 1.8],\n",
       "       [4.6, 1.5],\n",
       "       [3.5, 1. ],\n",
       "       [4.6, 1.4],\n",
       "       [5.6, 2.2],\n",
       "       [5.1, 1.5],\n",
       "       [4.7, 1.4],\n",
       "       [4.9, 1.5],\n",
       "       [4. , 1.3],\n",
       "       [4. , 1.3],\n",
       "       [4.9, 1.8],\n",
       "       [4.5, 1.5],\n",
       "       [4.5, 1.5],\n",
       "       [4.2, 1.2],\n",
       "       [6.7, 2. ],\n",
       "       [6.9, 2.3],\n",
       "       [3. , 1.1],\n",
       "       [6.1, 2.3],\n",
       "       [5.6, 1.8],\n",
       "       [5.2, 2.3],\n",
       "       [3.8, 1.1],\n",
       "       [5. , 1.9],\n",
       "       [4.9, 1.5],\n",
       "       [5.5, 1.8],\n",
       "       [4.6, 1.3],\n",
       "       [5.6, 2.4],\n",
       "       [4.2, 1.3],\n",
       "       [4.7, 1.5],\n",
       "       [5.1, 2.4],\n",
       "       [4.5, 1.6],\n",
       "       [4.4, 1.2],\n",
       "       [5. , 1.7],\n",
       "       [5.1, 1.6],\n",
       "       [6.3, 1.8],\n",
       "       [6.7, 2.2],\n",
       "       [4.3, 1.3],\n",
       "       [5.7, 2.1],\n",
       "       [6.1, 2.5],\n",
       "       [4.8, 1.8],\n",
       "       [5.8, 1.8],\n",
       "       [5. , 2. ],\n",
       "       [4. , 1. ],\n",
       "       [5.4, 2.1],\n",
       "       [4.4, 1.4],\n",
       "       [4.2, 1.5],\n",
       "       [5.4, 2.3],\n",
       "       [6.6, 2.1],\n",
       "       [4. , 1.2],\n",
       "       [3.9, 1.2],\n",
       "       [5.7, 2.5],\n",
       "       [5.1, 1.9],\n",
       "       [4.5, 1.5],\n",
       "       [6. , 2.5],\n",
       "       [6. , 1.8],\n",
       "       [3.6, 1.3],\n",
       "       [3.7, 1. ],\n",
       "       [4.2, 1.3],\n",
       "       [4.8, 1.8],\n",
       "       [6.4, 2. ],\n",
       "       [5.1, 2. ],\n",
       "       [5.6, 2.4],\n",
       "       [5.9, 2.1],\n",
       "       [4.9, 2. ],\n",
       "       [5.3, 2.3],\n",
       "       [5.1, 1.9],\n",
       "       [4.8, 1.4],\n",
       "       [4.1, 1. ],\n",
       "       [6.1, 1.9],\n",
       "       [4.5, 1.7],\n",
       "       [5.5, 2.1],\n",
       "       [5.5, 1.8],\n",
       "       [4.1, 1.3],\n",
       "       [4.8, 1.8],\n",
       "       [4.5, 1.5]])"
      ]
     },
     "execution_count": 2,
     "metadata": {},
     "output_type": "execute_result"
    }
   ],
   "source": [
    "from sklearn import datasets\n",
    "import numpy as np\n",
    "from sklearn.model_selection import StratifiedShuffleSplit\n",
    "\n",
    "iris = datasets.load_iris()\n",
    "X = iris[\"data\"][:, (2, 3)]\n",
    "y = iris[\"target\"]\n",
    "X = X[(y == 1)|(y == 2)]\n",
    "y = y[(y == 1)|(y == 2)]\n",
    "sss = StratifiedShuffleSplit(n_splits = 1, test_size = 0.2, random_state = 32)\n",
    "\n",
    "for train_indices, test_indices in sss.split(X, y):\n",
    "    X_train, y_train = X[train_indices], y[train_indices]\n",
    "    X_test, y_test = X[test_indices], y[test_indices]\n",
    "X_train"
   ]
  },
  {
   "cell_type": "code",
   "execution_count": 3,
   "id": "b6a5e6f2-72d3-4532-ad05-8c3f85c0b1ec",
   "metadata": {},
   "outputs": [
    {
     "data": {
      "text/plain": [
       "array([[-1.74951221, -1.66882611],\n",
       "       [-0.28650548, -0.22291179],\n",
       "       [ 0.0792462 , -0.46389751],\n",
       "       [-1.01800885, -0.94586895],\n",
       "       [-0.53033994, -0.46389751],\n",
       "       [-0.28650548, -0.70488323],\n",
       "       [-0.04267103,  0.25905965],\n",
       "       [-0.40842271, -0.46389751],\n",
       "       [-1.74951221, -1.66882611],\n",
       "       [-0.40842271, -0.70488323],\n",
       "       [ 0.81074956,  1.22300253],\n",
       "       [ 0.20116343, -0.46389751],\n",
       "       [-0.28650548, -0.70488323],\n",
       "       [-0.04267103, -0.46389751],\n",
       "       [-1.13992608, -0.94586895],\n",
       "       [-1.13992608, -0.94586895],\n",
       "       [-0.04267103,  0.25905965],\n",
       "       [-0.53033994, -0.46389751],\n",
       "       [-0.53033994, -0.46389751],\n",
       "       [-0.89609162, -1.18685467],\n",
       "       [ 2.15183906,  0.74103109],\n",
       "       [ 2.39567352,  1.46398825],\n",
       "       [-2.35909835, -1.42784039],\n",
       "       [ 1.4203357 ,  1.46398825],\n",
       "       [ 0.81074956,  0.25905965],\n",
       "       [ 0.32308065,  1.46398825],\n",
       "       [-1.38376053, -1.42784039],\n",
       "       [ 0.0792462 ,  0.50004537],\n",
       "       [-0.04267103, -0.46389751],\n",
       "       [ 0.68883233,  0.25905965],\n",
       "       [-0.40842271, -0.94586895],\n",
       "       [ 0.81074956,  1.70497397],\n",
       "       [-0.89609162, -0.94586895],\n",
       "       [-0.28650548, -0.46389751],\n",
       "       [ 0.20116343,  1.70497397],\n",
       "       [-0.53033994, -0.22291179],\n",
       "       [-0.65225717, -1.18685467],\n",
       "       [ 0.0792462 ,  0.01807393],\n",
       "       [ 0.20116343, -0.22291179],\n",
       "       [ 1.66417015,  0.25905965],\n",
       "       [ 2.15183906,  1.22300253],\n",
       "       [-0.77417439, -0.94586895],\n",
       "       [ 0.93266679,  0.98201681],\n",
       "       [ 1.4203357 ,  1.94595969],\n",
       "       [-0.16458826,  0.25905965],\n",
       "       [ 1.05458402,  0.25905965],\n",
       "       [ 0.0792462 ,  0.74103109],\n",
       "       [-1.13992608, -1.66882611],\n",
       "       [ 0.56691511,  0.98201681],\n",
       "       [-0.65225717, -0.70488323],\n",
       "       [-0.89609162, -0.46389751],\n",
       "       [ 0.56691511,  1.46398825],\n",
       "       [ 2.02992184,  0.98201681],\n",
       "       [-1.13992608, -1.18685467],\n",
       "       [-1.2618433 , -1.18685467],\n",
       "       [ 0.93266679,  1.94595969],\n",
       "       [ 0.20116343,  0.50004537],\n",
       "       [-0.53033994, -0.46389751],\n",
       "       [ 1.29841847,  1.94595969],\n",
       "       [ 1.29841847,  0.25905965],\n",
       "       [-1.62759499, -0.94586895],\n",
       "       [-1.50567776, -1.66882611],\n",
       "       [-0.89609162, -0.94586895],\n",
       "       [-0.16458826,  0.25905965],\n",
       "       [ 1.78608738,  0.74103109],\n",
       "       [ 0.20116343,  0.74103109],\n",
       "       [ 0.81074956,  1.70497397],\n",
       "       [ 1.17650124,  0.98201681],\n",
       "       [-0.04267103,  0.74103109],\n",
       "       [ 0.44499788,  1.46398825],\n",
       "       [ 0.20116343,  0.50004537],\n",
       "       [-0.16458826, -0.70488323],\n",
       "       [-1.01800885, -1.66882611],\n",
       "       [ 1.4203357 ,  0.50004537],\n",
       "       [-0.53033994,  0.01807393],\n",
       "       [ 0.68883233,  0.98201681],\n",
       "       [ 0.68883233,  0.25905965],\n",
       "       [-1.01800885, -0.94586895],\n",
       "       [-0.16458826,  0.25905965],\n",
       "       [-0.53033994, -0.46389751]])"
      ]
     },
     "execution_count": 3,
     "metadata": {},
     "output_type": "execute_result"
    }
   ],
   "source": [
    "from sklearn.preprocessing import StandardScaler\n",
    "\n",
    "scaler = StandardScaler()\n",
    "X_train_prepared = scaler.fit_transform(X_train)\n",
    "X_test_prepared = scaler.fit_transform(X_test)\n",
    "X_train_prepared"
   ]
  },
  {
   "cell_type": "code",
   "execution_count": 4,
   "id": "981273aa-61ea-4d96-8286-f88a52432e8f",
   "metadata": {},
   "outputs": [
    {
     "data": {
      "text/plain": [
       "{'C': 1, 'kernel': 'linear', 'tol': 1e-05}"
      ]
     },
     "execution_count": 4,
     "metadata": {},
     "output_type": "execute_result"
    }
   ],
   "source": [
    "from sklearn.svm import LinearSVC, SVC\n",
    "from sklearn.model_selection import GridSearchCV\n",
    "\n",
    "svc_class = SVC()\n",
    "svc_param_space = [{\"kernel\":[\"linear\"], \"C\":[1, 3, 5, 7, 9], \"tol\":[1e-5]}]\n",
    "svc_grid_search = GridSearchCV(svc_class, svc_param_space, scoring = \"accuracy\", \n",
    "                               cv = 10, return_train_score = True)\n",
    "svc_grid_search.fit(X_train_prepared, y_train)\n",
    "svc_grid_search.best_params_"
   ]
  },
  {
   "cell_type": "code",
   "execution_count": 5,
   "id": "7c7556e8-392c-4c43-b36c-ac9acd308499",
   "metadata": {},
   "outputs": [
    {
     "data": {
      "text/plain": [
       "{'C': 1, 'loss': 'hinge', 'max_iter': 2000, 'penalty': 'l2', 'tol': 1e-05}"
      ]
     },
     "execution_count": 5,
     "metadata": {},
     "output_type": "execute_result"
    }
   ],
   "source": [
    "linear_svc_class = LinearSVC()\n",
    "linear_svc_param_space = [{\"penalty\":[\"l2\"], \"loss\":[\"hinge\"], \"C\":[1, 3, 5, 7, 9], \n",
    "                           \"max_iter\":[2000], \"tol\":[1e-5]}]\n",
    "linear_svc_grid_search = GridSearchCV(linear_svc_class, linear_svc_param_space, scoring = \"accuracy\", \n",
    "                                      cv = 10, return_train_score = True)\n",
    "linear_svc_grid_search.fit(X_train_prepared, y_train)\n",
    "linear_svc_grid_search.best_params_"
   ]
  },
  {
   "cell_type": "code",
   "execution_count": 6,
   "id": "01063fef-8d5f-46ef-be80-d19abe7dcf3e",
   "metadata": {},
   "outputs": [
    {
     "data": {
      "text/plain": [
       "{'alpha': 0.002,\n",
       " 'loss': 'hinge',\n",
       " 'max_iter': 2000,\n",
       " 'penalty': 'l2',\n",
       " 'tol': 1e-05}"
      ]
     },
     "execution_count": 6,
     "metadata": {},
     "output_type": "execute_result"
    }
   ],
   "source": [
    "from sklearn.linear_model import SGDClassifier\n",
    "\n",
    "sgd_classifier = SGDClassifier()\n",
    "sgd_classifier_param_space = [{\"loss\":[\"hinge\"], \"penalty\":[\"l2\"], \"alpha\":[1e-3, 2e-3, 3e-3, 4e-3, 5e-3], \n",
    "                               \"tol\":[1e-5], \"max_iter\":[2000]}]\n",
    "sgd_classifier_grid_search = GridSearchCV(sgd_classifier, sgd_classifier_param_space,\n",
    "                                          scoring = \"accuracy\", cv = 10, return_train_score = True)\n",
    "sgd_classifier_grid_search.fit(X_train_prepared, y_train)\n",
    "sgd_classifier_grid_search.best_params_"
   ]
  },
  {
   "cell_type": "code",
   "execution_count": 7,
   "id": "36604964-f07b-4803-a72a-26694b8e37dd",
   "metadata": {},
   "outputs": [
    {
     "name": "stdout",
     "output_type": "stream",
     "text": [
      "SVC:  [0.05429815] [[0.67495048 1.85584341]]\n",
      "LinearSVC:  [0.05216752] [[0.68122835 1.84737517]]\n",
      "SGDClassifier:  [0.24453789] [[1.06502379 3.05248502]]\n"
     ]
    }
   ],
   "source": [
    "svc = SVC(**svc_grid_search.best_params_)\n",
    "svc.fit(X_train_prepared, y_train)\n",
    "linear_svc = LinearSVC(**linear_svc_grid_search.best_params_)\n",
    "linear_svc.fit(X_train_prepared, y_train)\n",
    "sgd = SGDClassifier(**sgd_classifier_grid_search.best_params_)\n",
    "sgd.fit(X_train_prepared, y_train)\n",
    "\n",
    "print(\"SVC: \", svc.intercept_, svc.coef_)\n",
    "print(\"LinearSVC: \", linear_svc.intercept_, linear_svc.coef_)\n",
    "print(\"SGDClassifier: \", sgd.intercept_, sgd.coef_)"
   ]
  },
  {
   "cell_type": "code",
   "execution_count": 8,
   "id": "841ae2e4-5941-45a9-a0df-6685d1cf7896",
   "metadata": {},
   "outputs": [],
   "source": [
    "# Calculate slope & intercepts for each decision boundary.\n",
    "svc_slope = -svc.coef_[0, 0]/svc.coef_[0, 1]\n",
    "svc_int = -svc.intercept_[0]/svc.coef_[0, 1]\n",
    "linear_svc_slope = -linear_svc.coef_[0, 0]/linear_svc.coef_[0, 1]\n",
    "linear_svc_int = -linear_svc.intercept_[0]/linear_svc.coef_[0, 1]\n",
    "sgd_slope = -sgd.coef_[0, 0]/sgd.coef_[0, 1]\n",
    "sgd_int = -sgd.intercept_[0]/sgd.coef_[0, 1]"
   ]
  },
  {
   "cell_type": "code",
   "execution_count": 9,
   "id": "db22f5f8-3c45-4bbc-a0c2-c225ea66abfc",
   "metadata": {},
   "outputs": [],
   "source": [
    "# Revert decision boundary lines to their original scales.\n",
    "svc_line = scaler.inverse_transform([[-10, -10 * svc_slope + svc_int], \n",
    "                                     [10, 10 * svc_slope + svc_int]])\n",
    "linear_svc_line = scaler.inverse_transform([[-10, -10 * linear_svc_slope + linear_svc_int],\n",
    "                                            [10, 10 * linear_svc_slope + linear_svc_int]])\n",
    "sgd_line = scaler.inverse_transform([[-10, -10 * sgd_slope + sgd_int],\n",
    "                                     [10, 10 * sgd_slope + sgd_int]])"
   ]
  },
  {
   "cell_type": "code",
   "execution_count": 16,
   "id": "4ed27532-b85a-493b-a191-50c43e507164",
   "metadata": {},
   "outputs": [
    {
     "data": {
      "image/png": "[encoded data removed]",
      "text/plain": [
       "<Figure size 432x288 with 1 Axes>"
      ]
     },
     "metadata": {
      "needs_background": "light"
     },
     "output_type": "display_data"
    }
   ],
   "source": [
    "%matplotlib inline\n",
    "import matplotlib.pyplot as plt\n",
    "\n",
    "\n",
    "# Plot the decision boundaries.\n",
    "plt.plot(svc_line[:, 0], svc_line[:, 1], \"k:\", label = \"SVC\")\n",
    "plt.plot(linear_svc_line[:, 0], linear_svc_line[:, 1], \"b--\", label = \"LinearSVC\")\n",
    "plt.plot(sgd_line[:, 0], sgd_line[:, 1], \"r-\", label = \"SGDClassifier\")\n",
    "plt.plot(X[:, 0][y == 1], X[:, 1][y == 1], \"yo\") # Iris versicolour\n",
    "plt.plot(X[:, 0][y == 2], X[:, 1][y == 2], \"bs\") # Iris virginica\n",
    "plt.xlabel(\"Petal length\")\n",
    "plt.ylabel(\"Petal width\")\n",
    "plt.legend(loc = \"lower right\")\n",
    "plt.axis([1, 9, 0, 3])\n",
    "plt.show()"
   ]
  },
  {
   "cell_type": "markdown",
   "id": "5b92a9b3-5b2d-4465-9876-ea78c1dee80a",
   "metadata": {},
   "source": [
    "The models seem close enough."
   ]
  },
  {
   "cell_type": "markdown",
   "id": "4ec11109-c29b-4c62-8ba8-92e7a7392e6e",
   "metadata": {},
   "source": [
    "---"
   ]
  },
  {
   "cell_type": "markdown",
   "id": "98845eb8-a32e-487c-8eeb-bd8c0f4eeaeb",
   "metadata": {},
   "source": [
    "# 9."
   ]
  },
  {
   "cell_type": "code",
   "execution_count": null,
   "id": "7e5ca448-e53a-4cde-9bb9-7f199cee1e4a",
   "metadata": {},
   "outputs": [
    {
     "name": "stderr",
     "output_type": "stream",
     "text": [
      "/Users/jiehengyu/opt/anaconda3/lib/python3.9/site-packages/scipy/__init__.py:146: UserWarning: A NumPy version >=1.16.5 and <1.23.0 is required for this version of SciPy (detected version 1.26.4\n",
      "  warnings.warn(f\"A NumPy version >={np_minversion} and <{np_maxversion}\"\n"
     ]
    }
   ],
   "source": [
    "from sklearn.datasets import fetch_openml\n",
    "import numpy as np\n",
    "from sklearn.model_selection import StratifiedShuffleSplit\n",
    "\n",
    "mnist = fetch_openml(\"mnist_784\", version = 1, as_frame = False)\n",
    "mnist.keys()\n",
    "X, y = mnist[\"data\"].astype(np.intc), mnist[\"target\"].astype(np.intc)\n",
    "\n",
    "strat_split = StratifiedShuffleSplit(n_splits = 1, test_size = 0.2, random_state = 32)\n",
    "for train_index, test_index in strat_split.split(X, y):\n",
    "    X_train, y_train = X[train_index], y[train_index]\n",
    "    X_test, y_test = X[test_index], y[test_index]\n",
    "X_train"
   ]
  },
  {
   "cell_type": "code",
   "execution_count": null,
   "id": "a8f43269-3cbe-4c76-92bd-11a5290462ff",
   "metadata": {},
   "outputs": [],
   "source": [
    "from sklearn.pipeline import Pipeline\n",
    "from sklearn.preprocessing import StandardScaler\n",
    "\n",
    "scaler = Pipeline([(\"scaler\", StandardScaler())])\n",
    "X_train_prepared = scaler.fit_transform(X_train)\n",
    "X_test_prepared = scaler.fit_transform(X_test)\n",
    "X_train_prepared"
   ]
  },
  {
   "cell_type": "code",
   "execution_count": 4,
   "id": "ec6bdebf-066a-4c44-ac51-15583d4a35d0",
   "metadata": {},
   "outputs": [
    {
     "data": {
      "text/plain": [
       "{'alpha': 0.001, 'max_iter': 5000, 'n_jobs': 6, 'tol': 0.0001}"
      ]
     },
     "execution_count": 4,
     "metadata": {},
     "output_type": "execute_result"
    }
   ],
   "source": [
    "from sklearn.linear_model import SGDClassifier\n",
    "from sklearn.model_selection import GridSearchCV\n",
    "\n",
    "sgd_classifier = SGDClassifier()\n",
    "param_search_space = [{\"alpha\":[1e-3, 2e-3, 3e-3], \"max_iter\":[5000], \"tol\":[1e-4], \"n_jobs\":[6]}]\n",
    "grid_search = GridSearchCV(sgd_classifier, param_search_space, cv = 3, \n",
    "                           scoring = \"accuracy\", return_train_score = True)\n",
    "grid_search.fit(X_train_prepared, y_train)\n",
    "grid_search.best_params_"
   ]
  },
  {
   "cell_type": "code",
   "execution_count": null,
   "id": "62751f6b-5de4-4465-a167-93f033770f30",
   "metadata": {},
   "outputs": [],
   "source": [
    "from sklearn.model_selection import cross_val_score\n",
    "\n",
    "cross_val_score(SGDClassifier(**grid_search.best_params_), X_train_prepared, y_train, \n",
    "                scoring = \"accuracy\", cv = 3, n_jobs = 6)"
   ]
  },
  {
   "cell_type": "code",
   "execution_count": 8,
   "id": "29bcbdb9-1075-4c3a-975a-1e7f223f115f",
   "metadata": {},
   "outputs": [
    {
     "name": "stdout",
     "output_type": "stream",
     "text": [
      "Accuracy: 0.9085\n"
     ]
    }
   ],
   "source": [
    "from sklearn.metrics import accuracy_score\n",
    "\n",
    "sgd_classifier = SGDClassifier(**grid_search.best_params_)\n",
    "sgd_classifier.fit(X_train_prepared, y_train)\n",
    "sgd_pred = sgd_classifier.predict(X_test_prepared)\n",
    "print(f\"Accuracy: {accuracy_score(y_test, sgd_pred)}\")"
   ]
  },
  {
   "cell_type": "markdown",
   "id": "d954e0a2-fdd5-489c-8a61-65a3f837736a",
   "metadata": {},
   "source": [
    "---"
   ]
  },
  {
   "cell_type": "markdown",
   "id": "749c1ce0-9a53-4480-b7a2-e83503c002ec",
   "metadata": {},
   "source": [
    "# 10."
   ]
  },
  {
   "cell_type": "code",
   "execution_count": null,
   "id": "f532f54c-f697-4789-be7a-85dd29675d72",
   "metadata": {},
   "outputs": [],
   "source": []
  }
 ],
 "metadata": {
  "kernelspec": {
   "display_name": "Python 3 (ipykernel)",
   "language": "python",
   "name": "python3"
  },
  "language_info": {
   "codemirror_mode": {
    "name": "ipython",
    "version": 3
   },
   "file_extension": ".py",
   "mimetype": "text/x-python",
   "name": "python",
   "nbconvert_exporter": "python",
   "pygments_lexer": "ipython3",
   "version": "3.9.7"
  }
 },
 "nbformat": 4,
 "nbformat_minor": 5
}
