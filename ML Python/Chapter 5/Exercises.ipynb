{
 "cells": [
  {
   "cell_type": "markdown",
   "id": "ce1fbdf5-3403-4874-9e97-4b00d8bae82b",
   "metadata": {},
   "source": [
    "# Exercises\n",
    "\n",
    "1. What is the fundamental idea behind support vector machines?\n",
    "2. What is a support vector?\n",
    "3. Why is it important to scale the inputs when using SVMs?\n",
    "4. Can a SVM classifier output a confidence score when it classifies an instance? What about a probability?\n",
    "5. Should you use the primal or dual form of the SVM problem to train a model on a training set with millions of instances & hundred of features?\n",
    "6. Say you trained an SVM classifier with an RBF kernel. it seems to underfit the training set: should you increase or decrease $\\gamma$ (`gamma`)? What about `C`?\n",
    "7. How should you set the QP parameters ($H$, $f$, $A$, & $b$) to solve the soft margin linear SVM classifier problem using an off-the-shelf QP solver?\n",
    "8. Train a `LinearSVC` on a linearly separable dataset. Then train an `SVC` & a `SGDClassifer` on the same dataset. See if you can get them to produce roughly the same model.\n",
    "9. Train an SVM classifier on the MNIST dataset. Since SVM classifiers are binary classifiers, you will need to use one-versus-all to classify all 10 digits. you may want to tune the hyperparameters using small validation sets to speed up the process. What accuracy can you reach?\n",
    "10. Train an SVM regressor on the California housing dataset."
   ]
  },
  {
   "cell_type": "markdown",
   "id": "cc7e2cda-abb8-41f5-a175-fbbb44af2eea",
   "metadata": {},
   "source": [
    "---"
   ]
  },
  {
   "cell_type": "markdown",
   "id": "e53d2d5f-f184-46c8-86b3-538b248ed512",
   "metadata": {},
   "source": [
    "1. For SVM classification, you want to find the best parameters for the decision function that defines the hyperplane that maximises the distance between it & its support vectors (maximise the margin), while minimising the number of instances that exist between the hyperplane & its support vectors (minimising the amount of margin violation). For SVM regression, its the opposite. You want to increase the number of instances between the support vectors & minimise the number of instances outside of it.\n",
    "2. Support vectors are the instances that lie on or within the margin. They are used to define the decision boundary. Instances outside of the margin-violation line do not affect the decision boundary. Computing the predictions only involve the support vectors, not all instances.\n",
    "3. Support vectors machines are sensitive to feature scales, so to improve the model performance (larger margin, less margin violation) & speed, we scale the inputs. This ensures that each feature will have equal weight when building the model.\n",
    "4. Not sure what \"confidence score\" means in this question, but you can output the distance between an instance & the decision boundary. SVM classifiers cannot output probabilities.\n",
    "5. The dual form of the SVM problem is faster to solve than the primal when the number of training instances is smaller than the number of features.\n",
    "6. You should increase gamma if your classifier is underfit. Same applies with C.\n",
    "7. For a hard margin linear SVM classifier, the QP parameters are defined as:\n",
    "   * $n_p = n + 1$, where $n$ is the number of features (+1 for the bias term)\n",
    "   * $n_c = m$, where m is the number of training instances\n",
    "   * $H$ is the $n_p * n_p$ identity matrix, except with a zero in the top-left cell (to ignore the bias term)\n",
    "   * $f = 0$, an $n_p$ dimensional vector full of 0s\n",
    "   * $b = -1$, an $n_c$ dimensional vector full of -1s\n",
    "   * $a^{(i)} = -t^{(i)}x^{(i)}$, where $x^{(i)}$ is equal to $x^{(i)}$ with an extra bias feature $x_0 = 1$\n",
    "   \n",
    "   For soft margin linear SVM classifier, the QP parameters have $m$ additional parameters & $m$ additional constraints, so:\n",
    "   * $n_p = n + 1 + m$\n",
    "   * $n_c = 2m$\n",
    "   * $H$ is an $n_p * n_p$ identity matrix, plus $m$ columns of 0s on the right & $m$ rows of 0s at the bottom.\n",
    "   * $f$ is an $n_p$ dimensional vector with $m$ additional elements, all equal to the value of hyperparameter C\n",
    "   * $b$ is an $n_c$ dimensional vector with $m$ additional elements, all equal to 0\n",
    "   * $a = -tx$ with an extra $m * m$ identity matrix to the right & another below the said identity matrix, while the rest is filled with 0."
   ]
  },
  {
   "cell_type": "markdown",
   "id": "f763cc43-68e1-4e4e-968c-7ec1e5180d85",
   "metadata": {},
   "source": [
    "# 8."
   ]
  },
  {
   "cell_type": "code",
   "execution_count": 1,
   "id": "00596523-3af7-4d8e-bd1a-4516afbb4c0c",
   "metadata": {},
   "outputs": [
    {
     "name": "stderr",
     "output_type": "stream",
     "text": [
      "/Users/jiehengyu/opt/anaconda3/lib/python3.9/site-packages/scipy/__init__.py:146: UserWarning: A NumPy version >=1.16.5 and <1.23.0 is required for this version of SciPy (detected version 1.26.4\n",
      "  warnings.warn(f\"A NumPy version >={np_minversion} and <{np_maxversion}\"\n"
     ]
    },
    {
     "data": {
      "text/plain": [
       "array([[5.1, 1.9],\n",
       "       [1.7, 0.2],\n",
       "       [5.3, 1.9],\n",
       "       [4.4, 1.4],\n",
       "       [1.5, 0.2],\n",
       "       [1.5, 0.2],\n",
       "       [1.4, 0.2],\n",
       "       [4.9, 1.5],\n",
       "       [6.4, 2. ],\n",
       "       [5.6, 2.4],\n",
       "       [3. , 1.1],\n",
       "       [4.3, 1.3],\n",
       "       [1.6, 0.2],\n",
       "       [5.1, 1.9],\n",
       "       [1.3, 0.3],\n",
       "       [3.8, 1.1],\n",
       "       [4.9, 1.8],\n",
       "       [4.5, 1.5],\n",
       "       [1.6, 0.2],\n",
       "       [4. , 1.2],\n",
       "       [4.8, 1.8],\n",
       "       [5. , 1.9],\n",
       "       [1.4, 0.2],\n",
       "       [1.4, 0.1],\n",
       "       [1.4, 0.3],\n",
       "       [1.1, 0.1],\n",
       "       [1.6, 0.4],\n",
       "       [1.4, 0.1],\n",
       "       [1.7, 0.5],\n",
       "       [5.1, 2. ],\n",
       "       [5.1, 2.3],\n",
       "       [4.9, 1.8],\n",
       "       [4.3, 1.3],\n",
       "       [4.6, 1.3],\n",
       "       [1.4, 0.3],\n",
       "       [1.4, 0.2],\n",
       "       [1.6, 0.2],\n",
       "       [4.5, 1.5],\n",
       "       [4.8, 1.8],\n",
       "       [5.1, 1.8],\n",
       "       [4.7, 1.2],\n",
       "       [1.4, 0.3],\n",
       "       [3.9, 1.1],\n",
       "       [4.7, 1.5],\n",
       "       [3.3, 1. ],\n",
       "       [4.7, 1.4],\n",
       "       [6.3, 1.8],\n",
       "       [5.8, 2.2],\n",
       "       [1.5, 0.2],\n",
       "       [5.8, 1.6],\n",
       "       [1.3, 0.2],\n",
       "       [4.2, 1.3],\n",
       "       [4.7, 1.6],\n",
       "       [4.5, 1.5],\n",
       "       [4.5, 1.5],\n",
       "       [4.5, 1.6],\n",
       "       [5. , 1.5],\n",
       "       [1.5, 0.4],\n",
       "       [3.6, 1.3],\n",
       "       [5.6, 2.2],\n",
       "       [1.4, 0.2],\n",
       "       [5.6, 2.4],\n",
       "       [5.5, 2.1],\n",
       "       [5.7, 2.5],\n",
       "       [5.5, 1.8],\n",
       "       [1.7, 0.3],\n",
       "       [1.3, 0.3],\n",
       "       [1.5, 0.4],\n",
       "       [4.2, 1.5],\n",
       "       [3.9, 1.4],\n",
       "       [6.7, 2.2],\n",
       "       [5.4, 2.1],\n",
       "       [1.4, 0.2],\n",
       "       [1.5, 0.1],\n",
       "       [6. , 1.8],\n",
       "       [1.3, 0.2],\n",
       "       [6. , 2.5],\n",
       "       [4.5, 1.3],\n",
       "       [4. , 1.3],\n",
       "       [1.2, 0.2],\n",
       "       [3.5, 1. ],\n",
       "       [5.6, 1.4],\n",
       "       [6.7, 2. ],\n",
       "       [3.9, 1.2],\n",
       "       [5. , 1.7],\n",
       "       [4.5, 1.5],\n",
       "       [5.2, 2. ],\n",
       "       [3.5, 1. ],\n",
       "       [3.3, 1. ],\n",
       "       [1.5, 0.2],\n",
       "       [6.6, 2.1],\n",
       "       [1.6, 0.2],\n",
       "       [5.9, 2.3],\n",
       "       [5.1, 1.6],\n",
       "       [1.3, 0.2],\n",
       "       [5. , 2. ],\n",
       "       [4.2, 1.2],\n",
       "       [5.7, 2.1],\n",
       "       [5.3, 2.3],\n",
       "       [4.7, 1.4],\n",
       "       [1.5, 0.2],\n",
       "       [5.4, 2.3],\n",
       "       [4.1, 1. ],\n",
       "       [4.6, 1.4],\n",
       "       [4.8, 1.4],\n",
       "       [1.3, 0.4],\n",
       "       [1. , 0.2],\n",
       "       [1.4, 0.2],\n",
       "       [1.5, 0.4],\n",
       "       [5.1, 1.5],\n",
       "       [5.6, 1.8],\n",
       "       [1.9, 0.4],\n",
       "       [4.2, 1.3],\n",
       "       [6.1, 2.5],\n",
       "       [1.4, 0.2],\n",
       "       [4.9, 2. ],\n",
       "       [4.9, 1.5],\n",
       "       [4.5, 1.7],\n",
       "       [4.8, 1.8],\n",
       "       [4.1, 1.3]])"
      ]
     },
     "execution_count": 1,
     "metadata": {},
     "output_type": "execute_result"
    }
   ],
   "source": [
    "from sklearn import datasets\n",
    "import numpy as np\n",
    "from sklearn.model_selection import StratifiedShuffleSplit\n",
    "\n",
    "iris = datasets.load_iris()\n",
    "X = iris[\"data\"][:, (2, 3)]\n",
    "y = (iris[\"target\"] == 2).astype(np.float64)\n",
    "sss = StratifiedShuffleSplit(n_splits = 1, test_size = 0.2, random_state = 32)\n",
    "\n",
    "for train_indices, test_indices in sss.split(X, y):\n",
    "    X_train, y_train = X[train_indices], y[train_indices]\n",
    "    X_test, y_test = X[test_indices], y[test_indices]\n",
    "X_train"
   ]
  },
  {
   "cell_type": "code",
   "execution_count": 2,
   "id": "b6a5e6f2-72d3-4532-ad05-8c3f85c0b1ec",
   "metadata": {},
   "outputs": [
    {
     "data": {
      "text/plain": [
       "array([[ 0.76915544,  0.92993001],\n",
       "       [-1.18608082, -1.34199481],\n",
       "       [ 0.88416934,  0.92993001],\n",
       "       [ 0.3666068 ,  0.26171683],\n",
       "       [-1.30109472, -1.34199481],\n",
       "       [-1.30109472, -1.34199481],\n",
       "       [-1.35860167, -1.34199481],\n",
       "       [ 0.65414154,  0.39535947],\n",
       "       [ 1.51674578,  1.06357265],\n",
       "       [ 1.05669019,  1.5981432 ],\n",
       "       [-0.43849049, -0.13921108],\n",
       "       [ 0.30909985,  0.12807419],\n",
       "       [-1.24358777, -1.34199481],\n",
       "       [ 0.76915544,  0.92993001],\n",
       "       [-1.41610862, -1.20835217],\n",
       "       [ 0.02156511, -0.13921108],\n",
       "       [ 0.65414154,  0.79628738],\n",
       "       [ 0.42411375,  0.39535947],\n",
       "       [-1.24358777, -1.34199481],\n",
       "       [ 0.136579  , -0.00556844],\n",
       "       [ 0.5966346 ,  0.79628738],\n",
       "       [ 0.71164849,  0.92993001],\n",
       "       [-1.35860167, -1.34199481],\n",
       "       [-1.35860167, -1.47563745],\n",
       "       [-1.35860167, -1.20835217],\n",
       "       [-1.53112252, -1.47563745],\n",
       "       [-1.24358777, -1.07470954],\n",
       "       [-1.35860167, -1.47563745],\n",
       "       [-1.18608082, -0.9410669 ],\n",
       "       [ 0.76915544,  1.06357265],\n",
       "       [ 0.76915544,  1.46450056],\n",
       "       [ 0.65414154,  0.79628738],\n",
       "       [ 0.30909985,  0.12807419],\n",
       "       [ 0.4816207 ,  0.12807419],\n",
       "       [-1.35860167, -1.20835217],\n",
       "       [-1.35860167, -1.34199481],\n",
       "       [-1.24358777, -1.34199481],\n",
       "       [ 0.42411375,  0.39535947],\n",
       "       [ 0.5966346 ,  0.79628738],\n",
       "       [ 0.76915544,  0.79628738],\n",
       "       [ 0.53912765, -0.00556844],\n",
       "       [-1.35860167, -1.20835217],\n",
       "       [ 0.07907205, -0.13921108],\n",
       "       [ 0.53912765,  0.39535947],\n",
       "       [-0.26596964, -0.27285372],\n",
       "       [ 0.53912765,  0.26171683],\n",
       "       [ 1.45923883,  0.79628738],\n",
       "       [ 1.17170409,  1.33085792],\n",
       "       [-1.30109472, -1.34199481],\n",
       "       [ 1.17170409,  0.5290021 ],\n",
       "       [-1.41610862, -1.34199481],\n",
       "       [ 0.2515929 ,  0.12807419],\n",
       "       [ 0.53912765,  0.5290021 ],\n",
       "       [ 0.42411375,  0.39535947],\n",
       "       [ 0.42411375,  0.39535947],\n",
       "       [ 0.42411375,  0.5290021 ],\n",
       "       [ 0.71164849,  0.39535947],\n",
       "       [-1.30109472, -1.07470954],\n",
       "       [-0.09344879,  0.12807419],\n",
       "       [ 1.05669019,  1.33085792],\n",
       "       [-1.35860167, -1.34199481],\n",
       "       [ 1.05669019,  1.5981432 ],\n",
       "       [ 0.99918324,  1.19721529],\n",
       "       [ 1.11419714,  1.73178583],\n",
       "       [ 0.99918324,  0.79628738],\n",
       "       [-1.18608082, -1.20835217],\n",
       "       [-1.41610862, -1.20835217],\n",
       "       [-1.30109472, -1.07470954],\n",
       "       [ 0.2515929 ,  0.39535947],\n",
       "       [ 0.07907205,  0.26171683],\n",
       "       [ 1.68926663,  1.33085792],\n",
       "       [ 0.94167629,  1.19721529],\n",
       "       [-1.35860167, -1.34199481],\n",
       "       [-1.30109472, -1.47563745],\n",
       "       [ 1.28671798,  0.79628738],\n",
       "       [-1.41610862, -1.34199481],\n",
       "       [ 1.28671798,  1.73178583],\n",
       "       [ 0.42411375,  0.12807419],\n",
       "       [ 0.136579  ,  0.12807419],\n",
       "       [-1.47361557, -1.34199481],\n",
       "       [-0.15095574, -0.27285372],\n",
       "       [ 1.05669019,  0.26171683],\n",
       "       [ 1.68926663,  1.06357265],\n",
       "       [ 0.07907205, -0.00556844],\n",
       "       [ 0.71164849,  0.66264474],\n",
       "       [ 0.42411375,  0.39535947],\n",
       "       [ 0.82666239,  1.06357265],\n",
       "       [-0.15095574, -0.27285372],\n",
       "       [-0.26596964, -0.27285372],\n",
       "       [-1.30109472, -1.34199481],\n",
       "       [ 1.63175968,  1.19721529],\n",
       "       [-1.24358777, -1.34199481],\n",
       "       [ 1.22921103,  1.46450056],\n",
       "       [ 0.76915544,  0.5290021 ],\n",
       "       [-1.41610862, -1.34199481],\n",
       "       [ 0.71164849,  1.06357265],\n",
       "       [ 0.2515929 , -0.00556844],\n",
       "       [ 1.11419714,  1.19721529],\n",
       "       [ 0.88416934,  1.46450056],\n",
       "       [ 0.53912765,  0.26171683],\n",
       "       [-1.30109472, -1.34199481],\n",
       "       [ 0.94167629,  1.46450056],\n",
       "       [ 0.19408595, -0.27285372],\n",
       "       [ 0.4816207 ,  0.26171683],\n",
       "       [ 0.5966346 ,  0.26171683],\n",
       "       [-1.41610862, -1.07470954],\n",
       "       [-1.58862947, -1.34199481],\n",
       "       [-1.35860167, -1.34199481],\n",
       "       [-1.30109472, -1.07470954],\n",
       "       [ 0.76915544,  0.39535947],\n",
       "       [ 1.05669019,  0.79628738],\n",
       "       [-1.07106692, -1.07470954],\n",
       "       [ 0.2515929 ,  0.12807419],\n",
       "       [ 1.34422493,  1.73178583],\n",
       "       [-1.35860167, -1.34199481],\n",
       "       [ 0.65414154,  1.06357265],\n",
       "       [ 0.65414154,  0.39535947],\n",
       "       [ 0.42411375,  0.66264474],\n",
       "       [ 0.5966346 ,  0.79628738],\n",
       "       [ 0.19408595,  0.12807419]])"
      ]
     },
     "execution_count": 2,
     "metadata": {},
     "output_type": "execute_result"
    }
   ],
   "source": [
    "from sklearn.pipeline import Pipeline\n",
    "from sklearn.preprocessing import StandardScaler\n",
    "\n",
    "prep_steps = Pipeline([(\"scaler\", StandardScaler())])\n",
    "X_train_prepared = prep_steps.fit_transform(X_train)\n",
    "X_test_prepared = prep_steps.fit_transform(X_test)\n",
    "X_train_prepared"
   ]
  },
  {
   "cell_type": "code",
   "execution_count": 3,
   "id": "981273aa-61ea-4d96-8286-f88a52432e8f",
   "metadata": {},
   "outputs": [
    {
     "data": {
      "text/plain": [
       "{'C': 1, 'kernel': 'linear', 'tol': 1e-05}"
      ]
     },
     "execution_count": 3,
     "metadata": {},
     "output_type": "execute_result"
    }
   ],
   "source": [
    "from sklearn.svm import LinearSVC, SVC\n",
    "from sklearn.model_selection import GridSearchCV\n",
    "\n",
    "svc_class = SVC()\n",
    "svc_param_space = [{\"kernel\":[\"linear\"], \"C\":[1, 3, 5, 7, 9], \"tol\":[1e-5]}]\n",
    "svc_grid_search = GridSearchCV(svc_class, svc_param_space, scoring = \"accuracy\", \n",
    "                               cv = 10, return_train_score = True)\n",
    "svc_grid_search.fit(X_train_prepared, y_train)\n",
    "svc_grid_search.best_params_"
   ]
  },
  {
   "cell_type": "code",
   "execution_count": 4,
   "id": "7c7556e8-392c-4c43-b36c-ac9acd308499",
   "metadata": {},
   "outputs": [
    {
     "data": {
      "text/plain": [
       "{'C': 1, 'loss': 'hinge', 'max_iter': 2000, 'penalty': 'l2', 'tol': 1e-05}"
      ]
     },
     "execution_count": 4,
     "metadata": {},
     "output_type": "execute_result"
    }
   ],
   "source": [
    "linear_svc_class = LinearSVC()\n",
    "linear_svc_param_space = [{\"penalty\":[\"l2\"], \"loss\":[\"hinge\"], \"C\":[1, 3, 5, 7, 9], \n",
    "                           \"max_iter\":[2000], \"tol\":[1e-5]}]\n",
    "linear_svc_grid_search = GridSearchCV(linear_svc_class, linear_svc_param_space, scoring = \"accuracy\", \n",
    "                                      cv = 10, return_train_score = True)\n",
    "linear_svc_grid_search.fit(X_train_prepared, y_train)\n",
    "linear_svc_grid_search.best_params_"
   ]
  },
  {
   "cell_type": "code",
   "execution_count": 5,
   "id": "01063fef-8d5f-46ef-be80-d19abe7dcf3e",
   "metadata": {},
   "outputs": [
    {
     "data": {
      "text/plain": [
       "{'alpha': 0.001,\n",
       " 'loss': 'hinge',\n",
       " 'max_iter': 2000,\n",
       " 'penalty': 'l2',\n",
       " 'tol': 1e-05}"
      ]
     },
     "execution_count": 5,
     "metadata": {},
     "output_type": "execute_result"
    }
   ],
   "source": [
    "from sklearn.linear_model import SGDClassifier\n",
    "\n",
    "sgd_classifier = SGDClassifier()\n",
    "sgd_classifier_param_space = [{\"loss\":[\"hinge\"], \"penalty\":[\"l2\"], \"alpha\":[1e-3, 2e-3, 3e-3, 4e-3, 5e-3], \n",
    "                               \"tol\":[1e-5], \"max_iter\":[2000]}]\n",
    "sgd_classifier_grid_search = GridSearchCV(sgd_classifier, sgd_classifier_param_space,\n",
    "                                          scoring = \"accuracy\", cv = 10, return_train_score = True)\n",
    "sgd_classifier_grid_search.fit(X_train_prepared, y_train)\n",
    "sgd_classifier_grid_search.best_params_"
   ]
  },
  {
   "cell_type": "code",
   "execution_count": 6,
   "id": "f8deb8e1-aa90-4ecd-8b34-193fc622e4b2",
   "metadata": {},
   "outputs": [
    {
     "name": "stdout",
     "output_type": "stream",
     "text": [
      "Scores: [1.         1.         1.         1.         0.91666667 1.\n",
      " 0.91666667 0.83333333 0.91666667 0.83333333]\n",
      "Mean: 0.9416666666666667\n",
      "Std Dev: 0.06508541396588878\n"
     ]
    }
   ],
   "source": [
    "from sklearn.model_selection import cross_val_score\n",
    "\n",
    "svc_scores = cross_val_score(SVC(**svc_grid_search.best_params_), X_train_prepared, y_train,\n",
    "                             cv = 10, scoring = \"accuracy\", error_score = \"raise\")\n",
    "print(f\"Scores: {svc_scores}\")\n",
    "print(f\"Mean: {svc_scores.mean()}\")\n",
    "print(f\"Std Dev: {svc_scores.std()}\")"
   ]
  },
  {
   "cell_type": "code",
   "execution_count": 10,
   "id": "d79052f9-c34f-40e3-b9fa-e63baa1278cb",
   "metadata": {},
   "outputs": [
    {
     "name": "stdout",
     "output_type": "stream",
     "text": [
      "Scores: [1.         1.         1.         1.         0.91666667 1.\n",
      " 0.91666667 0.83333333 0.91666667 0.83333333]\n",
      "Mean: 0.9416666666666667\n",
      "Std Dev: 0.06508541396588878\n"
     ]
    }
   ],
   "source": [
    "linear_svc_scores = cross_val_score(LinearSVC(**linear_svc_grid_search.best_params_), X_train_prepared, y_train,\n",
    "                                    cv = 10, scoring = \"accuracy\")\n",
    "print(f\"Scores: {linear_svc_scores}\")\n",
    "print(f\"Mean: {linear_svc_scores.mean()}\")\n",
    "print(f\"Std Dev: {linear_svc_scores.std()}\")"
   ]
  },
  {
   "cell_type": "code",
   "execution_count": 11,
   "id": "c4bc5452-6fc0-4017-9508-0ce8e92491c1",
   "metadata": {},
   "outputs": [
    {
     "name": "stdout",
     "output_type": "stream",
     "text": [
      "Scores: [1.         1.         1.         1.         0.91666667 1.\n",
      " 1.         0.83333333 1.         0.83333333]\n",
      "Mean: 0.9583333333333334\n",
      "Std Dev: 0.06718548123582124\n"
     ]
    }
   ],
   "source": [
    "sgd_classifier_scores = cross_val_score(SGDClassifier(**sgd_classifier_grid_search.best_params_),\n",
    "                                        X_train_prepared, y_train, cv = 10, scoring = \"accuracy\")\n",
    "print(f\"Scores: {sgd_classifier_scores}\")\n",
    "print(f\"Mean: {sgd_classifier_scores.mean()}\")\n",
    "print(f\"Std Dev: {sgd_classifier_scores.std()}\")"
   ]
  },
  {
   "cell_type": "code",
   "execution_count": 14,
   "id": "2cc62625-936e-4732-96a1-ac2546bdd150",
   "metadata": {},
   "outputs": [
    {
     "name": "stdout",
     "output_type": "stream",
     "text": [
      "Accuracy: 1.0\n",
      "Precision: 1.0\n",
      "Recall: 1.0\n"
     ]
    }
   ],
   "source": [
    "from sklearn.metrics import accuracy_score, precision_score, recall_score\n",
    "\n",
    "svc = SVC(**svc_grid_search.best_params_)\n",
    "svc.fit(X_train_prepared, y_train)\n",
    "svc_pred = svc.predict(X_test_prepared)\n",
    "\n",
    "print(f\"Accuracy: {accuracy_score(y_test, svc_pred)}\")\n",
    "print(f\"Precision: {precision_score(y_test, svc_pred)}\")\n",
    "print(f\"Recall: {recall_score(y_test, svc_pred)}\")"
   ]
  },
  {
   "cell_type": "code",
   "execution_count": 15,
   "id": "b11494b4-81f4-4a99-b4e7-2b8a26d7a1ec",
   "metadata": {},
   "outputs": [
    {
     "name": "stdout",
     "output_type": "stream",
     "text": [
      "Accuracy: 1.0\n",
      "Precision: 1.0\n",
      "Recall: 1.0\n"
     ]
    }
   ],
   "source": [
    "linear_svc = LinearSVC(**linear_svc_grid_search.best_params_)\n",
    "linear_svc.fit(X_train_prepared, y_train)\n",
    "linear_svc_pred = linear_svc.predict(X_test_prepared)\n",
    "\n",
    "print(f\"Accuracy: {accuracy_score(y_test, linear_svc_pred)}\")\n",
    "print(f\"Precision: {precision_score(y_test, linear_svc_pred)}\")\n",
    "print(f\"Recall: {recall_score(y_test, linear_svc_pred)}\")"
   ]
  },
  {
   "cell_type": "code",
   "execution_count": 16,
   "id": "680bf34e-439f-4791-ba65-b4f7859a2da8",
   "metadata": {},
   "outputs": [
    {
     "name": "stdout",
     "output_type": "stream",
     "text": [
      "Accuracy: 1.0\n",
      "Precision: 1.0\n",
      "Recall: 1.0\n"
     ]
    }
   ],
   "source": [
    "sgd_classifier = SGDClassifier(**sgd_classifier_grid_search.best_params_)\n",
    "sgd_classifier.fit(X_train_prepared, y_train)\n",
    "sgd_classifier_pred = sgd_classifier.predict(X_test_prepared)\n",
    "\n",
    "print(f\"Accuracy: {accuracy_score(y_test, sgd_classifier_pred)}\")\n",
    "print(f\"Precision: {precision_score(y_test, sgd_classifier_pred)}\")\n",
    "print(f\"Recall: {recall_score(y_test, sgd_classifier_pred)}\")"
   ]
  },
  {
   "cell_type": "markdown",
   "id": "4ec11109-c29b-4c62-8ba8-92e7a7392e6e",
   "metadata": {},
   "source": [
    "---"
   ]
  },
  {
   "cell_type": "markdown",
   "id": "98845eb8-a32e-487c-8eeb-bd8c0f4eeaeb",
   "metadata": {},
   "source": [
    "# 9."
   ]
  },
  {
   "cell_type": "code",
   "execution_count": 2,
   "id": "7e5ca448-e53a-4cde-9bb9-7f199cee1e4a",
   "metadata": {},
   "outputs": [
    {
     "data": {
      "text/plain": [
       "array([[0, 0, 0, ..., 0, 0, 0],\n",
       "       [0, 0, 0, ..., 0, 0, 0],\n",
       "       [0, 0, 0, ..., 0, 0, 0],\n",
       "       ...,\n",
       "       [0, 0, 0, ..., 0, 0, 0],\n",
       "       [0, 0, 0, ..., 0, 0, 0],\n",
       "       [0, 0, 0, ..., 0, 0, 0]], dtype=int32)"
      ]
     },
     "execution_count": 2,
     "metadata": {},
     "output_type": "execute_result"
    }
   ],
   "source": [
    "from sklearn.datasets import fetch_openml\n",
    "import numpy as np\n",
    "from sklearn.model_selection import StratifiedShuffleSplit\n",
    "\n",
    "mnist = fetch_openml(\"mnist_784\", version = 1, as_frame = False)\n",
    "mnist.keys()\n",
    "X, y = mnist[\"data\"].astype(np.intc), mnist[\"target\"].astype(np.intc)\n",
    "\n",
    "strat_split = StratifiedShuffleSplit(n_splits = 1, test_size = 0.2, random_state = 32)\n",
    "for train_index, test_index in strat_split.split(X, y):\n",
    "    X_train, y_train = X[train_index], y[train_index]\n",
    "    X_test, y_test = X[test_index], y[test_index]\n",
    "X_train"
   ]
  },
  {
   "cell_type": "code",
   "execution_count": 3,
   "id": "a8f43269-3cbe-4c76-92bd-11a5290462ff",
   "metadata": {},
   "outputs": [
    {
     "data": {
      "text/plain": [
       "array([[0., 0., 0., ..., 0., 0., 0.],\n",
       "       [0., 0., 0., ..., 0., 0., 0.],\n",
       "       [0., 0., 0., ..., 0., 0., 0.],\n",
       "       ...,\n",
       "       [0., 0., 0., ..., 0., 0., 0.],\n",
       "       [0., 0., 0., ..., 0., 0., 0.],\n",
       "       [0., 0., 0., ..., 0., 0., 0.]])"
      ]
     },
     "execution_count": 3,
     "metadata": {},
     "output_type": "execute_result"
    }
   ],
   "source": [
    "from sklearn.pipeline import Pipeline\n",
    "from sklearn.preprocessing import StandardScaler\n",
    "\n",
    "scaler = Pipeline([(\"scaler\", StandardScaler())])\n",
    "X_train_prepared = scaler.fit_transform(X_train)\n",
    "X_test_prepared = scaler.fit_transform(X_test)\n",
    "X_train_prepared"
   ]
  },
  {
   "cell_type": "code",
   "execution_count": 4,
   "id": "ec6bdebf-066a-4c44-ac51-15583d4a35d0",
   "metadata": {},
   "outputs": [
    {
     "data": {
      "text/plain": [
       "{'alpha': 0.001, 'max_iter': 5000, 'n_jobs': 6, 'tol': 0.0001}"
      ]
     },
     "execution_count": 4,
     "metadata": {},
     "output_type": "execute_result"
    }
   ],
   "source": [
    "from sklearn.linear_model import SGDClassifier\n",
    "from sklearn.model_selection import GridSearchCV\n",
    "\n",
    "sgd_classifier = SGDClassifier()\n",
    "param_search_space = [{\"alpha\":[1e-3, 2e-3, 3e-3], \"max_iter\":[5000], \"tol\":[1e-4], \"n_jobs\":[6]}]\n",
    "grid_search = GridSearchCV(sgd_classifier, param_search_space, cv = 3, \n",
    "                           scoring = \"accuracy\", return_train_score = True)\n",
    "grid_search.fit(X_train_prepared, y_train)\n",
    "grid_search.best_params_"
   ]
  },
  {
   "cell_type": "code",
   "execution_count": 5,
   "id": "62751f6b-5de4-4465-a167-93f033770f30",
   "metadata": {},
   "outputs": [
    {
     "name": "stderr",
     "output_type": "stream",
     "text": [
      "/Users/jiehengyu/opt/anaconda3/lib/python3.9/site-packages/scipy/__init__.py:146: UserWarning: A NumPy version >=1.16.5 and <1.23.0 is required for this version of SciPy (detected version 1.26.4\n",
      "  warnings.warn(f\"A NumPy version >={np_minversion} and <{np_maxversion}\"\n",
      "/Users/jiehengyu/opt/anaconda3/lib/python3.9/site-packages/scipy/__init__.py:146: UserWarning: A NumPy version >=1.16.5 and <1.23.0 is required for this version of SciPy (detected version 1.26.4\n",
      "  warnings.warn(f\"A NumPy version >={np_minversion} and <{np_maxversion}\"\n",
      "/Users/jiehengyu/opt/anaconda3/lib/python3.9/site-packages/scipy/__init__.py:146: UserWarning: A NumPy version >=1.16.5 and <1.23.0 is required for this version of SciPy (detected version 1.26.4\n",
      "  warnings.warn(f\"A NumPy version >={np_minversion} and <{np_maxversion}\"\n",
      "/Users/jiehengyu/opt/anaconda3/lib/python3.9/site-packages/scipy/__init__.py:146: UserWarning: A NumPy version >=1.16.5 and <1.23.0 is required for this version of SciPy (detected version 1.26.4\n",
      "  warnings.warn(f\"A NumPy version >={np_minversion} and <{np_maxversion}\"\n",
      "/Users/jiehengyu/opt/anaconda3/lib/python3.9/site-packages/scipy/__init__.py:146: UserWarning: A NumPy version >=1.16.5 and <1.23.0 is required for this version of SciPy (detected version 1.26.4\n",
      "  warnings.warn(f\"A NumPy version >={np_minversion} and <{np_maxversion}\"\n"
     ]
    },
    {
     "data": {
      "text/plain": [
       "array([0.90946429, 0.90991071, 0.90767857, 0.90526786, 0.90607143])"
      ]
     },
     "execution_count": 5,
     "metadata": {},
     "output_type": "execute_result"
    }
   ],
   "source": [
    "from sklearn.model_selection import cross_val_score\n",
    "\n",
    "cross_val_score(SGDClassifier(**grid_search.best_params_), X_train_prepared, y_train, \n",
    "                scoring = \"accuracy\", cv = 5, n_jobs = 6)"
   ]
  },
  {
   "cell_type": "code",
   "execution_count": 8,
   "id": "29bcbdb9-1075-4c3a-975a-1e7f223f115f",
   "metadata": {},
   "outputs": [
    {
     "name": "stdout",
     "output_type": "stream",
     "text": [
      "Accuracy: 0.9085\n"
     ]
    }
   ],
   "source": [
    "from sklearn.metrics import accuracy_score\n",
    "\n",
    "sgd_classifier = SGDClassifier(**grid_search.best_params_)\n",
    "sgd_classifier.fit(X_train_prepared, y_train)\n",
    "sgd_pred = sgd_classifier.predict(X_test_prepared)\n",
    "print(f\"Accuracy: {accuracy_score(y_test, sgd_pred)}\")"
   ]
  },
  {
   "cell_type": "markdown",
   "id": "31e42ec4-d843-49a4-a548-b46ad2703bfa",
   "metadata": {},
   "source": [
    "---"
   ]
  },
  {
   "cell_type": "markdown",
   "id": "238765dd-a7b2-4b91-9132-6ef8515f1b3d",
   "metadata": {},
   "source": [
    "# 10."
   ]
  },
  {
   "cell_type": "code",
   "execution_count": 10,
   "id": "70eca1d7-df3d-45b3-8600-c2a01f2ad0ab",
   "metadata": {},
   "outputs": [
    {
     "data": {
      "text/html": [
       "<div>\n",
       "<style scoped>\n",
       "    .dataframe tbody tr th:only-of-type {\n",
       "        vertical-align: middle;\n",
       "    }\n",
       "\n",
       "    .dataframe tbody tr th {\n",
       "        vertical-align: top;\n",
       "    }\n",
       "\n",
       "    .dataframe thead th {\n",
       "        text-align: right;\n",
       "    }\n",
       "</style>\n",
       "<table border=\"1\" class=\"dataframe\">\n",
       "  <thead>\n",
       "    <tr style=\"text-align: right;\">\n",
       "      <th></th>\n",
       "      <th>longitude</th>\n",
       "      <th>latitude</th>\n",
       "      <th>housing_median_age</th>\n",
       "      <th>total_rooms</th>\n",
       "      <th>total_bedrooms</th>\n",
       "      <th>population</th>\n",
       "      <th>households</th>\n",
       "      <th>median_income</th>\n",
       "      <th>median_house_value</th>\n",
       "      <th>ocean_proximity</th>\n",
       "    </tr>\n",
       "  </thead>\n",
       "  <tbody>\n",
       "    <tr>\n",
       "      <th>0</th>\n",
       "      <td>-122.23</td>\n",
       "      <td>37.88</td>\n",
       "      <td>41.0</td>\n",
       "      <td>880.0</td>\n",
       "      <td>129.0</td>\n",
       "      <td>322.0</td>\n",
       "      <td>126.0</td>\n",
       "      <td>8.3252</td>\n",
       "      <td>452600.0</td>\n",
       "      <td>NEAR BAY</td>\n",
       "    </tr>\n",
       "    <tr>\n",
       "      <th>1</th>\n",
       "      <td>-122.22</td>\n",
       "      <td>37.86</td>\n",
       "      <td>21.0</td>\n",
       "      <td>7099.0</td>\n",
       "      <td>1106.0</td>\n",
       "      <td>2401.0</td>\n",
       "      <td>1138.0</td>\n",
       "      <td>8.3014</td>\n",
       "      <td>358500.0</td>\n",
       "      <td>NEAR BAY</td>\n",
       "    </tr>\n",
       "    <tr>\n",
       "      <th>2</th>\n",
       "      <td>-122.24</td>\n",
       "      <td>37.85</td>\n",
       "      <td>52.0</td>\n",
       "      <td>1467.0</td>\n",
       "      <td>190.0</td>\n",
       "      <td>496.0</td>\n",
       "      <td>177.0</td>\n",
       "      <td>7.2574</td>\n",
       "      <td>352100.0</td>\n",
       "      <td>NEAR BAY</td>\n",
       "    </tr>\n",
       "    <tr>\n",
       "      <th>3</th>\n",
       "      <td>-122.25</td>\n",
       "      <td>37.85</td>\n",
       "      <td>52.0</td>\n",
       "      <td>1274.0</td>\n",
       "      <td>235.0</td>\n",
       "      <td>558.0</td>\n",
       "      <td>219.0</td>\n",
       "      <td>5.6431</td>\n",
       "      <td>341300.0</td>\n",
       "      <td>NEAR BAY</td>\n",
       "    </tr>\n",
       "    <tr>\n",
       "      <th>4</th>\n",
       "      <td>-122.25</td>\n",
       "      <td>37.85</td>\n",
       "      <td>52.0</td>\n",
       "      <td>1627.0</td>\n",
       "      <td>280.0</td>\n",
       "      <td>565.0</td>\n",
       "      <td>259.0</td>\n",
       "      <td>3.8462</td>\n",
       "      <td>342200.0</td>\n",
       "      <td>NEAR BAY</td>\n",
       "    </tr>\n",
       "    <tr>\n",
       "      <th>...</th>\n",
       "      <td>...</td>\n",
       "      <td>...</td>\n",
       "      <td>...</td>\n",
       "      <td>...</td>\n",
       "      <td>...</td>\n",
       "      <td>...</td>\n",
       "      <td>...</td>\n",
       "      <td>...</td>\n",
       "      <td>...</td>\n",
       "      <td>...</td>\n",
       "    </tr>\n",
       "    <tr>\n",
       "      <th>20635</th>\n",
       "      <td>-121.09</td>\n",
       "      <td>39.48</td>\n",
       "      <td>25.0</td>\n",
       "      <td>1665.0</td>\n",
       "      <td>374.0</td>\n",
       "      <td>845.0</td>\n",
       "      <td>330.0</td>\n",
       "      <td>1.5603</td>\n",
       "      <td>78100.0</td>\n",
       "      <td>INLAND</td>\n",
       "    </tr>\n",
       "    <tr>\n",
       "      <th>20636</th>\n",
       "      <td>-121.21</td>\n",
       "      <td>39.49</td>\n",
       "      <td>18.0</td>\n",
       "      <td>697.0</td>\n",
       "      <td>150.0</td>\n",
       "      <td>356.0</td>\n",
       "      <td>114.0</td>\n",
       "      <td>2.5568</td>\n",
       "      <td>77100.0</td>\n",
       "      <td>INLAND</td>\n",
       "    </tr>\n",
       "    <tr>\n",
       "      <th>20637</th>\n",
       "      <td>-121.22</td>\n",
       "      <td>39.43</td>\n",
       "      <td>17.0</td>\n",
       "      <td>2254.0</td>\n",
       "      <td>485.0</td>\n",
       "      <td>1007.0</td>\n",
       "      <td>433.0</td>\n",
       "      <td>1.7000</td>\n",
       "      <td>92300.0</td>\n",
       "      <td>INLAND</td>\n",
       "    </tr>\n",
       "    <tr>\n",
       "      <th>20638</th>\n",
       "      <td>-121.32</td>\n",
       "      <td>39.43</td>\n",
       "      <td>18.0</td>\n",
       "      <td>1860.0</td>\n",
       "      <td>409.0</td>\n",
       "      <td>741.0</td>\n",
       "      <td>349.0</td>\n",
       "      <td>1.8672</td>\n",
       "      <td>84700.0</td>\n",
       "      <td>INLAND</td>\n",
       "    </tr>\n",
       "    <tr>\n",
       "      <th>20639</th>\n",
       "      <td>-121.24</td>\n",
       "      <td>39.37</td>\n",
       "      <td>16.0</td>\n",
       "      <td>2785.0</td>\n",
       "      <td>616.0</td>\n",
       "      <td>1387.0</td>\n",
       "      <td>530.0</td>\n",
       "      <td>2.3886</td>\n",
       "      <td>89400.0</td>\n",
       "      <td>INLAND</td>\n",
       "    </tr>\n",
       "  </tbody>\n",
       "</table>\n",
       "<p>20640 rows × 10 columns</p>\n",
       "</div>"
      ],
      "text/plain": [
       "       longitude  latitude  housing_median_age  total_rooms  total_bedrooms  \\\n",
       "0        -122.23     37.88                41.0        880.0           129.0   \n",
       "1        -122.22     37.86                21.0       7099.0          1106.0   \n",
       "2        -122.24     37.85                52.0       1467.0           190.0   \n",
       "3        -122.25     37.85                52.0       1274.0           235.0   \n",
       "4        -122.25     37.85                52.0       1627.0           280.0   \n",
       "...          ...       ...                 ...          ...             ...   \n",
       "20635    -121.09     39.48                25.0       1665.0           374.0   \n",
       "20636    -121.21     39.49                18.0        697.0           150.0   \n",
       "20637    -121.22     39.43                17.0       2254.0           485.0   \n",
       "20638    -121.32     39.43                18.0       1860.0           409.0   \n",
       "20639    -121.24     39.37                16.0       2785.0           616.0   \n",
       "\n",
       "       population  households  median_income  median_house_value  \\\n",
       "0           322.0       126.0         8.3252            452600.0   \n",
       "1          2401.0      1138.0         8.3014            358500.0   \n",
       "2           496.0       177.0         7.2574            352100.0   \n",
       "3           558.0       219.0         5.6431            341300.0   \n",
       "4           565.0       259.0         3.8462            342200.0   \n",
       "...           ...         ...            ...                 ...   \n",
       "20635       845.0       330.0         1.5603             78100.0   \n",
       "20636       356.0       114.0         2.5568             77100.0   \n",
       "20637      1007.0       433.0         1.7000             92300.0   \n",
       "20638       741.0       349.0         1.8672             84700.0   \n",
       "20639      1387.0       530.0         2.3886             89400.0   \n",
       "\n",
       "      ocean_proximity  \n",
       "0            NEAR BAY  \n",
       "1            NEAR BAY  \n",
       "2            NEAR BAY  \n",
       "3            NEAR BAY  \n",
       "4            NEAR BAY  \n",
       "...               ...  \n",
       "20635          INLAND  \n",
       "20636          INLAND  \n",
       "20637          INLAND  \n",
       "20638          INLAND  \n",
       "20639          INLAND  \n",
       "\n",
       "[20640 rows x 10 columns]"
      ]
     },
     "execution_count": 10,
     "metadata": {},
     "output_type": "execute_result"
    }
   ],
   "source": [
    "import pandas as pd\n",
    "\n",
    "housing = pd.read_csv(\"housing.csv\")\n",
    "housing"
   ]
  },
  {
   "cell_type": "code",
   "execution_count": null,
   "id": "3a722e4a-88ee-40ef-93b5-01c629302ebd",
   "metadata": {},
   "outputs": [],
   "source": [
    "\n",
    "\n"
   ]
  }
 ],
 "metadata": {
  "kernelspec": {
   "display_name": "Python 3 (ipykernel)",
   "language": "python",
   "name": "python3"
  },
  "language_info": {
   "codemirror_mode": {
    "name": "ipython",
    "version": 3
   },
   "file_extension": ".py",
   "mimetype": "text/x-python",
   "name": "python",
   "nbconvert_exporter": "python",
   "pygments_lexer": "ipython3",
   "version": "3.9.7"
  }
 },
 "nbformat": 4,
 "nbformat_minor": 5
}
