{
 "cells": [
  {
   "cell_type": "markdown",
   "id": "ce1fbdf5-3403-4874-9e97-4b00d8bae82b",
   "metadata": {},
   "source": [
    "# Exercises\n",
    "\n",
    "1. What is the fundamental idea behind support vector machines?\n",
    "2. What is a support vector?\n",
    "3. Why is it important to scale the inputs when using SVMs?\n",
    "4. Can a SVM classifier output a confidence score when it classifies an instance? What about a probability?\n",
    "5. Should you use the primal or dual form of the SVM problem to train a model on a training set with millions of instances & hundred of features?\n",
    "6. Say you trained an SVM classifier with an RBF kernel. it seems to underfit the training set: should you increase or decrease $\\gamma$ (`gamma`)? What about `C`?\n",
    "7. How should you set the QP parameters ($H$, $f$, $A$, & $b$) to solve the soft margin linear SVM classifier problem using an off-the-shelf QP solver?\n",
    "8. Train a `LinearSVC` on a linearly separable dataset. Then train an `SVC` & a `SGDClassifer` on the same dataset. See if you can get them to produce roughly the same model.\n",
    "9. Train an SVM classifier on the MNIST dataset. Since SVM classifiers are binary classifiers, you will need to use one-versus-all to classify all 10 digits. you may want to tune the hyperparameters using small validation sets to speed up the process. What accuracy can you reach?\n",
    "10. Train an SVM regressor on the California housing dataset."
   ]
  },
  {
   "cell_type": "markdown",
   "id": "cc7e2cda-abb8-41f5-a175-fbbb44af2eea",
   "metadata": {},
   "source": [
    "---"
   ]
  },
  {
   "cell_type": "code",
   "execution_count": null,
   "id": "99fd8b81-1347-4d59-9113-f1a040315bca",
   "metadata": {},
   "outputs": [],
   "source": []
  }
 ],
 "metadata": {
  "kernelspec": {
   "display_name": "Python 3 (ipykernel)",
   "language": "python",
   "name": "python3"
  },
  "language_info": {
   "codemirror_mode": {
    "name": "ipython",
    "version": 3
   },
   "file_extension": ".py",
   "mimetype": "text/x-python",
   "name": "python",
   "nbconvert_exporter": "python",
   "pygments_lexer": "ipython3",
   "version": "3.9.7"
  }
 },
 "nbformat": 4,
 "nbformat_minor": 5
}
