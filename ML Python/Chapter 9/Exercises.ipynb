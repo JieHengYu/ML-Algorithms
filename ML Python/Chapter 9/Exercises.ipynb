{
 "cells": [
  {
   "cell_type": "markdown",
   "id": "74cfdd3c-49ac-4eb5-ae11-ed525058cc77",
   "metadata": {},
   "source": [
    "# Exercises\n",
    "\n",
    "1. How would you define clustering? Can you name a few clustering algorithms?\n",
    "2. What are some of the main applications of clustering algorithms?\n",
    "3. Describe two techniques to select the right number of clusters when using K-means.\n",
    "4. What is label propagation? Why would you implement it & how?\n",
    "5. Can you name two clustering algorithms that can scale to large datasets? & two that look for regions of high density?\n",
    "6. Can you think of a use case where active learning would be useful? How would you implement it?\n",
    "7. What is the difference between anomaly detection & novelty detection?\n",
    "8. What is a gaussian mixture? What tasks can you use it for?\n",
    "9. Can you name two techniques to find the right number of clusters when using a gaussian mixture model?\n",
    "10. The classic Olivetti faces dataset contains 400 grayscale 64x64 pixel images of faces. Each image is flattened to a 1D vector of size 4096. 40 different people were photographed (10 times each), & the usual task is to train a model that can predict which persion is represented in each picture. Load the dataset using the `sklearn.datasets.fetch_olivetti_faces()` function, the split it into a training set, a validation set, & a test set (note that the dataset is already scaled between 0 & 1). Since the dataset is quite small, you probably want ot use stratified sampling to ensure that there are the same number of images per person in each set. Next, cluster the images using K-means, & ensure that you have a good number of clusters (using one of the techniques discuessed in this lesson). Visualise theclusters: do you see similar faces in each cluster?\n",
    "11. Continuing with the Olivetti faces dataset, train a classifier to predict which person is represented in each picture, & evaluate it on the validation set. Next, use K-means as a dimensionality reduction tool 7 train a classifier on the reduced set. Search for the number of clusters that allows the classifier to get the best performance: waht performance can you reach? What if you append the features from the reduced set to the original features (again, searching for the best number of clusters)?\n",
    "12. Train a gaussian mixture model on the Olivetti faces dataset. To speed up the algorithm, you should probably reduce the dataset's dimensionality (e.g., use PCA, preserving 99% of the variance). Use the model to generate some new faces (using the `sample()` method), & visualise them (if you used PCA, you will need to use it `inverse_transform()` method). Try to modify some images (e.g., rotate flip, darken) & see if the model can detect the anomalies (i.e., compare the output of the `score_samples()` method for normal images & for anomalies).\n",
    "13. Some dimensionality reduction techniques can be used for anomaly detection. For example, take the Olivetti faces dataset & reduce it with PCA, preserving 99% of the variance. Then compute the reconstruction error for each image. Next, take some of the modified images you built in the previous exercise, & look at their reconstruction error: notice how much larger the reconstruction error is. If you plot a reconstructed image, you will see why: it tries to reconstruct a normal face."
   ]
  },
  {
   "cell_type": "markdown",
   "id": "9cc4dd5e-b029-4453-b6ad-6001b3c83d22",
   "metadata": {},
   "source": [
    "---"
   ]
  },
  {
   "cell_type": "code",
   "execution_count": null,
   "id": "ae3402aa-9f90-4383-abbc-284c4aa97d8e",
   "metadata": {},
   "outputs": [],
   "source": []
  }
 ],
 "metadata": {
  "kernelspec": {
   "display_name": "Python 3 (ipykernel)",
   "language": "python",
   "name": "python3"
  },
  "language_info": {
   "codemirror_mode": {
    "name": "ipython",
    "version": 3
   },
   "file_extension": ".py",
   "mimetype": "text/x-python",
   "name": "python",
   "nbconvert_exporter": "python",
   "pygments_lexer": "ipython3",
   "version": "3.9.7"
  }
 },
 "nbformat": 4,
 "nbformat_minor": 5
}
