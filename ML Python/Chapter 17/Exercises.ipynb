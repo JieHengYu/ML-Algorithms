{
 "cells": [
  {
   "cell_type": "markdown",
   "id": "eab4b576-6e0e-4442-b0db-ae5d021d1072",
   "metadata": {},
   "source": [
    "# Exercises \n",
    "\n",
    "1. What are the main tasks that autoencoders are used for?\n",
    "2. Suppose you want to train a classifier, & you have plenty of unlabeled training data but only a few thousand labeled instances. How can autoencoders help? How would you proceed?\n",
    "3. If an autoencoder perfectly reconstructs the inputs, is it necessarily a good autoencoder? How can you evaluate the performance of an autoencoder?\n",
    "4. What are undercomplete & overcomplete autoencoders? What is the main risk of an excessively undercomplete autoencoder? What about the main risk of an overcomplete autoencoder?\n",
    "5. How do you tie weights in a stacked autoencoder? What is the point of doing so?\n",
    "6. What is a generative model? Can you name a type of generative autoencoder?\n",
    "7. What is a GAN? Can you name a few tasks where GANs can shine?\n",
    "8. What are the main difficulties when training GANs?\n",
    "9. Try using a denoising autoencoder to pretrain an image classifier. You can use MNIST or a more complex image dataset such as CIFAR10. Regardless of the dataset you're using, follow these steps:\n",
    "   * Split the dataset into a training set & a test set. Train a deep denoising autoencoder on the full training set.\n",
    "   * Check that the images are fairly well reconstructed. Visualise the images that most activate each neuron in the coding layer.\n",
    "   * Build a classification DNN, reusing the lower layers of the autoencoder. Train it using only 500 images from the training set. Does it perform better with or without pretraining?\n",
    "10. Train a variational autoencoder on the image dataset of your choice, & use it to generate images. Alternatively, you can try to find an unlabeled dataset that you are interested in & see if you can generate new samples.\n",
    "11. Train a DCGAN to tackle the image dataset of your choice & use it to generate images. Add experience replay & see if this helps. Turn it into a conditional GAN where you can control the generated class."
   ]
  },
  {
   "cell_type": "markdown",
   "id": "0d043205-401b-4e2c-9084-c5abe8e86030",
   "metadata": {},
   "source": [
    "---"
   ]
  },
  {
   "cell_type": "markdown",
   "id": "f835d72d-414d-456b-aa90-7a0f8405cfdb",
   "metadata": {},
   "source": [
    "1. Autoencoders can be used for dimensionality reduction, especially for visualisation purposes. They can also act as feature detectors & can be used for unsupervised pretraining of deep neural networks. They can also be generative & are capable of generating new data that looks similar tot the training data.\n",
    "2. You can first train a stacked autoencoder using all the data, then reuse the lower layers to create a neural network for your actual classification task. This makes it possible to train a high-performance model using little training data because the resulting neural network won't have to learn all the low-level features; it will just reuse the feature detectors learned by the layers of the stacked autoencoder.\n",
    "3. If an autoencoder perfectly reconstructs its inputs, it doesnt necessarily mean that it is a good autoencoder. But if the autoencoder cannot reconstruct its inputs, then its a bad autoencoder. To assess the performance of an autoencoder, you can look at the reconstruction loss; you'd want a low reconstruction loss.\n",
    "4. An undercomplete autoencoder is an autoencoder whose codings have lower dimensions than the input data. An undercomplete autoencoder cannot trivially copy its inputs to the codings, so it must find a way to output a copy of the inputs. It is forced to learn the most important features in the input data & drop the unimportant ones. An overcomplete autoencoder is an autoencoder whose codings have equal or higher dimensions than the input data. Overcomplete autoencoders can be used for data visualisation or unsupervised pretraining, & learn important & interesting features like undercomplete autoencoders, but they can also remove noise from images. They can also be generative. An undercomplete autoencoder can fail to reconstruct the inputs, while the overcomplete autoencoder can just copy the inputs to the outputs, without learning any useful features.\n",
    "5. To tie the weights of an autoencoder, you transpose the weights of the encoder to the decoder. This makes training & convergence more efficient, because there are now half the number of parameters.\n",
    "6. Generative models are models that can generate new instances that look like instances in the training set. A variational autoencoder follows the basic structure of all autoencoders with an encoder followed by a decoder. However, instead of directly producing a coding for a given input, the encoder produces a mean coding $\\mu$ & a standard deviation $\\sigma$. The actual coding is then sampled randomly from a Gaussian distribution with mean $\\mu$ & standard deviation $\\sigma$. After that, the decoder decodes the sampled coding normally; & the final output resembles the training instance.\n",
    "7. A GAN puts two neural networks, a generator & discriminator, against each other, competing so that both excel. The generator takes a random distribution as input (typically Gaussian) & outputs data (typically an image). The discriminator takes either a generated image from the generator or the real image from the training set as input, & must guess whether the input image is fake or real. GANs can be great at image processing tasks like super resolution, colourisation, image editting, turning sketches into photorealistic images, & predicting the next frames of a video. They can also be used as a data augmentation technique by generating extra data such as text, audio, timeseries) & identify weaknesses in other models to strengthen them.\n",
    "8. The biggest difficulty of training a GAN is mode collapse. This is when the generator's output gradually become less diverse because the generator gets better at producing convincing images of one class than any other class, fooling the discriminator with a bit more images of that class & thus encouraging the generator to generate even more images of that class. Gradually, the network will forget how to produce anything else. Eventually, the generator will be forced to move to another class; it may then become very good at another class & the discriminator will follow. The GAN may gradually cycle across a few classes, never becoming very good at any of them. Moreover, because of the competition between the generator & the discriminator, the parameters can be unstable, so fine-tuning the hyperparameters becomes very sensitive & difficult."
   ]
  },
  {
   "cell_type": "markdown",
   "id": "baed7e5a-2578-4e8b-b9c7-72bf9c308a34",
   "metadata": {},
   "source": [
    "# 9."
   ]
  },
  {
   "cell_type": "code",
   "execution_count": 1,
   "id": "df4d573d-5e87-4305-9f38-c35ceef3928c",
   "metadata": {},
   "outputs": [],
   "source": [
    "import tensorflow as tf\n",
    "from tensorflow import keras\n",
    "\n",
    "(X_train, y_train), (X_test, y_test) = keras.datasets.mnist.load_data()\n",
    "X_train = X_train / 255.0\n",
    "X_train, X_val = X_train[5000:], X_train[:5000]\n",
    "y_train, y_val = y_train[5000:], y_train[:5000]\n",
    "X_train_500, y_train_500 = X_train[:500], y_train[:500]"
   ]
  },
  {
   "cell_type": "code",
   "execution_count": 2,
   "id": "75a5d4dd-a6ed-482c-b7cd-c26102acdd2f",
   "metadata": {},
   "outputs": [],
   "source": [
    "denoising_encoder = keras.models.Sequential([\n",
    "    keras.layers.Input(shape = [28, 28]),\n",
    "    keras.layers.Flatten(),\n",
    "    keras.layers.Dropout(0.4),\n",
    "    keras.layers.Dense(300, activation = \"selu\"),\n",
    "    keras.layers.Dense(100, activation = \"selu\"),\n",
    "    keras.layers.Dense(30, activation = \"selu\")\n",
    "])\n",
    "denoising_decoder = keras.models.Sequential([\n",
    "    keras.layers.InputLayer(shape = [30]),\n",
    "    keras.layers.Dense(100, activation = \"selu\"),\n",
    "    keras.layers.Dense(300, activation = \"selu\"),\n",
    "    keras.layers.Dense(784, activation = \"sigmoid\"),\n",
    "    keras.layers.Reshape([28, 28])\n",
    "])\n",
    "\n",
    "denoising_autoencoder = keras.models.Sequential([denoising_encoder, denoising_decoder])"
   ]
  },
  {
   "cell_type": "code",
   "execution_count": 3,
   "id": "e68f87bf-9cf5-40af-857b-e52fd4e134ce",
   "metadata": {},
   "outputs": [
    {
     "name": "stdout",
     "output_type": "stream",
     "text": [
      "Epoch 1/15\n",
      "\u001b[1m1719/1719\u001b[0m \u001b[32m━━━━━━━━━━━━━━━━━━━━\u001b[0m\u001b[37m\u001b[0m \u001b[1m17s\u001b[0m 10ms/step - loss: 0.2249 - val_loss: 0.1369\n",
      "Epoch 2/15\n",
      "\u001b[1m1719/1719\u001b[0m \u001b[32m━━━━━━━━━━━━━━━━━━━━\u001b[0m\u001b[37m\u001b[0m \u001b[1m18s\u001b[0m 10ms/step - loss: 0.1415 - val_loss: 0.1197\n",
      "Epoch 3/15\n",
      "\u001b[1m1719/1719\u001b[0m \u001b[32m━━━━━━━━━━━━━━━━━━━━\u001b[0m\u001b[37m\u001b[0m \u001b[1m19s\u001b[0m 11ms/step - loss: 0.1294 - val_loss: 0.1123\n",
      "Epoch 4/15\n",
      "\u001b[1m1719/1719\u001b[0m \u001b[32m━━━━━━━━━━━━━━━━━━━━\u001b[0m\u001b[37m\u001b[0m \u001b[1m17s\u001b[0m 10ms/step - loss: 0.1223 - val_loss: 0.1070\n",
      "Epoch 5/15\n",
      "\u001b[1m1719/1719\u001b[0m \u001b[32m━━━━━━━━━━━━━━━━━━━━\u001b[0m\u001b[37m\u001b[0m \u001b[1m10s\u001b[0m 6ms/step - loss: 0.1179 - val_loss: 0.1038\n",
      "Epoch 6/15\n",
      "\u001b[1m1719/1719\u001b[0m \u001b[32m━━━━━━━━━━━━━━━━━━━━\u001b[0m\u001b[37m\u001b[0m \u001b[1m10s\u001b[0m 6ms/step - loss: 0.1147 - val_loss: 0.1012\n",
      "Epoch 7/15\n",
      "\u001b[1m1719/1719\u001b[0m \u001b[32m━━━━━━━━━━━━━━━━━━━━\u001b[0m\u001b[37m\u001b[0m \u001b[1m9s\u001b[0m 5ms/step - loss: 0.1123 - val_loss: 0.0988\n",
      "Epoch 8/15\n",
      "\u001b[1m1719/1719\u001b[0m \u001b[32m━━━━━━━━━━━━━━━━━━━━\u001b[0m\u001b[37m\u001b[0m \u001b[1m10s\u001b[0m 6ms/step - loss: 0.1100 - val_loss: 0.0984\n",
      "Epoch 9/15\n",
      "\u001b[1m1719/1719\u001b[0m \u001b[32m━━━━━━━━━━━━━━━━━━━━\u001b[0m\u001b[37m\u001b[0m \u001b[1m9s\u001b[0m 5ms/step - loss: 0.1083 - val_loss: 0.0969\n",
      "Epoch 10/15\n",
      "\u001b[1m1719/1719\u001b[0m \u001b[32m━━━━━━━━━━━━━━━━━━━━\u001b[0m\u001b[37m\u001b[0m \u001b[1m9s\u001b[0m 5ms/step - loss: 0.1071 - val_loss: 0.0963\n",
      "Epoch 11/15\n",
      "\u001b[1m1719/1719\u001b[0m \u001b[32m━━━━━━━━━━━━━━━━━━━━\u001b[0m\u001b[37m\u001b[0m \u001b[1m9s\u001b[0m 5ms/step - loss: 0.1056 - val_loss: 0.0937\n",
      "Epoch 12/15\n",
      "\u001b[1m1719/1719\u001b[0m \u001b[32m━━━━━━━━━━━━━━━━━━━━\u001b[0m\u001b[37m\u001b[0m \u001b[1m9s\u001b[0m 5ms/step - loss: 0.1047 - val_loss: 0.0948\n",
      "Epoch 13/15\n",
      "\u001b[1m1719/1719\u001b[0m \u001b[32m━━━━━━━━━━━━━━━━━━━━\u001b[0m\u001b[37m\u001b[0m \u001b[1m9s\u001b[0m 5ms/step - loss: 0.1036 - val_loss: 0.0937\n",
      "Epoch 14/15\n",
      "\u001b[1m1719/1719\u001b[0m \u001b[32m━━━━━━━━━━━━━━━━━━━━\u001b[0m\u001b[37m\u001b[0m \u001b[1m9s\u001b[0m 5ms/step - loss: 0.1027 - val_loss: 0.0930\n",
      "Epoch 15/15\n",
      "\u001b[1m1719/1719\u001b[0m \u001b[32m━━━━━━━━━━━━━━━━━━━━\u001b[0m\u001b[37m\u001b[0m \u001b[1m9s\u001b[0m 5ms/step - loss: 0.1019 - val_loss: 0.0932\n"
     ]
    }
   ],
   "source": [
    "checkpoint_cb = keras.callbacks.ModelCheckpoint(\"best_denoising_autoencoder.keras\", \n",
    "                                                save_best_only = True)\n",
    "\n",
    "denoising_autoencoder.compile(loss = \"binary_crossentropy\", \n",
    "                              optimizer = keras.optimizers.SGD(learning_rate = 1.0))\n",
    "history = denoising_autoencoder.fit(X_train, X_train, epochs = 15,\n",
    "                                    validation_data = (X_val, X_val),\n",
    "                                   callbacks = [checkpoint_cb])"
   ]
  },
  {
   "cell_type": "code",
   "execution_count": 4,
   "id": "99f11361-3d5a-41c2-b2c6-cabbde9b1ef8",
   "metadata": {},
   "outputs": [
    {
     "name": "stdout",
     "output_type": "stream",
     "text": [
      "\u001b[1m1/1\u001b[0m \u001b[32m━━━━━━━━━━━━━━━━━━━━\u001b[0m\u001b[37m\u001b[0m \u001b[1m0s\u001b[0m 73ms/step\n"
     ]
    },
    {
     "data": {
      "image/png": "[encoded data removed]",
      "text/plain": [
       "<Figure size 600x1000 with 15 Axes>"
      ]
     },
     "metadata": {},
     "output_type": "display_data"
    }
   ],
   "source": [
    "import numpy as np\n",
    "%matplotlib inline\n",
    "import matplotlib.pyplot as plt\n",
    "\n",
    "n_images = 5\n",
    "new_images = X_test[:n_images]\n",
    "new_images_noisy = new_images + np.random.randn(n_images, 28, 28) * 0.1\n",
    "new_images_denoised = denoising_autoencoder.predict(new_images_noisy)\n",
    "\n",
    "plt.figure(figsize = (6, n_images * 2))\n",
    "for index in range(n_images):\n",
    "    plt.subplot(n_images, 3, index * 3 + 1)\n",
    "    plt.imshow(new_images[index])\n",
    "    plt.axis(\"off\")\n",
    "    if index == 0:\n",
    "        plt.title(\"Original\")\n",
    "    plt.subplot(n_images, 3, index * 3 + 2)\n",
    "    plt.imshow(np.clip(new_images_noisy[index], 0., 1.))\n",
    "    plt.axis(\"off\")\n",
    "    if index == 0:\n",
    "        plt.title(\"Noisy\")\n",
    "    plt.subplot(n_images, 3, index * 3 + 3)\n",
    "    plt.imshow(new_images_denoised[index])\n",
    "    plt.axis(\"off\")\n",
    "    if index == 0:\n",
    "        plt.title(\"Denoised\")\n",
    "plt.show()"
   ]
  },
  {
   "cell_type": "code",
   "execution_count": 5,
   "id": "72bee4bf-a707-4742-ab0e-801af0267bae",
   "metadata": {},
   "outputs": [],
   "source": [
    "class_NN = keras.models.Sequential([\n",
    "    keras.layers.Input(shape = [28, 28]),\n",
    "    keras.layers.Flatten(),\n",
    "    keras.layers.Dense(300, activation = \"relu\"),\n",
    "    keras.layers.Dense(100, activation = \"relu\"),\n",
    "    keras.layers.Dense(10, activation = \"softmax\")\n",
    "])"
   ]
  },
  {
   "cell_type": "code",
   "execution_count": 6,
   "id": "4ae790b4-2122-4ffe-a560-7bb677a469e1",
   "metadata": {},
   "outputs": [
    {
     "name": "stdout",
     "output_type": "stream",
     "text": [
      "Epoch 1/50\n",
      "\u001b[1m16/16\u001b[0m \u001b[32m━━━━━━━━━━━━━━━━━━━━\u001b[0m\u001b[37m\u001b[0m \u001b[1m1s\u001b[0m 22ms/step - accuracy: 0.1323 - loss: 2.2924 - val_accuracy: 0.1338 - val_loss: 2.2761\n",
      "Epoch 2/50\n",
      "\u001b[1m16/16\u001b[0m \u001b[32m━━━━━━━━━━━━━━━━━━━━\u001b[0m\u001b[37m\u001b[0m \u001b[1m0s\u001b[0m 13ms/step - accuracy: 0.1617 - loss: 2.2560 - val_accuracy: 0.1474 - val_loss: 2.2615\n",
      "Epoch 3/50\n",
      "\u001b[1m16/16\u001b[0m \u001b[32m━━━━━━━━━━━━━━━━━━━━\u001b[0m\u001b[37m\u001b[0m \u001b[1m0s\u001b[0m 13ms/step - accuracy: 0.1506 - loss: 2.2687 - val_accuracy: 0.1624 - val_loss: 2.2474\n",
      "Epoch 4/50\n",
      "\u001b[1m16/16\u001b[0m \u001b[32m━━━━━━━━━━━━━━━━━━━━\u001b[0m\u001b[37m\u001b[0m \u001b[1m0s\u001b[0m 13ms/step - accuracy: 0.1832 - loss: 2.2184 - val_accuracy: 0.1774 - val_loss: 2.2336\n",
      "Epoch 5/50\n",
      "\u001b[1m16/16\u001b[0m \u001b[32m━━━━━━━━━━━━━━━━━━━━\u001b[0m\u001b[37m\u001b[0m \u001b[1m0s\u001b[0m 14ms/step - accuracy: 0.1974 - loss: 2.2093 - val_accuracy: 0.1948 - val_loss: 2.2202\n",
      "Epoch 6/50\n",
      "\u001b[1m16/16\u001b[0m \u001b[32m━━━━━━━━━━━━━━━━━━━━\u001b[0m\u001b[37m\u001b[0m \u001b[1m0s\u001b[0m 14ms/step - accuracy: 0.2001 - loss: 2.1952 - val_accuracy: 0.2148 - val_loss: 2.2071\n",
      "Epoch 7/50\n",
      "\u001b[1m16/16\u001b[0m \u001b[32m━━━━━━━━━━━━━━━━━━━━\u001b[0m\u001b[37m\u001b[0m \u001b[1m0s\u001b[0m 14ms/step - accuracy: 0.2394 - loss: 2.1765 - val_accuracy: 0.2302 - val_loss: 2.1944\n",
      "Epoch 8/50\n",
      "\u001b[1m16/16\u001b[0m \u001b[32m━━━━━━━━━━━━━━━━━━━━\u001b[0m\u001b[37m\u001b[0m \u001b[1m0s\u001b[0m 13ms/step - accuracy: 0.2656 - loss: 2.1411 - val_accuracy: 0.2520 - val_loss: 2.1818\n",
      "Epoch 9/50\n",
      "\u001b[1m16/16\u001b[0m \u001b[32m━━━━━━━━━━━━━━━━━━━━\u001b[0m\u001b[37m\u001b[0m \u001b[1m0s\u001b[0m 13ms/step - accuracy: 0.2594 - loss: 2.1604 - val_accuracy: 0.2686 - val_loss: 2.1696\n",
      "Epoch 10/50\n",
      "\u001b[1m16/16\u001b[0m \u001b[32m━━━━━━━━━━━━━━━━━━━━\u001b[0m\u001b[37m\u001b[0m \u001b[1m0s\u001b[0m 13ms/step - accuracy: 0.3553 - loss: 2.1141 - val_accuracy: 0.2820 - val_loss: 2.1575\n",
      "Epoch 11/50\n",
      "\u001b[1m16/16\u001b[0m \u001b[32m━━━━━━━━━━━━━━━━━━━━\u001b[0m\u001b[37m\u001b[0m \u001b[1m0s\u001b[0m 14ms/step - accuracy: 0.3496 - loss: 2.1162 - val_accuracy: 0.3046 - val_loss: 2.1455\n",
      "Epoch 12/50\n",
      "\u001b[1m16/16\u001b[0m \u001b[32m━━━━━━━━━━━━━━━━━━━━\u001b[0m\u001b[37m\u001b[0m \u001b[1m0s\u001b[0m 14ms/step - accuracy: 0.3325 - loss: 2.1159 - val_accuracy: 0.3226 - val_loss: 2.1336\n",
      "Epoch 13/50\n",
      "\u001b[1m16/16\u001b[0m \u001b[32m━━━━━━━━━━━━━━━━━━━━\u001b[0m\u001b[37m\u001b[0m \u001b[1m0s\u001b[0m 14ms/step - accuracy: 0.3777 - loss: 2.0930 - val_accuracy: 0.3390 - val_loss: 2.1219\n",
      "Epoch 14/50\n",
      "\u001b[1m16/16\u001b[0m \u001b[32m━━━━━━━━━━━━━━━━━━━━\u001b[0m\u001b[37m\u001b[0m \u001b[1m0s\u001b[0m 14ms/step - accuracy: 0.3681 - loss: 2.0824 - val_accuracy: 0.3546 - val_loss: 2.1102\n",
      "Epoch 15/50\n",
      "\u001b[1m16/16\u001b[0m \u001b[32m━━━━━━━━━━━━━━━━━━━━\u001b[0m\u001b[37m\u001b[0m \u001b[1m0s\u001b[0m 14ms/step - accuracy: 0.4216 - loss: 2.0540 - val_accuracy: 0.3688 - val_loss: 2.0986\n",
      "Epoch 16/50\n",
      "\u001b[1m16/16\u001b[0m \u001b[32m━━━━━━━━━━━━━━━━━━━━\u001b[0m\u001b[37m\u001b[0m \u001b[1m0s\u001b[0m 14ms/step - accuracy: 0.3915 - loss: 2.0701 - val_accuracy: 0.3856 - val_loss: 2.0872\n",
      "Epoch 17/50\n",
      "\u001b[1m16/16\u001b[0m \u001b[32m━━━━━━━━━━━━━━━━━━━━\u001b[0m\u001b[37m\u001b[0m \u001b[1m0s\u001b[0m 14ms/step - accuracy: 0.4373 - loss: 2.0151 - val_accuracy: 0.3992 - val_loss: 2.0756\n",
      "Epoch 18/50\n",
      "\u001b[1m16/16\u001b[0m \u001b[32m━━━━━━━━━━━━━━━━━━━━\u001b[0m\u001b[37m\u001b[0m \u001b[1m0s\u001b[0m 14ms/step - accuracy: 0.4688 - loss: 2.0045 - val_accuracy: 0.4130 - val_loss: 2.0641\n",
      "Epoch 19/50\n",
      "\u001b[1m16/16\u001b[0m \u001b[32m━━━━━━━━━━━━━━━━━━━━\u001b[0m\u001b[37m\u001b[0m \u001b[1m0s\u001b[0m 13ms/step - accuracy: 0.5054 - loss: 1.9884 - val_accuracy: 0.4244 - val_loss: 2.0526\n",
      "Epoch 20/50\n",
      "\u001b[1m16/16\u001b[0m \u001b[32m━━━━━━━━━━━━━━━━━━━━\u001b[0m\u001b[37m\u001b[0m \u001b[1m0s\u001b[0m 13ms/step - accuracy: 0.5253 - loss: 1.9578 - val_accuracy: 0.4338 - val_loss: 2.0413\n",
      "Epoch 21/50\n",
      "\u001b[1m16/16\u001b[0m \u001b[32m━━━━━━━━━━━━━━━━━━━━\u001b[0m\u001b[37m\u001b[0m \u001b[1m0s\u001b[0m 17ms/step - accuracy: 0.5224 - loss: 1.9486 - val_accuracy: 0.4428 - val_loss: 2.0298\n",
      "Epoch 22/50\n",
      "\u001b[1m16/16\u001b[0m \u001b[32m━━━━━━━━━━━━━━━━━━━━\u001b[0m\u001b[37m\u001b[0m \u001b[1m0s\u001b[0m 14ms/step - accuracy: 0.5184 - loss: 1.9473 - val_accuracy: 0.4532 - val_loss: 2.0183\n",
      "Epoch 23/50\n",
      "\u001b[1m16/16\u001b[0m \u001b[32m━━━━━━━━━━━━━━━━━━━━\u001b[0m\u001b[37m\u001b[0m \u001b[1m0s\u001b[0m 13ms/step - accuracy: 0.5019 - loss: 1.9424 - val_accuracy: 0.4588 - val_loss: 2.0069\n",
      "Epoch 24/50\n",
      "\u001b[1m16/16\u001b[0m \u001b[32m━━━━━━━━━━━━━━━━━━━━\u001b[0m\u001b[37m\u001b[0m \u001b[1m0s\u001b[0m 13ms/step - accuracy: 0.5418 - loss: 1.9143 - val_accuracy: 0.4664 - val_loss: 1.9954\n",
      "Epoch 25/50\n",
      "\u001b[1m16/16\u001b[0m \u001b[32m━━━━━━━━━━━━━━━━━━━━\u001b[0m\u001b[37m\u001b[0m \u001b[1m0s\u001b[0m 13ms/step - accuracy: 0.5702 - loss: 1.9015 - val_accuracy: 0.4746 - val_loss: 1.9840\n",
      "Epoch 26/50\n",
      "\u001b[1m16/16\u001b[0m \u001b[32m━━━━━━━━━━━━━━━━━━━━\u001b[0m\u001b[37m\u001b[0m \u001b[1m0s\u001b[0m 13ms/step - accuracy: 0.5769 - loss: 1.8869 - val_accuracy: 0.4834 - val_loss: 1.9727\n",
      "Epoch 27/50\n",
      "\u001b[1m16/16\u001b[0m \u001b[32m━━━━━━━━━━━━━━━━━━━━\u001b[0m\u001b[37m\u001b[0m \u001b[1m0s\u001b[0m 14ms/step - accuracy: 0.5559 - loss: 1.8840 - val_accuracy: 0.4894 - val_loss: 1.9612\n",
      "Epoch 28/50\n",
      "\u001b[1m16/16\u001b[0m \u001b[32m━━━━━━━━━━━━━━━━━━━━\u001b[0m\u001b[37m\u001b[0m \u001b[1m0s\u001b[0m 14ms/step - accuracy: 0.6005 - loss: 1.8572 - val_accuracy: 0.4968 - val_loss: 1.9497\n",
      "Epoch 29/50\n",
      "\u001b[1m16/16\u001b[0m \u001b[32m━━━━━━━━━━━━━━━━━━━━\u001b[0m\u001b[37m\u001b[0m \u001b[1m0s\u001b[0m 14ms/step - accuracy: 0.5856 - loss: 1.8635 - val_accuracy: 0.5048 - val_loss: 1.9381\n",
      "Epoch 30/50\n",
      "\u001b[1m16/16\u001b[0m \u001b[32m━━━━━━━━━━━━━━━━━━━━\u001b[0m\u001b[37m\u001b[0m \u001b[1m0s\u001b[0m 19ms/step - accuracy: 0.5639 - loss: 1.8563 - val_accuracy: 0.5112 - val_loss: 1.9266\n",
      "Epoch 31/50\n",
      "\u001b[1m16/16\u001b[0m \u001b[32m━━━━━━━━━━━━━━━━━━━━\u001b[0m\u001b[37m\u001b[0m \u001b[1m0s\u001b[0m 14ms/step - accuracy: 0.5837 - loss: 1.8254 - val_accuracy: 0.5172 - val_loss: 1.9150\n",
      "Epoch 32/50\n",
      "\u001b[1m16/16\u001b[0m \u001b[32m━━━━━━━━━━━━━━━━━━━━\u001b[0m\u001b[37m\u001b[0m \u001b[1m0s\u001b[0m 14ms/step - accuracy: 0.5900 - loss: 1.8135 - val_accuracy: 0.5240 - val_loss: 1.9034\n",
      "Epoch 33/50\n",
      "\u001b[1m16/16\u001b[0m \u001b[32m━━━━━━━━━━━━━━━━━━━━\u001b[0m\u001b[37m\u001b[0m \u001b[1m0s\u001b[0m 14ms/step - accuracy: 0.6088 - loss: 1.8095 - val_accuracy: 0.5284 - val_loss: 1.8918\n",
      "Epoch 34/50\n",
      "\u001b[1m16/16\u001b[0m \u001b[32m━━━━━━━━━━━━━━━━━━━━\u001b[0m\u001b[37m\u001b[0m \u001b[1m0s\u001b[0m 13ms/step - accuracy: 0.6128 - loss: 1.7576 - val_accuracy: 0.5366 - val_loss: 1.8801\n",
      "Epoch 35/50\n",
      "\u001b[1m16/16\u001b[0m \u001b[32m━━━━━━━━━━━━━━━━━━━━\u001b[0m\u001b[37m\u001b[0m \u001b[1m0s\u001b[0m 15ms/step - accuracy: 0.6149 - loss: 1.7666 - val_accuracy: 0.5426 - val_loss: 1.8685\n",
      "Epoch 36/50\n",
      "\u001b[1m16/16\u001b[0m \u001b[32m━━━━━━━━━━━━━━━━━━━━\u001b[0m\u001b[37m\u001b[0m \u001b[1m0s\u001b[0m 14ms/step - accuracy: 0.6053 - loss: 1.7795 - val_accuracy: 0.5476 - val_loss: 1.8568\n",
      "Epoch 37/50\n",
      "\u001b[1m16/16\u001b[0m \u001b[32m━━━━━━━━━━━━━━━━━━━━\u001b[0m\u001b[37m\u001b[0m \u001b[1m0s\u001b[0m 14ms/step - accuracy: 0.6490 - loss: 1.7336 - val_accuracy: 0.5528 - val_loss: 1.8451\n",
      "Epoch 38/50\n",
      "\u001b[1m16/16\u001b[0m \u001b[32m━━━━━━━━━━━━━━━━━━━━\u001b[0m\u001b[37m\u001b[0m \u001b[1m0s\u001b[0m 14ms/step - accuracy: 0.6319 - loss: 1.7383 - val_accuracy: 0.5582 - val_loss: 1.8334\n",
      "Epoch 39/50\n",
      "\u001b[1m16/16\u001b[0m \u001b[32m━━━━━━━━━━━━━━━━━━━━\u001b[0m\u001b[37m\u001b[0m \u001b[1m0s\u001b[0m 14ms/step - accuracy: 0.6352 - loss: 1.7099 - val_accuracy: 0.5654 - val_loss: 1.8217\n",
      "Epoch 40/50\n",
      "\u001b[1m16/16\u001b[0m \u001b[32m━━━━━━━━━━━━━━━━━━━━\u001b[0m\u001b[37m\u001b[0m \u001b[1m0s\u001b[0m 18ms/step - accuracy: 0.6589 - loss: 1.6929 - val_accuracy: 0.5712 - val_loss: 1.8101\n",
      "Epoch 41/50\n",
      "\u001b[1m16/16\u001b[0m \u001b[32m━━━━━━━━━━━━━━━━━━━━\u001b[0m\u001b[37m\u001b[0m \u001b[1m0s\u001b[0m 13ms/step - accuracy: 0.6810 - loss: 1.6556 - val_accuracy: 0.5754 - val_loss: 1.7985\n",
      "Epoch 42/50\n",
      "\u001b[1m16/16\u001b[0m \u001b[32m━━━━━━━━━━━━━━━━━━━━\u001b[0m\u001b[37m\u001b[0m \u001b[1m0s\u001b[0m 14ms/step - accuracy: 0.6855 - loss: 1.6563 - val_accuracy: 0.5830 - val_loss: 1.7868\n",
      "Epoch 43/50\n",
      "\u001b[1m16/16\u001b[0m \u001b[32m━━━━━━━━━━━━━━━━━━━━\u001b[0m\u001b[37m\u001b[0m \u001b[1m0s\u001b[0m 15ms/step - accuracy: 0.6321 - loss: 1.6790 - val_accuracy: 0.5888 - val_loss: 1.7751\n",
      "Epoch 44/50\n",
      "\u001b[1m16/16\u001b[0m \u001b[32m━━━━━━━━━━━━━━━━━━━━\u001b[0m\u001b[37m\u001b[0m \u001b[1m0s\u001b[0m 14ms/step - accuracy: 0.6711 - loss: 1.6458 - val_accuracy: 0.5952 - val_loss: 1.7635\n",
      "Epoch 45/50\n",
      "\u001b[1m16/16\u001b[0m \u001b[32m━━━━━━━━━━━━━━━━━━━━\u001b[0m\u001b[37m\u001b[0m \u001b[1m0s\u001b[0m 14ms/step - accuracy: 0.6840 - loss: 1.6284 - val_accuracy: 0.5994 - val_loss: 1.7520\n",
      "Epoch 46/50\n",
      "\u001b[1m16/16\u001b[0m \u001b[32m━━━━━━━━━━━━━━━━━━━━\u001b[0m\u001b[37m\u001b[0m \u001b[1m0s\u001b[0m 14ms/step - accuracy: 0.6685 - loss: 1.6031 - val_accuracy: 0.6054 - val_loss: 1.7405\n",
      "Epoch 47/50\n",
      "\u001b[1m16/16\u001b[0m \u001b[32m━━━━━━━━━━━━━━━━━━━━\u001b[0m\u001b[37m\u001b[0m \u001b[1m0s\u001b[0m 14ms/step - accuracy: 0.7241 - loss: 1.5793 - val_accuracy: 0.6082 - val_loss: 1.7290\n",
      "Epoch 48/50\n",
      "\u001b[1m16/16\u001b[0m \u001b[32m━━━━━━━━━━━━━━━━━━━━\u001b[0m\u001b[37m\u001b[0m \u001b[1m0s\u001b[0m 14ms/step - accuracy: 0.7067 - loss: 1.5763 - val_accuracy: 0.6124 - val_loss: 1.7176\n",
      "Epoch 49/50\n",
      "\u001b[1m16/16\u001b[0m \u001b[32m━━━━━━━━━━━━━━━━━━━━\u001b[0m\u001b[37m\u001b[0m \u001b[1m0s\u001b[0m 14ms/step - accuracy: 0.7291 - loss: 1.5489 - val_accuracy: 0.6166 - val_loss: 1.7062\n",
      "Epoch 50/50\n",
      "\u001b[1m16/16\u001b[0m \u001b[32m━━━━━━━━━━━━━━━━━━━━\u001b[0m\u001b[37m\u001b[0m \u001b[1m0s\u001b[0m 14ms/step - accuracy: 0.7123 - loss: 1.5784 - val_accuracy: 0.6206 - val_loss: 1.6947\n"
     ]
    },
    {
     "data": {
      "text/plain": [
       "<keras.src.callbacks.history.History at 0x150507ec0>"
      ]
     },
     "execution_count": 6,
     "metadata": {},
     "output_type": "execute_result"
    }
   ],
   "source": [
    "class_NN.compile(loss = \"sparse_categorical_crossentropy\",\n",
    "                 optimizer = keras.optimizers.SGD(learning_rate = 1e-3), \n",
    "                 metrics = [\"accuracy\"])\n",
    "class_NN.fit(X_train_500, y_train_500, epochs = 50,\n",
    "             validation_data = (X_val, y_val))"
   ]
  },
  {
   "cell_type": "code",
   "execution_count": 7,
   "id": "7906a800-fd86-4d42-9570-6376d63dac28",
   "metadata": {},
   "outputs": [],
   "source": [
    "denoising_model = keras.models.load_model(\"best_denoising_autoencoder.keras\")\n",
    "combined_model = keras.models.Sequential([denoising_model, class_NN])\n",
    "denoising_model_clone = keras.models.clone_model(denoising_model)\n",
    "denoising_model_clone.set_weights(denoising_model.get_weights())"
   ]
  },
  {
   "cell_type": "code",
   "execution_count": 8,
   "id": "1a0bdb6f-8234-4025-8994-7ebfe6fcf2d8",
   "metadata": {},
   "outputs": [
    {
     "name": "stdout",
     "output_type": "stream",
     "text": [
      "Epoch 1/15\n",
      "\u001b[1m16/16\u001b[0m \u001b[32m━━━━━━━━━━━━━━━━━━━━\u001b[0m\u001b[37m\u001b[0m \u001b[1m2s\u001b[0m 44ms/step - accuracy: 0.6968 - loss: 0.0000e+00 - val_accuracy: 0.8034 - val_loss: 0.0000e+00\n",
      "Epoch 2/15\n",
      "\u001b[1m16/16\u001b[0m \u001b[32m━━━━━━━━━━━━━━━━━━━━\u001b[0m\u001b[37m\u001b[0m \u001b[1m1s\u001b[0m 32ms/step - accuracy: 0.8688 - loss: 0.0000e+00 - val_accuracy: 0.8522 - val_loss: 0.0000e+00\n",
      "Epoch 3/15\n",
      "\u001b[1m16/16\u001b[0m \u001b[32m━━━━━━━━━━━━━━━━━━━━\u001b[0m\u001b[37m\u001b[0m \u001b[1m0s\u001b[0m 31ms/step - accuracy: 0.8951 - loss: 0.0000e+00 - val_accuracy: 0.8512 - val_loss: 0.0000e+00\n",
      "Epoch 4/15\n",
      "\u001b[1m16/16\u001b[0m \u001b[32m━━━━━━━━━━━━━━━━━━━━\u001b[0m\u001b[37m\u001b[0m \u001b[1m0s\u001b[0m 31ms/step - accuracy: 0.9209 - loss: 0.0000e+00 - val_accuracy: 0.8664 - val_loss: 0.0000e+00\n",
      "Epoch 5/15\n",
      "\u001b[1m16/16\u001b[0m \u001b[32m━━━━━━━━━━━━━━━━━━━━\u001b[0m\u001b[37m\u001b[0m \u001b[1m0s\u001b[0m 31ms/step - accuracy: 0.9330 - loss: 0.0000e+00 - val_accuracy: 0.8738 - val_loss: 0.0000e+00\n",
      "Epoch 6/15\n",
      "\u001b[1m16/16\u001b[0m \u001b[32m━━━━━━━━━━━━━━━━━━━━\u001b[0m\u001b[37m\u001b[0m \u001b[1m0s\u001b[0m 31ms/step - accuracy: 0.9663 - loss: 0.0000e+00 - val_accuracy: 0.8694 - val_loss: 0.0000e+00\n",
      "Epoch 7/15\n",
      "\u001b[1m16/16\u001b[0m \u001b[32m━━━━━━━━━━━━━━━━━━━━\u001b[0m\u001b[37m\u001b[0m \u001b[1m0s\u001b[0m 31ms/step - accuracy: 0.9778 - loss: 0.0000e+00 - val_accuracy: 0.8750 - val_loss: 0.0000e+00\n",
      "Epoch 8/15\n",
      "\u001b[1m16/16\u001b[0m \u001b[32m━━━━━━━━━━━━━━━━━━━━\u001b[0m\u001b[37m\u001b[0m \u001b[1m0s\u001b[0m 30ms/step - accuracy: 0.9832 - loss: 0.0000e+00 - val_accuracy: 0.8702 - val_loss: 0.0000e+00\n",
      "Epoch 9/15\n",
      "\u001b[1m16/16\u001b[0m \u001b[32m━━━━━━━━━━━━━━━━━━━━\u001b[0m\u001b[37m\u001b[0m \u001b[1m0s\u001b[0m 31ms/step - accuracy: 0.9846 - loss: 0.0000e+00 - val_accuracy: 0.8798 - val_loss: 0.0000e+00\n",
      "Epoch 10/15\n",
      "\u001b[1m16/16\u001b[0m \u001b[32m━━━━━━━━━━━━━━━━━━━━\u001b[0m\u001b[37m\u001b[0m \u001b[1m0s\u001b[0m 31ms/step - accuracy: 0.9784 - loss: 0.0000e+00 - val_accuracy: 0.8812 - val_loss: 0.0000e+00\n",
      "Epoch 11/15\n",
      "\u001b[1m16/16\u001b[0m \u001b[32m━━━━━━━━━━━━━━━━━━━━\u001b[0m\u001b[37m\u001b[0m \u001b[1m0s\u001b[0m 31ms/step - accuracy: 0.9863 - loss: 0.0000e+00 - val_accuracy: 0.8742 - val_loss: 0.0000e+00\n",
      "Epoch 12/15\n",
      "\u001b[1m16/16\u001b[0m \u001b[32m━━━━━━━━━━━━━━━━━━━━\u001b[0m\u001b[37m\u001b[0m \u001b[1m0s\u001b[0m 30ms/step - accuracy: 0.9891 - loss: 0.0000e+00 - val_accuracy: 0.8790 - val_loss: 0.0000e+00\n",
      "Epoch 13/15\n",
      "\u001b[1m16/16\u001b[0m \u001b[32m━━━━━━━━━━━━━━━━━━━━\u001b[0m\u001b[37m\u001b[0m \u001b[1m1s\u001b[0m 36ms/step - accuracy: 0.9915 - loss: 0.0000e+00 - val_accuracy: 0.8790 - val_loss: 0.0000e+00\n",
      "Epoch 14/15\n",
      "\u001b[1m16/16\u001b[0m \u001b[32m━━━━━━━━━━━━━━━━━━━━\u001b[0m\u001b[37m\u001b[0m \u001b[1m1s\u001b[0m 34ms/step - accuracy: 0.9854 - loss: 0.0000e+00 - val_accuracy: 0.8850 - val_loss: 0.0000e+00\n",
      "Epoch 15/15\n",
      "\u001b[1m16/16\u001b[0m \u001b[32m━━━━━━━━━━━━━━━━━━━━\u001b[0m\u001b[37m\u001b[0m \u001b[1m0s\u001b[0m 31ms/step - accuracy: 0.9970 - loss: 0.0000e+00 - val_accuracy: 0.8732 - val_loss: 0.0000e+00\n"
     ]
    },
    {
     "data": {
      "text/plain": [
       "<keras.src.callbacks.history.History at 0x1508a9bb0>"
      ]
     },
     "execution_count": 8,
     "metadata": {},
     "output_type": "execute_result"
    }
   ],
   "source": [
    "for layer in combined_model.layers[:-1]:\n",
    "    layer.trainable = False\n",
    "\n",
    "combined_model.compile(loss = \"sparse_categorical_crossentropy\",\n",
    "                       optimizer = \"nadam\", metrics = [\"accuracy\"])\n",
    "combined_model.fit(X_train_500, y_train_500, epochs = 15,\n",
    "                   validation_data = (X_val, y_val))"
   ]
  },
  {
   "cell_type": "code",
   "execution_count": 9,
   "id": "f4e1ace7-d358-4eae-98d2-9c722194df94",
   "metadata": {},
   "outputs": [
    {
     "name": "stdout",
     "output_type": "stream",
     "text": [
      "Epoch 1/35\n",
      "\u001b[1m16/16\u001b[0m \u001b[32m━━━━━━━━━━━━━━━━━━━━\u001b[0m\u001b[37m\u001b[0m \u001b[1m2s\u001b[0m 44ms/step - accuracy: 0.9918 - loss: 0.0000e+00 - val_accuracy: 0.8792 - val_loss: 0.0000e+00\n",
      "Epoch 2/35\n",
      "\u001b[1m16/16\u001b[0m \u001b[32m━━━━━━━━━━━━━━━━━━━━\u001b[0m\u001b[37m\u001b[0m \u001b[1m0s\u001b[0m 32ms/step - accuracy: 0.9851 - loss: 0.0000e+00 - val_accuracy: 0.8924 - val_loss: 0.0000e+00\n",
      "Epoch 3/35\n",
      "\u001b[1m16/16\u001b[0m \u001b[32m━━━━━━━━━━━━━━━━━━━━\u001b[0m\u001b[37m\u001b[0m \u001b[1m1s\u001b[0m 35ms/step - accuracy: 0.9962 - loss: 0.0000e+00 - val_accuracy: 0.8856 - val_loss: 0.0000e+00\n",
      "Epoch 4/35\n",
      "\u001b[1m16/16\u001b[0m \u001b[32m━━━━━━━━━━━━━━━━━━━━\u001b[0m\u001b[37m\u001b[0m \u001b[1m1s\u001b[0m 36ms/step - accuracy: 0.9982 - loss: 0.0000e+00 - val_accuracy: 0.8840 - val_loss: 0.0000e+00\n",
      "Epoch 5/35\n",
      "\u001b[1m16/16\u001b[0m \u001b[32m━━━━━━━━━━━━━━━━━━━━\u001b[0m\u001b[37m\u001b[0m \u001b[1m0s\u001b[0m 29ms/step - accuracy: 0.9954 - loss: 0.0000e+00 - val_accuracy: 0.8756 - val_loss: 0.0000e+00\n",
      "Epoch 6/35\n",
      "\u001b[1m16/16\u001b[0m \u001b[32m━━━━━━━━━━━━━━━━━━━━\u001b[0m\u001b[37m\u001b[0m \u001b[1m1s\u001b[0m 33ms/step - accuracy: 0.9961 - loss: 0.0000e+00 - val_accuracy: 0.8650 - val_loss: 0.0000e+00\n",
      "Epoch 7/35\n",
      "\u001b[1m16/16\u001b[0m \u001b[32m━━━━━━━━━━━━━━━━━━━━\u001b[0m\u001b[37m\u001b[0m \u001b[1m1s\u001b[0m 40ms/step - accuracy: 0.9783 - loss: 0.0000e+00 - val_accuracy: 0.8878 - val_loss: 0.0000e+00\n",
      "Epoch 8/35\n",
      "\u001b[1m16/16\u001b[0m \u001b[32m━━━━━━━━━━━━━━━━━━━━\u001b[0m\u001b[37m\u001b[0m \u001b[1m1s\u001b[0m 38ms/step - accuracy: 0.9945 - loss: 0.0000e+00 - val_accuracy: 0.8700 - val_loss: 0.0000e+00\n",
      "Epoch 9/35\n",
      "\u001b[1m16/16\u001b[0m \u001b[32m━━━━━━━━━━━━━━━━━━━━\u001b[0m\u001b[37m\u001b[0m \u001b[1m1s\u001b[0m 35ms/step - accuracy: 0.9868 - loss: 0.0000e+00 - val_accuracy: 0.8776 - val_loss: 0.0000e+00\n",
      "Epoch 10/35\n",
      "\u001b[1m16/16\u001b[0m \u001b[32m━━━━━━━━━━━━━━━━━━━━\u001b[0m\u001b[37m\u001b[0m \u001b[1m1s\u001b[0m 36ms/step - accuracy: 0.9821 - loss: 0.0000e+00 - val_accuracy: 0.8754 - val_loss: 0.0000e+00\n",
      "Epoch 11/35\n",
      "\u001b[1m16/16\u001b[0m \u001b[32m━━━━━━━━━━━━━━━━━━━━\u001b[0m\u001b[37m\u001b[0m \u001b[1m1s\u001b[0m 39ms/step - accuracy: 0.9981 - loss: 0.0000e+00 - val_accuracy: 0.8802 - val_loss: 0.0000e+00\n",
      "Epoch 12/35\n",
      "\u001b[1m16/16\u001b[0m \u001b[32m━━━━━━━━━━━━━━━━━━━━\u001b[0m\u001b[37m\u001b[0m \u001b[1m1s\u001b[0m 34ms/step - accuracy: 0.9966 - loss: 0.0000e+00 - val_accuracy: 0.8864 - val_loss: 0.0000e+00\n",
      "Epoch 13/35\n",
      "\u001b[1m16/16\u001b[0m \u001b[32m━━━━━━━━━━━━━━━━━━━━\u001b[0m\u001b[37m\u001b[0m \u001b[1m1s\u001b[0m 37ms/step - accuracy: 0.9914 - loss: 0.0000e+00 - val_accuracy: 0.8904 - val_loss: 0.0000e+00\n",
      "Epoch 14/35\n",
      "\u001b[1m16/16\u001b[0m \u001b[32m━━━━━━━━━━━━━━━━━━━━\u001b[0m\u001b[37m\u001b[0m \u001b[1m1s\u001b[0m 34ms/step - accuracy: 0.9990 - loss: 0.0000e+00 - val_accuracy: 0.8858 - val_loss: 0.0000e+00\n",
      "Epoch 15/35\n",
      "\u001b[1m16/16\u001b[0m \u001b[32m━━━━━━━━━━━━━━━━━━━━\u001b[0m\u001b[37m\u001b[0m \u001b[1m1s\u001b[0m 34ms/step - accuracy: 0.9933 - loss: 0.0000e+00 - val_accuracy: 0.8874 - val_loss: 0.0000e+00\n",
      "Epoch 16/35\n",
      "\u001b[1m16/16\u001b[0m \u001b[32m━━━━━━━━━━━━━━━━━━━━\u001b[0m\u001b[37m\u001b[0m \u001b[1m1s\u001b[0m 34ms/step - accuracy: 0.9970 - loss: 0.0000e+00 - val_accuracy: 0.8924 - val_loss: 0.0000e+00\n",
      "Epoch 17/35\n",
      "\u001b[1m16/16\u001b[0m \u001b[32m━━━━━━━━━━━━━━━━━━━━\u001b[0m\u001b[37m\u001b[0m \u001b[1m1s\u001b[0m 34ms/step - accuracy: 0.9920 - loss: 0.0000e+00 - val_accuracy: 0.8778 - val_loss: 0.0000e+00\n",
      "Epoch 18/35\n",
      "\u001b[1m16/16\u001b[0m \u001b[32m━━━━━━━━━━━━━━━━━━━━\u001b[0m\u001b[37m\u001b[0m \u001b[1m1s\u001b[0m 34ms/step - accuracy: 0.9893 - loss: 0.0000e+00 - val_accuracy: 0.8816 - val_loss: 0.0000e+00\n",
      "Epoch 19/35\n",
      "\u001b[1m16/16\u001b[0m \u001b[32m━━━━━━━━━━━━━━━━━━━━\u001b[0m\u001b[37m\u001b[0m \u001b[1m1s\u001b[0m 38ms/step - accuracy: 0.9910 - loss: 0.0000e+00 - val_accuracy: 0.8922 - val_loss: 0.0000e+00\n",
      "Epoch 20/35\n",
      "\u001b[1m16/16\u001b[0m \u001b[32m━━━━━━━━━━━━━━━━━━━━\u001b[0m\u001b[37m\u001b[0m \u001b[1m1s\u001b[0m 35ms/step - accuracy: 0.9934 - loss: 0.0000e+00 - val_accuracy: 0.8952 - val_loss: 0.0000e+00\n",
      "Epoch 21/35\n",
      "\u001b[1m16/16\u001b[0m \u001b[32m━━━━━━━━━━━━━━━━━━━━\u001b[0m\u001b[37m\u001b[0m \u001b[1m1s\u001b[0m 36ms/step - accuracy: 0.9981 - loss: 0.0000e+00 - val_accuracy: 0.8750 - val_loss: 0.0000e+00\n",
      "Epoch 22/35\n",
      "\u001b[1m16/16\u001b[0m \u001b[32m━━━━━━━━━━━━━━━━━━━━\u001b[0m\u001b[37m\u001b[0m \u001b[1m1s\u001b[0m 35ms/step - accuracy: 0.9979 - loss: 0.0000e+00 - val_accuracy: 0.8920 - val_loss: 0.0000e+00\n",
      "Epoch 23/35\n",
      "\u001b[1m16/16\u001b[0m \u001b[32m━━━━━━━━━━━━━━━━━━━━\u001b[0m\u001b[37m\u001b[0m \u001b[1m1s\u001b[0m 34ms/step - accuracy: 1.0000 - loss: 0.0000e+00 - val_accuracy: 0.8962 - val_loss: 0.0000e+00\n",
      "Epoch 24/35\n",
      "\u001b[1m16/16\u001b[0m \u001b[32m━━━━━━━━━━━━━━━━━━━━\u001b[0m\u001b[37m\u001b[0m \u001b[1m1s\u001b[0m 36ms/step - accuracy: 0.9954 - loss: 0.0000e+00 - val_accuracy: 0.8706 - val_loss: 0.0000e+00\n",
      "Epoch 25/35\n",
      "\u001b[1m16/16\u001b[0m \u001b[32m━━━━━━━━━━━━━━━━━━━━\u001b[0m\u001b[37m\u001b[0m \u001b[1m1s\u001b[0m 37ms/step - accuracy: 0.9808 - loss: 0.0000e+00 - val_accuracy: 0.8718 - val_loss: 0.0000e+00\n",
      "Epoch 26/35\n",
      "\u001b[1m16/16\u001b[0m \u001b[32m━━━━━━━━━━━━━━━━━━━━\u001b[0m\u001b[37m\u001b[0m \u001b[1m1s\u001b[0m 36ms/step - accuracy: 0.9887 - loss: 0.0000e+00 - val_accuracy: 0.8780 - val_loss: 0.0000e+00\n",
      "Epoch 27/35\n",
      "\u001b[1m16/16\u001b[0m \u001b[32m━━━━━━━━━━━━━━━━━━━━\u001b[0m\u001b[37m\u001b[0m \u001b[1m1s\u001b[0m 33ms/step - accuracy: 0.9937 - loss: 0.0000e+00 - val_accuracy: 0.8808 - val_loss: 0.0000e+00\n",
      "Epoch 28/35\n",
      "\u001b[1m16/16\u001b[0m \u001b[32m━━━━━━━━━━━━━━━━━━━━\u001b[0m\u001b[37m\u001b[0m \u001b[1m1s\u001b[0m 39ms/step - accuracy: 0.9924 - loss: 0.0000e+00 - val_accuracy: 0.8604 - val_loss: 0.0000e+00\n",
      "Epoch 29/35\n",
      "\u001b[1m16/16\u001b[0m \u001b[32m━━━━━━━━━━━━━━━━━━━━\u001b[0m\u001b[37m\u001b[0m \u001b[1m1s\u001b[0m 41ms/step - accuracy: 0.9844 - loss: 0.0000e+00 - val_accuracy: 0.8856 - val_loss: 0.0000e+00\n",
      "Epoch 30/35\n",
      "\u001b[1m16/16\u001b[0m \u001b[32m━━━━━━━━━━━━━━━━━━━━\u001b[0m\u001b[37m\u001b[0m \u001b[1m1s\u001b[0m 38ms/step - accuracy: 0.9992 - loss: 0.0000e+00 - val_accuracy: 0.8884 - val_loss: 0.0000e+00\n",
      "Epoch 31/35\n",
      "\u001b[1m16/16\u001b[0m \u001b[32m━━━━━━━━━━━━━━━━━━━━\u001b[0m\u001b[37m\u001b[0m \u001b[1m1s\u001b[0m 38ms/step - accuracy: 0.9907 - loss: 0.0000e+00 - val_accuracy: 0.8788 - val_loss: 0.0000e+00\n",
      "Epoch 32/35\n",
      "\u001b[1m16/16\u001b[0m \u001b[32m━━━━━━━━━━━━━━━━━━━━\u001b[0m\u001b[37m\u001b[0m \u001b[1m1s\u001b[0m 42ms/step - accuracy: 0.9941 - loss: 0.0000e+00 - val_accuracy: 0.8908 - val_loss: 0.0000e+00\n",
      "Epoch 33/35\n",
      "\u001b[1m16/16\u001b[0m \u001b[32m━━━━━━━━━━━━━━━━━━━━\u001b[0m\u001b[37m\u001b[0m \u001b[1m1s\u001b[0m 36ms/step - accuracy: 0.9969 - loss: 0.0000e+00 - val_accuracy: 0.8880 - val_loss: 0.0000e+00\n",
      "Epoch 34/35\n",
      "\u001b[1m16/16\u001b[0m \u001b[32m━━━━━━━━━━━━━━━━━━━━\u001b[0m\u001b[37m\u001b[0m \u001b[1m1s\u001b[0m 37ms/step - accuracy: 0.9977 - loss: 0.0000e+00 - val_accuracy: 0.8932 - val_loss: 0.0000e+00\n",
      "Epoch 35/35\n",
      "\u001b[1m16/16\u001b[0m \u001b[32m━━━━━━━━━━━━━━━━━━━━\u001b[0m\u001b[37m\u001b[0m \u001b[1m1s\u001b[0m 39ms/step - accuracy: 0.9965 - loss: 0.0000e+00 - val_accuracy: 0.8884 - val_loss: 0.0000e+00\n"
     ]
    },
    {
     "data": {
      "text/plain": [
       "<keras.src.callbacks.history.History at 0x150ac9700>"
      ]
     },
     "execution_count": 9,
     "metadata": {},
     "output_type": "execute_result"
    }
   ],
   "source": [
    "for layer in combined_model.layers[:-1]:\n",
    "    layer_trainable = True\n",
    "\n",
    "combined_model.compile(loss = \"sparse_categorical_crossentropy\",\n",
    "                       optimizer = \"nadam\", metrics = [\"accuracy\"])\n",
    "combined_model.fit(X_train_500, y_train_500, epochs = 35,\n",
    "                   validation_data = (X_val, y_val))"
   ]
  },
  {
   "cell_type": "markdown",
   "id": "3a4716ec-7209-4927-b022-2f9b4e2b30e7",
   "metadata": {},
   "source": [
    "# 10."
   ]
  },
  {
   "cell_type": "code",
   "execution_count": null,
   "id": "51319932-5de9-469c-931e-dc4f2259af78",
   "metadata": {},
   "outputs": [],
   "source": [
    "class Sampling(keras.layers.Layer):\n",
    "    def call(self, inputs):\n",
    "        mean, log_var = inputs\n",
    "        return keras.backend.random_normal(tf.shape(log_var)) * tf.exp(log_var/2) + mean"
   ]
  },
  {
   "cell_type": "code",
   "execution_count": null,
   "id": "1a0ee634-210d-4a5a-a73c-2f1451414bee",
   "metadata": {},
   "outputs": [],
   "source": [
    "codings_size = 10\n",
    "\n",
    "inputs = keras.layers.Input(shape = [28, 28])\n",
    "z = keras.layers.Flatten()(inputs)\n",
    "z = keras.layers.Dense(150, activation = \"selu\")(z)\n",
    "z = keras.layers.Dense(100, activation = \"selu\")(z)\n",
    "codings_mean = keras.layers.Dense(codings_size)(z)\n",
    "codings_log_var = keras.layers.Dense(codings_size)(z)\n",
    "codings = Sampling()([codings_mean, codings_log_var])\n",
    "variational_encoder = keras.Model(inputs = [inputs], \n",
    "                                  outputs = [codings_mean, codings_log_var, codings])"
   ]
  },
  {
   "cell_type": "code",
   "execution_count": null,
   "id": "da99f0ce-39cd-459c-9d7c-883a53280430",
   "metadata": {},
   "outputs": [],
   "source": [
    "decoder_inputs = keras.layers.Input(shape = [codings_size])\n",
    "x = keras.layers.Dense(100, activation = \"selu\")(decoder_inputs)\n",
    "x = keras.layers.Dense(150, activation = \"selu\")(x)\n",
    "x = keras.layers.Dense(784, activation = \"sigmoid\")(x)\n",
    "outputs = keras.layers.Reshape([28, 28])(x)\n",
    "variational_decoder = keras.Model(inputs = [decoder_inputs],\n",
    "                                  outputs = [outputs])"
   ]
  },
  {
   "cell_type": "code",
   "execution_count": null,
   "id": "61bc274d-72bb-4c4c-be9f-5e24b55ac614",
   "metadata": {},
   "outputs": [],
   "source": [
    "_, _, codings = variational_encoder(inputs)\n",
    "reconstructions = variational_decoder(codings)\n",
    "variational_autoencoder = keras.Model(inputs = [inputs], outputs = [reconstructions])"
   ]
  },
  {
   "cell_type": "code",
   "execution_count": null,
   "id": "ba837d6f-571f-4dd3-bf72-1c2bdbb06b0d",
   "metadata": {},
   "outputs": [],
   "source": [
    "K = keras.backend\n",
    "\n",
    "latent_loss = -0.5 * K.sum(\n",
    "    1 + codings_log_var - K.exp(codings_log_var) - K.square(codings_mean),\n",
    "                           axis = -1)\n",
    "variational_autoencoder.add_loss(K.mean(latent_loss) / 784.)\n",
    "variational_autoencoder.compile(loss = \"binary_crossentropy\", optimizer = \"rmsprop\")\n",
    "variational_autoencoder.fit(X_train, y_train, epochs = 20, batch_size = 128,\n",
    "                            validation_data = (X_val, y_val))"
   ]
  },
  {
   "cell_type": "markdown",
   "id": "b23d0ecd-7ba3-4ba7-a535-373940669718",
   "metadata": {},
   "source": [
    "# 11."
   ]
  },
  {
   "cell_type": "code",
   "execution_count": null,
   "id": "2c092979-9972-4a25-b015-caa196f5f0be",
   "metadata": {},
   "outputs": [],
   "source": [
    "codings_size = 100\n",
    "\n",
    "generator = keras.models.Sequential([\n",
    "    keras.layers.Input(shape = [codings_size]),\n",
    "    keras.layers.Dense(6272, activation = \"relu\"),\n",
    "    keras.layers.Reshape([7, 7, 128]),\n",
    "    keras.layers.BatchNormalization(),\n",
    "    keras.layers.Conv2DTranspose(64, kernel_size = 5, strides = 2, \n",
    "                                padding = \"same\", activation = \"selu\"),\n",
    "    keras.layers.BatchNormalization(),\n",
    "    keras.layers.Conv2DTranspose(1, kernel_size = 5, strides = 2,\n",
    "                                padding = \"same\", activation = \"tanh\")\n",
    "])\n",
    "discriminator = keras.models.Sequential([\n",
    "    keras.layers.Input(shape = [28, 28, 1]),\n",
    "    keras.layers.Conv2D(64, kernel_size = 5, strides = 2,\n",
    "                        padding = \"same\", activation = keras.layers.LeakyReLU(0.2)),\n",
    "    keras.layers.Dropout(0.4),\n",
    "    keras.layers.Conv2D(128, kernel_size = 5, strides = 2,\n",
    "                        padding = \"same\", activation = keras.layers.LeakyReLU(0.2)),\n",
    "    keras.layers.Dropout(0.4),\n",
    "    keras.layers.Flatten(),\n",
    "    keras.layers.Dense(1, activation = \"sigmoid\")\n",
    "])\n",
    "\n",
    "dcgan = keras.models.Sequential([generator, discriminator])"
   ]
  },
  {
   "cell_type": "code",
   "execution_count": null,
   "id": "6c25a44b-3965-4cbb-8e4a-64a9736d5aeb",
   "metadata": {},
   "outputs": [],
   "source": [
    "discriminator.compile(loss = \"binary_crossentropy\", optimizer = \"rmsprop\")\n",
    "discriminator.trainable = False\n",
    "dcgan.compile(loss = \"binary_crossentropy\", optimizer = \"rmsprop\")"
   ]
  },
  {
   "cell_type": "code",
   "execution_count": null,
   "id": "f71a12e4-0810-467b-800b-53501d1653c5",
   "metadata": {},
   "outputs": [],
   "source": [
    "X_train_reshaped = X_train.reshape(-1, 28, 28, 1) * 2. - 1.\n",
    "\n",
    "batch_size = 32\n",
    "dataset = tf.data.Dataset.from_tensor_slices(X_train_reshaped).shuffle(1000)\n",
    "dataset = dataset.batch(batch_size, drop_remainder = True).prefetch(1)"
   ]
  },
  {
   "cell_type": "code",
   "execution_count": null,
   "id": "8100b157-00c4-48c3-9737-9b87b73edcbd",
   "metadata": {},
   "outputs": [],
   "source": [
    "def train_gan(gan, dataset, batch_size, codings_size, n_epochs = 25):\n",
    "    generator, discriminator = gan.layers\n",
    "    for epoch in range(n_epochs):\n",
    "        print(\"Epoch {}/{}\".format(epoch + 1, n_epochs))              # not shown in the book\n",
    "        for X_batch in dataset:\n",
    "            # Phase 1 - Training the discriminator\n",
    "            noise = tf.random.normal(shape=[batch_size, codings_size])\n",
    "            generated_images = generator(noise)\n",
    "            X_fake_and_real = tf.concat([generated_images, X_batch], axis = 0)\n",
    "            y1 = tf.constant([[0.]] * batch_size + [[1.]] * batch_size)\n",
    "            discriminator.trainable = True\n",
    "            discriminator.train_on_batch(X_fake_and_real, y1)\n",
    "            # Phase 2 - Training the generator\n",
    "            noise = tf.random.normal(shape=[batch_size, codings_size])\n",
    "            y2 = tf.constant([[1.]] * batch_size)\n",
    "            discriminator.trainable = False\n",
    "            gan.train_on_batch(noise, y2)\n",
    "        plot_multiple_images(generated_images, 8)                     # not shown\n",
    "        plt.show()\n",
    "\n",
    "train_gan(dcgan, dataset, batch_size, codings_size)"
   ]
  },
  {
   "cell_type": "code",
   "execution_count": null,
   "id": "aeacd025-3ed2-4367-ab9e-e93c152b67e7",
   "metadata": {},
   "outputs": [],
   "source": []
  }
 ],
 "metadata": {
  "kernelspec": {
   "display_name": "Python 3 (ipykernel)",
   "language": "python",
   "name": "python3"
  },
  "language_info": {
   "codemirror_mode": {
    "name": "ipython",
    "version": 3
   },
   "file_extension": ".py",
   "mimetype": "text/x-python",
   "name": "python",
   "nbconvert_exporter": "python",
   "pygments_lexer": "ipython3",
   "version": "3.12.4"
  }
 },
 "nbformat": 4,
 "nbformat_minor": 5
}
