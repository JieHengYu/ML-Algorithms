{
 "cells": [
  {
   "cell_type": "markdown",
   "id": "60dd61a1-0b2c-400e-b517-6db07dd2d2b8",
   "metadata": {},
   "source": [
    "# Training Models\n",
    "\n",
    "So far, we have treated machine learning models & their training algorithms mostly like black boxes. If you went through some of previous lessons, you may have been surprised by how much you can get doen without knowing anything about what's under the hood: you optimised a regression system, you improved a digit image classifier, & you even built a spam classifier from scratch -- all this without knowing how they actually work. Indeed, in many situations you don't really need to know the implementation details.\n",
    "\n",
    "However, having a good understanding of how things work can help you quickly home in on an appropriate model, the right training algorithm to use, & a good set of hyperparameters for your task. Understanding what's under the hood will also help you debug issues & perform error analysis more efficiently. Lastly, most of the topics discussed in this lesson will be essential in understanding, building, & training neural networks.\n",
    "\n",
    "In this lesson, we will start by looking at the linear regression model, one of the simplest models there is. We will discuss two very different ways to train it.\n",
    "\n",
    "* Using a direct \"closed-form\" equation that directly computes the model parameters that best fit the model to the training set (i.e., the model parameters that minimise the cost function over the training set).\n",
    "* Using an iterative optimisation approach, called gradient descent (GD), that gradually tweaks the model parameters to minimise the cost function over the training set, eventually converging to the same set of parameters as the first method. We will look at a few variants of gradient descent that we will use again & again when we study neural networks in future lessons: batch GD, mini-batch GD, & stochastic GD.\n",
    "\n",
    "Next, we will look at polynomial regression, a more complex model that can fit nonlinear datasets. Since this model has more parameters than linear regression, it is more prone to overfitting the training data, so we will look at how to detect whether or not this is the case, using learning curves, & then we will look at several regularisation techniques that can reduce the risk of overfitting the training set.\n",
    "\n",
    "Finally, we will look at two more models that are commonly used for classification tasks: logistic regression & softmax regression."
   ]
  },
  {
   "cell_type": "markdown",
   "id": "f5ae887b-5cc9-4102-81b8-616ded7224b2",
   "metadata": {},
   "source": [
    "---"
   ]
  },
  {
   "cell_type": "markdown",
   "id": "cb0cf712-e688-40ed-8f19-a1b8d224faa8",
   "metadata": {},
   "source": [
    "# Linear Regression\n",
    "\n",
    "In chapter 1, we looked at a simple regression model of life satisfaction: $life\\_satisfaction = \\theta_0 + \\theta_1 * GDP\\_per\\_capita$.\n",
    "\n",
    "This model is just a linear function of the input feature `GDP_per_capita`. $\\theta_0$ & $\\theta_1$ are the model's parameters.\n",
    "\n",
    "More generally, a linear model makes a prediction by simply computing a weighted sum of the input features, plus a constant called the *bias term* (also called the *intercept term*).\n",
    "\n",
    "$$\\hat{y} = \\theta_0 + \\theta_1x_1 + \\theta_2x_2 + ... + \\theta_nx_n$$\n",
    "\n",
    "* $\\hat{y}$ is the predicted value.\n",
    "* $n$ is the number of features.\n",
    "* $x_i$ is the $i^{th}$ feature value.\n",
    "* $\\theta_i$ is the $i^{th}$ model parameter for $i^{th}$ feature value (including the bias term or intercept $\\theta_0$ , where $x_0 = 1$, & the feature weights $\\theta_1$, $\\theta_2$, ..., $\\theta_n$).\n",
    "\n",
    "This can be written much more concisely using a vectorised form.\n",
    "\n",
    "$$\\hat{y} = h_{\\theta}(x) = \\theta * x$$\n",
    "\n",
    "* $\\theta$ is the model's *parameter vector*, containing the bias term $\\theta_0$ & the feature weights $\\theta_1$ to $\\theta_n$.\n",
    "* $x$ is the instance's *feature vector*, containing $x_0$ to $x_n$, with $x_0$ always equal to 1.\n",
    "* $\\theta * x$ is the dot product of the vectors $\\theta$ & $x$, which is of course equal to $\\theta_0x_0 + \\theta_1x_1 + \\theta_2x_2 + ... + \\theta_nx_n$.\n",
    "* $h_{\\theta}$ is the hypothesis function, using the model parameters $\\theta$.\n",
    "\n",
    "**Note: In machine learning, vectors are often represented as column vectors, which are 2D arrays with a single column. If $\\theta$ & $x$ are column vectors, then the prediction is: $\\hat{y}= \\theta^Tx$ where $\\theta^T$ is the transpose of $\\theta$ (a row vector instead of a column vector) & $\\theta^Tx$ is the matrix multiplication of $\\theta^T$ & $x$. It is, of course, the same prediction, except it is now represented as a single cell matrix rather than a scalar value.**\n",
    "\n",
    "Okay, that's the linear regression model, so now how do we train it? Well, recall that training a model means setting its parameters so that the model best fits the training set. For this purpose, we first need a measure of how well (or poorly) the model fits the training data. In chapter 2, we saw that the most common performance measure of a regression model is the root mean square error (RMSE). Therefore, to train a linear regression model, you need to find the value of $\\theta$ that minimises the RMSE. In practice, it is simpler to minimise the mean square error (MSE) & it leads to the same result (because the value that minimises a function also minimises it square root).\n",
    "\n",
    "The MSE of a linear regression hypothesis $h_{\\theta}$ on a training set $X$ is calculated:\n",
    "\n",
    "$$MSE(X, h_{\\theta}) = \\frac{1}{n}\\sum_{i = 1}^{n}(\\theta^{T}x_i - y_i)^2$$\n",
    "\n",
    "Most of these notations were presented in chapter 2. The only difference is that we write $h_\\theta$ instead of just $h$ in order to make it clear that the model is parametrised by the vector $\\theta$. To simplify notations, we will just write $MSE(\\theta)$ instead of $MSE(X, h_{\\theta})$.\n",
    "\n",
    "## The Normal Equation\n",
    "\n",
    "To find the value of $\\theta$ that minimises the cost function, there is a *closed-form solution* -- in other words, a mathematical equation that gives the result directly. This is called the *normal equation*.\n",
    "\n",
    "$$\\hat{\\theta} = (X^{T}X)^{-1}X^{T}y$$\n",
    "\n",
    "* $\\hat{\\theta}$ is the value of $\\theta$ that minimises the cost function.\n",
    "* $y$ is the vector of target values containing $y^{1}$ to $y^{n}$.\n",
    "\n",
    "Let's generate some linear-looking data to test this equation."
   ]
  },
  {
   "cell_type": "code",
   "execution_count": 2,
   "id": "a6bbe07f-52ca-4c4c-bdee-b93c0d552b92",
   "metadata": {
    "tags": []
   },
   "outputs": [
    {
     "data": {
      "image/png": "[encoded data removed]",
      "text/plain": [
       "<Figure size 640x480 with 1 Axes>"
      ]
     },
     "metadata": {},
     "output_type": "display_data"
    }
   ],
   "source": [
    "import numpy as np\n",
    "import matplotlib.pyplot as plt\n",
    "\n",
    "X = 2 * np.random.rand(100, 1)\n",
    "y = 4 + 3 * X + np.random.randn(100, 1)\n",
    "\n",
    "plt.plot(X, y, \"bo\", markersize = 3)\n",
    "plt.xlabel(\"X\")\n",
    "plt.ylabel(\"y\")\n",
    "plt.show()"
   ]
  },
  {
   "cell_type": "markdown",
   "id": "d8294417-95ec-4e47-a9cb-8d4b8d4e16b7",
   "metadata": {},
   "source": [
    "Now let's compute $\\hat{\\theta}$ using the normal equation. We will use the `inv()` function from numpy's linear algebra module (`np.linalg`) to compute the inverse of a matrix, & the `dot()` method for matrix multiplication."
   ]
  },
  {
   "cell_type": "code",
   "execution_count": 4,
   "id": "cad072a9-bee4-4ac6-b2fb-afb1f98d07db",
   "metadata": {
    "tags": []
   },
   "outputs": [],
   "source": [
    "X_b = np.c_[np.ones((100, 1)), X]\n",
    "theta_best = np.linalg.inv(X_b.T.dot(X_b)).dot(X_b.T).dot(y)"
   ]
  },
  {
   "cell_type": "markdown",
   "id": "f0a55633-df85-4e32-93ba-61959d26b73e",
   "metadata": {},
   "source": [
    "The actual function we used to generate the data is $y = 4 + 3x + Gaussian\\ noise$. Let's see what the equation found."
   ]
  },
  {
   "cell_type": "code",
   "execution_count": 7,
   "id": "bf22a937-6ab1-434a-ad85-089517f35eaa",
   "metadata": {
    "tags": []
   },
   "outputs": [
    {
     "data": {
      "text/plain": [
       "array([[4.18829172],\n",
       "       [2.83819217]])"
      ]
     },
     "execution_count": 7,
     "metadata": {},
     "output_type": "execute_result"
    }
   ],
   "source": [
    "theta_best"
   ]
  },
  {
   "cell_type": "markdown",
   "id": "5dc6bb71-f98e-4fb5-895c-20977944936e",
   "metadata": {},
   "source": [
    "We would have hoped for $\\theta_0 = 4$ & $\\theta_1 = 3$. Close enough though, but the noise made it impossible to recover the exact parameters of the original function.\n",
    "\n",
    "Now you can make predictions using $\\hat{\\theta}$:"
   ]
  },
  {
   "cell_type": "code",
   "execution_count": 8,
   "id": "9ba6088b-a536-44b9-9c61-eac331c3da5e",
   "metadata": {
    "tags": []
   },
   "outputs": [
    {
     "data": {
      "text/plain": [
       "array([[4.18829172],\n",
       "       [9.86467605]])"
      ]
     },
     "execution_count": 8,
     "metadata": {},
     "output_type": "execute_result"
    }
   ],
   "source": [
    "X_new = np.array([[0], [2]])\n",
    "X_new_b = np.c_[np.ones((2, 1)), X_new]\n",
    "y_predict = X_new_b.dot(theta_best)\n",
    "y_predict"
   ]
  },
  {
   "cell_type": "markdown",
   "id": "6495e3d8-1637-47b8-989f-812c1a5e598f",
   "metadata": {},
   "source": [
    "Let's plot this model's prediction."
   ]
  },
  {
   "cell_type": "code",
   "execution_count": 9,
   "id": "2728add1-8244-4dcf-a7a2-44b611c9162e",
   "metadata": {
    "tags": []
   },
   "outputs": [
    {
     "data": {
      "image/png": "[encoded data removed]",
      "text/plain": [
       "<Figure size 640x480 with 1 Axes>"
      ]
     },
     "metadata": {},
     "output_type": "display_data"
    }
   ],
   "source": [
    "plt.plot(X_new, y_predict, \"r-\")\n",
    "plt.legend([\"Predictions\"], loc = \"upper left\")\n",
    "plt.plot(X, y, \"bo\", markersize = 3)\n",
    "plt.axis([0, 2, 0, 15])\n",
    "plt.show()"
   ]
  },
  {
   "cell_type": "markdown",
   "id": "848fcfd6-f0dd-467e-93fd-b5d7e4ece123",
   "metadata": {},
   "source": [
    "Performing linear regression using scikit-learn is quite simple."
   ]
  },
  {
   "cell_type": "code",
   "execution_count": 10,
   "id": "a2de3848-8a5d-43fe-94af-615b31933b3a",
   "metadata": {
    "tags": []
   },
   "outputs": [
    {
     "data": {
      "text/plain": [
       "(array([4.18829172]), array([[2.83819217]]))"
      ]
     },
     "execution_count": 10,
     "metadata": {},
     "output_type": "execute_result"
    }
   ],
   "source": [
    "from sklearn.linear_model import LinearRegression\n",
    "\n",
    "lin_reg = LinearRegression()\n",
    "lin_reg.fit(X, y)\n",
    "lin_reg.intercept_, lin_reg.coef_"
   ]
  },
  {
   "cell_type": "code",
   "execution_count": 11,
   "id": "f5aa7259-7261-4cb1-bab9-c61caf33a4d3",
   "metadata": {
    "tags": []
   },
   "outputs": [
    {
     "data": {
      "text/plain": [
       "array([[4.18829172],\n",
       "       [9.86467605]])"
      ]
     },
     "execution_count": 11,
     "metadata": {},
     "output_type": "execute_result"
    }
   ],
   "source": [
    "lin_reg.predict(X_new)"
   ]
  },
  {
   "cell_type": "markdown",
   "id": "b274c5be-be0a-45d2-9b92-25229919b7d2",
   "metadata": {},
   "source": [
    "The `LinearRegression` class is based on the `scipy.linalg.lstsq()` function (the name stands for \"least squares\"), which you can call directly:"
   ]
  },
  {
   "cell_type": "code",
   "execution_count": 12,
   "id": "93ab3cdd-ba0e-4c31-82cb-e26c1f522714",
   "metadata": {
    "tags": []
   },
   "outputs": [
    {
     "data": {
      "text/plain": [
       "array([[4.18829172],\n",
       "       [2.83819217]])"
      ]
     },
     "execution_count": 12,
     "metadata": {},
     "output_type": "execute_result"
    }
   ],
   "source": [
    "theta_best_svd, residuals, rank, s = np.linalg.lstsq(X_b, y, rcond = 1e-6)\n",
    "theta_best_svd"
   ]
  },
  {
   "cell_type": "markdown",
   "id": "c3efac86-8663-4a4f-bbeb-ea48aea6862d",
   "metadata": {},
   "source": [
    "This function computes $\\hat{\\theta} = X^{+}y$, where $X^{+}$ is the *pseudoinverse* of $X$ (specifically the Moore-Penrose inverse). You can use `np.linalg.pinv()` to compute the pseudoinverse directly."
   ]
  },
  {
   "cell_type": "code",
   "execution_count": 13,
   "id": "6411849c-b5bc-47c2-983b-314f5953280c",
   "metadata": {
    "tags": []
   },
   "outputs": [
    {
     "data": {
      "text/plain": [
       "array([[4.18829172],\n",
       "       [2.83819217]])"
      ]
     },
     "execution_count": 13,
     "metadata": {},
     "output_type": "execute_result"
    }
   ],
   "source": [
    "np.linalg.pinv(X_b).dot(y)"
   ]
  },
  {
   "cell_type": "markdown",
   "id": "0dad348d-70e1-4b54-91d7-837d68221c76",
   "metadata": {},
   "source": [
    "The pseudoinverse itself is computed using a standard matrix factorisation technique called *Singular Value Decomposition* (SVD) that can decompose the training set matrix $X$ into the matrix multiplication of three matrices $U$ $\\sum$ $V^{T}$. The pseudo inverse is computed as $X^{+} = V\\sum^{+}U^{T}$. To compute the matrix $\\sum^{+}$, the algorithm takes $\\sum$ & sets to zero all values smaller than a tiny threshold value, then it replaces all the non-zero values with their inverse,& finally it transposes the resulting matrix. This approach is more efficient than computing the normal equation, plus it handles edge cases nicely: indeed, the normal equation may not work if the matrix $X^{T}X$ is not invertible(i.e., singular), such as *m* < *n* or if some features are redundant, but the pseudoinverse is always defined.\n",
    "\n",
    "## Computational Complexity\n",
    "\n",
    "The normal equation computes the inverse of $X^{T}X$, which is an $(n + 1)(n + 1)$ matrix (where *n* is the number of features). The *computational complexity* of inverting such a matrix is typically about $O(n^{2.4})$ to $O(n^3)$ (depending on the implementation). In other words, if you double the number of features, you multiply the computation time by roughly $2^{2.4} = 5.3$ to $2^3 = 8$.\n",
    "\n",
    "The SVD approach used by scikit-learn's `LinearRegression` class is about $O(n^2)$. If you double the number of features, you multiply the computation time by roughly 4.\n",
    "\n",
    "Also, once you have trained your linear regression model (using the normal equation or any other algorithm), predictions are very fast: the computational complexity is linear with regards to both the number of instances you want to make predictions on & the number of features. In other words, making predictions on twice as many instances (or twice as many features) will just take roughly twice as much time.\n",
    "\n",
    "Now we will look at very different ways to train a linear regression model, better suited for cases where there are a large number of features, or too many training instances to fit in memory."
   ]
  },
  {
   "cell_type": "markdown",
   "id": "23407670-485b-4b94-af7f-4d2a6f6a2075",
   "metadata": {},
   "source": [
    "---"
   ]
  },
  {
   "cell_type": "markdown",
   "id": "de86670a-d57c-485e-87d7-cb6bdf91f0b4",
   "metadata": {},
   "source": [
    "# Gradient Descent\n",
    "\n",
    "*Gradient Descent* is a very generic optimisation algorithm capable of finding optimal solutions to a wide range of problems. The general idea of gradient descent is to tweak parameters iteratively in order to minimise a cost function.\n",
    "\n",
    "Supose you are lost in the mountains in a dense fog; you can only feel the slope of the ground below your feet. A good strategy to get to the bottom of the valley quickly is to go downhill in the direction of the steepest slope. This is exactly what gradient does; it measures the local gradient of the error function with regards to the parameter vector $\\theta$, & it goes in the direction of descending gradient. Once the gradient is zero, you have reached a minimum!\n",
    "\n",
    "Concretely, you start bu filling $\\theta$ with random values (this is called *random initialisation), & then you improve it gradually, taking one, baby step at a time, each step attempting to decrease the cost function (e.g., the MSE), until the algorithm *converges* to a minimum.\n",
    "\n",
    "<img src = \"Images/Gradient Descent.png\" alt = \"Alternative text\" width = \"500\" style = \"margin:auto\"/>\n",
    "\n",
    "An important parameter in gradient descent is the size of the steps, determined by the *learning rate* hyperparameter. If the learning rate is too small, then the algorithm will have to go through many iterations to converge, which will take a long time.\n",
    "\n",
    "<img src = \"Images/Learning Rate.png\" alt = \"Alternative text\" width = \"500\" style = \"margin:auto\"/>\n",
    "\n",
    "On the other hand, if the learning rate is too high, you might jump across the valley & end up on the other side, possibly even higher up than before. This might make the algorithm diverge, with larger & larger values, failling to find a good solution.\n",
    "\n",
    "<img src = \"Images/Learning Rate 1.png\" alt = \"Alternative text\" width = \"500\" style = \"margin:auto\"/>\n",
    "\n",
    "Finally, not all cost functions look like nice regular bowls. There may be holes, ridges, plateaus, & all sorts of irregular terrains, making convergence to the minimum very difficult. The below figure shows the two main challenges with gradient descent: if he random initialisation starts the algorithm on the left, then it will converge to a *local minimum*, which is not a good as the *global minimum*. If it starts on the right, then it will tak a very. long time to cross the plateau, & if you stop too early you will never reach the global minimum.\n",
    "\n",
    "<img src = \"Images/Gradient Descent Pitfalls.png\" alt = \"Alternative text\" width = \"500\" style = \"margin:auto\"/>\n",
    "\n",
    "Fortunately, the MSE cost function for a linear regression model happens to be a *convex function*,which means that if you pick any two points on the curve, the line segment joining them never crosses the curve. This implies that there are no local minima, just one global minimum. It is also a continuous function with a slope that never changes abruptly. These two facts have great consequence: gradient descent is guaranteed to approach arbitrarily close to the global minimum (if you wait long enough & if the learning rate is not too high).\n",
    "\n",
    "In fact, the cost function has the shape of a bowl, but it can be an elongated bowl if the features have very different scales. The below figure shows gradient descent on a training set where features 1 & 2 have the same scale (on the left), & on a training set where feature 1 has much smaller values than feature 2 (on the right).\n",
    "\n",
    "<img src = \"Images/Gradient Descent 1.png\" alt = \"Alternative text\" width = \"500\" style = \"margin:auto\"/>\n",
    "\n",
    "As you can see, on the left, the gradient descent algorithm goes straight toward the minimum, thereby reaching it quickly, whereas on the right, it first goes in a direction almost orthogonal to the direction of the global minimum,& it ends with a long march down an almost flat valley. It will eventually reach the minimum, but it will take a long time.\n",
    "\n",
    "This diagram also iilustrates the fact that training a model means searching for a combination of model parameters that minimises a cost function (over the training set). It is a search in the mode's *parameter space*: the more parameters a model has, the more dimensions htis space has,& the harder the search is: searching for a needle in a 300-dimensional haystack is much trickier than in three dimensions. Fortunately, since the cost function is convex in the case of linear regression, the needle is simply at the bottom of the bowl.\n",
    "\n",
    "## Batch Gradient Descent\n",
    "\n",
    "To implement gradient descent, you need to compute the gradient of the cost function with regards to each model paramter $\\theta_j$. In other words, you need to claculate how much the cost function will change if you change $\\theta_j$ just a little bit. This is called a *partial derivative*. It is like asking \"what is the slope of the mountain under my feet if I face east?\" * then asking the same question facing north (& so on for the rest of the other dimensions, if you can imagine a universe with more than three dimensions). The below function computes the partial derivative of the cost function with regards to parameter $\\theta_j$, noted $\\frac{\\partial}{\\partial\\theta_j}MSE(\\theta)$.\n",
    "\n",
    "$$\\frac{\\partial}{\\partial\\theta_j}MSE(\\theta) = \\frac{2}{m} \\sum^{m}_{i = 1}(\\theta^{T}x^{(i)} - y^{(i)})x^{(i)}_j$$\n",
    "\n",
    "Instead of computing these partial derivatives individually, you can use the below function to compute them all in one go. The gradient vector, noted $\\triangledown_{\\theta}MSE(\\theta)$, contains all the partial derivatives of the cost function (one for each model parameter).\n",
    "\n",
    "$$\\triangledown_{\\theta}MSE(\\theta) = \\Bigg(\\begin{split} \n",
    "{\\frac{\\partial}{\\partial\\theta_0} MSE(\\theta)} \\\\\n",
    "{\\frac{\\partial}{\\partial\\theta_1} MSE(\\theta)} \\\\\n",
    "{...} \\\\\n",
    "{\\frac{\\partial}{\\partial\\theta_n}MSE(\\theta)} \n",
    "\\end{split}\\Bigg) = \\frac{2}{m}X^T(X\\theta - y)$$\n",
    "\n",
    "One you have the gradient vector, which points uphill, just go in the opposite direction to go downhill. This means subtracting $\\triangledown_{\\theta} MSE(\\theta)$ from $\\theta$. This is where the learning rate $\\eta$ comes into play: multiple the gradient vector by $\\eta$ to determine the size of the downhill step.\n",
    "\n",
    "$$\\theta^{(next\\ step)} = \\theta - \\eta\\triangledown_{\\theta}MSE(\\theta)$$\n",
    "\n",
    "Let's look at a quick implementation of this algorithm."
   ]
  },
  {
   "cell_type": "code",
   "execution_count": 14,
   "id": "1beae470-82b9-4124-93ac-55f27a6a1d99",
   "metadata": {
    "tags": []
   },
   "outputs": [],
   "source": [
    "eta = 0.1\n",
    "n_iterations = 1000\n",
    "m = 100\n",
    "\n",
    "theta = np.random.randn(2, 1)\n",
    "\n",
    "for iteration in range(n_iterations):\n",
    "    gradients = 2/m * X_b.T.dot(X_b.dot(theta) - y)\n",
    "    theta = theta - eta * gradients"
   ]
  },
  {
   "cell_type": "markdown",
   "id": "aad5521f-4379-4153-8536-ab5cdaceca28",
   "metadata": {},
   "source": [
    "That wasn't too hard! Sure was hard to understand though. Let's look at the resulting `theta`."
   ]
  },
  {
   "cell_type": "code",
   "execution_count": 15,
   "id": "ddf4bf3e-e0f6-4cc4-9896-8372a99755ae",
   "metadata": {
    "tags": []
   },
   "outputs": [
    {
     "data": {
      "text/plain": [
       "array([[4.18829172],\n",
       "       [2.83819217]])"
      ]
     },
     "execution_count": 15,
     "metadata": {},
     "output_type": "execute_result"
    }
   ],
   "source": [
    "theta"
   ]
  },
  {
   "cell_type": "markdown",
   "id": "73074b26-f970-4a98-9f6d-6a265d58a973",
   "metadata": {},
   "source": [
    "Hey! That's exactly what the normal equation found! Gradient descent worked perfectly. But what if we had used a different learning rate `eta`?. The below figure shows the first 10 steps of gradient descent using three different learning rates (the dashed line represents the starting point).\n",
    "\n",
    "<img src = \"Images/Gradient Descent with Different Learning Rates.png\" alt = \"Alternative text\" width = \"500\" style = \"margin:auto\"/>\n",
    "\n",
    "On the left, the learning rate is too low: the algorithm will eventually reach the solution, but it will take a long time. In the middle, the learning rate looks pretty good: in just a few iterations, it has already converged to the solution. On the right, the learning rate is too high: the algorithm diverges, jumping all over the place & actually getting further & further away from the solution at every step.\n",
    "\n",
    "To find a good learning rate, you can use grid search. However, you may want to limit the number of iterations so that grid search can eliminate models that take too long to converge.\n",
    "\n",
    "You may wonder how to set the number of iterations. If it is too low, you will still be far away from the optimal solution when algorithm stops, but if it is too high, you will waste time while the model parameters do not change anymore. A simple solution is to set a very large number of iterations but to interrup the algorithm when the gradient vector becomes tiny -- that is, when its norm becomes smaller than a tiny number $\\epsilon$ (called the *tolerance*) -- because this happens when the gradient descent has (almost) reached the minimum).\n",
    "\n",
    "## Stochastic Gradient Descent\n",
    "\n",
    "The main problem with batch gradient descent is the fact that it uses the whole training set to compute the gradients at every step, which makes it very slow when the training set is large.At the opposite extreme, *stochastic gradient descent* just picks a random instance in the training set at every step & computes the gradients based only on that single instance. Obviously, this makes the algorithm much faster since it has very little data to manipulate at every iteration. It also makes it possible to train on huge training sets, since only one instance needs to be in memory at each iteration (SGD can be implemented as an out-of-core algorithm).\n",
    "\n",
    "One the other hand, due to its stochastic (i.e., random) nature, this algorithm is much less regular than batch gradient descent: instead of gently decreasing until it reaches the minimum, the cost function will bounce up & down, decreasing only on average. Over time, it will end up very close to the minimum, but once it gets there it will continue to bounce around, never settling down. So once the algorithm stops, the final parameter values are good, but not optimal.\n",
    "\n",
    "<img src = \"Images/Stochastic Gradient Descent.png\" alt = \"Alternative text\" width = \"500\" style = \"margin:auto\"/>\n",
    "\n",
    "When the cost function is very irregular, this can actually help the algorithm jump out of local minima, so stochastic gradient descent has a chance of finding the global minimum than batch gradient descent does. \n",
    "\n",
    "Therefore randomness is good to escape from local optima, but bad because it means that the algorithm can never settle at the minimum. One solution to this dilemma is to gradually reduce the learning rate. The steps start out large (which helps make quick progress & escape local minima), then get smaller & smaller, allowing the algorithm to settle at the global minimum. This process is akin to *simulated annealing*, an algorithm inspired from the process of annealing in metallurgy where molten meta is slowly cooled down. The function that determines the learning rate at each iteration is called the *learning schedule*. If the learning rate is reduced too quickly, you may get stuck in a local minimum, or even end up frozen halfway to the minimum. If the learning rate is reduced too slowly, you may jump around the minimum for a long time & end up with a suboptimal solution if you halt training too early.\n",
    "\n",
    "The following code implements stochastic gradient descent using a simple learning schedule."
   ]
  },
  {
   "cell_type": "code",
   "execution_count": 16,
   "id": "7896f1ff-f2f2-48fc-8a34-9e0368cfb8db",
   "metadata": {
    "tags": []
   },
   "outputs": [],
   "source": [
    "n_epochs = 50\n",
    "t0, t1 = 5, 50\n",
    "\n",
    "def learning_schedule(t):\n",
    "    return t0 / (t + t1)\n",
    "\n",
    "theta = np.random.randn(2, 1)\n",
    "\n",
    "for epoch in range (n_epochs):\n",
    "    for i in range(m):\n",
    "        random_index = np.random.randint(m)\n",
    "        xi = X_b[random_index:random_index + 1]\n",
    "        yi = y[random_index:random_index + 1]\n",
    "        gradients = 2 * xi.T.dot(xi.dot(theta) - yi)\n",
    "        eta = learning_schedule(epoch * m + i)\n",
    "        theta = theta - eta * gradients"
   ]
  },
  {
   "cell_type": "markdown",
   "id": "01669a57-b421-464d-94e4-9e139d51e9c9",
   "metadata": {},
   "source": [
    "By convention, we iterate by rounds of *m* iterations; each round is called an *epoch*. While the batch gradient descent code iterated 1,000 times through the whole training set, this code goes through the training set only 50 times & reaches a fairly good solution."
   ]
  },
  {
   "cell_type": "code",
   "execution_count": 17,
   "id": "85ef9bcd-0ec2-4853-a38d-8881203a0741",
   "metadata": {
    "tags": []
   },
   "outputs": [
    {
     "data": {
      "text/plain": [
       "array([[4.20273012],\n",
       "       [2.87158573]])"
      ]
     },
     "execution_count": 17,
     "metadata": {},
     "output_type": "execute_result"
    }
   ],
   "source": [
    "theta"
   ]
  },
  {
   "cell_type": "markdown",
   "id": "3d3d846a-6ae0-40e7-98a2-0f3999ce07be",
   "metadata": {},
   "source": [
    "The following figure shows the first 20 steps of traianing (notice how irregular the steps are).\n",
    "\n",
    "<img src = \"Images/Stochastic Gradient Descent 1.png\" alt = \"Alternative text\" width = \"500\" style = \"margin:auto\"/>\n",
    "\n",
    "Note that since instances are picked randomly, some instances may be picked severaltimes per epoch while others may not be picked at all. If you want to be sure that the algorithm goes through every instance at each epoch, another approach is to shuffle the training set (making sure to shuffle the input features & the labels jointly), then go through it instance by instance, then shuffle it again, & so on. However, this generally converges more slowly.\n",
    "\n",
    "To perform linear regression using SGD with scikit-learn, you can use the `SGDRegressor` class, which defaults to optimising the squared error cost function. The following code runs for maximum 1000 epochs (`max_iter = 1000`) or until the loss drops by less than 1e-3 during one epoch (`tol = 1e-3`), starting with a learning rate of 0.1 (`eta0 = 0.1`), using the default learning schedule (different from the preceding one), & it does not use any regularisation (`penalty = None`)."
   ]
  },
  {
   "cell_type": "code",
   "execution_count": 18,
   "id": "8c4c221a-66cd-405d-b18c-a2dd04f1d7c4",
   "metadata": {
    "tags": []
   },
   "outputs": [
    {
     "data": {
      "text/html": [
       "<style>#sk-container-id-1 {color: black;}#sk-container-id-1 pre{padding: 0;}#sk-container-id-1 div.sk-toggleable {background-color: white;}#sk-container-id-1 label.sk-toggleable__label {cursor: pointer;display: block;width: 100%;margin-bottom: 0;padding: 0.3em;box-sizing: border-box;text-align: center;}#sk-container-id-1 label.sk-toggleable__label-arrow:before {content: \"▸\";float: left;margin-right: 0.25em;color: #696969;}#sk-container-id-1 label.sk-toggleable__label-arrow:hover:before {color: black;}#sk-container-id-1 div.sk-estimator:hover label.sk-toggleable__label-arrow:before {color: black;}#sk-container-id-1 div.sk-toggleable__content {max-height: 0;max-width: 0;overflow: hidden;text-align: left;background-color: #f0f8ff;}#sk-container-id-1 div.sk-toggleable__content pre {margin: 0.2em;color: black;border-radius: 0.25em;background-color: #f0f8ff;}#sk-container-id-1 input.sk-toggleable__control:checked~div.sk-toggleable__content {max-height: 200px;max-width: 100%;overflow: auto;}#sk-container-id-1 input.sk-toggleable__control:checked~label.sk-toggleable__label-arrow:before {content: \"▾\";}#sk-container-id-1 div.sk-estimator input.sk-toggleable__control:checked~label.sk-toggleable__label {background-color: #d4ebff;}#sk-container-id-1 div.sk-label input.sk-toggleable__control:checked~label.sk-toggleable__label {background-color: #d4ebff;}#sk-container-id-1 input.sk-hidden--visually {border: 0;clip: rect(1px 1px 1px 1px);clip: rect(1px, 1px, 1px, 1px);height: 1px;margin: -1px;overflow: hidden;padding: 0;position: absolute;width: 1px;}#sk-container-id-1 div.sk-estimator {font-family: monospace;background-color: #f0f8ff;border: 1px dotted black;border-radius: 0.25em;box-sizing: border-box;margin-bottom: 0.5em;}#sk-container-id-1 div.sk-estimator:hover {background-color: #d4ebff;}#sk-container-id-1 div.sk-parallel-item::after {content: \"\";width: 100%;border-bottom: 1px solid gray;flex-grow: 1;}#sk-container-id-1 div.sk-label:hover label.sk-toggleable__label {background-color: #d4ebff;}#sk-container-id-1 div.sk-serial::before {content: \"\";position: absolute;border-left: 1px solid gray;box-sizing: border-box;top: 0;bottom: 0;left: 50%;z-index: 0;}#sk-container-id-1 div.sk-serial {display: flex;flex-direction: column;align-items: center;background-color: white;padding-right: 0.2em;padding-left: 0.2em;position: relative;}#sk-container-id-1 div.sk-item {position: relative;z-index: 1;}#sk-container-id-1 div.sk-parallel {display: flex;align-items: stretch;justify-content: center;background-color: white;position: relative;}#sk-container-id-1 div.sk-item::before, #sk-container-id-1 div.sk-parallel-item::before {content: \"\";position: absolute;border-left: 1px solid gray;box-sizing: border-box;top: 0;bottom: 0;left: 50%;z-index: -1;}#sk-container-id-1 div.sk-parallel-item {display: flex;flex-direction: column;z-index: 1;position: relative;background-color: white;}#sk-container-id-1 div.sk-parallel-item:first-child::after {align-self: flex-end;width: 50%;}#sk-container-id-1 div.sk-parallel-item:last-child::after {align-self: flex-start;width: 50%;}#sk-container-id-1 div.sk-parallel-item:only-child::after {width: 0;}#sk-container-id-1 div.sk-dashed-wrapped {border: 1px dashed gray;margin: 0 0.4em 0.5em 0.4em;box-sizing: border-box;padding-bottom: 0.4em;background-color: white;}#sk-container-id-1 div.sk-label label {font-family: monospace;font-weight: bold;display: inline-block;line-height: 1.2em;}#sk-container-id-1 div.sk-label-container {text-align: center;}#sk-container-id-1 div.sk-container {/* jupyter's `normalize.less` sets `[hidden] { display: none; }` but bootstrap.min.css set `[hidden] { display: none !important; }` so we also need the `!important` here to be able to override the default hidden behavior on the sphinx rendered scikit-learn.org. See: https://github.com/scikit-learn/scikit-learn/issues/21755 */display: inline-block !important;position: relative;}#sk-container-id-1 div.sk-text-repr-fallback {display: none;}</style><div id=\"sk-container-id-1\" class=\"sk-top-container\"><div class=\"sk-text-repr-fallback\"><pre>SGDRegressor(eta0=0.1, penalty=None)</pre><b>In a Jupyter environment, please rerun this cell to show the HTML representation or trust the notebook. <br />On GitHub, the HTML representation is unable to render, please try loading this page with nbviewer.org.</b></div><div class=\"sk-container\" hidden><div class=\"sk-item\"><div class=\"sk-estimator sk-toggleable\"><input class=\"sk-toggleable__control sk-hidden--visually\" id=\"sk-estimator-id-1\" type=\"checkbox\" checked><label for=\"sk-estimator-id-1\" class=\"sk-toggleable__label sk-toggleable__label-arrow\">SGDRegressor</label><div class=\"sk-toggleable__content\"><pre>SGDRegressor(eta0=0.1, penalty=None)</pre></div></div></div></div></div>"
      ],
      "text/plain": [
       "SGDRegressor(eta0=0.1, penalty=None)"
      ]
     },
     "execution_count": 18,
     "metadata": {},
     "output_type": "execute_result"
    }
   ],
   "source": [
    "from sklearn.linear_model import SGDRegressor\n",
    "\n",
    "sgd_reg = SGDRegressor(max_iter = 1000, tol = 1e-3, penalty = None, eta0 = 0.1)\n",
    "sgd_reg.fit(X, y.ravel())"
   ]
  },
  {
   "cell_type": "markdown",
   "id": "63e4c2b8-9ab2-4db7-850d-e2cafa8291ab",
   "metadata": {},
   "source": [
    "Once again, you find a solution quite close to the one retured by the noraml equation."
   ]
  },
  {
   "cell_type": "code",
   "execution_count": 19,
   "id": "f6ddad94-c32d-4942-b24c-2dd202768d34",
   "metadata": {
    "tags": []
   },
   "outputs": [
    {
     "data": {
      "text/plain": [
       "(array([4.18206201]), array([2.85020221]))"
      ]
     },
     "execution_count": 19,
     "metadata": {},
     "output_type": "execute_result"
    }
   ],
   "source": [
    "sgd_reg.intercept_, sgd_reg.coef_"
   ]
  },
  {
   "cell_type": "markdown",
   "id": "7b7bc053-ffa8-4f1f-8a3d-ba9ec3f75c28",
   "metadata": {},
   "source": [
    "## Mini-batch Gradient Descent\n",
    "\n",
    "The last gradient descent algorithm we will look at is called *mini-batch gradient descent*. It is quite simple to understand once you know batch & stochastic gradient descent: at each step, instead of computing the gradients based on the full training set (as in batch GD) or based on just one instance (as in stochastic GD), mini-batch GD computes the gradients on small random subsets of instances called *mini-batches*. The main advantage of mini-batch GD over stochastic GD is that you can get a performance boost from hardware optimisation of matrix operations, especially when using GPUs.\n",
    "\n",
    "The algorithm's progress in parameter space is less erratic than with SGD, especially with fairly large mini-batches. As a result, mini-batch GD will end up walking around a bit closer to the minimum than SGD. But, on the other hand, it may be harder for it to escpae from local minima (in the case of problems that suffer from local minima, unlike linear regression as we saw earlier). The below figure shows the paths taken by the three gradient descent algorithms in parameter space during training. They all end up near the minimum, but batch GD's path actually stops at the minimum, while both stochastic GD & mini-batch GD continue to walk around. However, don't forget that batch GD takes a lot of time to take each step, & stochastic GD & mini-batch GD would also reach the minimum if you used a good learning schedule.\n",
    "\n",
    "<img src = \"Images/Compare Gradient Descent.png\" alt = \"Alternative text\" width = \"500\" style = \"margin:auto\"/>\n",
    "\n",
    "Let's compare the algorithm we've discussed so far for linear regression (recall that *m* is the number of training instances & *n* is the number of features)."
   ]
  },
  {
   "cell_type": "code",
   "execution_count": 20,
   "id": "4a7700e9-a0a4-4325-b5f2-da111010e0a5",
   "metadata": {
    "tags": []
   },
   "outputs": [
    {
     "data": {
      "text/html": [
       "<div>\n",
       "<style scoped>\n",
       "    .dataframe tbody tr th:only-of-type {\n",
       "        vertical-align: middle;\n",
       "    }\n",
       "\n",
       "    .dataframe tbody tr th {\n",
       "        vertical-align: top;\n",
       "    }\n",
       "\n",
       "    .dataframe thead th {\n",
       "        text-align: right;\n",
       "    }\n",
       "</style>\n",
       "<table border=\"1\" class=\"dataframe\">\n",
       "  <thead>\n",
       "    <tr style=\"text-align: right;\">\n",
       "      <th></th>\n",
       "      <th>Algorithm</th>\n",
       "      <th>Large m</th>\n",
       "      <th>Out-of-Core Support</th>\n",
       "      <th>Large n</th>\n",
       "      <th>Hyperparams</th>\n",
       "      <th>Scaling Required</th>\n",
       "      <th>Scikit-Learn</th>\n",
       "    </tr>\n",
       "  </thead>\n",
       "  <tbody>\n",
       "    <tr>\n",
       "      <th>0</th>\n",
       "      <td>Normal Equation</td>\n",
       "      <td>Fast</td>\n",
       "      <td>N</td>\n",
       "      <td>Slow</td>\n",
       "      <td>0</td>\n",
       "      <td>N</td>\n",
       "      <td>n/a</td>\n",
       "    </tr>\n",
       "    <tr>\n",
       "      <th>1</th>\n",
       "      <td>SVD</td>\n",
       "      <td>Fast</td>\n",
       "      <td>N</td>\n",
       "      <td>Slow</td>\n",
       "      <td>0</td>\n",
       "      <td>N</td>\n",
       "      <td>LinearRegression</td>\n",
       "    </tr>\n",
       "    <tr>\n",
       "      <th>2</th>\n",
       "      <td>Batch GD</td>\n",
       "      <td>Slow</td>\n",
       "      <td>N</td>\n",
       "      <td>Fast</td>\n",
       "      <td>2</td>\n",
       "      <td>Y</td>\n",
       "      <td>SGDRegressor</td>\n",
       "    </tr>\n",
       "    <tr>\n",
       "      <th>3</th>\n",
       "      <td>Stochastic GD</td>\n",
       "      <td>Fast</td>\n",
       "      <td>Y</td>\n",
       "      <td>Fast</td>\n",
       "      <td>&gt;= 2</td>\n",
       "      <td>Y</td>\n",
       "      <td>SGDRegressor</td>\n",
       "    </tr>\n",
       "    <tr>\n",
       "      <th>4</th>\n",
       "      <td>Mini-batch GD</td>\n",
       "      <td>Fast</td>\n",
       "      <td>Y</td>\n",
       "      <td>Fast</td>\n",
       "      <td>&gt;= 2</td>\n",
       "      <td>Y</td>\n",
       "      <td>SGDRegressor</td>\n",
       "    </tr>\n",
       "  </tbody>\n",
       "</table>\n",
       "</div>"
      ],
      "text/plain": [
       "         Algorithm Large m Out-of-Core Support Large n Hyperparams  \\\n",
       "0  Normal Equation    Fast                   N    Slow           0   \n",
       "1              SVD    Fast                   N    Slow           0   \n",
       "2         Batch GD    Slow                   N    Fast           2   \n",
       "3    Stochastic GD    Fast                   Y    Fast        >= 2   \n",
       "4    Mini-batch GD    Fast                   Y    Fast        >= 2   \n",
       "\n",
       "  Scaling Required      Scikit-Learn  \n",
       "0                N               n/a  \n",
       "1                N  LinearRegression  \n",
       "2                Y      SGDRegressor  \n",
       "3                Y      SGDRegressor  \n",
       "4                Y      SGDRegressor  "
      ]
     },
     "execution_count": 20,
     "metadata": {},
     "output_type": "execute_result"
    }
   ],
   "source": [
    "import pandas as pd\n",
    "\n",
    "algo_comp = {\"Algorithm\":[\"Normal Equation\", \"SVD\", \"Batch GD\", \"Stochastic GD\", \"Mini-batch GD\"],\n",
    "             \"Large m\": [\"Fast\", \"Fast\", \"Slow\", \"Fast\", \"Fast\"],\n",
    "             \"Out-of-Core Support\": [\"N\", \"N\", \"N\", \"Y\", \"Y\"],\n",
    "             \"Large n\": [\"Slow\", \"Slow\", \"Fast\", \"Fast\", \"Fast\"],\n",
    "             \"Hyperparams\": [\"0\", \"0\", \"2\", \">= 2\", \">= 2\"],\n",
    "             \"Scaling Required\": [\"N\", \"N\", \"Y\", \"Y\", \"Y\"],\n",
    "             \"Scikit-Learn\": [\"n/a\", \"LinearRegression\", \"SGDRegressor\", \"SGDRegressor\", \"SGDRegressor\"]}\n",
    "pd.DataFrame(algo_comp)"
   ]
  },
  {
   "cell_type": "markdown",
   "id": "aaecc5c2-a787-4090-80d8-d8ba299b93f2",
   "metadata": {},
   "source": [
    "---"
   ]
  },
  {
   "cell_type": "markdown",
   "id": "e715e24f-eb41-4e43-9d2b-5c4e34bb34a2",
   "metadata": {},
   "source": [
    "# Polynomial Regression\n",
    "\n",
    "What if your data is actually more complex than a simple straight line. Surprisingly, you can actually use a linear model to fit nonlinear data. A simple way to do this is to add powers to each feature as new features, then train a linear model on this extended set of features. This technique is called *polynomial regression*.\n",
    "\n",
    "Let's look at an example. First, let's generate some nonlinear data, based on a simple *quadratic equation* (plus some noise)."
   ]
  },
  {
   "cell_type": "code",
   "execution_count": 21,
   "id": "cdcb50c0-7c84-417b-a00a-11191c71578e",
   "metadata": {
    "tags": []
   },
   "outputs": [
    {
     "data": {
      "image/png": "[encoded data removed]",
      "text/plain": [
       "<Figure size 640x480 with 1 Axes>"
      ]
     },
     "metadata": {},
     "output_type": "display_data"
    }
   ],
   "source": [
    "m = 100\n",
    "X = 6 * np.random.rand(m, 1) - 3\n",
    "y = 0.5 * X**2 + X + 2 + np.random.randn(m, 1)\n",
    "\n",
    "plt.plot(X, y, \"bo\", markersize = 3)\n",
    "plt.xlabel(\"X\")\n",
    "plt.ylabel(\"y\")\n",
    "plt.show()"
   ]
  },
  {
   "cell_type": "markdown",
   "id": "5d0d3f22-988e-412a-9473-7be7d007ef56",
   "metadata": {},
   "source": [
    "Clearly, a straight line will never fit this data properly. So let's use scikit-learn's `PolynomialFeatures` class to transform our training data, adding the square ($2^{nd}$-degree polynomial) of each feature in the training set as new features (in this case, there is just one feature)."
   ]
  },
  {
   "cell_type": "code",
   "execution_count": 22,
   "id": "b2364448-ed38-4864-8591-310133162822",
   "metadata": {
    "tags": []
   },
   "outputs": [
    {
     "data": {
      "text/plain": [
       "array([0.49479571])"
      ]
     },
     "execution_count": 22,
     "metadata": {},
     "output_type": "execute_result"
    }
   ],
   "source": [
    "from sklearn.preprocessing import PolynomialFeatures\n",
    "\n",
    "poly_features = PolynomialFeatures(degree = 2, include_bias = False)\n",
    "X_poly = poly_features.fit_transform(X)\n",
    "X[0]"
   ]
  },
  {
   "cell_type": "code",
   "execution_count": 23,
   "id": "b242abe5-41f9-48b4-91d9-72a0e45b69f0",
   "metadata": {
    "tags": []
   },
   "outputs": [
    {
     "data": {
      "text/plain": [
       "array([0.49479571, 0.2448228 ])"
      ]
     },
     "execution_count": 23,
     "metadata": {},
     "output_type": "execute_result"
    }
   ],
   "source": [
    "X_poly[0]"
   ]
  },
  {
   "cell_type": "markdown",
   "id": "2907c8cb-1520-4b30-80fc-23f0cad5d7d0",
   "metadata": {},
   "source": [
    "`X_poly` now contains the original feature of X plus the square this feature. Now you can fit a `LinearRegression` model to this extended training data."
   ]
  },
  {
   "cell_type": "code",
   "execution_count": 24,
   "id": "21996a6a-6477-4307-bcaf-233fee97e308",
   "metadata": {
    "tags": []
   },
   "outputs": [
    {
     "data": {
      "text/plain": [
       "(array([2.09550082]), array([[1.02172066, 0.50996379]]))"
      ]
     },
     "execution_count": 24,
     "metadata": {},
     "output_type": "execute_result"
    }
   ],
   "source": [
    "lin_reg = LinearRegression()\n",
    "lin_reg.fit(X_poly, y)\n",
    "lin_reg.intercept_, lin_reg.coef_"
   ]
  },
  {
   "cell_type": "code",
   "execution_count": 25,
   "id": "45032fbd-92db-4a23-87b8-38fd62adda92",
   "metadata": {
    "tags": []
   },
   "outputs": [
    {
     "data": {
      "image/png": "[encoded data removed]",
      "text/plain": [
       "<Figure size 640x480 with 1 Axes>"
      ]
     },
     "metadata": {},
     "output_type": "display_data"
    }
   ],
   "source": [
    "X_new = np.linspace(-3, 3, 100).reshape(100, 1)\n",
    "X_new_poly = poly_features.transform(X_new)\n",
    "y_new = lin_reg.predict(X_new_poly)\n",
    "\n",
    "plt.plot(X, y, \"bo\", markersize = 3)\n",
    "plt.plot(X_new, y_new, \"r-\", linewidth = 2, label = \"Predictions\")\n",
    "plt.xlabel(\"X\")\n",
    "plt.ylabel(\"y\")\n",
    "plt.legend(loc = \"upper left\")\n",
    "plt.axis([-3, 3, 0, 10])\n",
    "plt.show()"
   ]
  },
  {
   "cell_type": "markdown",
   "id": "18122cab-8e81-4068-a6c9-7ce77e1d5d91",
   "metadata": {},
   "source": [
    "Not bad. The model estimates $\\hat{y} = 0.48x^2 + 0.93x + 1.78$ when in fact the original function was $y = 0.5x^2 + x + 2 + Gaussian\\ noise$."
   ]
  },
  {
   "cell_type": "markdown",
   "id": "d64a3b14-a74d-4920-a7ff-ed1df96621f0",
   "metadata": {},
   "source": [
    "Note that when there are multiple features, polynomial regression is capable of finding relationships between features (which is something a plain linear regression model cannot do). This is made possible by the fact that `PolynomialFeatures` also adds all combinations of features up to the given degree. For example, if there were two features *a* & *b*, `PolynomialFeatures` with `degree = 3` would not only add the features $a^2$, $a^3$, $b^2$ & $b^3$, but also the combinations $ab$, $a^2b$, & $ab^2$."
   ]
  },
  {
   "cell_type": "markdown",
   "id": "f4737c6c-c4dc-4693-a598-7b3cb51dc7c4",
   "metadata": {},
   "source": [
    "---"
   ]
  },
  {
   "cell_type": "markdown",
   "id": "e450b1ca-1dfd-426b-b635-22deba0bb5bf",
   "metadata": {},
   "source": [
    "# Learning Curves\n",
    "\n",
    "If you perform high-degree polynomial regression, you will likely fit the training data much better than with plain linear regression; for example, if we apply a 300-degree polynomial model to the preceding training data, & compare the result with a pure linear model & a quadratic model (2nd-degree polynomial). Notice how the 300-degree polynomial wiggles around to get as close as possible to the training instances.\n",
    "\n",
    "<img src = \"Images/Polynomial Regression.png\" alt = \"Alternative text\" width = \"500\" style = \"margin:auto\"/>\n",
    "\n",
    "Of course, this high-degree polynomial regression model is severely overfitting the training data, while the linear model is underfitting it. The model that will generalise best in this case is the quadratic model. It makes sense since the data was generated using a quadratic model, but in general, you won't know what function generated the data, so how can you decide how complex your model should be? How can you tell that your model is overfitting or underfitting the data?\n",
    "\n",
    "In chapter 2, you used cross-validation to get an estimate of a model's generalisation performance. If a model performs well on the training data but generalises poorly according to the cross-validation metrics, when your model is overfitting. If it performs poorly on both, then it is underfitting. This is one way to tell when a model is too simple or too complex.\n",
    "\n",
    "Another way is to look at the *learning curves*: these are plots of the model's performance on the training set & the validation set as a function of the training set size (or the training iteration). To generate the plots, simply train the model several times on different sized subsets of the training set. The following code defines a function that plots the learning curves of a model given some training data."
   ]
  },
  {
   "cell_type": "code",
   "execution_count": 26,
   "id": "f9a87d23-c0bb-41b4-b661-839628a008fc",
   "metadata": {
    "tags": []
   },
   "outputs": [],
   "source": [
    "from sklearn.metrics import mean_squared_error\n",
    "from sklearn.model_selection import train_test_split\n",
    "\n",
    "def plot_learning_curves(model, X, y):\n",
    "    X_train, X_val, y_train, y_val = train_test_split(X, y, test_size = 0.2)\n",
    "    train_errors, val_errors = [], []\n",
    "    for m in range(1, len(X_train)):\n",
    "        model.fit(X_train[:m], y_train[:m])\n",
    "        y_train_predict = model.predict(X_train[:m])\n",
    "        y_val_predict = model.predict(X_val)\n",
    "        train_errors.append(mean_squared_error(y_train[:m], y_train_predict))\n",
    "        val_errors.append(mean_squared_error(y_val, y_val_predict))\n",
    "    plt.plot(np.sqrt(train_errors), \"r-+\", linewidth = 2, label = \"train\")\n",
    "    plt.plot(np.sqrt(val_errors), \"b-\", linewidth = 3, label = \"val\")"
   ]
  },
  {
   "cell_type": "markdown",
   "id": "334a2784-195c-4e8a-9701-f72e891b2544",
   "metadata": {},
   "source": [
    "Let's look at the learning curves of the plain linear regression model."
   ]
  },
  {
   "cell_type": "code",
   "execution_count": 27,
   "id": "a7a3855e-e017-41f6-a53b-39c4dea3bc40",
   "metadata": {
    "tags": []
   },
   "outputs": [
    {
     "data": {
      "image/png": "[encoded data removed]",
      "text/plain": [
       "<Figure size 640x480 with 1 Axes>"
      ]
     },
     "metadata": {},
     "output_type": "display_data"
    }
   ],
   "source": [
    "lin_reg = LinearRegression()\n",
    "plot_learning_curves(lin_reg, X, y)\n",
    "plt.axis([0, 80, 0, 3])\n",
    "plt.show()"
   ]
  },
  {
   "cell_type": "markdown",
   "id": "14817e88-90f4-42ec-aed1-432276d818f1",
   "metadata": {},
   "source": [
    "This deserves a bit of explanation. First, let's look at the performance on the training data: when there are just one or two instances in the training set, the model can fit them perfectly, which is why the curve starts at zero. But as new instances are added to the training set, it becomes impossible for the model to fit the training data perfectly, both because the data is noisy & because it is not linear at all. So the error on the training data goes up until it reaches a plateau, at which point adding new instances to the training set doesn't make the average error much better or worse. Now let's look at the performance of the model on the validation data. When the model is trained on very few training instances, it is incapable of generalising properly, which isi why the validation error is initially quite big. Then as the model is shown more training examples,it learns & thus the validation error slowly goes down. However, once again a straight line cannot do a good job modeling the data, so the error ends up at a plateau, very close to the other curve.\n",
    "\n",
    "These learning curves are typical of an underfitting model. Both curves have reached a plateau; they are close & fairly high.\n",
    "\n",
    "Now let's look at the learning curves of a 10th-degree polynomial model on the same data."
   ]
  },
  {
   "cell_type": "code",
   "execution_count": 28,
   "id": "a82216e7-ee64-4f17-be41-988fe39edee5",
   "metadata": {
    "tags": []
   },
   "outputs": [
    {
     "data": {
      "image/png": "[encoded data removed]",
      "text/plain": [
       "<Figure size 640x480 with 1 Axes>"
      ]
     },
     "metadata": {},
     "output_type": "display_data"
    }
   ],
   "source": [
    "from sklearn.pipeline import Pipeline\n",
    "\n",
    "polynomial_regression = Pipeline([(\"poly_features\", PolynomialFeatures(degree = 10, include_bias = False)), \n",
    "                                  (\"lin_reg\", LinearRegression())])\n",
    "plot_learning_curves(polynomial_regression, X, y)\n",
    "plt.axis([0, 80, 0, 3])\n",
    "plt.show()"
   ]
  },
  {
   "cell_type": "markdown",
   "id": "bfa9550c-221a-467b-bf0a-0dad158aa829",
   "metadata": {},
   "source": [
    "These learning curves look a bit like the previous ones, but there are two very important difference:\n",
    "\n",
    "* The error on the training data is much lower than with the linear regression model.\n",
    "* There is a gap between the curves. This means that the model performs significantly better on the training data than on the validation data, which is the hallmark of an overfitting model. However, if you used a much larger training set, the two curves would continue to get closer."
   ]
  },
  {
   "cell_type": "markdown",
   "id": "f7dcce1e-d442-41a9-8de1-0bd435f0552c",
   "metadata": {},
   "source": [
    "---"
   ]
  },
  {
   "cell_type": "markdown",
   "id": "9e097d36-8b7a-45f0-941c-cf4f5b784100",
   "metadata": {},
   "source": [
    "# Regularised Linear Models\n",
    "\n",
    "As we saw in previous chapters, a good way to reduce overfitting is to regularise the model (i.e., to constrain it): the fewer degrees of freedom it has, the harder it will be for it to overfit the data. For example, a simple way to regularise a polynomial model is to reduce the number of polynomial degrees.\n",
    "\n",
    "For a linear model, regularisation is typically achieved by constraining the weights of the model. We will now look at ridge regression, lasso regression, & elastic net, which implement three different ways to constrain the weights.\n",
    "\n",
    "## Ridge Regression\n",
    "\n",
    "*Ridge regression* is a regularised version of linear regression: a *regularisation term* equal to $\\alpha\\sum^{n}_{i = 1}\\theta^2_i$ is added to the cost function. This forces the linear algorithm to not only fit the data but also keep the model weights as small as possible. Note that the regularisation term should only be added to the cost function during training. Once the model is trained, you want to evaluate the model's performance using the unregularised performance measure.\n",
    "\n",
    "The hyperparameter $\\alpha$ controls how much you want to regularise the model. If $\\alpha$ = 0, then ridge regression is just linear regression. If $\\alpha$ is very alrge, then all weights end up very close to zero & the result is a flat line going through the data's mean. Here is the ridge regression cost function.\n",
    "\n",
    "$$J(\\theta) = MSE(\\theta) + \\alpha\\frac{1}{2}\\sum^{n}_{i = 1}\\theta^2_i$$"
   ]
  },
  {
   "cell_type": "markdown",
   "id": "369fc8c8-b666-4cfe-95a6-363ce9643972",
   "metadata": {},
   "source": [
    "Note that the bias term $\\theta_0$ is not regularised (the sum starts at i = 1, not 0). If we define $w$ as the vector of feature weights ($\\theta_1$ to $\\theta_n$), then the regularisation term is simply equal to $\\frac{1}{2}(||w||_2)^2$ where $||w||_2$ represents the $l_2$ norm of the weight vector. For gradient descent, just add $\\alpha w$ to the MSE gradient vector.\n",
    "\n",
    "<img src = \"Images/Ridge Regression.png\" alt = \"Alternative text\" width = \"500\" style = \"margin:auto\"/>\n",
    "\n",
    "The above figure shows several ridge regression models trained on some linear data using different $\\alpha$ values. One the left, plain ridge models are used, leading to linear predictions. On the right, the data is first expanded using `PolynomialFeatures(degree = 10`, then it is scaled using a `StandardScaler`, & final the ridge models are applied to the resulting features: this is polynomial regression with ridge regularisation. Note how increasing $\\alpha$ leads to a flatter (i.e., less extreme, more reasonable) preddctions; this reduces the model's variance but increases its bias.\n",
    "\n",
    "As with linear regression, we can perform ridge regression either by computing a closed-form equation or by performing gradient descent. The pros & cons are the same. The following function shows the closed-form solution (where $A$ is the $(n + 1)(n + 1)$ *identity matrix* except with a 0 in the top-left cell, corresponding to the bias term).\n",
    "\n",
    "$$\\hat{\\theta} = (X^TX + \\alpha A)^{-1}X^Ty$$\n",
    "\n",
    "Here is how to perform ridge regression with scikit-learn using a closed-form solution."
   ]
  },
  {
   "cell_type": "code",
   "execution_count": 29,
   "id": "73eb8fd5-ac49-4729-8f80-f7945cd0cdb4",
   "metadata": {
    "tags": []
   },
   "outputs": [
    {
     "data": {
      "text/plain": [
       "array([[5.17030295]])"
      ]
     },
     "execution_count": 29,
     "metadata": {},
     "output_type": "execute_result"
    }
   ],
   "source": [
    "from sklearn.linear_model import Ridge\n",
    "\n",
    "ridge_reg = Ridge(alpha = 1, solver = \"cholesky\")\n",
    "ridge_reg.fit(X, y)\n",
    "ridge_reg.predict([[1.5]])"
   ]
  },
  {
   "cell_type": "markdown",
   "id": "fd917cff-db77-44a0-9314-86df744d51fd",
   "metadata": {},
   "source": [
    "& using stochastic gradient descent."
   ]
  },
  {
   "cell_type": "code",
   "execution_count": 30,
   "id": "4fa82ed2-2f2e-4894-96af-678c79fe1544",
   "metadata": {
    "tags": []
   },
   "outputs": [
    {
     "data": {
      "text/plain": [
       "array([5.16917843])"
      ]
     },
     "execution_count": 30,
     "metadata": {},
     "output_type": "execute_result"
    }
   ],
   "source": [
    "sgd_reg = SGDRegressor(penalty = \"l2\")\n",
    "sgd_reg.fit(X, y.ravel())\n",
    "sgd_reg.predict([[1.5]])"
   ]
  },
  {
   "cell_type": "markdown",
   "id": "48c7a797-15e1-4b1f-af54-df6d5874fb01",
   "metadata": {},
   "source": [
    "The `penalty` hyperparameter sets the type of regularisation term to use. Specifying \"`l2`\" indicates that you want SGD to add a regularisation term to the cost function equal to half the square of the $l_2$ norm of the weight vector: this is simply ridge regression.\n",
    "\n",
    "## Lasso Regression\n",
    "\n",
    "*Least Absolute Shrinkage & Selection Operation Regression* (simply called *Lasso regression*) is another regularisation version of linear regression: just like ridge regression, it adds a regularisation term to the cost function, but it used the $l_1$ norm of the weight vector instead of half the square of teh $l_2$ norm.\n",
    "\n",
    "$$J(\\theta) = MSE(\\theta) + \\alpha\\sum^{n}_{i = 1}|\\theta_i|$$"
   ]
  },
  {
   "cell_type": "markdown",
   "id": "c1779dd9-2667-4411-bfa7-0aaa2d984eb4",
   "metadata": {},
   "source": [
    "The below figure shows several lasso regression models trained on some linear data using different $\\alpha$ values.\n",
    "\n",
    "<img src = \"Images/Lasso Regression.png\" alt = \"Alternative text\" width = \"500\" style = \"margin:auto\"/>\n",
    "\n",
    "An important characteristic of Lasso regression is that it tends to completely eliminates the weights of the least important features (i.e, set them to zero). For example, the dashed line in the right plot (with $\\alpha = 10^{-7}$) looks quadratic, almost linear: all the weights for the high-degree polynomial features are equal to zero. In other words, Lasso regression automatically performs feature selection & outputs a *sparse model* (i.e., with few nonzero feature weights).\n",
    "\n",
    "<img src = \"Images/Lasso vs Ridge Regression.png\" alt = \"Alternative text\" width = \"500\" style = \"margin:auto\"/>\n",
    "\n",
    "You can get a sense of why this is the case. one the top-left plot, the background contours (ellipses) represent an unregularised MSE cost function ($\\alpha$ = 0), & the white circles show the batch gradient descent path with that cost function. The foreground contours (diamonds) represent the $l_1$ penalty, & the triange shows the BGD path for this penalty only ($\\alpha \\rightarrow \\infty$). Notice how the path first reaches $\\theta_1$ = 0, then rolls down the gutter until it reacher $\\theta_2$ = 0. On the top-right plot, the contours represent the same cost function plus an $l_1$ penalty with $\\alpha$ = 0.5. The global minimum is on the $\\theta_2$ = 0 axis. BGD first reaches $\\theta_2$ = 0, then rolls down the gutter until it reaches the global minimum. The two bottom plots show the same thing but uses an $l_2$ penalty instead. The regularised minimum is closer to $\\theta$ = 0 than the unregularised minimum, but the weights do not get fully eliminated.\n",
    "\n",
    "The Lasso cost function is not differentiable at $\\theta_i$ = 0 (for i = 1, 2, ..., n), but gradient descent still works fine if you use a *subgradient vector* $g$ instead whenany $\\theta_i$ = 0. Below shows a subgradient vector equation you can use for gradient descent with the Lasso cost function.\n",
    "\n",
    "$$g(\\theta, J) = \\triangledown_{\\theta}MSE(\\theta) + \\alpha \\Bigg(\\begin{split}\n",
    "sign(\\theta_1) \\\\\n",
    "sign(\\theta_2) \\\\\n",
    "{\\vdots} \\\\\n",
    "sign(\\theta_n)\n",
    "\\end{split} \\Bigg) where\\ sign(\\theta_i) = \\Biggl\\{\\begin{split}\n",
    "-1\\ if\\ \\theta_i < 0 \\\\\n",
    "0\\ if\\ \\theta_i = 0 \\\\\n",
    "1\\ if\\ \\theta_i > 0\n",
    "\\end{split}$$\n",
    "\n",
    "Here is a small example using the `Lasso` class. Note that you could instead use an `SGDRegressor(penalty = \"l1\")`."
   ]
  },
  {
   "cell_type": "code",
   "execution_count": 31,
   "id": "6131778f-551c-4369-8e80-61172bf8dd95",
   "metadata": {
    "tags": []
   },
   "outputs": [
    {
     "data": {
      "text/plain": [
       "array([5.12361506])"
      ]
     },
     "execution_count": 31,
     "metadata": {},
     "output_type": "execute_result"
    }
   ],
   "source": [
    "from sklearn.linear_model import Lasso\n",
    "\n",
    "lasso_reg = Lasso(alpha = 0.1)\n",
    "lasso_reg.fit(X, y)\n",
    "lasso_reg.predict([[1.5]])"
   ]
  },
  {
   "cell_type": "markdown",
   "id": "27f285a7-2f96-482c-8f88-9056907a7c66",
   "metadata": {},
   "source": [
    "## Elastic Net\n",
    "\n",
    "Elastic net is a middle ground between ridge regression & lasso regression. The regularisation term is a simple mix of both ridge & lasso's regularisation terms, & you can control the mix ratio *r*. When *r* = 0, elastic net is equivalent to ridge regression, & when *r* = 1, it is equivalent to lasso regression.\n",
    "\n",
    "$$J(\\theta) = MSE(\\theta) + r\\alpha\\sum^{n}_{i = 1}|\\theta_i| + \\frac{1 - r}{2}\\alpha\\sum^{n}_{i = 1}\\theta^2_i$$\n",
    "\n",
    "So when should you use plain linear regression (i.e., without any regularisation), ridge, lasso, & elastic net? It is almost always preferable to have at least a little bit of regularisation, so generally you should avoid plain linear regression. Ridge is a good default, but if you suspect that only a few features are actually useful, you should prefer lasso or elastic net since they tend to reduce the useless features' weights down to zero as we have discussed. In general, elastic net is perferred over lasso since lasso may behave erratically when the number of features is greater than the number of training instances or when several features are strongly correlated.\n",
    "\n",
    "Here is a short example using scikit-learn's `ElasticNet` (`l1_ratio` corrsponds to the mix ratio *r*):"
   ]
  },
  {
   "cell_type": "code",
   "execution_count": 32,
   "id": "cd91cd7e-dec9-4997-8abb-bbe927843a2c",
   "metadata": {
    "tags": []
   },
   "outputs": [
    {
     "data": {
      "text/plain": [
       "array([5.12064207])"
      ]
     },
     "execution_count": 32,
     "metadata": {},
     "output_type": "execute_result"
    }
   ],
   "source": [
    "from sklearn.linear_model import ElasticNet\n",
    "\n",
    "elastic_net = ElasticNet(alpha = 0.1, l1_ratio = 0.5)\n",
    "elastic_net.fit(X, y)\n",
    "elastic_net.predict([[1.5]])"
   ]
  },
  {
   "cell_type": "markdown",
   "id": "31eaaaa1-c719-445a-8b10-6e53d29cc20c",
   "metadata": {},
   "source": [
    "## Early Stopping\n",
    "\n",
    "A very different way to regularise iterative learning algorithms such as gradient descent is to stop training as soon as the validation error reaches a minimum. This is called *early stopping*. The below figure shows a complex model (in this case a high-degree polynomial regression model) being trained using batch gradient descent. As the epochs go by, the algorithm learns & its prediction error (RMSE) on the training set naturally goes down, & so does it prediction error on the validation set. However, after a while, the validation error stops decreasing & actually starts to go back up. This indicates that the model has started to overfit the training data. With early stopping, you must stop training as soon as the validation error reaches the minimum. It is such a simple & efficeint regularisation technique that some call it \"beautiful free lunch\".\n",
    "\n",
    "<img src = \"Images/Early Stopping.png\" alt = \"Alternative text\" width = \"500\" style = \"margin:auto\"/>\n",
    "\n",
    "Here is a basic implementation of early stopping."
   ]
  },
  {
   "cell_type": "code",
   "execution_count": 33,
   "id": "de69e59e-8ffd-4602-9751-39ce4d574d6e",
   "metadata": {
    "tags": []
   },
   "outputs": [
    {
     "ename": "InvalidParameterError",
     "evalue": "The 'tol' parameter of SGDRegressor must be a float in the range [0.0, inf) or None. Got -inf instead.",
     "output_type": "error",
     "traceback": [
      "\u001b[1;31m---------------------------------------------------------------------------\u001b[0m",
      "\u001b[1;31mInvalidParameterError\u001b[0m                     Traceback (most recent call last)",
      "Cell \u001b[1;32mIn[33], line 22\u001b[0m\n\u001b[0;32m     20\u001b[0m best_model \u001b[38;5;241m=\u001b[39m \u001b[38;5;28;01mNone\u001b[39;00m\n\u001b[0;32m     21\u001b[0m \u001b[38;5;28;01mfor\u001b[39;00m epoch \u001b[38;5;129;01min\u001b[39;00m \u001b[38;5;28mrange\u001b[39m(\u001b[38;5;241m1000\u001b[39m):\n\u001b[1;32m---> 22\u001b[0m     sgd_reg\u001b[38;5;241m.\u001b[39mfit(X_train_poly_scaled, y_train)\n\u001b[0;32m     23\u001b[0m     y_val_predict \u001b[38;5;241m=\u001b[39m sgd_reg\u001b[38;5;241m.\u001b[39mpredict(X_val_poly_scaled)\n\u001b[0;32m     24\u001b[0m     val_error \u001b[38;5;241m=\u001b[39m mean_squared_error(y_val, y_val_predict)\n",
      "File \u001b[1;32m~\\AppData\\Local\\anaconda3\\Lib\\site-packages\\sklearn\\base.py:1144\u001b[0m, in \u001b[0;36m_fit_context.<locals>.decorator.<locals>.wrapper\u001b[1;34m(estimator, *args, **kwargs)\u001b[0m\n\u001b[0;32m   1139\u001b[0m partial_fit_and_fitted \u001b[38;5;241m=\u001b[39m (\n\u001b[0;32m   1140\u001b[0m     fit_method\u001b[38;5;241m.\u001b[39m\u001b[38;5;18m__name__\u001b[39m \u001b[38;5;241m==\u001b[39m \u001b[38;5;124m\"\u001b[39m\u001b[38;5;124mpartial_fit\u001b[39m\u001b[38;5;124m\"\u001b[39m \u001b[38;5;129;01mand\u001b[39;00m _is_fitted(estimator)\n\u001b[0;32m   1141\u001b[0m )\n\u001b[0;32m   1143\u001b[0m \u001b[38;5;28;01mif\u001b[39;00m \u001b[38;5;129;01mnot\u001b[39;00m global_skip_validation \u001b[38;5;129;01mand\u001b[39;00m \u001b[38;5;129;01mnot\u001b[39;00m partial_fit_and_fitted:\n\u001b[1;32m-> 1144\u001b[0m     estimator\u001b[38;5;241m.\u001b[39m_validate_params()\n\u001b[0;32m   1146\u001b[0m \u001b[38;5;28;01mwith\u001b[39;00m config_context(\n\u001b[0;32m   1147\u001b[0m     skip_parameter_validation\u001b[38;5;241m=\u001b[39m(\n\u001b[0;32m   1148\u001b[0m         prefer_skip_nested_validation \u001b[38;5;129;01mor\u001b[39;00m global_skip_validation\n\u001b[0;32m   1149\u001b[0m     )\n\u001b[0;32m   1150\u001b[0m ):\n\u001b[0;32m   1151\u001b[0m     \u001b[38;5;28;01mreturn\u001b[39;00m fit_method(estimator, \u001b[38;5;241m*\u001b[39margs, \u001b[38;5;241m*\u001b[39m\u001b[38;5;241m*\u001b[39mkwargs)\n",
      "File \u001b[1;32m~\\AppData\\Local\\anaconda3\\Lib\\site-packages\\sklearn\\base.py:637\u001b[0m, in \u001b[0;36mBaseEstimator._validate_params\u001b[1;34m(self)\u001b[0m\n\u001b[0;32m    629\u001b[0m \u001b[38;5;28;01mdef\u001b[39;00m \u001b[38;5;21m_validate_params\u001b[39m(\u001b[38;5;28mself\u001b[39m):\n\u001b[0;32m    630\u001b[0m \u001b[38;5;250m    \u001b[39m\u001b[38;5;124;03m\"\"\"Validate types and values of constructor parameters\u001b[39;00m\n\u001b[0;32m    631\u001b[0m \n\u001b[0;32m    632\u001b[0m \u001b[38;5;124;03m    The expected type and values must be defined in the `_parameter_constraints`\u001b[39;00m\n\u001b[1;32m   (...)\u001b[0m\n\u001b[0;32m    635\u001b[0m \u001b[38;5;124;03m    accepted constraints.\u001b[39;00m\n\u001b[0;32m    636\u001b[0m \u001b[38;5;124;03m    \"\"\"\u001b[39;00m\n\u001b[1;32m--> 637\u001b[0m     validate_parameter_constraints(\n\u001b[0;32m    638\u001b[0m         \u001b[38;5;28mself\u001b[39m\u001b[38;5;241m.\u001b[39m_parameter_constraints,\n\u001b[0;32m    639\u001b[0m         \u001b[38;5;28mself\u001b[39m\u001b[38;5;241m.\u001b[39mget_params(deep\u001b[38;5;241m=\u001b[39m\u001b[38;5;28;01mFalse\u001b[39;00m),\n\u001b[0;32m    640\u001b[0m         caller_name\u001b[38;5;241m=\u001b[39m\u001b[38;5;28mself\u001b[39m\u001b[38;5;241m.\u001b[39m\u001b[38;5;18m__class__\u001b[39m\u001b[38;5;241m.\u001b[39m\u001b[38;5;18m__name__\u001b[39m,\n\u001b[0;32m    641\u001b[0m     )\n",
      "File \u001b[1;32m~\\AppData\\Local\\anaconda3\\Lib\\site-packages\\sklearn\\utils\\_param_validation.py:95\u001b[0m, in \u001b[0;36mvalidate_parameter_constraints\u001b[1;34m(parameter_constraints, params, caller_name)\u001b[0m\n\u001b[0;32m     89\u001b[0m \u001b[38;5;28;01melse\u001b[39;00m:\n\u001b[0;32m     90\u001b[0m     constraints_str \u001b[38;5;241m=\u001b[39m (\n\u001b[0;32m     91\u001b[0m         \u001b[38;5;124mf\u001b[39m\u001b[38;5;124m\"\u001b[39m\u001b[38;5;132;01m{\u001b[39;00m\u001b[38;5;124m'\u001b[39m\u001b[38;5;124m, \u001b[39m\u001b[38;5;124m'\u001b[39m\u001b[38;5;241m.\u001b[39mjoin([\u001b[38;5;28mstr\u001b[39m(c)\u001b[38;5;250m \u001b[39m\u001b[38;5;28;01mfor\u001b[39;00m\u001b[38;5;250m \u001b[39mc\u001b[38;5;250m \u001b[39m\u001b[38;5;129;01min\u001b[39;00m\u001b[38;5;250m \u001b[39mconstraints[:\u001b[38;5;241m-\u001b[39m\u001b[38;5;241m1\u001b[39m]])\u001b[38;5;132;01m}\u001b[39;00m\u001b[38;5;124m or\u001b[39m\u001b[38;5;124m\"\u001b[39m\n\u001b[0;32m     92\u001b[0m         \u001b[38;5;124mf\u001b[39m\u001b[38;5;124m\"\u001b[39m\u001b[38;5;124m \u001b[39m\u001b[38;5;132;01m{\u001b[39;00mconstraints[\u001b[38;5;241m-\u001b[39m\u001b[38;5;241m1\u001b[39m]\u001b[38;5;132;01m}\u001b[39;00m\u001b[38;5;124m\"\u001b[39m\n\u001b[0;32m     93\u001b[0m     )\n\u001b[1;32m---> 95\u001b[0m \u001b[38;5;28;01mraise\u001b[39;00m InvalidParameterError(\n\u001b[0;32m     96\u001b[0m     \u001b[38;5;124mf\u001b[39m\u001b[38;5;124m\"\u001b[39m\u001b[38;5;124mThe \u001b[39m\u001b[38;5;132;01m{\u001b[39;00mparam_name\u001b[38;5;132;01m!r}\u001b[39;00m\u001b[38;5;124m parameter of \u001b[39m\u001b[38;5;132;01m{\u001b[39;00mcaller_name\u001b[38;5;132;01m}\u001b[39;00m\u001b[38;5;124m must be\u001b[39m\u001b[38;5;124m\"\u001b[39m\n\u001b[0;32m     97\u001b[0m     \u001b[38;5;124mf\u001b[39m\u001b[38;5;124m\"\u001b[39m\u001b[38;5;124m \u001b[39m\u001b[38;5;132;01m{\u001b[39;00mconstraints_str\u001b[38;5;132;01m}\u001b[39;00m\u001b[38;5;124m. Got \u001b[39m\u001b[38;5;132;01m{\u001b[39;00mparam_val\u001b[38;5;132;01m!r}\u001b[39;00m\u001b[38;5;124m instead.\u001b[39m\u001b[38;5;124m\"\u001b[39m\n\u001b[0;32m     98\u001b[0m )\n",
      "\u001b[1;31mInvalidParameterError\u001b[0m: The 'tol' parameter of SGDRegressor must be a float in the range [0.0, inf) or None. Got -inf instead."
     ]
    }
   ],
   "source": [
    "np.random.seed(42)\n",
    "m = 100\n",
    "X = 6 * np.random.rand(m, 1) - 3\n",
    "y = 2 + X + 0.5 * X**2 + np.random.randn(m, 1)\n",
    "\n",
    "X_train, X_val, y_train, y_val = train_test_split(X[:50], y[:50].ravel(), test_size=0.5, random_state=10)\n",
    "\n",
    "from sklearn.base import clone\n",
    "from sklearn.preprocessing import StandardScaler\n",
    "\n",
    "poly_scaler = Pipeline([(\"poly_features\", PolynomialFeatures(degree = 90, include_bias = False)), \n",
    "                        (\"std_scaler\", StandardScaler())])\n",
    "X_train_poly_scaled = poly_scaler.fit_transform(X_train)\n",
    "X_val_poly_scaled = poly_scaler.transform(X_val)\n",
    "                     \n",
    "sgd_reg = SGDRegressor(max_iter = 1, tol = -np.infty, warm_start = True, \n",
    "                       penalty = None, learning_rate = \"constant\", eta0 = 0.0005)\n",
    "minimum_val_error = float(\"inf\")\n",
    "best_epoch = None\n",
    "best_model = None\n",
    "for epoch in range(1000):\n",
    "    sgd_reg.fit(X_train_poly_scaled, y_train)\n",
    "    y_val_predict = sgd_reg.predict(X_val_poly_scaled)\n",
    "    val_error = mean_squared_error(y_val, y_val_predict)\n",
    "    if val_error < minimum_val_error:\n",
    "        minimum_val_error = val_error\n",
    "        best_epoch = epoch\n",
    "        bestmodel = clone(sgd_reg)"
   ]
  },
  {
   "cell_type": "markdown",
   "id": "5d472a30-8ffe-406c-a21d-b59ed00e1af3",
   "metadata": {},
   "source": [
    "Note that with `warm_start = True`, when the `fit()` method is called, it just continues training where it left off instead of restarting from scratch."
   ]
  },
  {
   "cell_type": "markdown",
   "id": "ef5c83de-e498-4c03-9a3a-596250f0c228",
   "metadata": {},
   "source": [
    "---"
   ]
  },
  {
   "cell_type": "markdown",
   "id": "4f08a307-e761-4f03-9548-8fad53a19fbe",
   "metadata": {},
   "source": [
    "# Logistic Regression\n",
    "\n",
    "As we discussed before, some regression algorithms can be used for classification as well (& vice versa). *Logistic regression* is common used to estimate the probability that an instance belongs to a particular class (e.g., what is the probability that this email is spam?). If the estimated probability is greater than 50%, then the model predicts that the instance belongs to that class (called the positive class, labeled \"1\"), or else it predicts that it does not (i.e., it belongs to the negative class, labeled \"0\"). This makes it a binary classifier.\n",
    "\n",
    "## Estimating Probabilities\n",
    "\n",
    "So how does it work? Just like a linear regression model, a logistic regression model computes a weighted sum of the input features (plus a bias term), but instead of outputting the result directly like the linear regression model does, it outputs the *logistic* of this result.\n",
    "\n",
    "$$\\hat{p} = h_{\\theta}(x) = \\sigma(x^T\\theta)$$\n",
    "\n",
    "The logistic -- noted $\\sigma(.)$ -- is a *sigmoid funcrion* (i.e., S-shaped) that outputs a number between 0 & 1. It is defined as the following function.\n",
    "\n",
    "$$\\sigma(t) = \\frac{1}{1 + e^{-t}}$$\n",
    "\n",
    "<img src = \"Images/Logistic Regression.png\" alt = \"Alternative text\" width = \"500\" style = \"margin:auto\"/>\n",
    "\n",
    "Once the logistic regression model has estimated the probability $\\hat{p} = h_{\\theta}(x)$ that an instance $x$ belongs to the positive class, it can make its predictions $\\hat{y}$ easily.\n",
    "\n",
    "$$\\hat{y} = \\Biggl\\{ \\begin{split}\n",
    "0\\ if\\ \\hat{p} < 0.5 \\\\\n",
    "1\\ if\\ \\hat{p} >= 0.5\n",
    "\\end{split}$$\n",
    "\n",
    "Notice that $\\sigma(t)$ < 0.5 when t < 0, & $\\sigma(t)$ >= 0.5 when t >= 0, so a logistic regression predicts 1 if $x^T\\theta$ is positive & 0 if it is negative.\n",
    "\n",
    "## Training & Cost Function\n",
    "\n",
    "Good, now you know how a logistic regression model estimates probabilities & makes predictions. But how is it trained? The objective of training is to set the parameter vector $\\theta$ so that the model estimates high probabilities for positive instance(y = 1) & low probabilities for negative instance (y = 0). This idea is captured by the cost function shown below, for a single training instance x.\n",
    "\n",
    "$$c(\\theta) = \\Biggl\\{ \\begin{split}\n",
    "-log(\\hat{p})\\ if\\ y = 1 \\\\\n",
    "-log(1 - \\hat{p})\\ if\\ y = 0\n",
    "\\end{split}$$\n",
    "\n",
    "This cost function makes sense because -log(t) grows very large when *t* approaches 0, so the cost will be large if the model estimates a probability close to 0 for a positive instance, & it will also be very large if the model estimates a probability close to 1 for a negative instance. On the other hand, -log(t) is close to 0 when *t* is close to 1, so the cost will be close to 0 if the estimated probability is close to 0 for a negative instance or close to 1 for a positive instance, which is precisely what we want.\n",
    "\n",
    "The cost function over the whole training set is simply the average cost over all training instances. It can be written in a single expression called the *log loss*, demonstrated below.\n",
    "\n",
    "$$J(\\theta) = -\\frac{1}{m}\\sum^{m}_{i = 1}[y^{(i)}log(\\hat{p}^{(i)}) + (1 - y^{(i)})log(1 - \\hat{p}^{(i)})]$$\n",
    "\n",
    "The bad news is that there is no known closed-form equation to compute the value of $\\theta$ that minimises the cost function (there is no equivalent of the normal equation). But the good news is that this cost function is convex, so gradient descent (or any other optimisation algorithm) is guaranteed to find the gloabl minimum (if the learning rate is not too large & you wait long enough). The partial derivtives of the cost function with regards to the jth model paramter $\\theta_j$ is given:\n",
    "\n",
    "$$\\frac{\\partial}{\\partial\\theta_j} = \\frac{1}{m}\\sum^{m}_{i = 1}(\\sigma(\\theta^Tx^{(i)}) - y^{(i)})x^{(i)}_j$$\n",
    "\n",
    "For each instance, the expression computes the prediction error & multiplies it by the jth feature value, & then it computes the average over all training instances. Once you have the gradient vector containing all the partial derivatives you can use it in the batch gradient descent algorithm. That's it: you now know how to train a logistic regression model. For stochastic GD, you would of course take on instance at a time, & for mini-batch GD, you would use a mini-batch at a time.\n",
    "\n",
    "## Decision Boundaries\n",
    "\n",
    "Let's use the iris dataset to illustrate logistic regression. This is a famous dataset that contains the sepal & petal length & width of 150 iris flowers of three different species: Iris-Setosa, Iris-Versicolor, & Iris-Virginica.\n",
    "\n",
    "<img src = \"Images/Iris Flowers.png\" alt = \"Alternative text\" width = \"500\" style = \"margin:auto\"/>\n",
    "\n",
    "Let's try to build a classifier to detect the Iris-Virginica type based only on the petal width feature. First let's load the data."
   ]
  },
  {
   "cell_type": "code",
   "execution_count": null,
   "id": "f9abd5c0-1e33-4c9e-80d6-7006d6af9a9b",
   "metadata": {
    "tags": []
   },
   "outputs": [],
   "source": [
    "from sklearn import datasets\n",
    "\n",
    "iris = datasets.load_iris()\n",
    "list(iris.keys())\n",
    "\n",
    "X = iris[\"data\"][:, 3:]\n",
    "y = (iris[\"target\"] == 2).astype(np.int)"
   ]
  },
  {
   "cell_type": "markdown",
   "id": "6c89c29a-3f65-4d5d-9acc-f445fe5b53f3",
   "metadata": {},
   "source": [
    "Now let's train a logistic regression model:"
   ]
  },
  {
   "cell_type": "code",
   "execution_count": 34,
   "id": "519b1249-dfd1-42d8-98f0-4cfa8b51e193",
   "metadata": {
    "tags": []
   },
   "outputs": [
    {
     "name": "stderr",
     "output_type": "stream",
     "text": [
      "C:\\Users\\yuj22\\AppData\\Local\\anaconda3\\Lib\\site-packages\\sklearn\\utils\\validation.py:1184: DataConversionWarning: A column-vector y was passed when a 1d array was expected. Please change the shape of y to (n_samples, ), for example using ravel().\n",
      "  y = column_or_1d(y, warn=True)\n"
     ]
    },
    {
     "ename": "ValueError",
     "evalue": "Unknown label type: continuous. Maybe you are trying to fit a classifier, which expects discrete classes on a regression target with continuous values.",
     "output_type": "error",
     "traceback": [
      "\u001b[1;31m---------------------------------------------------------------------------\u001b[0m",
      "\u001b[1;31mValueError\u001b[0m                                Traceback (most recent call last)",
      "Cell \u001b[1;32mIn[34], line 4\u001b[0m\n\u001b[0;32m      1\u001b[0m \u001b[38;5;28;01mfrom\u001b[39;00m \u001b[38;5;21;01msklearn\u001b[39;00m\u001b[38;5;21;01m.\u001b[39;00m\u001b[38;5;21;01mlinear_model\u001b[39;00m \u001b[38;5;28;01mimport\u001b[39;00m LogisticRegression\n\u001b[0;32m      3\u001b[0m log_reg \u001b[38;5;241m=\u001b[39m LogisticRegression()\n\u001b[1;32m----> 4\u001b[0m log_reg\u001b[38;5;241m.\u001b[39mfit(X, y)\n",
      "File \u001b[1;32m~\\AppData\\Local\\anaconda3\\Lib\\site-packages\\sklearn\\base.py:1151\u001b[0m, in \u001b[0;36m_fit_context.<locals>.decorator.<locals>.wrapper\u001b[1;34m(estimator, *args, **kwargs)\u001b[0m\n\u001b[0;32m   1144\u001b[0m     estimator\u001b[38;5;241m.\u001b[39m_validate_params()\n\u001b[0;32m   1146\u001b[0m \u001b[38;5;28;01mwith\u001b[39;00m config_context(\n\u001b[0;32m   1147\u001b[0m     skip_parameter_validation\u001b[38;5;241m=\u001b[39m(\n\u001b[0;32m   1148\u001b[0m         prefer_skip_nested_validation \u001b[38;5;129;01mor\u001b[39;00m global_skip_validation\n\u001b[0;32m   1149\u001b[0m     )\n\u001b[0;32m   1150\u001b[0m ):\n\u001b[1;32m-> 1151\u001b[0m     \u001b[38;5;28;01mreturn\u001b[39;00m fit_method(estimator, \u001b[38;5;241m*\u001b[39margs, \u001b[38;5;241m*\u001b[39m\u001b[38;5;241m*\u001b[39mkwargs)\n",
      "File \u001b[1;32m~\\AppData\\Local\\anaconda3\\Lib\\site-packages\\sklearn\\linear_model\\_logistic.py:1215\u001b[0m, in \u001b[0;36mLogisticRegression.fit\u001b[1;34m(self, X, y, sample_weight)\u001b[0m\n\u001b[0;32m   1205\u001b[0m     _dtype \u001b[38;5;241m=\u001b[39m [np\u001b[38;5;241m.\u001b[39mfloat64, np\u001b[38;5;241m.\u001b[39mfloat32]\n\u001b[0;32m   1207\u001b[0m X, y \u001b[38;5;241m=\u001b[39m \u001b[38;5;28mself\u001b[39m\u001b[38;5;241m.\u001b[39m_validate_data(\n\u001b[0;32m   1208\u001b[0m     X,\n\u001b[0;32m   1209\u001b[0m     y,\n\u001b[1;32m   (...)\u001b[0m\n\u001b[0;32m   1213\u001b[0m     accept_large_sparse\u001b[38;5;241m=\u001b[39msolver \u001b[38;5;129;01mnot\u001b[39;00m \u001b[38;5;129;01min\u001b[39;00m [\u001b[38;5;124m\"\u001b[39m\u001b[38;5;124mliblinear\u001b[39m\u001b[38;5;124m\"\u001b[39m, \u001b[38;5;124m\"\u001b[39m\u001b[38;5;124msag\u001b[39m\u001b[38;5;124m\"\u001b[39m, \u001b[38;5;124m\"\u001b[39m\u001b[38;5;124msaga\u001b[39m\u001b[38;5;124m\"\u001b[39m],\n\u001b[0;32m   1214\u001b[0m )\n\u001b[1;32m-> 1215\u001b[0m check_classification_targets(y)\n\u001b[0;32m   1216\u001b[0m \u001b[38;5;28mself\u001b[39m\u001b[38;5;241m.\u001b[39mclasses_ \u001b[38;5;241m=\u001b[39m np\u001b[38;5;241m.\u001b[39munique(y)\n\u001b[0;32m   1218\u001b[0m multi_class \u001b[38;5;241m=\u001b[39m _check_multi_class(\u001b[38;5;28mself\u001b[39m\u001b[38;5;241m.\u001b[39mmulti_class, solver, \u001b[38;5;28mlen\u001b[39m(\u001b[38;5;28mself\u001b[39m\u001b[38;5;241m.\u001b[39mclasses_))\n",
      "File \u001b[1;32m~\\AppData\\Local\\anaconda3\\Lib\\site-packages\\sklearn\\utils\\multiclass.py:215\u001b[0m, in \u001b[0;36mcheck_classification_targets\u001b[1;34m(y)\u001b[0m\n\u001b[0;32m    207\u001b[0m y_type \u001b[38;5;241m=\u001b[39m type_of_target(y, input_name\u001b[38;5;241m=\u001b[39m\u001b[38;5;124m\"\u001b[39m\u001b[38;5;124my\u001b[39m\u001b[38;5;124m\"\u001b[39m)\n\u001b[0;32m    208\u001b[0m \u001b[38;5;28;01mif\u001b[39;00m y_type \u001b[38;5;129;01mnot\u001b[39;00m \u001b[38;5;129;01min\u001b[39;00m [\n\u001b[0;32m    209\u001b[0m     \u001b[38;5;124m\"\u001b[39m\u001b[38;5;124mbinary\u001b[39m\u001b[38;5;124m\"\u001b[39m,\n\u001b[0;32m    210\u001b[0m     \u001b[38;5;124m\"\u001b[39m\u001b[38;5;124mmulticlass\u001b[39m\u001b[38;5;124m\"\u001b[39m,\n\u001b[1;32m   (...)\u001b[0m\n\u001b[0;32m    213\u001b[0m     \u001b[38;5;124m\"\u001b[39m\u001b[38;5;124mmultilabel-sequences\u001b[39m\u001b[38;5;124m\"\u001b[39m,\n\u001b[0;32m    214\u001b[0m ]:\n\u001b[1;32m--> 215\u001b[0m     \u001b[38;5;28;01mraise\u001b[39;00m \u001b[38;5;167;01mValueError\u001b[39;00m(\n\u001b[0;32m    216\u001b[0m         \u001b[38;5;124mf\u001b[39m\u001b[38;5;124m\"\u001b[39m\u001b[38;5;124mUnknown label type: \u001b[39m\u001b[38;5;132;01m{\u001b[39;00my_type\u001b[38;5;132;01m}\u001b[39;00m\u001b[38;5;124m. Maybe you are trying to fit a \u001b[39m\u001b[38;5;124m\"\u001b[39m\n\u001b[0;32m    217\u001b[0m         \u001b[38;5;124m\"\u001b[39m\u001b[38;5;124mclassifier, which expects discrete classes on a \u001b[39m\u001b[38;5;124m\"\u001b[39m\n\u001b[0;32m    218\u001b[0m         \u001b[38;5;124m\"\u001b[39m\u001b[38;5;124mregression target with continuous values.\u001b[39m\u001b[38;5;124m\"\u001b[39m\n\u001b[0;32m    219\u001b[0m     )\n",
      "\u001b[1;31mValueError\u001b[0m: Unknown label type: continuous. Maybe you are trying to fit a classifier, which expects discrete classes on a regression target with continuous values."
     ]
    }
   ],
   "source": [
    "from sklearn.linear_model import LogisticRegression\n",
    "\n",
    "log_reg = LogisticRegression()\n",
    "log_reg.fit(X, y)"
   ]
  },
  {
   "cell_type": "markdown",
   "id": "3c14b900-950b-4ecc-aa27-7b81daeb54a3",
   "metadata": {},
   "source": [
    "Let's look at the model's estimated probabilities for flowers with petal widths varying from 0 to 3 cm."
   ]
  },
  {
   "cell_type": "code",
   "execution_count": 36,
   "id": "23e30ea0-7d93-48f8-8f2e-df250a08a7a2",
   "metadata": {
    "tags": []
   },
   "outputs": [
    {
     "ename": "AttributeError",
     "evalue": "'LogisticRegression' object has no attribute 'classes_'",
     "output_type": "error",
     "traceback": [
      "\u001b[1;31m---------------------------------------------------------------------------\u001b[0m",
      "\u001b[1;31mAttributeError\u001b[0m                            Traceback (most recent call last)",
      "Cell \u001b[1;32mIn[36], line 2\u001b[0m\n\u001b[0;32m      1\u001b[0m X_new \u001b[38;5;241m=\u001b[39m np\u001b[38;5;241m.\u001b[39mlinspace(\u001b[38;5;241m0\u001b[39m, \u001b[38;5;241m3\u001b[39m, \u001b[38;5;241m1000\u001b[39m)\u001b[38;5;241m.\u001b[39mreshape(\u001b[38;5;241m-\u001b[39m\u001b[38;5;241m1\u001b[39m, \u001b[38;5;241m1\u001b[39m)\n\u001b[1;32m----> 2\u001b[0m y_proba \u001b[38;5;241m=\u001b[39m log_reg\u001b[38;5;241m.\u001b[39mpredict_proba(X_new)\n\u001b[0;32m      3\u001b[0m decision_boundary \u001b[38;5;241m=\u001b[39m X_new[y_proba[:, \u001b[38;5;241m1\u001b[39m] \u001b[38;5;241m>\u001b[39m\u001b[38;5;241m=\u001b[39m \u001b[38;5;241m0.5\u001b[39m][\u001b[38;5;241m0\u001b[39m]\n\u001b[0;32m      5\u001b[0m plt\u001b[38;5;241m.\u001b[39mplot(X_new, y_proba[:, \u001b[38;5;241m1\u001b[39m], \u001b[38;5;124m\"\u001b[39m\u001b[38;5;124mg-\u001b[39m\u001b[38;5;124m\"\u001b[39m, label \u001b[38;5;241m=\u001b[39m \u001b[38;5;124m\"\u001b[39m\u001b[38;5;124mIris-Virginica\u001b[39m\u001b[38;5;124m\"\u001b[39m)\n",
      "File \u001b[1;32m~\\AppData\\Local\\anaconda3\\Lib\\site-packages\\sklearn\\linear_model\\_logistic.py:1378\u001b[0m, in \u001b[0;36mLogisticRegression.predict_proba\u001b[1;34m(self, X)\u001b[0m\n\u001b[0;32m   1348\u001b[0m \u001b[38;5;250m\u001b[39m\u001b[38;5;124;03m\"\"\"\u001b[39;00m\n\u001b[0;32m   1349\u001b[0m \u001b[38;5;124;03mProbability estimates.\u001b[39;00m\n\u001b[0;32m   1350\u001b[0m \n\u001b[1;32m   (...)\u001b[0m\n\u001b[0;32m   1371\u001b[0m \u001b[38;5;124;03m    where classes are ordered as they are in ``self.classes_``.\u001b[39;00m\n\u001b[0;32m   1372\u001b[0m \u001b[38;5;124;03m\"\"\"\u001b[39;00m\n\u001b[0;32m   1373\u001b[0m check_is_fitted(\u001b[38;5;28mself\u001b[39m)\n\u001b[0;32m   1375\u001b[0m ovr \u001b[38;5;241m=\u001b[39m \u001b[38;5;28mself\u001b[39m\u001b[38;5;241m.\u001b[39mmulti_class \u001b[38;5;129;01min\u001b[39;00m [\u001b[38;5;124m\"\u001b[39m\u001b[38;5;124movr\u001b[39m\u001b[38;5;124m\"\u001b[39m, \u001b[38;5;124m\"\u001b[39m\u001b[38;5;124mwarn\u001b[39m\u001b[38;5;124m\"\u001b[39m] \u001b[38;5;129;01mor\u001b[39;00m (\n\u001b[0;32m   1376\u001b[0m     \u001b[38;5;28mself\u001b[39m\u001b[38;5;241m.\u001b[39mmulti_class \u001b[38;5;241m==\u001b[39m \u001b[38;5;124m\"\u001b[39m\u001b[38;5;124mauto\u001b[39m\u001b[38;5;124m\"\u001b[39m\n\u001b[0;32m   1377\u001b[0m     \u001b[38;5;129;01mand\u001b[39;00m (\n\u001b[1;32m-> 1378\u001b[0m         \u001b[38;5;28mself\u001b[39m\u001b[38;5;241m.\u001b[39mclasses_\u001b[38;5;241m.\u001b[39msize \u001b[38;5;241m<\u001b[39m\u001b[38;5;241m=\u001b[39m \u001b[38;5;241m2\u001b[39m\n\u001b[0;32m   1379\u001b[0m         \u001b[38;5;129;01mor\u001b[39;00m \u001b[38;5;28mself\u001b[39m\u001b[38;5;241m.\u001b[39msolver \u001b[38;5;129;01min\u001b[39;00m (\u001b[38;5;124m\"\u001b[39m\u001b[38;5;124mliblinear\u001b[39m\u001b[38;5;124m\"\u001b[39m, \u001b[38;5;124m\"\u001b[39m\u001b[38;5;124mnewton-cholesky\u001b[39m\u001b[38;5;124m\"\u001b[39m)\n\u001b[0;32m   1380\u001b[0m     )\n\u001b[0;32m   1381\u001b[0m )\n\u001b[0;32m   1382\u001b[0m \u001b[38;5;28;01mif\u001b[39;00m ovr:\n\u001b[0;32m   1383\u001b[0m     \u001b[38;5;28;01mreturn\u001b[39;00m \u001b[38;5;28msuper\u001b[39m()\u001b[38;5;241m.\u001b[39m_predict_proba_lr(X)\n",
      "\u001b[1;31mAttributeError\u001b[0m: 'LogisticRegression' object has no attribute 'classes_'"
     ]
    }
   ],
   "source": [
    "X_new = np.linspace(0, 3, 1000).reshape(-1, 1)\n",
    "y_proba = log_reg.predict_proba(X_new)\n",
    "decision_boundary = X_new[y_proba[:, 1] >= 0.5][0]\n",
    "\n",
    "plt.plot(X_new, y_proba[:, 1], \"g-\", label = \"Iris-Virginica\")\n",
    "plt.plot(X_new, y_proba[:, 0], \"b--\", label = \"Not Iris-Virginica\")\n",
    "plt.text(decision_boundary + 0.02, 0.15, \"Decision boundary\", color = \"k\", ha = \"center\")\n",
    "plt.arrow(decision_boundary, 0.08, -0.3, 0, head_width = 0.05, head_length = 0.1, fc = \"b\", ec = \"b\")\n",
    "plt.arrow(decision_boundary, 0.92, 0.3, 0, head_width = 0.05, head_length = 0.1, fc = \"g\", ec = \"g\")\n",
    "plt.xlabel(\"Petal width (cm)\")\n",
    "plt.ylabel(\"Probability\")\n",
    "plt.axis([0, 3, -0.02, 1.02])\n",
    "plt.show()"
   ]
  },
  {
   "cell_type": "markdown",
   "id": "1fe08dde-3c0e-4ecd-b020-5c0c74889371",
   "metadata": {},
   "source": [
    "The petal width of Iris-Virginica flowers (represented by triangles) ranges from 1.4 cm to 2.5 cm, while the other iris flowers (represented by squared) generally have a smaller petal width, ranging from 0.1 cm to 1.8 cm. Notice that there is a bit of overlap. Above about 2 cm, the classifier is highly confident that the flower is an Iris-Virginica (it outputs a high probability to that class), while below 1 cm, it is highly confident that it is not an Iris-Virginica (high probability for the \"Not Iris-Virginica\" class). In between these extremes, the classifier is unsure. However, if you ask it to predict the class (using the `predict()` method rather than the `predict_proba()` method), it will return whichever class is the most likely. Therefore, there is a *decision boundary* at around 1.6 cm where both probabilities are equal to 50%: if the petal width is higher than 1.6 cm, the classifier will predict that the flower is an Iris-Virginica, or else it will predict that it is not (even if it is not very confident):"
   ]
  },
  {
   "cell_type": "code",
   "execution_count": 37,
   "id": "9db07af2-9832-470c-9fb6-ad443aec6dd7",
   "metadata": {
    "tags": []
   },
   "outputs": [
    {
     "ename": "AttributeError",
     "evalue": "'LogisticRegression' object has no attribute 'coef_'",
     "output_type": "error",
     "traceback": [
      "\u001b[1;31m---------------------------------------------------------------------------\u001b[0m",
      "\u001b[1;31mAttributeError\u001b[0m                            Traceback (most recent call last)",
      "Cell \u001b[1;32mIn[37], line 1\u001b[0m\n\u001b[1;32m----> 1\u001b[0m log_reg\u001b[38;5;241m.\u001b[39mpredict([[\u001b[38;5;241m1.7\u001b[39m], [\u001b[38;5;241m1.5\u001b[39m]])\n",
      "File \u001b[1;32m~\\AppData\\Local\\anaconda3\\Lib\\site-packages\\sklearn\\linear_model\\_base.py:451\u001b[0m, in \u001b[0;36mLinearClassifierMixin.predict\u001b[1;34m(self, X)\u001b[0m\n\u001b[0;32m    437\u001b[0m \u001b[38;5;250m\u001b[39m\u001b[38;5;124;03m\"\"\"\u001b[39;00m\n\u001b[0;32m    438\u001b[0m \u001b[38;5;124;03mPredict class labels for samples in X.\u001b[39;00m\n\u001b[0;32m    439\u001b[0m \n\u001b[1;32m   (...)\u001b[0m\n\u001b[0;32m    448\u001b[0m \u001b[38;5;124;03m    Vector containing the class labels for each sample.\u001b[39;00m\n\u001b[0;32m    449\u001b[0m \u001b[38;5;124;03m\"\"\"\u001b[39;00m\n\u001b[0;32m    450\u001b[0m xp, _ \u001b[38;5;241m=\u001b[39m get_namespace(X)\n\u001b[1;32m--> 451\u001b[0m scores \u001b[38;5;241m=\u001b[39m \u001b[38;5;28mself\u001b[39m\u001b[38;5;241m.\u001b[39mdecision_function(X)\n\u001b[0;32m    452\u001b[0m \u001b[38;5;28;01mif\u001b[39;00m \u001b[38;5;28mlen\u001b[39m(scores\u001b[38;5;241m.\u001b[39mshape) \u001b[38;5;241m==\u001b[39m \u001b[38;5;241m1\u001b[39m:\n\u001b[0;32m    453\u001b[0m     indices \u001b[38;5;241m=\u001b[39m xp\u001b[38;5;241m.\u001b[39mastype(scores \u001b[38;5;241m>\u001b[39m \u001b[38;5;241m0\u001b[39m, \u001b[38;5;28mint\u001b[39m)\n",
      "File \u001b[1;32m~\\AppData\\Local\\anaconda3\\Lib\\site-packages\\sklearn\\linear_model\\_base.py:433\u001b[0m, in \u001b[0;36mLinearClassifierMixin.decision_function\u001b[1;34m(self, X)\u001b[0m\n\u001b[0;32m    430\u001b[0m xp, _ \u001b[38;5;241m=\u001b[39m get_namespace(X)\n\u001b[0;32m    432\u001b[0m X \u001b[38;5;241m=\u001b[39m \u001b[38;5;28mself\u001b[39m\u001b[38;5;241m.\u001b[39m_validate_data(X, accept_sparse\u001b[38;5;241m=\u001b[39m\u001b[38;5;124m\"\u001b[39m\u001b[38;5;124mcsr\u001b[39m\u001b[38;5;124m\"\u001b[39m, reset\u001b[38;5;241m=\u001b[39m\u001b[38;5;28;01mFalse\u001b[39;00m)\n\u001b[1;32m--> 433\u001b[0m scores \u001b[38;5;241m=\u001b[39m safe_sparse_dot(X, \u001b[38;5;28mself\u001b[39m\u001b[38;5;241m.\u001b[39mcoef_\u001b[38;5;241m.\u001b[39mT, dense_output\u001b[38;5;241m=\u001b[39m\u001b[38;5;28;01mTrue\u001b[39;00m) \u001b[38;5;241m+\u001b[39m \u001b[38;5;28mself\u001b[39m\u001b[38;5;241m.\u001b[39mintercept_\n\u001b[0;32m    434\u001b[0m \u001b[38;5;28;01mreturn\u001b[39;00m xp\u001b[38;5;241m.\u001b[39mreshape(scores, (\u001b[38;5;241m-\u001b[39m\u001b[38;5;241m1\u001b[39m,)) \u001b[38;5;28;01mif\u001b[39;00m scores\u001b[38;5;241m.\u001b[39mshape[\u001b[38;5;241m1\u001b[39m] \u001b[38;5;241m==\u001b[39m \u001b[38;5;241m1\u001b[39m \u001b[38;5;28;01melse\u001b[39;00m scores\n",
      "\u001b[1;31mAttributeError\u001b[0m: 'LogisticRegression' object has no attribute 'coef_'"
     ]
    }
   ],
   "source": [
    "log_reg.predict([[1.7], [1.5]])"
   ]
  },
  {
   "cell_type": "markdown",
   "id": "71fc0ba0-86a3-4678-96f0-905d8299da2d",
   "metadata": {},
   "source": [
    "<img src = \"Images/Linear Decision Boundary.png\" alt = \"Alternative text\" width = \"500\" style = \"margin:auto\"/>\n",
    "\n",
    "The above figure shows the same dataset but this time displaying two features: petal width & length. Once trained, the logistic regression classifier can estimate the probability that a new flower is an Iris-Virginica based on these two features. The dashed line represents the points where the model estimates a 50% probability: this is the model's decision boundary. Not that it is a linear boundary. Each parallel line represents the points where the model outputs a specific probability, from 15% (bottom left) to 90% (top right). All the flowers beyond the top-right line have an over 90% chance of being Iris-Virginica according to the model.\n",
    "\n",
    "Just like the other linear models, logistic regression models can be regularised using $l_1$ or $l_2$ penalties. Scikit-learn actually adds a $l_2$ penalty by default.\n",
    "\n",
    "## Softmax Regression\n",
    "\n",
    "The logistic regression model can be generalised to support multiple classed directly, without having to train & combine multiple binary classifiers. This is called *softmax regression* or *multinomial logistic regression*.\n",
    "\n",
    "The idea is quite simple: when given an instance $x$, the softmax regression model first computes a score $s_k(x)$ for each class *k*, then estimates the probability of each class by applying the *softmax function* (also called the *normalised exponential*) to the scores. The equation to compute $s_k(x)$ should look familiar, as it is just like the equation for linear regression prediction.\n",
    "\n",
    "$$s_k(x) = x^T\\theta^{(k)}$$\n",
    "\n",
    "Note that each class has its own dedicated parameter vector $\\theta^{(k)}$. All these vectors are typically stored as rows in a *parameter matrix*.\n",
    "\n",
    "Once you have computed the score of every class for the instance $x$, you can estimate the probability $\\hat{p}_k$ that the instance belongs to class *k* by running the scores through the softmax function: it computes the exponential of every score, then normalises them (dividing by the sum of all the exponentials). The scores are generally called logits or log-odds (although they are actually unnormalised log-odds).\n",
    "\n",
    "$$\\hat{p}_k = \\sigma(s(x))_k = \\frac{e^{s_k(x)}}{\\sum^{k}_{j = 1} e^{s_j(x)}}$$\n",
    "\n",
    "* K is the number of classes.\n",
    "* $s(x)$ is a vector containing the scores of each class for the instance $x$.\n",
    "* $\\sigma(s(x))_k$ is the estimated probability that the instance $x$ belongs to class *k* given the scores of each class for that instance.\n",
    "\n",
    "Just like the logistic regression classifier, the softmax regression classifier predicts the class with the highest estimated probability (which is simply the class with the highest score).\n",
    "\n",
    "$$\\hat{y} = argmax\\ \\sigma(s(x))_k = argmax\\ s_k(x) = argmax ((\\theta^{(k)})^Tx)$$\n",
    "\n",
    "* The *argmax* operator returns the value of a variable that maximises a function. In this equation, it returns the value of *k* that maximises the estimated probability $\\sigma(s(x))_k$.\n",
    "\n",
    "The gradient vector of this cost function with regards to $\\theta^{(k)}$ is given:\n",
    "\n",
    "$$\\triangledown_{\\theta^{(k)}}J(\\Theta) = \\frac{1}{m} \\sum^{m}_{i = 1}(\\hat{p}^{(i)}_k - y^{(i)}_k)x^{(i)}$$\n",
    "\n",
    "Now you can compute the gradient vector for eveyr class, then use gradient descent (or any other optimisation algorithm) to find the parameter matrix $\\Theta$ that minimises the cost function.\n",
    "\n",
    "Let's use the softmax regression to classify the iris flowers into all three classes. Scikit-learn's `LogisticRegression` uses one-versus-all by default when you train it on more than two classes, but you can set the `multi-class` hyperparameter to `\"multinomial\"` to switch it to softmax regression instead. You must also specify a solver that supports softmax regression, such as the `\"lbfgs\"` solver. It also applies $l_2$ regularisation by default, which you can control using the hyperparameter `C`."
   ]
  },
  {
   "cell_type": "code",
   "execution_count": 38,
   "id": "2d297d9c-5c9d-42dd-ae9d-720b43857d30",
   "metadata": {
    "tags": []
   },
   "outputs": [
    {
     "data": {
      "text/html": [
       "<style>#sk-container-id-2 {color: black;}#sk-container-id-2 pre{padding: 0;}#sk-container-id-2 div.sk-toggleable {background-color: white;}#sk-container-id-2 label.sk-toggleable__label {cursor: pointer;display: block;width: 100%;margin-bottom: 0;padding: 0.3em;box-sizing: border-box;text-align: center;}#sk-container-id-2 label.sk-toggleable__label-arrow:before {content: \"▸\";float: left;margin-right: 0.25em;color: #696969;}#sk-container-id-2 label.sk-toggleable__label-arrow:hover:before {color: black;}#sk-container-id-2 div.sk-estimator:hover label.sk-toggleable__label-arrow:before {color: black;}#sk-container-id-2 div.sk-toggleable__content {max-height: 0;max-width: 0;overflow: hidden;text-align: left;background-color: #f0f8ff;}#sk-container-id-2 div.sk-toggleable__content pre {margin: 0.2em;color: black;border-radius: 0.25em;background-color: #f0f8ff;}#sk-container-id-2 input.sk-toggleable__control:checked~div.sk-toggleable__content {max-height: 200px;max-width: 100%;overflow: auto;}#sk-container-id-2 input.sk-toggleable__control:checked~label.sk-toggleable__label-arrow:before {content: \"▾\";}#sk-container-id-2 div.sk-estimator input.sk-toggleable__control:checked~label.sk-toggleable__label {background-color: #d4ebff;}#sk-container-id-2 div.sk-label input.sk-toggleable__control:checked~label.sk-toggleable__label {background-color: #d4ebff;}#sk-container-id-2 input.sk-hidden--visually {border: 0;clip: rect(1px 1px 1px 1px);clip: rect(1px, 1px, 1px, 1px);height: 1px;margin: -1px;overflow: hidden;padding: 0;position: absolute;width: 1px;}#sk-container-id-2 div.sk-estimator {font-family: monospace;background-color: #f0f8ff;border: 1px dotted black;border-radius: 0.25em;box-sizing: border-box;margin-bottom: 0.5em;}#sk-container-id-2 div.sk-estimator:hover {background-color: #d4ebff;}#sk-container-id-2 div.sk-parallel-item::after {content: \"\";width: 100%;border-bottom: 1px solid gray;flex-grow: 1;}#sk-container-id-2 div.sk-label:hover label.sk-toggleable__label {background-color: #d4ebff;}#sk-container-id-2 div.sk-serial::before {content: \"\";position: absolute;border-left: 1px solid gray;box-sizing: border-box;top: 0;bottom: 0;left: 50%;z-index: 0;}#sk-container-id-2 div.sk-serial {display: flex;flex-direction: column;align-items: center;background-color: white;padding-right: 0.2em;padding-left: 0.2em;position: relative;}#sk-container-id-2 div.sk-item {position: relative;z-index: 1;}#sk-container-id-2 div.sk-parallel {display: flex;align-items: stretch;justify-content: center;background-color: white;position: relative;}#sk-container-id-2 div.sk-item::before, #sk-container-id-2 div.sk-parallel-item::before {content: \"\";position: absolute;border-left: 1px solid gray;box-sizing: border-box;top: 0;bottom: 0;left: 50%;z-index: -1;}#sk-container-id-2 div.sk-parallel-item {display: flex;flex-direction: column;z-index: 1;position: relative;background-color: white;}#sk-container-id-2 div.sk-parallel-item:first-child::after {align-self: flex-end;width: 50%;}#sk-container-id-2 div.sk-parallel-item:last-child::after {align-self: flex-start;width: 50%;}#sk-container-id-2 div.sk-parallel-item:only-child::after {width: 0;}#sk-container-id-2 div.sk-dashed-wrapped {border: 1px dashed gray;margin: 0 0.4em 0.5em 0.4em;box-sizing: border-box;padding-bottom: 0.4em;background-color: white;}#sk-container-id-2 div.sk-label label {font-family: monospace;font-weight: bold;display: inline-block;line-height: 1.2em;}#sk-container-id-2 div.sk-label-container {text-align: center;}#sk-container-id-2 div.sk-container {/* jupyter's `normalize.less` sets `[hidden] { display: none; }` but bootstrap.min.css set `[hidden] { display: none !important; }` so we also need the `!important` here to be able to override the default hidden behavior on the sphinx rendered scikit-learn.org. See: https://github.com/scikit-learn/scikit-learn/issues/21755 */display: inline-block !important;position: relative;}#sk-container-id-2 div.sk-text-repr-fallback {display: none;}</style><div id=\"sk-container-id-2\" class=\"sk-top-container\"><div class=\"sk-text-repr-fallback\"><pre>LogisticRegression(C=10, multi_class=&#x27;multinomial&#x27;)</pre><b>In a Jupyter environment, please rerun this cell to show the HTML representation or trust the notebook. <br />On GitHub, the HTML representation is unable to render, please try loading this page with nbviewer.org.</b></div><div class=\"sk-container\" hidden><div class=\"sk-item\"><div class=\"sk-estimator sk-toggleable\"><input class=\"sk-toggleable__control sk-hidden--visually\" id=\"sk-estimator-id-2\" type=\"checkbox\" checked><label for=\"sk-estimator-id-2\" class=\"sk-toggleable__label sk-toggleable__label-arrow\">LogisticRegression</label><div class=\"sk-toggleable__content\"><pre>LogisticRegression(C=10, multi_class=&#x27;multinomial&#x27;)</pre></div></div></div></div></div>"
      ],
      "text/plain": [
       "LogisticRegression(C=10, multi_class='multinomial')"
      ]
     },
     "execution_count": 38,
     "metadata": {},
     "output_type": "execute_result"
    }
   ],
   "source": [
    "X = iris[\"data\"][:, (2, 3)]\n",
    "y = iris[\"target\"]\n",
    "\n",
    "softmax_reg = LogisticRegression(multi_class = \"multinomial\", solver = \"lbfgs\", C = 10)\n",
    "softmax_reg.fit(X, y)"
   ]
  },
  {
   "cell_type": "markdown",
   "id": "7d3b7967-a0a6-4e87-ba28-a5cd2716f533",
   "metadata": {},
   "source": [
    "SO the next time you find an iris with 5 cm long & 2 cm wide petals, you can ask your model to tell you what type of iris it is, & it will answer Iris-Virginica (class 2) with 94.2% probability (or Iris-Versicolor with 5.8% probability)."
   ]
  },
  {
   "cell_type": "code",
   "execution_count": 39,
   "id": "bdbb20d9-f9a5-4e28-8821-e4fadc3e6d82",
   "metadata": {
    "tags": []
   },
   "outputs": [
    {
     "data": {
      "text/plain": [
       "array([2])"
      ]
     },
     "execution_count": 39,
     "metadata": {},
     "output_type": "execute_result"
    }
   ],
   "source": [
    "softmax_reg.predict([[5, 2]])"
   ]
  },
  {
   "cell_type": "code",
   "execution_count": 41,
   "id": "d60e7598-d172-4447-be87-1adf3dd82319",
   "metadata": {
    "tags": []
   },
   "outputs": [
    {
     "data": {
      "text/plain": [
       "array([[6.38014896e-07, 5.74929995e-02, 9.42506362e-01]])"
      ]
     },
     "execution_count": 41,
     "metadata": {},
     "output_type": "execute_result"
    }
   ],
   "source": [
    "softmax_reg.predict_proba([[5, 2]])"
   ]
  },
  {
   "cell_type": "markdown",
   "id": "f2db54c5-b22d-41f3-bbb4-6204731ff7b5",
   "metadata": {},
   "source": [
    "<img src = \"Images/Softmax Regression Decision Boundaries.png\" alt = \"Alternative text\" width = \"500\" style = \"margin:auto\"/>\n",
    "\n",
    "The above figure shows the resulting decision boundaries, represented by the background colours. Notice that the decision boundaries between any two classes are linear. The figure also shows the probabilities for the Iris-Versicolor class, represented by the curved lines (e.g., the line labeled with 0.45 represents the 45% probability boundary). Notice that the model can predict a class that has an estimated probability below 50%. For example, at the point where all decision boundaries meet, all classes have an equal estimated probability of 33%."
   ]
  },
  {
   "cell_type": "code",
   "execution_count": null,
   "id": "254e1969-ef29-42a7-8243-43e280b1460d",
   "metadata": {},
   "outputs": [],
   "source": []
  }
 ],
 "metadata": {
  "kernelspec": {
   "display_name": "Python 3 (ipykernel)",
   "language": "python",
   "name": "python3"
  },
  "language_info": {
   "codemirror_mode": {
    "name": "ipython",
    "version": 3
   },
   "file_extension": ".py",
   "mimetype": "text/x-python",
   "name": "python",
   "nbconvert_exporter": "python",
   "pygments_lexer": "ipython3",
   "version": "3.11.5"
  }
 },
 "nbformat": 4,
 "nbformat_minor": 5
}
