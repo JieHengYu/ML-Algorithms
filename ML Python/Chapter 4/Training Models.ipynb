{
 "cells": [
  {
   "cell_type": "markdown",
   "id": "60dd61a1-0b2c-400e-b517-6db07dd2d2b8",
   "metadata": {},
   "source": [
    "# Training Models\n",
    "\n",
    "So far, we have treated machine learning models & their training algorithms mostly like black boxes. If you went through some of previous lessons, you may have been surprised by how much you can get doen without knowing anything about what's under the hood: you optimised a regression system, you improved a digit image classifier, & you even built a spam classifier from scratch -- all this without knowing how they actually work. Indeed, in many situations you don't really need to know the implementation details.\n",
    "\n",
    "However, having a good understanding of how things work can help you quickly home in on an appropriate model, the right training algorithm to use, & a good set of hyperparameters for your task. Understanding what's under the hood will also help you debug issues & perform error analysis more efficiently. Lastly, most of the topics discussed in this lesson will be essential in understanding, building, & training neural networks.\n",
    "\n",
    "In this lesson, we will start by looking at the linear regression model, one of the simplest models there is. We will discuss two very different ways to train it.\n",
    "\n",
    "* Using a direct \"closed-form\" equation that directly computes the model parameters that best fit the model to the training set (i.e., the model parameters that minimise the cost function over the training set).\n",
    "* Using an iterative optimisation approach, called gradient descent (GD), that gradually tweaks the model parameters to minimise the cost function over the training set, eventually converging to the same set of parameters as the first method. We will look at a few variants of gradient descent that we will use again & again when we study neural networks in future lessons: batch GD, mini-batch GD, & stochastic GD.\n",
    "\n",
    "Next, we will look at polynomial regression, a more complex model that can fit nonlinear datasets. Since this model has more parameters than linear regression, it is more prone to overfitting the training data, so we will look at how to detect whether or not this is the case, using learning curves, & then we will look at several regularisation techniques that can reduce the risk of overfitting the training set.\n",
    "\n",
    "Finally, we will look at two more models that are commonly used for classification tasks: logistic regression & softmax regression."
   ]
  },
  {
   "cell_type": "markdown",
   "id": "f5ae887b-5cc9-4102-81b8-616ded7224b2",
   "metadata": {},
   "source": [
    "---"
   ]
  },
  {
   "cell_type": "markdown",
   "id": "cb0cf712-e688-40ed-8f19-a1b8d224faa8",
   "metadata": {},
   "source": [
    "# Linear Regression\n",
    "\n",
    "In chapter 1, we looked at a simple regression model of life satisfaction: $life\\_satisfaction = \\theta_0 + \\theta_1 * GDP\\_per\\_capita$.\n",
    "\n",
    "This model is just a linear function of the input feature `GDP_per_capita`. $\\theta_0$ & $\\theta_1$ are the model's parameters.\n",
    "\n",
    "More generally, a linear model makes a prediction by simply computing a weighted sum of the input features, plus a constant called the *bias term* (also called the *intercept term*).\n",
    "\n",
    "$$\\hat{y} = \\theta_0 + \\theta_1x_1 + \\theta_2x_2 + ... + \\theta_nx_n$$\n",
    "\n",
    "* $\\hat{y}$ is the predicted value.\n",
    "* $n$ is the number of features.\n",
    "* $x_i$ is the $i^{th}$ feature value.\n",
    "* $\\theta_j$ is the $j^{th}$ model parameter (including the bias term $\\theta_0$ & the feature weights $\\theta_1$, $\\theta_2$, ..., $\\theta_n$).\n",
    "\n",
    "This can be written much more concisely using a vectorised form.\n",
    "\n",
    "$$\\hat{y} = h_{\\theta}(x) = \\theta * x$$\n",
    "\n",
    "* $\\theta$ is the model's *parameter vector*, containing the bias term $\\theta_0$ & the feature weights $\\theta_1$ to $\\theta_n$.\n",
    "* $x$ is the instance's *feature vector*, containing $x_0$ to $x_n$, with $x_0$ always equal to 1.\n",
    "* $\\theta * x$ is the dot product of the vectors $\\theta$ & $x$, which is of course equal to $\\theta_0x_0 + \\theta_1x_1 + \\theta_2x_2 + ... + \\theta_nx_n$.\n",
    "* $h_{\\theta}$ is the hypothesis function, using the model paramters $\\theta$.\n",
    "\n",
    "Okay, that's the linear regression model, so now how do we train it? Well, recall that training a model means setting its parameters so that the model best fits the training set. For this purpose, we first need a measure of how well (or poorly) the model fits the training data. In chapter 2, we saw that the most common performance measure of a regression model is the root mean square error (RMSE). Therefore, to train a linear regression model, you need to find the value of $\\theta$ that minimises the RMSE. In practice, it is simpler to minimise the mean square error (MSE) & it leads to the same result (because the value that minimises a function also minimises it square root).\n",
    "\n",
    "The MSE of a linear regression hypothesis $h_{\\theta}$ on a training set X is calculated:\n",
    "\n",
    "$$MSE(X, h_{\\theta}) = \\frac{1}{m}\\sum_{i = 1}^{m}(\\theta^{T}x^{(i)} - y^{(i)})^2$$\n",
    "\n",
    "Most of these notations were presented in chapter 2. The only difference is that we write $h_\\theta$ instead of just *h* in order to make it clear that the model is parametrised by the vector $\\theta$. To simplify notations, we will just write MSE($\\theta$) instead of MSE (X, $h_{\\theta}$).\n",
    "\n",
    "## The Normal Equation\n",
    "\n",
    "To find the value of $\\theta$ that minimises the cost function,there is a *closed form solution* -- in other words, a mathematical equation that gives the result directly. This is called the *normal equation*.\n",
    "\n",
    "$$\\hat{\\theta} = (X^{T}X)^{-1}X^{T}y$$\n",
    "\n",
    "* $\\hat{\\theta}$ is the value of $\\theta$ that minimises the cost function.\n",
    "* $y$ is the vector of target values containing $y^{1}$ to $y^{m}$.\n",
    "\n",
    "Let's generate some linear-looking data to test this equation."
   ]
  },
  {
   "cell_type": "code",
   "execution_count": 3,
   "id": "a6bbe07f-52ca-4c4c-bdee-b93c0d552b92",
   "metadata": {},
   "outputs": [
    {
     "data": {
      "image/png": "[encoded data removed]",
      "text/plain": [
       "<Figure size 432x288 with 1 Axes>"
      ]
     },
     "metadata": {
      "needs_background": "light"
     },
     "output_type": "display_data"
    }
   ],
   "source": [
    "import numpy as np\n",
    "import matplotlib.pyplot as plt\n",
    "\n",
    "X = 2 * np.random.rand(100, 1)\n",
    "y = 4 + 3 * X + np.random.randn(100, 1)\n",
    "\n",
    "plt.plot(X, y, \"bo\", markersize = 3)\n",
    "plt.xlabel(\"X\")\n",
    "plt.ylabel(\"y\")\n",
    "plt.show()"
   ]
  },
  {
   "cell_type": "markdown",
   "id": "d8294417-95ec-4e47-a9cb-8d4b8d4e16b7",
   "metadata": {},
   "source": [
    "Now let's compute $\\hat{\\theta}$ using the normal equation. We will use the `inv()` function from numpy's linear algebra module (`np.linalg`) to compute the inverse of a matrix, & the `dot()` method for matrix multiplication."
   ]
  },
  {
   "cell_type": "code",
   "execution_count": 4,
   "id": "cad072a9-bee4-4ac6-b2fb-afb1f98d07db",
   "metadata": {},
   "outputs": [],
   "source": [
    "X_b = np.c_[np.ones((100, 1)), X]\n",
    "theta_best = np.linalg.inv(X_b.T.dot(X_b)).dot(X_b.T).dot(y)"
   ]
  },
  {
   "cell_type": "markdown",
   "id": "f0a55633-df85-4e32-93ba-61959d26b73e",
   "metadata": {},
   "source": [
    "The actual function we used to generate the data is $y = 4 + 3x + Gaussian\\ noise$. Let's see what the equation found."
   ]
  },
  {
   "cell_type": "code",
   "execution_count": 5,
   "id": "bf22a937-6ab1-434a-ad85-089517f35eaa",
   "metadata": {},
   "outputs": [
    {
     "data": {
      "text/plain": [
       "array([[3.87430487],\n",
       "       [2.89301228]])"
      ]
     },
     "execution_count": 5,
     "metadata": {},
     "output_type": "execute_result"
    }
   ],
   "source": [
    "theta_best"
   ]
  },
  {
   "cell_type": "markdown",
   "id": "5dc6bb71-f98e-4fb5-895c-20977944936e",
   "metadata": {},
   "source": [
    "We would have hoped for $\\theta_0$ = 4 & $\\theta_1$ = 3. Close enough though, but the noise made it impossible to recover the exact parameters of the original function.\n",
    "\n",
    "Now you can make predictions using $\\hat{\\theta}$:"
   ]
  },
  {
   "cell_type": "code",
   "execution_count": 6,
   "id": "9ba6088b-a536-44b9-9c61-eac331c3da5e",
   "metadata": {},
   "outputs": [
    {
     "data": {
      "text/plain": [
       "array([[3.87430487],\n",
       "       [9.66032943]])"
      ]
     },
     "execution_count": 6,
     "metadata": {},
     "output_type": "execute_result"
    }
   ],
   "source": [
    "X_new = np.array([[0], [2]])\n",
    "X_new_b = np.c_[np.ones((2, 1)), X_new]\n",
    "y_predict = X_new_b.dot(theta_best)\n",
    "y_predict"
   ]
  },
  {
   "cell_type": "markdown",
   "id": "6495e3d8-1637-47b8-989f-812c1a5e598f",
   "metadata": {},
   "source": [
    "Let's plot this model's prediction."
   ]
  },
  {
   "cell_type": "code",
   "execution_count": 7,
   "id": "2728add1-8244-4dcf-a7a2-44b611c9162e",
   "metadata": {},
   "outputs": [
    {
     "data": {
      "image/png": "[encoded data removed]",
      "text/plain": [
       "<Figure size 432x288 with 1 Axes>"
      ]
     },
     "metadata": {
      "needs_background": "light"
     },
     "output_type": "display_data"
    }
   ],
   "source": [
    "plt.plot(X_new, y_predict, \"r-\")\n",
    "plt.legend([\"Predictions\"], loc = \"upper left\")\n",
    "plt.plot(X, y, \"bo\", markersize = 3)\n",
    "plt.axis([0, 2, 0, 15])\n",
    "plt.show()"
   ]
  },
  {
   "cell_type": "markdown",
   "id": "848fcfd6-f0dd-467e-93fd-b5d7e4ece123",
   "metadata": {},
   "source": [
    "Performing linear regression using scikit-learn is quite simple."
   ]
  },
  {
   "cell_type": "code",
   "execution_count": 8,
   "id": "a2de3848-8a5d-43fe-94af-615b31933b3a",
   "metadata": {},
   "outputs": [
    {
     "data": {
      "text/plain": [
       "(array([3.87430487]), array([[2.89301228]]))"
      ]
     },
     "execution_count": 8,
     "metadata": {},
     "output_type": "execute_result"
    }
   ],
   "source": [
    "from sklearn.linear_model import LinearRegression\n",
    "\n",
    "lin_reg = LinearRegression()\n",
    "lin_reg.fit(X, y)\n",
    "lin_reg.intercept_, lin_reg.coef_"
   ]
  },
  {
   "cell_type": "code",
   "execution_count": 9,
   "id": "f5aa7259-7261-4cb1-bab9-c61caf33a4d3",
   "metadata": {},
   "outputs": [
    {
     "data": {
      "text/plain": [
       "array([[3.87430487],\n",
       "       [9.66032943]])"
      ]
     },
     "execution_count": 9,
     "metadata": {},
     "output_type": "execute_result"
    }
   ],
   "source": [
    "lin_reg.predict(X_new)"
   ]
  },
  {
   "cell_type": "markdown",
   "id": "b274c5be-be0a-45d2-9b92-25229919b7d2",
   "metadata": {},
   "source": [
    "The `LinearRegression` class is based on the `scipy.linalg.lstsq()` function (the name stands for \"least squares\"), which you can call directly:"
   ]
  },
  {
   "cell_type": "code",
   "execution_count": 10,
   "id": "93ab3cdd-ba0e-4c31-82cb-e26c1f522714",
   "metadata": {},
   "outputs": [
    {
     "data": {
      "text/plain": [
       "array([[3.87430487],\n",
       "       [2.89301228]])"
      ]
     },
     "execution_count": 10,
     "metadata": {},
     "output_type": "execute_result"
    }
   ],
   "source": [
    "theta_best_svd, residuals, rank, s = np.linalg.lstsq(X_b, y, rcond = 1e-6)\n",
    "theta_best_svd"
   ]
  },
  {
   "cell_type": "markdown",
   "id": "c3efac86-8663-4a4f-bbeb-ea48aea6862d",
   "metadata": {},
   "source": [
    "This function computes $\\hat{\\theta} = X^{+}y$, where $X^{+}$ is the *pseudoinverse* of $X$ (specifically the Moore-Penrose inverse). You can use `np.linalg.pinv()` to compute the pseudoinverse directly."
   ]
  },
  {
   "cell_type": "code",
   "execution_count": 11,
   "id": "6411849c-b5bc-47c2-983b-314f5953280c",
   "metadata": {},
   "outputs": [
    {
     "data": {
      "text/plain": [
       "array([[3.87430487],\n",
       "       [2.89301228]])"
      ]
     },
     "execution_count": 11,
     "metadata": {},
     "output_type": "execute_result"
    }
   ],
   "source": [
    "np.linalg.pinv(X_b).dot(y)"
   ]
  },
  {
   "cell_type": "markdown",
   "id": "0dad348d-70e1-4b54-91d7-837d68221c76",
   "metadata": {},
   "source": [
    "The pseudoinverse itself is computed using a standard matrix factorisation technique called *Singular Value Decomposition* (SVD) that can decompose the training set matrix $X$ into the matrix multiplication of three matrices $U$ $\\sum$ $V^{T}$. The pseudo inverse is computed as $X^{+} = V\\sum^{+}U^{T}$. To compute the matrix $\\sum^{+}$, the algorithm takes $\\sum$ & sets to zero all values smaller than a tiny threshold value, then it replaces all the non-zero values with their inverse,& finally it transposes the resulting matrix. This approach is more efficient than computing the normal equation, plus it handles edge cases nicely: indeed, the normal equation may not work if the matrix $X^{T}X$ is not invertible(i.e., singular), such as *m* < *n* or if some features are redundant, but the pseudoinverse is always defined.\n",
    "\n",
    "## Computational Complexity\n",
    "\n",
    "The normal equation computes the inverse of $X^{T}X$, which is an $(n + 1)(n + 1)$ matrix (where *n* is the number of features). The *computational complexity* of inverting such a matrix is typically about $O(n^{2.4})$ to $O(n^3)$ (depending on the implementation). In other words, if you double the number of features, you multiply the computation time by roughly $2^{2.4} = 5.3$ to $2^3 = 8$.\n",
    "\n",
    "The SVD approach used by scikit-learn's `LinearRegression` class is about $O(n^2)$. If you double the number of features, you multiply the computation time by roughly 4.\n",
    "\n",
    "Also, once you have trained your linear regression model (using the normal equation or any other algorithm), predictions are very fast: the computational complexity is linear with regards to both the number of instances you want to make predictions on & the number of features. In other words, making predictions on twice as many instances (or twice as many features) will just take roughly twice as much time.\n",
    "\n",
    "Now we will look at very different ways to train a linear regression model, better suited for cases where there are a large number of features, or too many training instances to fit in memory."
   ]
  },
  {
   "cell_type": "markdown",
   "id": "23407670-485b-4b94-af7f-4d2a6f6a2075",
   "metadata": {},
   "source": [
    "---"
   ]
  },
  {
   "cell_type": "markdown",
   "id": "de86670a-d57c-485e-87d7-cb6bdf91f0b4",
   "metadata": {},
   "source": [
    "# Gradient Descent\n",
    "\n",
    "*Gradient Descent* is a very generic optimisation algorithm capable of finding optimal solutions to a wide range of problems. The general idea of gradient descent is to tweak parameters iteratively in order to minimise a cost function.\n",
    "\n",
    "Supose you are lost in the mountains in a dense fog; you can only feel the slope of the ground below your feet. A good strategy to get to the bottom of the valley quickly is to go downhill in the direction of the steepest slope. This is exactly what gradient does; it measures the local gradient of the error function with regards to the parameter vector $\\theta$, & it goes in the direction of descending gradient. Once the gradient is zero, you have reached a minimum!\n",
    "\n",
    "Concretely, you start bu filling $\\theta$ with random values (this is called *random initialisation), & then you improve it gradually, taking one, baby step at a time, each step attempting to decrease the cost function (e.g., the MSE), until the algorithm *converges* to a minimum.\n",
    "\n",
    "<img src = \"Images/Gradient Descent.png\" alt = \"Alternative text\" width = \"500\" style = \"margin:auto\"/>\n",
    "\n",
    "An important parameter in gradient descent is the size of the steps, determined by the *learning rate* hyperparameter. If the learning rate is too small, then the algorithm will have to go through many iterations to converge, which will take a long time.\n",
    "\n",
    "<img src = \"Images/Learning Rate.png\" alt = \"Alternative text\" width = \"500\" style = \"margin:auto\"/>\n",
    "\n",
    "On the other hand, if the learning rate is too high, you might jump across the valley & end up on the other side, possibly even higher up than before. This might make the algorithm diverge, with larger & larger values, failling to find a good solution.\n",
    "\n",
    "<img src = \"Images/Learning Rate 1.png\" alt = \"Alternative text\" width = \"500\" style = \"margin:auto\"/>\n",
    "\n",
    "Finally, not all cost functions look like nice regular bowls. There may be holes, ridges, plateaus, & all sorts of irregular terrains, making convergence to the minimum very difficult. The below figure shows the two main challenges with gradient descent: if he random initialisation starts the algorithm on the left, then it will converge to a *local minimum*, which is not a good as the *global minimum*. If it starts on the right, then it will tak a very. long time to cross the plateau, & if you stop too early you will never reach the global minimum.\n",
    "\n",
    "<img src = \"Images/Gradient Descent Pitfalls.png\" alt = \"Alternative text\" width = \"500\" style = \"margin:auto\"/>\n",
    "\n",
    "Fortunately, the MSE cost function for a linear regression model happens to be a *convex function*,which means that if you pick any two points on the curve, the line segment joining them never crosses the curve. This implies that there are no local minima, just one global minimum. It is also a continuous function with a slope that never changes abruptly. These two facts have great consequence: gradient descent is guaranteed to approach arbitrarily close to the global minimum (if you wait long enough & if the learning rate is not too high).\n",
    "\n",
    "In fact, the cost function has the shape of a bowl, but it can be an elongated bowl if the features have very different scales. The below figure shows gradient descent on a training set where features 1 & 2 have the same scale (on the left), & on a training set where feature 1 has much smaller values than feature 2 (on the right).\n",
    "\n",
    "<img src = \"Images/Gradient Descent 1.png\" alt = \"Alternative text\" width = \"500\" style = \"margin:auto\"/>\n",
    "\n",
    "As you can see, on the left, the gradient descent algorithm goes straight toward the minimum, thereby reaching it quickly, whereas on the right, it first goes in a direction almost orthogonal to the direction of the global minimum,& it ends with a long march down an almost flat valley. It will eventually reach the minimum, but it will take a long time.\n",
    "\n",
    "This diagram also iilustrates the fact that training a model means searching for a combination of model parameters that minimises a cost function (over the training set). It is a search in the mode's *parameter space*: the more parameters a model has, the more dimensions htis space has,& the harder the search is: searching for a needle in a 300-dimensional haystack is much trickier than in three dimensions. Fortunately, since the cost function is convex in the case of linear regression, the needle is simply at the bottom of the bowl.\n",
    "\n",
    "## Batch Gradient Descent\n",
    "\n",
    "To implement gradient descent, you need to compute the gradient of the cost function with regards to each model paramter $\\theta_j$. In other words, you need to claculate how much the cost function will change if you change $\\theta_j$ just a little bit. This is called a *partial derivative*. It is like asking \"what is the slope of the mountain under my feet if I face east?\" * then asking the same question facing north (& so on for the rest of the other dimensions, if you can imagine a universe with more than three dimensions). The below function computes the partial derivative of the cost function with regards to parameter $\\theta_j$, noted $\\frac{\\partial}{\\partial\\theta_j}MSE(\\theta)$.\n",
    "\n",
    "$$\\frac{\\partial}{\\partial\\theta_j}MSE(\\theta) = \\frac{2}{m} \\sum^{m}_{i = 1}(\\theta^{T}x^{(i)} - y^{(i)})x^{(i)}_j$$\n",
    "\n",
    "Instead of computing these partial derivatives individually, you can use the below function to compute them all in one go. The gradient vector, noted $\\triangledown_{\\theta}MSE(\\theta)$, contains all the partial derivatives of the cost function (one for each model parameter).\n",
    "\n",
    "$$\\triangledown_{\\theta}MSE(\\theta) = ({\\frac{\\partial}{\\partial\\theta_0} MSE(\\theta)}, {\\frac{\\partial}{\\partial\\theta_1} MSE(\\theta)}, {...}, {\\frac{\\partial}{\\partial\\theta_n} MSE(\\theta)}) = \\frac{2}{m}X^T(X\\theta - y)$$\n",
    "\n",
    "One you have the gradient vector, which points uphill, just go in the opposite direction to go downhill. This means subtracting $\\triangledown_{\\theta} MSE(\\theta)$ from $\\theta$. This is where the learning rate $\\eta$ comes into play: multiple the gradient vector by $\\eta$ to determine the size of the downhill step.\n",
    "\n",
    "$$\\theta^{(next\\ step)} = \\theta - \\eta\\triangledown_{\\theta}MSE(\\theta)$$\n",
    "\n",
    "Let's look at a quick implementation of this algorithm."
   ]
  },
  {
   "cell_type": "code",
   "execution_count": 12,
   "id": "1beae470-82b9-4124-93ac-55f27a6a1d99",
   "metadata": {},
   "outputs": [],
   "source": [
    "eta = 0.1\n",
    "n_iterations = 1000\n",
    "m = 100\n",
    "\n",
    "theta = np.random.randn(2, 1)\n",
    "\n",
    "for iteration in range(n_iterations):\n",
    "    gradients = 2/m * X_b.T.dot(X_b.dot(theta) - y)\n",
    "    theta = theta - eta * gradients"
   ]
  },
  {
   "cell_type": "markdown",
   "id": "aad5521f-4379-4153-8536-ab5cdaceca28",
   "metadata": {},
   "source": [
    "That wasn't too hard! Sure was hard to understand though. Let's look at the resulting `theta`."
   ]
  },
  {
   "cell_type": "code",
   "execution_count": 13,
   "id": "ddf4bf3e-e0f6-4cc4-9896-8372a99755ae",
   "metadata": {},
   "outputs": [
    {
     "data": {
      "text/plain": [
       "array([[3.87430487],\n",
       "       [2.89301228]])"
      ]
     },
     "execution_count": 13,
     "metadata": {},
     "output_type": "execute_result"
    }
   ],
   "source": [
    "theta"
   ]
  },
  {
   "cell_type": "markdown",
   "id": "73074b26-f970-4a98-9f6d-6a265d58a973",
   "metadata": {},
   "source": [
    "Hey! That's exactly what the normal equation found! Gradient descent worked perfectly. But what if we had used a different learning rate `eta`?. The below figure shows the first 10 steps of gradient descent using three different learning rates (the dashed line represents the starting point).\n",
    "\n",
    "<img src = \"Images/Gradient Descent with Different Learning Rates.png\" alt = \"Alternative text\" width = \"500\" style = \"margin:auto\"/>\n",
    "\n",
    "On the left, the learning rate is too low: the algorithm will eventually reach the solution, but it will take a long time. In the middle, the learning rate looks pretty good: in just a few iterations, it has already converged to the solution. On the right, the learning rate is too high: the algorithm diverges, jumping all over the place & actually getting further & further away from the solution at every step.\n",
    "\n",
    "To find a good learning rate, you can use grid search. However, you may want to limit the number of iterations so that grid search can eliminate models that take too long to converge.\n",
    "\n",
    "You may wonder how to set the number of iterations. If it is too low, you will still be far away from the optimal solution when algorithm stops, but if it is too high, you will waste time while the model parameters do not change anymore. A simple solution is to set a very large number of iterations but to interrup the algorithm when the gradient vector becomes tiny -- that is, when its norm becomes smaller than a tiny number $\\epsilon$ (called the *tolerance*) -- because this happens when the gradient descent has (almost) reached the minimum).\n",
    "\n",
    "## Stochastic Gradient Descent\n",
    "\n",
    "The main problem with batch gradient descent is the fact that it uses the whole training set to compute the gradients at every step, which makes it very slow when the training set is large.At the opposite extreme, *stochastic gradient descent* just picks a random instance in the training set at every step & computes the gradients based only on that single instance. Obviously, this makes the algorithm much faster since it has very little data to manipulate at every iteration. It also makes it possible to train on huge training sets, since only one instance needs to be in memory at each iteration (SGD can be implemented as an out-of-core algorithm).\n",
    "\n",
    "One the other hand, due to its stochastic (i.e., random) nature, this algorithm is much less regular than batch gradient descent: instead of gently decreasing until it reaches the minimum, the cost function will bounce up & down, decreasing only on average. Over time, it will end up very close to the minimum, but once it gets there it will continue to bounce around, never settling down. So once the algorithm stops, the final parameter values are good, but not optimal.\n",
    "\n",
    "<img src = \"Images/Stochastic Gradient Descent.png\" alt = \"Alternative text\" width = \"500\" style = \"margin:auto\"/>\n",
    "\n",
    "When the cost function is very irregular, this can actually help the algorithm jump out of local minima, so stochastic gradient descent has a chance of finding the global minimum than batch gradient descent does. \n",
    "\n",
    "Therefore randomness is good to escape from local optima, but bad because it means that the algorithm can never settle at the minimum. One solution to this dilemma is to gradually reduce the learning rate. The steps start out large (which helps make quick progress & escape local minima), then get smaller & smaller, allowing the algorithm to settle at the global minimum. This process is akin to *simulated annealing*, an algorithm inspired from the process of annealing in metallurgy where molten meta is slowly cooled down. The function that determines the learning rate at each iteration is called the *learning schedule*. If the learning rate is reduced too quickly, you may get stuck in a local minimum, or even end up frozen halfway to the minimum. If the learning rate is reduced too slowly, you may jump around the minimum for a long time & end up with a suboptimal solution if you halt training too early.\n",
    "\n",
    "The following code implements stochastic gradient descent using a simple learning schedule."
   ]
  },
  {
   "cell_type": "code",
   "execution_count": 14,
   "id": "7896f1ff-f2f2-48fc-8a34-9e0368cfb8db",
   "metadata": {},
   "outputs": [],
   "source": [
    "n_epochs = 50\n",
    "t0, t1 = 5, 50\n",
    "\n",
    "def learning_schedule(t):\n",
    "    return t0 / (t + t1)\n",
    "\n",
    "theta = np.random.randn(2, 1)\n",
    "\n",
    "for epoch in range (n_epochs):\n",
    "    for i in range(m):\n",
    "        random_index = np.random.randint(m)\n",
    "        xi = X_b[random_index:random_index + 1]\n",
    "        yi = y[random_index:random_index + 1]\n",
    "        gradients = 2 * xi.T.dot(xi.dot(theta) - yi)\n",
    "        eta = learning_schedule(epoch * m + i)\n",
    "        theta = theta - eta * gradients"
   ]
  },
  {
   "cell_type": "markdown",
   "id": "01669a57-b421-464d-94e4-9e139d51e9c9",
   "metadata": {},
   "source": [
    "By convention, we iterate by rounds of *m* iterations; each round is called an *epoch*. While the batch gradient descent code iterated 1,000 times through the whole training set, this code goes through the training set only 50 times & reaches a fairly good solution."
   ]
  },
  {
   "cell_type": "code",
   "execution_count": 15,
   "id": "85ef9bcd-0ec2-4853-a38d-8881203a0741",
   "metadata": {},
   "outputs": [
    {
     "data": {
      "text/plain": [
       "array([[3.87897977],\n",
       "       [2.83797611]])"
      ]
     },
     "execution_count": 15,
     "metadata": {},
     "output_type": "execute_result"
    }
   ],
   "source": [
    "theta"
   ]
  },
  {
   "cell_type": "markdown",
   "id": "3d3d846a-6ae0-40e7-98a2-0f3999ce07be",
   "metadata": {},
   "source": [
    "The following figure shows the first 20 steps of traianing (notice how irregular the steps are).\n",
    "\n",
    "<img src = \"Images/Stochastic Gradient Descent 1.png\" alt = \"Alternative text\" width = \"500\" style = \"margin:auto\"/>\n",
    "\n",
    "Note that since instances are picked randomly, some instances may be picked severaltimes per epoch while others may not be picked at all. If you want to be sure that the algorithm goes through every instance at each epoch, another approach is to shuffle the training set (making sure to shuffle the input features & the labels jointly), then go through it instance by instance, then shuffle it again, & so on. However, this generally converges more slowly.\n",
    "\n",
    "To perform linear regression using SGD with scikit-learn, you can use the `SGDRegressor` class, which defaults to optimising the squared error cost function. The following code runs for maximum 1000 epochs (`max_iter = 1000`) or until the loss drops by less than 1e-3 during one epoch (`tol = 1e-3`), starting with a learning rate of 0.1 (`eta0 = 0.1`), using the default learning schedule (different from the preceding one), & it does not use any regularisation (`penalty = None`)."
   ]
  },
  {
   "cell_type": "code",
   "execution_count": 16,
   "id": "8c4c221a-66cd-405d-b18c-a2dd04f1d7c4",
   "metadata": {},
   "outputs": [
    {
     "data": {
      "text/plain": [
       "SGDRegressor(eta0=0.1, penalty=None)"
      ]
     },
     "execution_count": 16,
     "metadata": {},
     "output_type": "execute_result"
    }
   ],
   "source": [
    "from sklearn.linear_model import SGDRegressor\n",
    "\n",
    "sgd_reg = SGDRegressor(max_iter = 1000, tol = 1e-3, penalty = None, eta0 = 0.1)\n",
    "sgd_reg.fit(X, y.ravel())"
   ]
  },
  {
   "cell_type": "markdown",
   "id": "63e4c2b8-9ab2-4db7-850d-e2cafa8291ab",
   "metadata": {},
   "source": [
    "Once again, you find a solution quite close to the one retured by the noraml equation."
   ]
  },
  {
   "cell_type": "code",
   "execution_count": 17,
   "id": "f6ddad94-c32d-4942-b24c-2dd202768d34",
   "metadata": {},
   "outputs": [
    {
     "data": {
      "text/plain": [
       "(array([3.82132988]), array([2.89895043]))"
      ]
     },
     "execution_count": 17,
     "metadata": {},
     "output_type": "execute_result"
    }
   ],
   "source": [
    "sgd_reg.intercept_, sgd_reg.coef_"
   ]
  },
  {
   "cell_type": "markdown",
   "id": "7b7bc053-ffa8-4f1f-8a3d-ba9ec3f75c28",
   "metadata": {},
   "source": [
    "## Mini-batch Gradient Descent\n",
    "\n",
    "The last gradient descent algorithm we will look at is called *mini-batch gradient descent*. It is quite simple to understand once you know batch & stochastic gradient descent: at each step, instead of computing the gradients based on the full training set (as in batch GD) or based on just one instance (as in stochastic GD), mini-batch GD computes the gradients on small random subsets of instances called *mini-batches*. The main advantage of mini-batch GD over stochastic GD is that you can get a performance boost from hardware optimisation of matrix operations, especially when using GPUs.\n",
    "\n",
    "The algorithm's progress in parameter space is less erratic than with SGD, especially with fairly large mini-batches. As a result, mini-batch GD will end up walking around a bit closer to the minimum than SGD. But, on the other hand, it may be harder for it to escpae from local minima (in the case of problems that suffer from local minima, unlike linear regression as we saw earlier). The below figure shows the paths taken by the three gradient descent algorithms in parameter space during training. They all end up near the minimum, but batch GD's path actually stops at the minimum, while both stochastic GD & mini-batch GD continue to walk around. However, don't forget that batch GD takes a lot of time to take each step, & stochastic GD & mini-batch GD would also reach the minimum if you used a good learning schedule.\n",
    "\n",
    "<img src = \"Images/Compare Gradient Descent.png\" alt = \"Alternative text\" width = \"500\" style = \"margin:auto\"/>\n",
    "\n",
    "Let's compare the algorithm we've discussed so far for linear regression (recall that *m* is the number of training instances & *n* is the number of features)."
   ]
  },
  {
   "cell_type": "code",
   "execution_count": 18,
   "id": "4a7700e9-a0a4-4325-b5f2-da111010e0a5",
   "metadata": {},
   "outputs": [
    {
     "data": {
      "text/html": [
       "<div>\n",
       "<style scoped>\n",
       "    .dataframe tbody tr th:only-of-type {\n",
       "        vertical-align: middle;\n",
       "    }\n",
       "\n",
       "    .dataframe tbody tr th {\n",
       "        vertical-align: top;\n",
       "    }\n",
       "\n",
       "    .dataframe thead th {\n",
       "        text-align: right;\n",
       "    }\n",
       "</style>\n",
       "<table border=\"1\" class=\"dataframe\">\n",
       "  <thead>\n",
       "    <tr style=\"text-align: right;\">\n",
       "      <th></th>\n",
       "      <th>Algorithm</th>\n",
       "      <th>Large m</th>\n",
       "      <th>Out-of-Core Support</th>\n",
       "      <th>Large n</th>\n",
       "      <th>Hyperparams</th>\n",
       "      <th>Scaling Required</th>\n",
       "      <th>Scikit-Learn</th>\n",
       "    </tr>\n",
       "  </thead>\n",
       "  <tbody>\n",
       "    <tr>\n",
       "      <th>0</th>\n",
       "      <td>Normal Equation</td>\n",
       "      <td>Fast</td>\n",
       "      <td>N</td>\n",
       "      <td>Slow</td>\n",
       "      <td>0</td>\n",
       "      <td>N</td>\n",
       "      <td>n/a</td>\n",
       "    </tr>\n",
       "    <tr>\n",
       "      <th>1</th>\n",
       "      <td>SVD</td>\n",
       "      <td>Fast</td>\n",
       "      <td>N</td>\n",
       "      <td>Slow</td>\n",
       "      <td>0</td>\n",
       "      <td>N</td>\n",
       "      <td>LinearRegression</td>\n",
       "    </tr>\n",
       "    <tr>\n",
       "      <th>2</th>\n",
       "      <td>Batch GD</td>\n",
       "      <td>Slow</td>\n",
       "      <td>N</td>\n",
       "      <td>Fast</td>\n",
       "      <td>2</td>\n",
       "      <td>Y</td>\n",
       "      <td>SGDRegressor</td>\n",
       "    </tr>\n",
       "    <tr>\n",
       "      <th>3</th>\n",
       "      <td>Stochastic GD</td>\n",
       "      <td>Fast</td>\n",
       "      <td>Y</td>\n",
       "      <td>Fast</td>\n",
       "      <td>&gt;= 2</td>\n",
       "      <td>Y</td>\n",
       "      <td>SGDRegressor</td>\n",
       "    </tr>\n",
       "    <tr>\n",
       "      <th>4</th>\n",
       "      <td>Mini-batch GD</td>\n",
       "      <td>Fast</td>\n",
       "      <td>Y</td>\n",
       "      <td>Fast</td>\n",
       "      <td>&gt;= 2</td>\n",
       "      <td>Y</td>\n",
       "      <td>SGDRegressor</td>\n",
       "    </tr>\n",
       "  </tbody>\n",
       "</table>\n",
       "</div>"
      ],
      "text/plain": [
       "         Algorithm Large m Out-of-Core Support Large n Hyperparams  \\\n",
       "0  Normal Equation    Fast                   N    Slow           0   \n",
       "1              SVD    Fast                   N    Slow           0   \n",
       "2         Batch GD    Slow                   N    Fast           2   \n",
       "3    Stochastic GD    Fast                   Y    Fast        >= 2   \n",
       "4    Mini-batch GD    Fast                   Y    Fast        >= 2   \n",
       "\n",
       "  Scaling Required      Scikit-Learn  \n",
       "0                N               n/a  \n",
       "1                N  LinearRegression  \n",
       "2                Y      SGDRegressor  \n",
       "3                Y      SGDRegressor  \n",
       "4                Y      SGDRegressor  "
      ]
     },
     "execution_count": 18,
     "metadata": {},
     "output_type": "execute_result"
    }
   ],
   "source": [
    "import pandas as pd\n",
    "\n",
    "algo_comp = {\"Algorithm\":[\"Normal Equation\", \"SVD\", \"Batch GD\", \"Stochastic GD\", \"Mini-batch GD\"],\n",
    "             \"Large m\": [\"Fast\", \"Fast\", \"Slow\", \"Fast\", \"Fast\"],\n",
    "             \"Out-of-Core Support\": [\"N\", \"N\", \"N\", \"Y\", \"Y\"],\n",
    "             \"Large n\": [\"Slow\", \"Slow\", \"Fast\", \"Fast\", \"Fast\"],\n",
    "             \"Hyperparams\": [\"0\", \"0\", \"2\", \">= 2\", \">= 2\"],\n",
    "             \"Scaling Required\": [\"N\", \"N\", \"Y\", \"Y\", \"Y\"],\n",
    "             \"Scikit-Learn\": [\"n/a\", \"LinearRegression\", \"SGDRegressor\", \"SGDRegressor\", \"SGDRegressor\"]}\n",
    "pd.DataFrame(algo_comp)"
   ]
  },
  {
   "cell_type": "markdown",
   "id": "aaecc5c2-a787-4090-80d8-d8ba299b93f2",
   "metadata": {},
   "source": [
    "---"
   ]
  },
  {
   "cell_type": "markdown",
   "id": "e715e24f-eb41-4e43-9d2b-5c4e34bb34a2",
   "metadata": {},
   "source": [
    "# Polynomial Regression\n",
    "\n",
    "What if your data is actually more complex than a simple straight line. Surprisingly, you can actually use a linear model to fit nonlinear data. A simple way to do this is to add powers to each feature as new features, then train a linear model on this extended set of features. This technique is called *polynomial regression*.\n",
    "\n",
    "Let's look at an example. First, let's generate some nonlinear data, based on a simple *quadratic equation* (plus some noise)."
   ]
  },
  {
   "cell_type": "code",
   "execution_count": 19,
   "id": "cdcb50c0-7c84-417b-a00a-11191c71578e",
   "metadata": {},
   "outputs": [
    {
     "data": {
      "image/png": "[encoded data removed]",
      "text/plain": [
       "<Figure size 432x288 with 1 Axes>"
      ]
     },
     "metadata": {
      "needs_background": "light"
     },
     "output_type": "display_data"
    }
   ],
   "source": [
    "m = 100\n",
    "X = 6 * np.random.rand(m, 1) - 3\n",
    "y = 0.5 * X**2 + X + 2 + np.random.randn(m, 1)\n",
    "\n",
    "plt.plot(X, y, \"bo\", markersize = 3)\n",
    "plt.xlabel(\"X\")\n",
    "plt.ylabel(\"y\")\n",
    "plt.show()"
   ]
  },
  {
   "cell_type": "markdown",
   "id": "5d0d3f22-988e-412a-9473-7be7d007ef56",
   "metadata": {},
   "source": [
    "Clearly, a straight line will never fit this data properly. So let's use scikit-learn's `PolynomialFeatures` class to transform our training data, adding the square ($2^{nd}$-degree polynomial) of each feature in the training set as new features (in this case, there is just one feature)."
   ]
  },
  {
   "cell_type": "code",
   "execution_count": 20,
   "id": "b2364448-ed38-4864-8591-310133162822",
   "metadata": {},
   "outputs": [
    {
     "data": {
      "text/plain": [
       "array([-2.16885673])"
      ]
     },
     "execution_count": 20,
     "metadata": {},
     "output_type": "execute_result"
    }
   ],
   "source": [
    "from sklearn.preprocessing import PolynomialFeatures\n",
    "\n",
    "poly_features = PolynomialFeatures(degree = 2, include_bias = False)\n",
    "X_poly = poly_features.fit_transform(X)\n",
    "X[0]"
   ]
  },
  {
   "cell_type": "code",
   "execution_count": 21,
   "id": "b242abe5-41f9-48b4-91d9-72a0e45b69f0",
   "metadata": {},
   "outputs": [
    {
     "data": {
      "text/plain": [
       "array([-2.16885673,  4.7039395 ])"
      ]
     },
     "execution_count": 21,
     "metadata": {},
     "output_type": "execute_result"
    }
   ],
   "source": [
    "X_poly[0]"
   ]
  },
  {
   "cell_type": "markdown",
   "id": "2907c8cb-1520-4b30-80fc-23f0cad5d7d0",
   "metadata": {},
   "source": [
    "`X_poly` now contains the original feature of X plus the square this feature. Now you can fit a `LinearRegression` model to this extended training data."
   ]
  },
  {
   "cell_type": "code",
   "execution_count": 22,
   "id": "21996a6a-6477-4307-bcaf-233fee97e308",
   "metadata": {},
   "outputs": [
    {
     "data": {
      "text/plain": [
       "(array([2.26861198]), array([[1.02506256, 0.44406127]]))"
      ]
     },
     "execution_count": 22,
     "metadata": {},
     "output_type": "execute_result"
    }
   ],
   "source": [
    "lin_reg = LinearRegression()\n",
    "lin_reg.fit(X_poly, y)\n",
    "lin_reg.intercept_, lin_reg.coef_"
   ]
  },
  {
   "cell_type": "code",
   "execution_count": 23,
   "id": "45032fbd-92db-4a23-87b8-38fd62adda92",
   "metadata": {},
   "outputs": [
    {
     "data": {
      "image/png": "[encoded data removed]",
      "text/plain": [
       "<Figure size 432x288 with 1 Axes>"
      ]
     },
     "metadata": {
      "needs_background": "light"
     },
     "output_type": "display_data"
    }
   ],
   "source": [
    "X_new = np.linspace(-3, 3, 100).reshape(100, 1)\n",
    "X_new_poly = poly_features.transform(X_new)\n",
    "y_new = lin_reg.predict(X_new_poly)\n",
    "\n",
    "plt.plot(X, y, \"bo\", markersize = 3)\n",
    "plt.plot(X_new, y_new, \"r-\", linewidth = 2, label = \"Predictions\")\n",
    "plt.xlabel(\"X\")\n",
    "plt.ylabel(\"y\")\n",
    "plt.legend(loc = \"upper left\")\n",
    "plt.axis([-3, 3, 0, 10])\n",
    "plt.show()"
   ]
  },
  {
   "cell_type": "markdown",
   "id": "18122cab-8e81-4068-a6c9-7ce77e1d5d91",
   "metadata": {},
   "source": [
    "Not bad. The model estimates $\\hat{y} = 0.48x^2 + 0.93x + 1.78$ when in fact the original function was $y = 0.5x^2 + x + 2 + Gaussian\\ noise$."
   ]
  },
  {
   "cell_type": "markdown",
   "id": "d64a3b14-a74d-4920-a7ff-ed1df96621f0",
   "metadata": {},
   "source": [
    "Note that when there are multiple features, polynomial regression is capable of finding relationships between features (which is something a plain linear regression model cannot do). This is made possible by the fact that `PolynomialFeatures` also adds all combinations of features up to the given degree. For example, if there were two features *a* & *b*, `PolynomialFeatures` with `degree = 3` would not only add the features $a^2$, $a^3$, $b^2$ & $b^3$, but also the combinations $ab$, $a^2b$, & $ab^2$."
   ]
  },
  {
   "cell_type": "markdown",
   "id": "f4737c6c-c4dc-4693-a598-7b3cb51dc7c4",
   "metadata": {},
   "source": [
    "---"
   ]
  },
  {
   "cell_type": "markdown",
   "id": "e450b1ca-1dfd-426b-b635-22deba0bb5bf",
   "metadata": {},
   "source": [
    "# Learning Curves\n",
    "\n",
    "If you perform high-degree polynomial regression, you will likely fit the training data much better than with plain linear regression; for example, if we apply a 300-degree polynomial model to the preceding training data, & compare the result with a pure linear model & a quadratic model (2nd-degree polynomial). Notice how the 300-degree polynomial wiggles around to get as close as possible to the training instances.\n",
    "\n",
    "<img src = \"Images/Polynomial Regression.png\" alt = \"Alternative text\" width = \"500\" style = \"margin:auto\"/>\n",
    "\n",
    "Of course, this high-degree polynomial regression model is severely overfitting the training data, while the linear model is underfitting it. The model that will generalise best in this case is the quadratic model. It makes sense since the data was generated using a quadratic model, but in general, you won't know what function generated the data, so how can you decide how complex your model should be? How can you tell that your model is overfitting or underfitting the data?\n",
    "\n",
    "In chapter 2, you used cross-validation to get an estimate of a model's generalisation performance. If a model performs well on the training data but generalises poorly according to the cross-validation metrics, when your model is overfitting. If it performs poorly on both, then it is underfitting. This is one way to tell when a model is too simple or too complex.\n",
    "\n",
    "Another way is to look at the *learning curves*: these are plots of the model's performance on the training set & the validation set as a function of the training set size (or the training iteration). To generate the plots, simply train the model several times on different sized subsets of the training set. The following code defines a function that plots the learning curves of a model given some training data."
   ]
  },
  {
   "cell_type": "code",
   "execution_count": 24,
   "id": "f9a87d23-c0bb-41b4-b661-839628a008fc",
   "metadata": {},
   "outputs": [],
   "source": [
    "from sklearn.metrics import mean_squared_error\n",
    "from sklearn.model_selection import train_test_split\n",
    "\n",
    "def plot_learning_curves(model, X, y):\n",
    "    X_train, X_val, y_train, y_val = train_test_split(X, y, test_size = 0.2)\n",
    "    train_errors, val_errors = [], []\n",
    "    for m in range(1, len(X_train)):\n",
    "        model.fit(X_train[:m], y_train[:m])\n",
    "        y_train_predict = model.predict(X_train[:m])\n",
    "        y_val_predict = model.predict(X_val)\n",
    "        train_errors.append(mean_squared_error(y_train[:m], y_train_predict))\n",
    "        val_errors.append(mean_squared_error(y_val, y_val_predict))\n",
    "    plt.plot(np.sqrt(train_errors), \"r-+\", linewidth = 2, label = \"train\")\n",
    "    plt.plot(np.sqrt(val_errors), \"b-\", linewidth = 3, label = \"val\")"
   ]
  },
  {
   "cell_type": "markdown",
   "id": "334a2784-195c-4e8a-9701-f72e891b2544",
   "metadata": {},
   "source": [
    "Let's look at the learning curves of the plain linear regression model."
   ]
  },
  {
   "cell_type": "code",
   "execution_count": 35,
   "id": "a7a3855e-e017-41f6-a53b-39c4dea3bc40",
   "metadata": {},
   "outputs": [
    {
     "data": {
      "image/png": "[encoded data removed]",
      "text/plain": [
       "<Figure size 432x288 with 1 Axes>"
      ]
     },
     "metadata": {
      "needs_background": "light"
     },
     "output_type": "display_data"
    }
   ],
   "source": [
    "lin_reg = LinearRegression()\n",
    "plot_learning_curves(lin_reg, X, y)\n",
    "plt.axis([0, 80, 0, 3])\n",
    "plt.show()"
   ]
  },
  {
   "cell_type": "markdown",
   "id": "14817e88-90f4-42ec-aed1-432276d818f1",
   "metadata": {},
   "source": [
    "This deserves a bit of explanation. First, let's look at the performance on the training data: when there are just one or two instances in the training set, the model can fit them perfectly, which is why the curve starts at zero. But as new instances are added to the training set, it becomes impossible for the model to fit the training data perfectly, both because the data is noisy & because it is not linear at all. So the error on the training data goes up until it reaches a plateau, at which point adding new instances to the training set doesn't make the average error much better or worse. Now let's look at the performance of the model on the validation data. When the model is trained on very few training instances, it is incapable of generalising properly, which isi why the validation error is initially quite big. Then as the model is shown more training examples,it learns & thus the validation error slowly goes down. However, once again a straight line cannot do a good job modeling the data, so the error ends up at a plateau, very close to the other curve.\n",
    "\n",
    "These learning curves are typical of an underfitting model. Both curves have reached a plateau; they are close & fairly high.\n",
    "\n",
    "Now let's look at the learning curves of a 10th-degree polynomial model on the same data."
   ]
  },
  {
   "cell_type": "code",
   "execution_count": 39,
   "id": "a82216e7-ee64-4f17-be41-988fe39edee5",
   "metadata": {},
   "outputs": [
    {
     "data": {
      "image/png": "[encoded data removed]",
      "text/plain": [
       "<Figure size 432x288 with 1 Axes>"
      ]
     },
     "metadata": {
      "needs_background": "light"
     },
     "output_type": "display_data"
    }
   ],
   "source": [
    "from sklearn.pipeline import Pipeline\n",
    "\n",
    "polynomial_regression = Pipeline([(\"poly_features\", PolynomialFeatures(degree = 10, include_bias = False)), \n",
    "                                  (\"lin_reg\", LinearRegression())])\n",
    "plot_learning_curves(polynomial_regression, X, y)\n",
    "plt.axis([0, 80, 0, 3])\n",
    "plt.show()"
   ]
  },
  {
   "cell_type": "markdown",
   "id": "bfa9550c-221a-467b-bf0a-0dad158aa829",
   "metadata": {},
   "source": [
    "These learning curves look a bit like the previous ones, but there are two very important difference:\n",
    "\n",
    "* The error on the training data is much lower than with the linear regression model.\n",
    "* There is a gap between the curves. This means that the model performs significantly better on the training data than on the validation data, which is the hallmark of an overfitting model. However, if you used a much larger training set, the two curves would continue to get closer."
   ]
  },
  {
   "cell_type": "markdown",
   "id": "f7dcce1e-d442-41a9-8de1-0bd435f0552c",
   "metadata": {},
   "source": [
    "---"
   ]
  },
  {
   "cell_type": "markdown",
   "id": "9e097d36-8b7a-45f0-941c-cf4f5b784100",
   "metadata": {},
   "source": [
    "# Regularised Linear Models\n",
    "\n",
    "As we saw in previous chapters, a good way to reduce overfitting is to regularise the model (i.e., to constrain it): the fewer degrees of freedom it has, the harder it will be for it to overfit the data. For example, a simple way to regularise a polynomial model is to reduce the number of polynomial degrees.\n",
    "\n",
    "For a linear model, regularisation is typically achieved by constraining the weights of the model. We will now look at ridge regression, lasso regression, & elastic net, which implement three different ways to constrain the weights.\n",
    "\n",
    "## Ridge Regression\n",
    "\n",
    "*Ridge regression* is a regularised version of linear regression: a *regularisation term* equal to $\\alpha\\sum^{n}_{i = 1}\\theta^2_i$ is added to the cost function. This forces the linear algorithm to not only fit the data but also keep the model weights as small as possible. Note that the regularisation term should only be added to the cost function during training. Once the model is trained, you want to evaluate the model's performance using the unregularised performance measure.\n",
    "\n",
    "The hyperparameter $\\alpha$ controls how much you want to regularise the model. If $\\alpha$ = 0, then ridge regression is just linear regression. If $\\alpha$ is very alrge, then all weights end up very close to zero & the result is a flat line going through the data's mean. Here is the ridge regression cost function.\n",
    "\n",
    "$$J(\\theta) = MSE(\\theta) + \\alpha\\frac{1}{2}\\sum^{n}_{i = 1}\\theta^2_i$$"
   ]
  },
  {
   "cell_type": "markdown",
   "id": "369fc8c8-b666-4cfe-95a6-363ce9643972",
   "metadata": {},
   "source": [
    "Note that the bias term $\\theta_0$ is not regularised (the sum starts at i = 1, not 0). If we define $w$ as the vector of feature weights ($\\theta_1$ to $\\theta_n$), then the regularisation term is simply equal to $\\frac{1}{2}(||w||_2)^2$ where $||w||_2$ represents the $l_2$ norm of the weight vector. For gradient descent, just add $\\alpha w$ to the MSE gradient vector.\n",
    "\n",
    "<img src = \"Images/Ridge Regression.png\" alt = \"Alternative text\" width = \"500\" style = \"margin:auto\"/>\n",
    "\n",
    "The above figure shows several ridge regression models trained on some linear data using different $\\alpha$ values. One the left, plain ridge models are used, leading to linear predictions. On the right, the data is first expanded using `PolynomialFeatures(degree = 10`, then it is scaled using a `StandardScaler`, & final the ridge models are applied to the resulting features: this is polynomial regression with ridge regularisation. Note how increasing $\\alpha$ leads to a flatter (i.e., less extreme, more reasonable) preddctions; this reduces the model's variance but increases its bias.\n",
    "\n",
    "As with linear regression, we can perform ridge regression either by computing a closed-form equation or by performing gradient descent. The pros & cons are the same. The following function shows the closed-form solution (where $A$ is the $(n + 1)(n + 1)$ *identity matrix* except with a 0 in the top-left cell, corresponding to the bias term).\n",
    "\n",
    "$$\\hat{\\theta} = (X^TX + \\alpha A)^{-1}X^Ty$$\n",
    "\n",
    "Here is how to perform ridge regression with scikit-learn using a closed-form solution."
   ]
  },
  {
   "cell_type": "code",
   "execution_count": 40,
   "id": "73eb8fd5-ac49-4729-8f80-f7945cd0cdb4",
   "metadata": {},
   "outputs": [
    {
     "data": {
      "text/plain": [
       "array([[5.03588653]])"
      ]
     },
     "execution_count": 40,
     "metadata": {},
     "output_type": "execute_result"
    }
   ],
   "source": [
    "from sklearn.linear_model import Ridge\n",
    "\n",
    "ridge_reg = Ridge(alpha = 1, solver = \"cholesky\")\n",
    "ridge_reg.fit(X, y)\n",
    "ridge_reg.predict([[1.5]])"
   ]
  },
  {
   "cell_type": "markdown",
   "id": "fd917cff-db77-44a0-9314-86df744d51fd",
   "metadata": {},
   "source": [
    "& using stochastic gradient descent."
   ]
  },
  {
   "cell_type": "code",
   "execution_count": 41,
   "id": "4fa82ed2-2f2e-4894-96af-678c79fe1544",
   "metadata": {},
   "outputs": [
    {
     "data": {
      "text/plain": [
       "array([4.99917001])"
      ]
     },
     "execution_count": 41,
     "metadata": {},
     "output_type": "execute_result"
    }
   ],
   "source": [
    "sgd_reg = SGDRegressor(penalty = \"l2\")\n",
    "sgd_reg.fit(X, y.ravel())\n",
    "sgd_reg.predict([[1.5]])"
   ]
  },
  {
   "cell_type": "markdown",
   "id": "48c7a797-15e1-4b1f-af54-df6d5874fb01",
   "metadata": {},
   "source": [
    "The `penalty` hyperparameter sets the type of regularisation term to use. Specifying \"`l2`\" indicates that you want SGD to add a regularisation term to the cost function equal to half the square of the $l_2$ norm of the weight vector: this is simply ridge regression.\n",
    "\n",
    "## Lasso Regression\n",
    "\n",
    "*Least Absolute Shrinkage & Selection Operation Regression* (simply called *Lasso regression*) is another regularisation version of linear regression: just like ridge regression, it adds a regularisation term to the cost function, but it used the $l_1$ norm of the weight vector instead of half the square of teh $l_2$ norm.\n",
    "\n",
    "$$J(\\theta) = MSE(\\theta) + \\alpha\\sum^{n}_{i = 1}|\\theta_i|$$"
   ]
  },
  {
   "cell_type": "markdown",
   "id": "c1779dd9-2667-4411-bfa7-0aaa2d984eb4",
   "metadata": {},
   "source": [
    "The below figure shows several lasso regression models trained on some linear data using different $\\alpha$ values.\n",
    "\n",
    "<img src = \"Images/Lasso Regression.png\" alt = \"Alternative text\" width = \"500\" style = \"margin:auto\"/>\n",
    "\n",
    "An important characteristic of Lasso regression is that it tends to completely eliminates the weights of the least important features (i.e, set them to zero). For example, the dashed line in the right plot (with $\\alpha = 10^{-7}$) looks quadratic, almost linear: all the weights for the high-degree polynomial features are equal to zero. In other words, Lasso regression automatically performs feature selection & outputs a *sparse model* (i.e., with few nonzero feature weights).\n",
    "\n",
    "<img src = \"Images/Lasso vs Ridge Regression.png\" alt = \"Alternative text\" width = \"500\" style = \"margin:auto\"/>\n",
    "\n",
    "You can get a sense of why this is the case. one the top-left plot, the background contours (ellipses) represent an unregularised MSE cost function ($\\alpha$ = 0), & the white circles show the batch gradient descent path with that cost function. The foreground contours (diamonds) represent the $l_1$ penalty, & the triange shows the BGD path for this penalty only ($\\alpha \\rightarrow \\infty$). Notice how the path first reaches $\\theta_1$ = 0, then rolls down the gutter until it reacher $\\theta_2$ = 0. On the top-right plot, the contours represent the same cost function plus an $l_1$ penalty with $\\alpha$ = 0.5. The global minimum is on the $\\theta_2$ = 0 axis. BGD first reaches $\\theta_2$ = 0, then rolls down the gutter until it reaches the global minimum. The two bottom plots show the same thing but uses an $l_2$ penalty instead. The regularised minimum is closer to $\\theta$ = 0 than the unregularised minimum, but the weights do not get fully eliminated.\n",
    "\n",
    "The Lasso cost function is not differentiable at $\\theta_i$ = 0 (for i = 1, 2, ..., n), but gradient descent still works fine if you use a *subgradient vector* $g$ instead whenany $\\theta_i$ = 0. Below shows a subgradient vector equation you can use for gradient descent with the Lasso cost function.\n",
    "\n",
    "$$g(\\theta, J) = \\triangledown_{\\theta}MSE(\\theta) + \\alpha()$$"
   ]
  },
  {
   "cell_type": "code",
   "execution_count": null,
   "id": "6131778f-551c-4369-8e80-61172bf8dd95",
   "metadata": {},
   "outputs": [],
   "source": []
  }
 ],
 "metadata": {
  "kernelspec": {
   "display_name": "Python 3 (ipykernel)",
   "language": "python",
   "name": "python3"
  },
  "language_info": {
   "codemirror_mode": {
    "name": "ipython",
    "version": 3
   },
   "file_extension": ".py",
   "mimetype": "text/x-python",
   "name": "python",
   "nbconvert_exporter": "python",
   "pygments_lexer": "ipython3",
   "version": "3.9.7"
  }
 },
 "nbformat": 4,
 "nbformat_minor": 5
}
