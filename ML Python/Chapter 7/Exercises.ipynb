{
 "cells": [
  {
   "cell_type": "markdown",
   "id": "5cd4135f-f7a7-4208-ba17-552449fb1158",
   "metadata": {},
   "source": [
    "# Exercises\n",
    "\n",
    "1. If you have trained 5 different on the exact same training data, & they all achieve 95% precision, is there any chance that you can combine these models to get better results? If so, how? If not, why?\n",
    "2. What is the difference between hard & soft voting classifiers?\n",
    "3. Is it possible to speed up training of a baggin ensemble by distributing it across multiple servers? What about pasting ensembles, boosting ensembles, random forests, or stacking ensembles?\n",
    "4. What is the benefit of out-of-bag evaluation?\n",
    "5. What makes extra-trees more random than regular random forests? How can this extra randomness help? Are extra-trees slower or faster than regular random forests?\n",
    "6. If your AdaBoost ensemble underfits the training data, which hyperparameters should you tweak & how?\n",
    "7. If your gradient boosting ensemble overfits the training set, should you increase or decrease the learning rate?\n",
    "8. Load the MNIST data, & split it into a training set, a validation set, & a test set (e.g., use 50,000 instances for training, 10,000 for validation, & 10,000 for testing). Then train various classifiers, such as a random forest classifier, an extra-trees classifier, & a SVM classifier. Next, try to combine them into an ensemble that outperforms each individual classifier on the validation set, using soft or hard voting. Once you have found one, try it on the test set. How much better does it perform compared to the individual classifiers?\n",
    "9. Run the individual classifers from the previous exercise to make predictions on the validation set, & create a new training set with the resulting predictions: each training instance is a vector containing the set of predictions from all your classifiers for an image, & the target is the image's class. Train a classifier on this new training set. Congratualtions, you have just trained a blender, & together with the classifiers it forms a stacking ensemble! Now evaluate the ensemble on the test set. For each image in the test set, make predictions with all your classifiers, then feed the predictions to the blender to get the ensemble's predictions. how does it compare to the voting classifier you trained earlier?"
   ]
  },
  {
   "cell_type": "markdown",
   "id": "a6f3b557-213b-4729-861e-00fb04dfe437",
   "metadata": {},
   "source": [
    "---"
   ]
  },
  {
   "cell_type": "code",
   "execution_count": null,
   "id": "689ccf65-21d2-48d9-bb48-deac4d90664b",
   "metadata": {},
   "outputs": [],
   "source": []
  }
 ],
 "metadata": {
  "kernelspec": {
   "display_name": "Python 3 (ipykernel)",
   "language": "python",
   "name": "python3"
  },
  "language_info": {
   "codemirror_mode": {
    "name": "ipython",
    "version": 3
   },
   "file_extension": ".py",
   "mimetype": "text/x-python",
   "name": "python",
   "nbconvert_exporter": "python",
   "pygments_lexer": "ipython3",
   "version": "3.9.7"
  }
 },
 "nbformat": 4,
 "nbformat_minor": 5
}
