{
 "cells": [
  {
   "cell_type": "markdown",
   "id": "703d7d32-1b6d-413f-b9c0-f8cfa1c42993",
   "metadata": {},
   "source": [
    "# Ensemble Learning & Random Forests\n",
    "\n",
    "Suppose you pose a complex question to thousands of random people, then aggregate their answers. In many cases, you will find that this aggregated answer is better than an expert's answer. This is called the *wisdom of the crowd*. Similarly, if you aggregate the predictions of a group of predictors (such as classifiers or regressors), you will often get better predictions than with the best individual predictor. A group of predictors is called an *ensemble*; thus, this technique is called *ensemble learning*, & an ensemble learning algorithm is called an *ensemble method*.\n",
    "\n",
    "As an example of an ensemble method, you can train a group of decision tree classifiers, each on a different random subset of the training set. To make predictions, you obtain the predictions of all the individual trees, then predict the class that gets the most votes. Such an ensemble of decision trees is called a *random forest*, & despite its simplicity, it is one of the most powerful machine learning algorithms available today.\n",
    "\n",
    "As discussed before, you will often use ensemble methods near the end of a project, once you have already built a few good predictors, to combine them into an even better predictor. In fact, the winning solutions in machine learning competitions often involve several ensemble methods.\n",
    "\n",
    "In this lesson, we will discuss the most popular ensemble methods, including *bagging*, *boosting*, & *stacking*. We will also explore random forests."
   ]
  },
  {
   "cell_type": "markdown",
   "id": "32cc02bd-4729-4f90-8267-e3f7563b3723",
   "metadata": {},
   "source": [
    "---"
   ]
  },
  {
   "cell_type": "markdown",
   "id": "9116ab51-9d28-428e-8a5f-89bc89707b1c",
   "metadata": {},
   "source": [
    "# Voting Classifiers\n",
    "\n",
    "Suppose you have trained a few classifiers, each on achieving about 80% accuracy. You may have a logistic regression classifier, an SVM classifier, a random forest classifier, a K-nearest neighbors classifier, & perhaps a few more.\n",
    "\n",
    "<img src = \"Images/Diverse Classifiers.png\" width = \"450\" style = \"margin:auto\"/>\n",
    "\n",
    "A very simple way to create an even better classifier is to aggregate the predictions of each classifier & predict the class that gets the most votes. This majority-vote classifier is called a *hard-voting* classifier.\n",
    "\n",
    "<img src = \"Images/Hard Voting Classifier.png\" width = \"450\" style = \"margin:auto\"/>\n",
    "\n",
    "Somewhat surprisingly, this voting classifier often achieves a higher accuracy than the best classifier in the ensemble. In fact, even if each classifier is a *weak learner* (meaning it does only slightly better than random guessing), the ensemble can still be a *strong learner* (achieving high accuracy), provided there are a sufficient number of weak learners & they are sufficiently diverse.\n",
    "\n",
    "How is this possible? The following analogy can help shed some light on this mystery. Suppose you have a slightly biased coin that has 51% chance of comming up heads & 49% chance of coming up tails. If you toss it 1,000 times, you will generally get more or less 510 heads & 490 tails, & hence a majority of heads. If you do the math, you will find that the probability of obtaining a majority of heads after 1,000 tosses is close to 75%. The more you toss the coin, the higher the probability (e.g., the probability climbs over 97%). This is due to the *law of large numbers*: as you keep tossing the coin, the ratio of heads gets closer & closer to the probability of heads (51%). The below figure shows 10 series of biased coin tosses. You can see that as the number of tosses increases, the ratio of heads approaches 51%. Eventually all 10 series end up so close to 51% that they are consistently above 50%.\n",
    "\n",
    "<img src = \"Images/Law of Large Numbers.png\" width = \"500\" style = \"margin:auto\"/>\n",
    "\n",
    "Similarly, suppose you build an ensemble containing 1,000 classifiers that are individually correct only 51% of the time (barely better than random guessing). If you predict the majority voted class, you can hope for up to 75% accuracy! However, this is only true if all classifiers are perfectly independent, making uncorrelated errors, which is clearly not the case because they are trained on the same data. They are likely to make the same errors, so there will be many majority votes for the wrong class, reducing the ensemble's accuracy.\n",
    "\n",
    "The following code creates & trains a voting classifier in scikit-learn, composed of three diverse classifiers (the training set is the moons dataset)."
   ]
  },
  {
   "cell_type": "code",
   "execution_count": 14,
   "id": "c3c0eb1d-a307-45b2-af93-93e98d3798dd",
   "metadata": {},
   "outputs": [
    {
     "data": {
      "text/plain": [
       "VotingClassifier(estimators=[('lr', LogisticRegression()),\n",
       "                             ('rf', RandomForestClassifier()), ('svc', SVC())])"
      ]
     },
     "execution_count": 14,
     "metadata": {},
     "output_type": "execute_result"
    }
   ],
   "source": [
    "from sklearn.ensemble import RandomForestClassifier\n",
    "from sklearn.ensemble import VotingClassifier\n",
    "from sklearn.linear_model import LogisticRegression\n",
    "from sklearn.svm import SVC\n",
    "from sklearn.model_selection import train_test_split\n",
    "from sklearn.datasets import make_moons\n",
    "\n",
    "X, y = make_moons(n_samples = 500, noise = 0.30, random_state = 42)\n",
    "X_train, X_test, y_train, y_test = train_test_split(X, y, random_state =42)\n",
    "\n",
    "log_classifier = LogisticRegression()\n",
    "forest_classifier = RandomForestClassifier()\n",
    "svm_classifier = SVC()\n",
    "voting_classifier = VotingClassifier(estimators = [(\"lr\", log_classifier),\n",
    "                                                   (\"rf\", forest_classifier),\n",
    "                                                   (\"svc\", svm_classifier)],\n",
    "                                    voting = \"hard\")\n",
    "voting_classifier.fit(X_train, y_train)"
   ]
  },
  {
   "cell_type": "markdown",
   "id": "c5a14cd6-2b71-4f50-9d66-e0d0c8275488",
   "metadata": {},
   "source": [
    "Let's look at each classifier's accuracy on the test set."
   ]
  },
  {
   "cell_type": "code",
   "execution_count": 15,
   "id": "9d56808d-5f7e-46d7-8167-3148e34e9e48",
   "metadata": {},
   "outputs": [
    {
     "name": "stdout",
     "output_type": "stream",
     "text": [
      "LogisticRegression 0.864\n",
      "RandomForestClassifier 0.88\n",
      "SVC 0.896\n",
      "VotingClassifier 0.912\n"
     ]
    }
   ],
   "source": [
    "from sklearn.metrics import accuracy_score\n",
    "\n",
    "for classifier in (log_classifier, forest_classifier, svm_classifier, voting_classifier):\n",
    "    classifier.fit(X_train, y_train)\n",
    "    y_pred = classifier.predict(X_test)\n",
    "    print(classifier.__class__.__name__, accuracy_score(y_test, y_pred))"
   ]
  },
  {
   "cell_type": "markdown",
   "id": "003f3542-0eb8-4071-be7d-94f2ce77a096",
   "metadata": {},
   "source": [
    "There you have it! The voting classifier slightly outperforms all the individual classifiers.\n",
    "\n",
    "If all classifiers are able to estimate class probabilities (i.e., they all have a `predict_proba()` method), then you can tell scikit-learn to predict the class with the highest class probability, averaged over all the individual classifiers. This is called *soft voting*. It often achieves higher performance than hard voting because it gives more weight to highly confident votes. All you need to do it replace `voting = \"hard\"` with `voting = \"soft\"` & ensure that all classifiers can estimate class probabilities. This is not the case for the `SVC` class by default, so you need to set its `probability` hyperparameter to `True` (this will make the `SVC` class use cross-validation to estimate class probabilities, slow down training, & it will add a `predict_proba()` method). If you modify the preceding code to use soft voting, you will find that the voting classifier achieves even higher accuracy."
   ]
  },
  {
   "cell_type": "code",
   "execution_count": 16,
   "id": "fcb04f82-1c8e-491f-9022-105630b0eff6",
   "metadata": {},
   "outputs": [
    {
     "data": {
      "text/plain": [
       "VotingClassifier(estimators=[('lr', LogisticRegression()),\n",
       "                             ('rf', RandomForestClassifier()),\n",
       "                             ('svc', SVC(probability=True))],\n",
       "                 voting='soft')"
      ]
     },
     "execution_count": 16,
     "metadata": {},
     "output_type": "execute_result"
    }
   ],
   "source": [
    "log_classifier = LogisticRegression()\n",
    "forest_classifier = RandomForestClassifier()\n",
    "svm_classifier = SVC(probability = True)\n",
    "\n",
    "voting_classifier = VotingClassifier(estimators = [(\"lr\", log_classifier),\n",
    "                                                   (\"rf\", forest_classifier), \n",
    "                                                   (\"svc\", svm_classifier)],\n",
    "                                    voting = \"soft\")\n",
    "voting_classifier.fit(X_train, y_train)"
   ]
  },
  {
   "cell_type": "code",
   "execution_count": 17,
   "id": "73dd06ff-29ba-4160-aedb-fce310304f18",
   "metadata": {},
   "outputs": [
    {
     "name": "stdout",
     "output_type": "stream",
     "text": [
      "LogisticRegression 0.864\n",
      "RandomForestClassifier 0.896\n",
      "SVC 0.896\n",
      "VotingClassifier 0.912\n"
     ]
    }
   ],
   "source": [
    "for classifier in (log_classifier, forest_classifier, svm_classifier, voting_classifier):\n",
    "    classifier.fit(X_train, y_train)\n",
    "    y_pred = classifier.predict(X_test)\n",
    "    print(classifier.__class__.__name__, accuracy_score(y_test, y_pred))"
   ]
  },
  {
   "cell_type": "markdown",
   "id": "8cfee87b-7482-4d8b-a623-eef12483c75a",
   "metadata": {},
   "source": [
    "---"
   ]
  },
  {
   "cell_type": "markdown",
   "id": "20607778-fb67-4fd9-bd14-c63500c9400e",
   "metadata": {},
   "source": [
    "# Bagging & Pasting\n",
    "\n",
    "One way to get a diverse set of classifier is to use very different training algorithms, as just discessed. Another approach is to use the same training algorithm for every predictor & train random subsets of the training set. When sampling with replacement, this method is called *bagging* (short for *bootstrap aggregating*). When sampling is performed *without* replacement, it is called *pasting*.\n",
    "\n",
    "In other words, both bagging & pasting allow training instances to be sampled several times across multiple predictors, but only bagging allows training instances to be sampled several times for the same predictor. This sampling & training process is represented below.\n",
    "\n",
    "<img src = \"Images/Bagging.png\" width = \"500\" style = \"margin:auto\"/>\n",
    "\n",
    "Once all predictors are trained, the ensemble can make a prediction for a new instance by simply aggregating the predictions of all predictors. The aggregation function is typically the *statistical mode* (i.e., the most frequent predictions, just like a hard voting classifier) for classifier, or the average for regression. Each individual predictor has a higher bias than if it were trained on the original training set, but aggregation reduces both bias & variance. Generally, the net result is that the ensemble has a similar bias but a lower variance than a single predictor trained on the original training set.\n",
    "\n",
    "As you can see, predictors can all be trained in parallel, via differnt CPU cores or even different servers. Similarly, predictions can be made in parallel. This is one of the reasons bagging & pasting are such popular methods: they scale very well.\n",
    "\n",
    "## Bagging & Pasting in Scikit-Learn\n",
    "\n",
    "Scikit-learn offers a simple API for both bagging & pasting with the `BaggingClassifier` class (or `BaggingRegressor` for regression). The following code trains an ensemble of 500 decision tree classifiers: each is trained on 100 training instances randomly sampled from the training set with replacement (this is an example of bagging, but if you want to use pasting, just set `bootstrap = False`). The `n_jobs` parameter tells scikit-learn the number of CPU cores to use for training & predictions."
   ]
  },
  {
   "cell_type": "code",
   "execution_count": 18,
   "id": "215c0b39-3c32-4c94-b0b7-ff861ba046fc",
   "metadata": {},
   "outputs": [],
   "source": [
    "from sklearn.ensemble import BaggingClassifier\n",
    "from sklearn.tree import DecisionTreeClassifier\n",
    "\n",
    "bag_classifier = BaggingClassifier(DecisionTreeClassifier(), n_estimators = 500,\n",
    "                                   max_samples = 100, bootstrap = True, n_jobs = 7)\n",
    "bag_classifier.fit(X_train, y_train)\n",
    "y_pred = bag_classifier.predict(X_test)"
   ]
  },
  {
   "cell_type": "markdown",
   "id": "5b51baff-62c7-42d7-aa78-398fbba82cb7",
   "metadata": {},
   "source": [
    "The below figure compares the decision boundary of a single decision tree with a decision boundary of a bagging ensemble of 500 trees (from the above code), both trained on the moons dataset. As you can see, the ensemble's predictions will likely generalise much better than the single decision tree's predictions: the ensemble has a comparable bias but a smaller variance (it makes roughly the same number of errors on the training set, but the decision boundary is less irregular).\n",
    "\n",
    "<img src = \"Images/Effect of Bagging.png\" width = \"600\" style = \"margin:auto\"/>\n",
    "\n",
    "Bootstrapping introduces a bit more diversity in the subsets that each predictor is trained on, so bagging ends up with a slgihtly higher bias than pasting; but the extra diversity also means that the predictors end up beling less correlated, so the ensemble's variance is reduced. Overall, bagging often results in better models, which explains why it is generally preferred. However, if you have spare time & CPU power, you can use cross-validation to evaluate both bagging & pasting & select the one that works best.\n",
    "\n",
    "## Out-of-Bag Evaluation\n",
    "\n",
    "With bagging, some instances may be sampled several times for any given predictor, while others may not be sampled at all. By default, a `BaggingClassifier` samples *m* training instances with replacement (`bootstrap = True`), where *m* is the size of the training set. This means that only about 63% of the training instances are sampled on average for each predictor. The remaining 37% of the training instances that are not sampled are called *out-of-bag* (oob) instances. Note that they are not the same 37% for all predictors.\n",
    "\n",
    "Since a predictor never sees the oob instances during training, it can be evaluated on these instances, without the need for a separate validation set. You can evaluate the ensemble itself by averaging out the oob evalusations of each predictor.\n",
    "\n",
    "In scikit-learn, you can set the `oob_score = True` when creating a `BaggingClassifier` to request an automatic oob evaluation after training. The following code demonstrates this. The resulting evaluation score is available through the `oob_score_` variable."
   ]
  },
  {
   "cell_type": "code",
   "execution_count": 19,
   "id": "20dff3f4-c4ec-46f1-add9-5d1d7e76e5b8",
   "metadata": {},
   "outputs": [
    {
     "data": {
      "text/plain": [
       "0.8986666666666666"
      ]
     },
     "execution_count": 19,
     "metadata": {},
     "output_type": "execute_result"
    }
   ],
   "source": [
    "bag_classifier = BaggingClassifier(DecisionTreeClassifier(), n_estimators = 500,\n",
    "                                   bootstrap = True, n_jobs = 7, oob_score = True)\n",
    "bag_classifier.fit(X_train, y_train)\n",
    "bag_classifier.oob_score_"
   ]
  },
  {
   "cell_type": "markdown",
   "id": "0e5ae49d-5625-49b6-9eb0-08af79e85887",
   "metadata": {},
   "source": [
    "According to this oob evaluation, the `BaggingClassifier` is likely to achieve about 90% accuracy on the test set. Let's verify this."
   ]
  },
  {
   "cell_type": "code",
   "execution_count": 20,
   "id": "54171d99-6cfe-4ba5-bdda-4288879252b4",
   "metadata": {},
   "outputs": [
    {
     "data": {
      "text/plain": [
       "0.92"
      ]
     },
     "execution_count": 20,
     "metadata": {},
     "output_type": "execute_result"
    }
   ],
   "source": [
    "from sklearn.metrics import accuracy_score\n",
    "\n",
    "y_pred = bag_classifier.predict(X_test)\n",
    "accuracy_score(y_test, y_pred)"
   ]
  },
  {
   "cell_type": "markdown",
   "id": "b9007389-362f-4bf1-b39f-fb990592116d",
   "metadata": {},
   "source": [
    "Yup, close enough!\n",
    "\n",
    "The oob decision function for each training instance is also available through the `oob_decision_function_` variable. In this case (since the base estimator has a `predict_proba()` method), the decision function returns the class probabilities for each training instance. For example, the oob evaluation estimates that the first training instance has a 61.2% probability of belonging to the positive class (& 38.8% of belonging to the negative class):"
   ]
  },
  {
   "cell_type": "code",
   "execution_count": 21,
   "id": "664c76c3-4fd3-43f4-9433-de2179849469",
   "metadata": {},
   "outputs": [
    {
     "data": {
      "text/plain": [
       "array([[0.35869565, 0.64130435],\n",
       "       [0.33497537, 0.66502463],\n",
       "       [1.        , 0.        ],\n",
       "       [0.        , 1.        ],\n",
       "       [0.        , 1.        ],\n",
       "       [0.08152174, 0.91847826],\n",
       "       [0.35227273, 0.64772727],\n",
       "       [0.01587302, 0.98412698],\n",
       "       [0.98369565, 0.01630435],\n",
       "       [0.97765363, 0.02234637],\n",
       "       [0.76966292, 0.23033708],\n",
       "       [0.        , 1.        ],\n",
       "       [0.80232558, 0.19767442],\n",
       "       [0.85786802, 0.14213198],\n",
       "       [0.96446701, 0.03553299],\n",
       "       [0.05154639, 0.94845361],\n",
       "       [0.        , 1.        ],\n",
       "       [0.99411765, 0.00588235],\n",
       "       [0.95811518, 0.04188482],\n",
       "       [0.98958333, 0.01041667],\n",
       "       [0.        , 1.        ],\n",
       "       [0.355     , 0.645     ],\n",
       "       [0.87096774, 0.12903226],\n",
       "       [1.        , 0.        ],\n",
       "       [0.9754902 , 0.0245098 ],\n",
       "       [0.        , 1.        ],\n",
       "       [1.        , 0.        ],\n",
       "       [1.        , 0.        ],\n",
       "       [0.        , 1.        ],\n",
       "       [0.66857143, 0.33142857],\n",
       "       [0.        , 1.        ],\n",
       "       [1.        , 0.        ],\n",
       "       [0.        , 1.        ],\n",
       "       [0.        , 1.        ],\n",
       "       [0.09803922, 0.90196078],\n",
       "       [1.        , 0.        ],\n",
       "       [0.        , 1.        ],\n",
       "       [0.38797814, 0.61202186],\n",
       "       [0.        , 1.        ],\n",
       "       [1.        , 0.        ],\n",
       "       [0.24725275, 0.75274725],\n",
       "       [0.36464088, 0.63535912],\n",
       "       [1.        , 0.        ],\n",
       "       [1.        , 0.        ],\n",
       "       [0.        , 1.        ],\n",
       "       [1.        , 0.        ],\n",
       "       [1.        , 0.        ],\n",
       "       [0.01052632, 0.98947368],\n",
       "       [1.        , 0.        ],\n",
       "       [0.        , 1.        ],\n",
       "       [0.98421053, 0.01578947],\n",
       "       [0.90322581, 0.09677419],\n",
       "       [0.96111111, 0.03888889],\n",
       "       [0.9760479 , 0.0239521 ],\n",
       "       [0.        , 1.        ],\n",
       "       [0.03589744, 0.96410256],\n",
       "       [0.99492386, 0.00507614],\n",
       "       [0.        , 1.        ],\n",
       "       [0.        , 1.        ],\n",
       "       [0.00621118, 0.99378882],\n",
       "       [0.9947644 , 0.0052356 ],\n",
       "       [0.81538462, 0.18461538],\n",
       "       [0.39444444, 0.60555556],\n",
       "       [1.        , 0.        ],\n",
       "       [0.        , 1.        ],\n",
       "       [0.6576087 , 0.3423913 ],\n",
       "       [1.        , 0.        ],\n",
       "       [1.        , 0.        ],\n",
       "       [0.835     , 0.165     ],\n",
       "       [1.        , 0.        ],\n",
       "       [0.63131313, 0.36868687],\n",
       "       [0.14117647, 0.85882353],\n",
       "       [0.64634146, 0.35365854],\n",
       "       [0.9122807 , 0.0877193 ],\n",
       "       [0.        , 1.        ],\n",
       "       [0.1969697 , 0.8030303 ],\n",
       "       [0.85245902, 0.14754098],\n",
       "       [1.        , 0.        ],\n",
       "       [0.        , 1.        ],\n",
       "       [1.        , 0.        ],\n",
       "       [0.        , 1.        ],\n",
       "       [0.05208333, 0.94791667],\n",
       "       [0.04761905, 0.95238095],\n",
       "       [0.27118644, 0.72881356],\n",
       "       [1.        , 0.        ],\n",
       "       [0.        , 1.        ],\n",
       "       [0.87931034, 0.12068966],\n",
       "       [0.        , 1.        ],\n",
       "       [0.        , 1.        ],\n",
       "       [0.        , 1.        ],\n",
       "       [0.21808511, 0.78191489],\n",
       "       [1.        , 0.        ],\n",
       "       [0.        , 1.        ],\n",
       "       [0.        , 1.        ],\n",
       "       [0.00537634, 0.99462366],\n",
       "       [0.93478261, 0.06521739],\n",
       "       [0.75      , 0.25      ],\n",
       "       [0.00520833, 0.99479167],\n",
       "       [1.        , 0.        ],\n",
       "       [0.16483516, 0.83516484],\n",
       "       [0.63131313, 0.36868687],\n",
       "       [0.        , 1.        ],\n",
       "       [0.02747253, 0.97252747],\n",
       "       [0.50568182, 0.49431818],\n",
       "       [1.        , 0.        ],\n",
       "       [0.00564972, 0.99435028],\n",
       "       [1.        , 0.        ],\n",
       "       [0.24183007, 0.75816993],\n",
       "       [0.48979592, 0.51020408],\n",
       "       [1.        , 0.        ],\n",
       "       [0.01860465, 0.98139535],\n",
       "       [1.        , 0.        ],\n",
       "       [0.29479769, 0.70520231],\n",
       "       [0.92553191, 0.07446809],\n",
       "       [1.        , 0.        ],\n",
       "       [1.        , 0.        ],\n",
       "       [0.        , 1.        ],\n",
       "       [0.        , 1.        ],\n",
       "       [0.78282828, 0.21717172],\n",
       "       [1.        , 0.        ],\n",
       "       [0.01111111, 0.98888889],\n",
       "       [1.        , 0.        ],\n",
       "       [1.        , 0.        ],\n",
       "       [1.        , 0.        ],\n",
       "       [0.98947368, 0.01052632],\n",
       "       [1.        , 0.        ],\n",
       "       [0.00588235, 0.99411765],\n",
       "       [0.96703297, 0.03296703],\n",
       "       [1.        , 0.        ],\n",
       "       [0.02762431, 0.97237569],\n",
       "       [0.23863636, 0.76136364],\n",
       "       [0.96891192, 0.03108808],\n",
       "       [0.3313253 , 0.6686747 ],\n",
       "       [0.99484536, 0.00515464],\n",
       "       [0.        , 1.        ],\n",
       "       [0.01554404, 0.98445596],\n",
       "       [0.68539326, 0.31460674],\n",
       "       [0.38418079, 0.61581921],\n",
       "       [0.39444444, 0.60555556],\n",
       "       [0.84530387, 0.15469613],\n",
       "       [0.94350282, 0.05649718],\n",
       "       [0.04736842, 0.95263158],\n",
       "       [0.8121547 , 0.1878453 ],\n",
       "       [0.        , 1.        ],\n",
       "       [0.        , 1.        ],\n",
       "       [0.03645833, 0.96354167],\n",
       "       [0.984375  , 0.015625  ],\n",
       "       [1.        , 0.        ],\n",
       "       [1.        , 0.        ],\n",
       "       [0.00555556, 0.99444444],\n",
       "       [0.        , 1.        ],\n",
       "       [0.01570681, 0.98429319],\n",
       "       [0.00526316, 0.99473684],\n",
       "       [1.        , 0.        ],\n",
       "       [1.        , 0.        ],\n",
       "       [0.97159091, 0.02840909],\n",
       "       [1.        , 0.        ],\n",
       "       [1.        , 0.        ],\n",
       "       [1.        , 0.        ],\n",
       "       [0.        , 1.        ],\n",
       "       [0.39204545, 0.60795455],\n",
       "       [0.31318681, 0.68681319],\n",
       "       [0.        , 1.        ],\n",
       "       [0.        , 1.        ],\n",
       "       [0.31343284, 0.68656716],\n",
       "       [1.        , 0.        ],\n",
       "       [1.        , 0.        ],\n",
       "       [0.        , 1.        ],\n",
       "       [1.        , 0.        ],\n",
       "       [0.        , 1.        ],\n",
       "       [0.        , 1.        ],\n",
       "       [0.98514851, 0.01485149],\n",
       "       [0.        , 1.        ],\n",
       "       [0.        , 1.        ],\n",
       "       [1.        , 0.        ],\n",
       "       [0.        , 1.        ],\n",
       "       [0.64210526, 0.35789474],\n",
       "       [0.87244898, 0.12755102],\n",
       "       [0.        , 1.        ],\n",
       "       [1.        , 0.        ],\n",
       "       [0.99447514, 0.00552486],\n",
       "       [1.        , 0.        ],\n",
       "       [0.        , 1.        ],\n",
       "       [0.        , 1.        ],\n",
       "       [1.        , 0.        ],\n",
       "       [0.08522727, 0.91477273],\n",
       "       [1.        , 0.        ],\n",
       "       [0.06077348, 0.93922652],\n",
       "       [0.00578035, 0.99421965],\n",
       "       [1.        , 0.        ],\n",
       "       [0.        , 1.        ],\n",
       "       [0.02325581, 0.97674419],\n",
       "       [1.        , 0.        ],\n",
       "       [0.92896175, 0.07103825],\n",
       "       [0.71098266, 0.28901734],\n",
       "       [0.58854167, 0.41145833],\n",
       "       [0.        , 1.        ],\n",
       "       [0.14893617, 0.85106383],\n",
       "       [1.        , 0.        ],\n",
       "       [0.94329897, 0.05670103],\n",
       "       [0.99484536, 0.00515464],\n",
       "       [1.        , 0.        ],\n",
       "       [0.00546448, 0.99453552],\n",
       "       [0.        , 1.        ],\n",
       "       [0.42931937, 0.57068063],\n",
       "       [0.85106383, 0.14893617],\n",
       "       [0.        , 1.        ],\n",
       "       [0.00552486, 0.99447514],\n",
       "       [1.        , 0.        ],\n",
       "       [0.00564972, 0.99435028],\n",
       "       [0.        , 1.        ],\n",
       "       [0.98369565, 0.01630435],\n",
       "       [0.        , 1.        ],\n",
       "       [0.27840909, 0.72159091],\n",
       "       [0.        , 1.        ],\n",
       "       [1.        , 0.        ],\n",
       "       [0.        , 1.        ],\n",
       "       [0.        , 1.        ],\n",
       "       [0.98351648, 0.01648352],\n",
       "       [0.77595628, 0.22404372],\n",
       "       [1.        , 0.        ],\n",
       "       [0.        , 1.        ],\n",
       "       [0.07692308, 0.92307692],\n",
       "       [1.        , 0.        ],\n",
       "       [0.04571429, 0.95428571],\n",
       "       [0.        , 1.        ],\n",
       "       [0.04571429, 0.95428571],\n",
       "       [1.        , 0.        ],\n",
       "       [0.75126904, 0.24873096],\n",
       "       [0.        , 1.        ],\n",
       "       [0.87179487, 0.12820513],\n",
       "       [0.99435028, 0.00564972],\n",
       "       [0.1552795 , 0.8447205 ],\n",
       "       [0.21511628, 0.78488372],\n",
       "       [1.        , 0.        ],\n",
       "       [0.        , 1.        ],\n",
       "       [0.        , 1.        ],\n",
       "       [0.        , 1.        ],\n",
       "       [0.18994413, 0.81005587],\n",
       "       [0.96551724, 0.03448276],\n",
       "       [0.00561798, 0.99438202],\n",
       "       [1.        , 0.        ],\n",
       "       [0.99393939, 0.00606061],\n",
       "       [0.        , 1.        ],\n",
       "       [0.5326087 , 0.4673913 ],\n",
       "       [1.        , 0.        ],\n",
       "       [0.        , 1.        ],\n",
       "       [1.        , 0.        ],\n",
       "       [0.        , 1.        ],\n",
       "       [0.        , 1.        ],\n",
       "       [0.08854167, 0.91145833],\n",
       "       [0.10928962, 0.89071038],\n",
       "       [0.985     , 0.015     ],\n",
       "       [0.01734104, 0.98265896],\n",
       "       [1.        , 0.        ],\n",
       "       [0.43005181, 0.56994819],\n",
       "       [0.09852217, 0.90147783],\n",
       "       [0.53535354, 0.46464646],\n",
       "       [0.59      , 0.41      ],\n",
       "       [0.        , 1.        ],\n",
       "       [1.        , 0.        ],\n",
       "       [0.        , 1.        ],\n",
       "       [0.        , 1.        ],\n",
       "       [0.62068966, 0.37931034],\n",
       "       [0.        , 1.        ],\n",
       "       [1.        , 0.        ],\n",
       "       [0.24870466, 0.75129534],\n",
       "       [0.82795699, 0.17204301],\n",
       "       [0.0960452 , 0.9039548 ],\n",
       "       [1.        , 0.        ],\n",
       "       [0.77835052, 0.22164948],\n",
       "       [0.        , 1.        ],\n",
       "       [0.        , 1.        ],\n",
       "       [0.15104167, 0.84895833],\n",
       "       [0.02941176, 0.97058824],\n",
       "       [0.        , 1.        ],\n",
       "       [1.        , 0.        ],\n",
       "       [0.91534392, 0.08465608],\n",
       "       [0.14117647, 0.85882353],\n",
       "       [0.94736842, 0.05263158],\n",
       "       [0.01086957, 0.98913043],\n",
       "       [0.64444444, 0.35555556],\n",
       "       [0.04046243, 0.95953757],\n",
       "       [1.        , 0.        ],\n",
       "       [0.79190751, 0.20809249],\n",
       "       [0.        , 1.        ],\n",
       "       [1.        , 0.        ],\n",
       "       [0.94968553, 0.05031447],\n",
       "       [0.        , 1.        ],\n",
       "       [0.        , 1.        ],\n",
       "       [1.        , 0.        ],\n",
       "       [0.        , 1.        ],\n",
       "       [1.        , 0.        ],\n",
       "       [0.26486486, 0.73513514],\n",
       "       [0.97814208, 0.02185792],\n",
       "       [1.        , 0.        ],\n",
       "       [0.        , 1.        ],\n",
       "       [0.        , 1.        ],\n",
       "       [0.83431953, 0.16568047],\n",
       "       [0.        , 1.        ],\n",
       "       [1.        , 0.        ],\n",
       "       [0.76470588, 0.23529412],\n",
       "       [0.95081967, 0.04918033],\n",
       "       [1.        , 0.        ],\n",
       "       [0.6954023 , 0.3045977 ],\n",
       "       [0.51572327, 0.48427673],\n",
       "       [0.        , 1.        ],\n",
       "       [0.91812865, 0.08187135],\n",
       "       [0.        , 1.        ],\n",
       "       [1.        , 0.        ],\n",
       "       [0.91578947, 0.08421053],\n",
       "       [1.        , 0.        ],\n",
       "       [1.        , 0.        ],\n",
       "       [0.76704545, 0.23295455],\n",
       "       [0.0952381 , 0.9047619 ],\n",
       "       [0.54285714, 0.45714286],\n",
       "       [0.19251337, 0.80748663],\n",
       "       [0.        , 1.        ],\n",
       "       [0.87096774, 0.12903226],\n",
       "       [0.85263158, 0.14736842],\n",
       "       [0.        , 1.        ],\n",
       "       [1.        , 0.        ],\n",
       "       [0.99393939, 0.00606061],\n",
       "       [1.        , 0.        ],\n",
       "       [0.        , 1.        ],\n",
       "       [0.03428571, 0.96571429],\n",
       "       [0.96774194, 0.03225806],\n",
       "       [0.94736842, 0.05263158],\n",
       "       [1.        , 0.        ],\n",
       "       [0.42857143, 0.57142857],\n",
       "       [1.        , 0.        ],\n",
       "       [0.        , 1.        ],\n",
       "       [0.98148148, 0.01851852],\n",
       "       [0.02762431, 0.97237569],\n",
       "       [1.        , 0.        ],\n",
       "       [1.        , 0.        ],\n",
       "       [1.        , 0.        ],\n",
       "       [0.        , 1.        ],\n",
       "       [0.98387097, 0.01612903],\n",
       "       [0.00609756, 0.99390244],\n",
       "       [0.07185629, 0.92814371],\n",
       "       [0.        , 1.        ],\n",
       "       [0.        , 1.        ],\n",
       "       [1.        , 0.        ],\n",
       "       [1.        , 0.        ],\n",
       "       [0.        , 1.        ],\n",
       "       [1.        , 0.        ],\n",
       "       [0.01648352, 0.98351648],\n",
       "       [1.        , 0.        ],\n",
       "       [0.11827957, 0.88172043],\n",
       "       [0.        , 1.        ],\n",
       "       [0.01639344, 0.98360656],\n",
       "       [0.        , 1.        ],\n",
       "       [0.40860215, 0.59139785],\n",
       "       [0.0989011 , 0.9010989 ],\n",
       "       [0.22164948, 0.77835052],\n",
       "       [1.        , 0.        ],\n",
       "       [1.        , 0.        ],\n",
       "       [0.21546961, 0.78453039],\n",
       "       [1.        , 0.        ],\n",
       "       [0.        , 1.        ],\n",
       "       [0.        , 1.        ],\n",
       "       [1.        , 0.        ],\n",
       "       [0.92777778, 0.07222222],\n",
       "       [0.31413613, 0.68586387],\n",
       "       [0.98275862, 0.01724138],\n",
       "       [1.        , 0.        ],\n",
       "       [0.        , 1.        ],\n",
       "       [1.        , 0.        ],\n",
       "       [0.        , 1.        ],\n",
       "       [0.04597701, 0.95402299],\n",
       "       [1.        , 0.        ],\n",
       "       [1.        , 0.        ],\n",
       "       [0.04663212, 0.95336788],\n",
       "       [0.67391304, 0.32608696]])"
      ]
     },
     "execution_count": 21,
     "metadata": {},
     "output_type": "execute_result"
    }
   ],
   "source": [
    "bag_classifier.oob_decision_function_"
   ]
  },
  {
   "cell_type": "markdown",
   "id": "f81ab02b-1b46-4f6d-9eef-2b8a37038076",
   "metadata": {},
   "source": [
    "---"
   ]
  },
  {
   "cell_type": "markdown",
   "id": "6d1f4617-2bbc-4b0c-8bb8-9c22c1a561a0",
   "metadata": {},
   "source": [
    "# Random Patches & Random Subspaces\n",
    "\n",
    "The `BaggingClassifier` class supoorts sampling the features as well. Sampling is controlled by two hyperparameters: `max_features` & `bootstrap_features`. They work the same way as `max_samples` & `bootstrap`, but for feature sampling instead of instance sampling. Thus, each predictor will be trained on a random subset of the input features. \n",
    "\n",
    "This technique is particularly useful when you are dealing with high-dimensional inputs (such as images). Sampling both training instances & features is called the *random patches method*. Keeping all training instances (by setting `bootstrap = False` & `max_samples = 1.0`) but sampling features (by setting `bootstrap_features` to `True` &/or `max_features` to a value smaller to `1.0`) is called the *random subspaces method*.\n",
    "\n",
    "Sampling features results in even more predictor diversity, training a bit more bias for a lower variance."
   ]
  },
  {
   "cell_type": "markdown",
   "id": "0bec0ba8-eeab-4521-85d6-21c074af8e22",
   "metadata": {},
   "source": [
    "---"
   ]
  },
  {
   "cell_type": "markdown",
   "id": "3d6d29b9-97f0-4c83-b767-4898144925a4",
   "metadata": {},
   "source": [
    "# Random Forests\n",
    "\n",
    "As we have discussed, a random forest is ensemble of decision trees, generally trained via the bagging method (or sometimes pasting), typically with `max_samples` set to the size of the training set. Instead of building a `BaggingClassifier` & passing it a `DecisionTreeClassifier` you can instead use the `RandomForestClassifier` class, which is more convenient & optimised for decision trees (similarly, there is a `RandomForestsRegressor` class for regression tasks). The following code uses all available CPU cores to train a random forest classifier with 500 trees (each limited to maximum 16 nodes):"
   ]
  },
  {
   "cell_type": "code",
   "execution_count": 22,
   "id": "36966b7e-6272-4125-b0ae-e2ab8df2a009",
   "metadata": {},
   "outputs": [],
   "source": [
    "from sklearn.ensemble import RandomForestClassifier\n",
    "\n",
    "forest_classifier = RandomForestClassifier(n_estimators = 500, max_leaf_nodes = 16, n_jobs = 7)\n",
    "forest_classifier.fit(X_train, y_train)\n",
    "y_pred = forest_classifier.predict(X_test)"
   ]
  },
  {
   "cell_type": "markdown",
   "id": "13bddafa-e402-4276-aabf-f33a37ef230a",
   "metadata": {},
   "source": [
    "With a few exceptions, a `RandomForestClassifier` has all the hyperparameters of a `DecisionTreeClassifier` (to control how trees are grown), plus all the hyperparameters of a `BaggingClassifier` to control the ensemble itself.\n",
    "\n",
    "The random forest algorithm introduces extra randomness when growing trees; instead of searching for the very best feature when splitting a node, it searches for the best feature among a random subset of features. The algorithm results in a greater tree diversity, which (again) trades higher bias for a lower variance, generally yielding an overall better model. The following `BaggingClassifier` is roughly equivalent to the previous `RandomForestClassifier`."
   ]
  },
  {
   "cell_type": "code",
   "execution_count": 23,
   "id": "bcb3253d-8ef7-4c28-b0d0-7cb60b16063f",
   "metadata": {},
   "outputs": [],
   "source": [
    "bag_classifier = BaggingClassifier(DecisionTreeClassifier(splitter = \"random\", max_leaf_nodes = 16),\n",
    "                                   n_estimators = 500, max_samples = 1.0, bootstrap = True, n_jobs = 7)"
   ]
  },
  {
   "cell_type": "markdown",
   "id": "b6aeac29-076f-4396-b3e8-e4674271105b",
   "metadata": {},
   "source": [
    "## Extra-Trees\n",
    "\n",
    "When you are growing a tree in a random forest, at each node, only a random subset of the features is considered for splitting. It is possible to make trees even more random by also using random thresholds for each feature rather than searching for the best possible thresholds (like regular decision trees do). \n",
    "\n",
    "A forest of such extremely random trees is called an *extremely randomised trees ensemble* (or *extra-trees* for short). Once again, this technique trades more bias for a lower variance. It also makes extra-trees much faster to train than regular random forests, because finding the best possible threshold for each feature at every node is one of the most time-consuming tasks of growing a tree.\n",
    "\n",
    "You can create an extra-trees classifier using scikit-learn's `ExtraTreesClassifier` class. Its API is identical to the `RandomForestClassifier` class. Similarly, the `ExtraTreesRegressor` class has the same API as the `RandomForestRegressor` class.\n",
    "\n",
    "## Feature Importance\n",
    "\n",
    "Yet another great quality of random forests is that they make it easy to measure the relative importance of each feature. Scikit-learn measures a feature's importance by looking at how much the tree nodes that use that feature reduce impurity on average (across all trees in the forest). More precisely, it is a weighted average, where each node's weight is equal to the number of training samples that are associated with it.\n",
    "\n",
    "Scikit-learn computes this score automatically for each feature after training, then it scales the results so that the sum of all importances is equal to 1. You can acces the result using the `feature_importances_` variable. For example, the following code trains a `RandomForestClassifier` on the iris dataset & outputs each features importance. It seems that the most important features are the petal length (44%) & width (44%), while sepal length & width are rather unimportant in comparison (10% & 2%, respectively)."
   ]
  },
  {
   "cell_type": "code",
   "execution_count": 24,
   "id": "78f337f2-258a-4856-bdb0-7a010dff2688",
   "metadata": {},
   "outputs": [
    {
     "name": "stdout",
     "output_type": "stream",
     "text": [
      "sepal length (cm) 0.09206149132219045\n",
      "sepal width (cm) 0.023084001517177224\n",
      "petal length (cm) 0.42419275364100606\n",
      "petal width (cm) 0.46066175351962635\n"
     ]
    }
   ],
   "source": [
    "from sklearn.datasets import load_iris\n",
    "\n",
    "iris = load_iris()\n",
    "forest_classifier = RandomForestClassifier(n_estimators = 500, n_jobs = 7)\n",
    "forest_classifier.fit(iris[\"data\"], iris[\"target\"])\n",
    "\n",
    "for name, score in zip(iris[\"feature_names\"], forest_classifier.feature_importances_):\n",
    "    print(name, score)"
   ]
  },
  {
   "cell_type": "markdown",
   "id": "faf28c74-7d0f-49a8-9248-8f71be366c72",
   "metadata": {},
   "source": [
    "Similarly, if you train a random forest classifier on the MNIST dataset & plot each pixel's importance, you get the image represented below.\n",
    "\n",
    "<img src = \"Images/MNIST Pixel Importance.png\" width = \"550\" style = \"margin:auto\"/>\n",
    "\n",
    "Random forests are very handy to get a quick understanding of what features actually matter, in particular if you need to perform feature selection."
   ]
  },
  {
   "cell_type": "markdown",
   "id": "4ad5a601-ce40-452d-8c78-7ea854fc99fe",
   "metadata": {},
   "source": [
    "---"
   ]
  },
  {
   "cell_type": "markdown",
   "id": "bf00a9c7-5d76-4e60-9220-e18604b3db4a",
   "metadata": {},
   "source": [
    "# Boosting\n",
    "\n",
    "*Boosting* (originally called *hypothesis boosting*) refers to any ensemble method that can combine several weak learners into a strong learner. The general idea of most boosting methods is to train predictors sequentially, each trying to correct its predecessor. There are many boosting methods available, but by far the most popular are *AdaBoost* (short for *adaptive boosting*) & *gradient boosting*. \n",
    "\n",
    "## AdaBoost\n",
    "\n",
    "One way for a new predictor to correct its predecessor is to pay a bit more attention to the training instances that the predecessor underfitted. This results in new predictors focusing more & more on the hard cases. This is the technique used by AdaBoost.\n",
    "\n",
    "For example, when training an AdaBoost classifier, the algorithm first trains a base classifier (such as decision tree) & uses it to make predictions on the training set. The algorithm then increases the relative weight of misclassified training instances. Then it trains a second classifier, using the updated weights, & again makes predictions on the training set, updates the instance weights & so on.\n",
    "\n",
    "<img src = \"Images/AdaBoost.png\" width = \"500\" style = \"margin:auto\"/>\n",
    "\n",
    "The below figure shows the decision boundaries of five consecutive predictors on the moons dataset (in this example, each predictor  is a highly regularised SVM classifier with a RBF kernel). The first classifier gets many instances wrong, so their weights get boosted. The second classifier therefore does a better job on these instances, & so on. The plot on the right represents the same sequence of predictors, except that the learning rate is halved (i.e., the misclassified instance weights are boosted half as much at every iteration). As you can see, this sequential learning technique has some similarities with gradient descent, except that instead of tweaking a single predictor's parameters to minimise a cost function, AdaBoost adds predictors to the ensemble, gradually making it better.\n",
    "\n",
    "<img src = \"Images/Decision Boundaries Consecutive Predictors.png\" width = \"550\" style = \"margin:auto\"/>\n",
    "\n",
    "Once all predictors are trained, the ensemble makes predictions very much like bagging or pasting, except that predictors have different weights depending on their overall accuracy on the weighted training set.\n",
    "\n",
    "Let's take a closer look at the AdaBoost algorithm. Each instance weight $w^{(i)}$ is initially set to 1/*m*. A first predictor is trained, & its weighted error rate $r_1$ is computed on the training set.\n",
    "\n",
    "$$r_j = \\frac{\\begin{split}\n",
    "\\sum^{m}_{i = 1} w^{(i)} \\\\\n",
    "\\hat{y}^{(i)}_j \\neq y^{(i)}\n",
    "\\end{split}}{\\sum^{m}_{i = 1} w^{(i)}} \\quad where\\ \\hat{y}^{(i)}_j\\ is\\ the\\ j^{th}\\ predictor's\\ prediction\\ for\\ the\\ i^{th}\\ instance.$$\n",
    "\n",
    "The predictor's weight $\\alpha_j$ is then computed using the below equations, where $\\eta$ is the learning rate hyperparameter (defaults to 1). The more accurate the predictor is,the higher its weight will be. if it is just guessing randomly, then its wieght will be close to zero. However, if it is most often wrong (i.e., less accurate than random guessing), then its weight will be negative.\n",
    "\n",
    "$$\\alpha_j = \\eta\\ log \\frac{1 - r_j}{r_j}$$\n",
    "\n",
    "Next, the AdaBoost algorithm updates the instance weights using the below equation, which boosts the weights of the misclassified instances.\n",
    "\n",
    "$$\\begin{split}\n",
    "for\\ i = 1, 2, ..., m \\\\\n",
    "w^{(i)} \\leftarrow \\Biggl\\{ \\begin{split} \n",
    "w^{(i)} \\quad if \\hat{y_j}^{(i)} = y^{(i)} \\\\\n",
    "w^{(i)} e^{\\alpha_j} \\quad if \\hat{y_j}^{(i)} \\neq y^{(i)}\n",
    "\\end{split}\n",
    "\\end{split}$$\n",
    "\n",
    "Then all the instance weights are normalised (i.e., divided by $\\sum^{m}_{i = 1} w^{(i)}$.\n",
    "\n",
    "Finally, a new predictor is trained using the updated weights, & the whole process is repeated (the new predictor's weight is computed, the instance weights are updated, then another predictor is trained, & so on). The algorithm stops when the desired number of predictors is reached, or when a perfect predictor is found.\n",
    "\n",
    "To make predictions, AdaBoost simply computes the predictions of all the predictors & weighs them using the predictor weights $\\alpha_j$. The predicted class is the one that receives the majority of the weighted votes.\n",
    "\n",
    "$$\\hat{y}(x) = \\underset{k}{argmax} \\quad \\underset{\\hat{y}_j(x) = k}{\\sum^{N}_{j = 1}} \\alpha_j \\quad where\\ N\\ is\\ the\\ number\\ of\\ predictors.$$  \n",
    "\n",
    "Scikit-learn uses a multiclass version of AdaBoost called *SAMME* (which stands for *stagewise additive modeling using a multiclass exponential loss function*). When there are just two classes, SAMME is equivalent to AdaBoost. If the predictors can estimate class probabilities (i.e., if they have a `predict_proba()` method), scikit-learn can use a variant of SAMME called *SAMME.R* (the *R* stands for \"Real\"), which relies on class probabilities rather than predictions & generally performs better.\n",
    "\n",
    "The following code trains an AdaBoost classifier based on 200 *decision stumps* using scikit-learn's `AdaBoostClassifier` class (as you might expect, there is also an `AdaBoostRegressor` class). A decision stump is a decision tree with `max_depth = 1` -- in other words, a tree composed of a single decision node plus two leaf nodes. This is the default base estimator for the `AdaBoostClassifier` class."
   ]
  },
  {
   "cell_type": "code",
   "execution_count": 25,
   "id": "729b9920-71df-4934-bd8e-061cb9299dc2",
   "metadata": {},
   "outputs": [
    {
     "data": {
      "text/plain": [
       "AdaBoostClassifier(base_estimator=DecisionTreeClassifier(max_depth=1),\n",
       "                   learning_rate=0.5, n_estimators=200)"
      ]
     },
     "execution_count": 25,
     "metadata": {},
     "output_type": "execute_result"
    }
   ],
   "source": [
    "from sklearn.ensemble import AdaBoostClassifier\n",
    "\n",
    "ada_classifier = AdaBoostClassifier(DecisionTreeClassifier(max_depth = 1), n_estimators = 200,\n",
    "                                    algorithm = \"SAMME.R\", learning_rate = 0.5)\n",
    "ada_classifier.fit(X_train, y_train)"
   ]
  },
  {
   "cell_type": "markdown",
   "id": "689db9d8-0acd-4ee6-b1c8-e7d251c3b0ab",
   "metadata": {},
   "source": [
    "## Gradient Boosting\n",
    "\n",
    "Another very popular boosting algorithm is *gradient boosting*. Just like AdaBoost, gradient boosting works by sequentially adding predictors to an ensemble, each one correcting its predecessor. However, instead of tweaking the instance weights at every iteration like AdaBoost does, this method tries to fit the new predictor to the *residual errors* made by the previous predictor.\n",
    "\n",
    "Let's go through a simple regression example, using decision trees as the base predictors (of course, gradient boosting also works great with regression tasks). This is called *gradient tree boosting* or *gradient boosted regression trees* (GBRT). First, let's fit a `DecisionTreeRegresssor` to the training set (for example, a noisy quadratic training set):"
   ]
  },
  {
   "cell_type": "code",
   "execution_count": 26,
   "id": "57cdaa0b-afb4-4ad6-8fee-660718f0e02e",
   "metadata": {},
   "outputs": [
    {
     "data": {
      "text/plain": [
       "DecisionTreeRegressor(max_depth=2)"
      ]
     },
     "execution_count": 26,
     "metadata": {},
     "output_type": "execute_result"
    }
   ],
   "source": [
    "from sklearn.tree import DecisionTreeRegressor\n",
    "import numpy as np\n",
    "\n",
    "np.random.seed(42)\n",
    "X = np.random.rand(100, 1) - 0.5\n",
    "y = 3 * X[:, 0]**2 + 0.05 * np.random.randn(100)\n",
    "\n",
    "tree_regression = DecisionTreeRegressor(max_depth = 2)\n",
    "tree_regression.fit(X, y)"
   ]
  },
  {
   "cell_type": "markdown",
   "id": "cd0c5eb3-b27d-4a95-b9eb-8efcc9bbe7f7",
   "metadata": {},
   "source": [
    "Next, we'll train a second `DecisionTreeRegressor` on the residual errors made by the first predictor."
   ]
  },
  {
   "cell_type": "code",
   "execution_count": 28,
   "id": "3b1b2795-0a20-4500-bf7a-179775182df9",
   "metadata": {},
   "outputs": [
    {
     "data": {
      "text/plain": [
       "DecisionTreeRegressor(max_depth=2)"
      ]
     },
     "execution_count": 28,
     "metadata": {},
     "output_type": "execute_result"
    }
   ],
   "source": [
    "y2 = y - tree_regression.predict(X)\n",
    "tree_regression2 = DecisionTreeRegressor(max_depth = 2)\n",
    "tree_regression2.fit(X, y2)"
   ]
  },
  {
   "cell_type": "markdown",
   "id": "5f6748a0-407f-4f45-b453-56abfc3e03a4",
   "metadata": {},
   "source": [
    "Then we train a third regressor on the residual errors made by the second predictor."
   ]
  },
  {
   "cell_type": "code",
   "execution_count": 29,
   "id": "cab83024-2b13-46b7-a42a-e6e5496ef1b4",
   "metadata": {},
   "outputs": [
    {
     "data": {
      "text/plain": [
       "DecisionTreeRegressor(max_depth=2)"
      ]
     },
     "execution_count": 29,
     "metadata": {},
     "output_type": "execute_result"
    }
   ],
   "source": [
    "y3 = y2 - tree_regression2.predict(X)\n",
    "tree_regression3 = DecisionTreeRegressor(max_depth = 2)\n",
    "tree_regression3.fit(X, y3)"
   ]
  },
  {
   "cell_type": "markdown",
   "id": "bd75614c-fa41-4d40-ac5c-2c582d6838ca",
   "metadata": {},
   "source": [
    "Now we have an ensemble containing three trees. It can make predictions on a new instance simply by adding up the predictions of all the trees."
   ]
  },
  {
   "cell_type": "code",
   "execution_count": 31,
   "id": "9ee3ecab-6947-4b4a-a7b9-e1b95fc2c0e1",
   "metadata": {},
   "outputs": [
    {
     "data": {
      "text/plain": [
       "array([0.75026781])"
      ]
     },
     "execution_count": 31,
     "metadata": {},
     "output_type": "execute_result"
    }
   ],
   "source": [
    "X_new = np.array([[0.8]])\n",
    "y_pred = sum(tree.predict(X_new) for tree in (tree_regression, tree_regression2, tree_regression3))\n",
    "y_pred"
   ]
  },
  {
   "cell_type": "markdown",
   "id": "e3cdcbf9-d0b7-4c70-b14b-8bce80a37c28",
   "metadata": {},
   "source": [
    "<img src = \"Images/Gradient Boost.png\" width = \"550\" style = \"margin:auto\"/>\n",
    "\n",
    "The above figure respresents the predictions of the three trees in the left column, & the ensemble's predictions in the right column. In the first row, the ensemble has just one tree, so its predictions are exactly the same as the first tree's predictions. In the second row, a new tree is trained on the residual errors of the first tree. On the right, you can see that the ensemble's predictions are equal to the sum of the predictions of the first two trees. Similarly, in the third row, another tree is trained on the residual errors of the second tree. You can see that the ensemble's predictions gradually get better as trees are added to the ensemble.\n",
    "\n",
    "A simpler way to train GBRT ensembles is to use scikit-learn's `GradientBoostingRegressor` class. Much like the `RandomForestRegressor` class, it has hyperparameters to control the growth of decision trees (e.g., `max_depth`, `min_samples_leaf`), as well as hyperparameters to control the ensemble training, such as the number of trees (`n_estimators`). The following code creates the same ensemble as the previous one."
   ]
  },
  {
   "cell_type": "code",
   "execution_count": 34,
   "id": "b604d433-717e-4931-a71f-c1615338136c",
   "metadata": {},
   "outputs": [
    {
     "data": {
      "text/plain": [
       "GradientBoostingRegressor(learning_rate=1.0, max_depth=2, n_estimators=3)"
      ]
     },
     "execution_count": 34,
     "metadata": {},
     "output_type": "execute_result"
    }
   ],
   "source": [
    "from sklearn.ensemble import GradientBoostingRegressor\n",
    "\n",
    "gbrt = GradientBoostingRegressor(max_depth = 2, n_estimators = 3, learning_rate = 1.0)\n",
    "gbrt.fit(X, y)"
   ]
  },
  {
   "cell_type": "markdown",
   "id": "4bfb8a7b-5dde-47a9-9603-8c8ddd853f16",
   "metadata": {},
   "source": [
    "The `learning_rate` hyperparameter scales the contribution of each tree. If you set it to a low value, such as 0.1, you will need more trees in the ensemble to fit the training set, but the predictions will usually generalise better. This is a regularisation technique called *shrinkage*. The below figure shows two GBRT ensembles trained with a low learning rate: the one on the left does not have enough trees to fit the training set, while the one on the right has too many trees & overfits the training set.\n",
    "\n",
    "<img src = \"Images/GBRT Ensemble.png\" width = \"550\" style = \"margin:auto\"/>\n",
    "\n",
    "In order to find the optimal number of trees, you can use early stopping. A simple way to implement this is to use the `staged_predict()` method: it returns an iterator over the predictions made by the ensemble at each stage of training (with one tree, two trees, etc.). The following code trains a GBRT ensemble with 120 trees, then measures the validation error at each stage of training to find the optimal number of trees, & finally trains another GBRT ensemble using the optimal number of trees."
   ]
  },
  {
   "cell_type": "code",
   "execution_count": 36,
   "id": "17715a32-6b27-4357-891b-ddf4d3b635dc",
   "metadata": {},
   "outputs": [
    {
     "data": {
      "text/plain": [
       "GradientBoostingRegressor(max_depth=2, n_estimators=110)"
      ]
     },
     "execution_count": 36,
     "metadata": {},
     "output_type": "execute_result"
    }
   ],
   "source": [
    "import numpy as np\n",
    "from sklearn.model_selection import train_test_split\n",
    "from sklearn.metrics import mean_squared_error\n",
    "\n",
    "X_train, X_val, y_train, y_val = train_test_split(X, y)\n",
    "\n",
    "gbrt = GradientBoostingRegressor(max_depth = 2, n_estimators = 120)\n",
    "gbrt.fit(X_train, y_train)\n",
    "\n",
    "errors = [mean_squared_error(y_val, y_pred)\n",
    "          for y_pred in gbrt.staged_predict(X_val)]\n",
    "best_n_estimators = np.argmin(errors) + 1\n",
    "\n",
    "gbrt_best = GradientBoostingRegressor(max_depth = 2, n_estimators = best_n_estimators)\n",
    "gbrt_best.fit(X_train, y_train)"
   ]
  },
  {
   "cell_type": "markdown",
   "id": "0e297638-ad32-4c0c-bc3a-6190e83e79c7",
   "metadata": {},
   "source": [
    "The validation errors are represented in the left of the below figure, & the best model's predictions are represented on the right.\n",
    "\n",
    "<img src = \"Images/GBRT Early Stopping.png\" width = \"600\" style = \"margin:auto\"/>\n",
    "\n",
    "It is also possible to implement early stopping by actually stopping training early (instead of training a large number of trees first & then looking back to find the optimal number). You can do so by setting `warm_start = True`, which makes scikit-learn keep existing trees when the `fit()` method is called, allowing incremental training. The following code stops training when the validation error does not improve for five iterations in a row."
   ]
  },
  {
   "cell_type": "code",
   "execution_count": 37,
   "id": "0432a9e6-5333-4049-96d0-ee2a041892d1",
   "metadata": {},
   "outputs": [],
   "source": [
    "gbrt = GradientBoostingRegressor(max_depth = 2, warm_start = True)\n",
    "\n",
    "min_val_error = float(\"inf\")\n",
    "error_going_up = 0\n",
    "\n",
    "for n_estimators in range(1, 120):\n",
    "    gbrt.n_estimators = n_estimators\n",
    "    gbrt.fit(X_train, y_train)\n",
    "    y_pred = gbrt.predict(X_val)\n",
    "    val_error = mean_squared_error(y_val, y_pred)\n",
    "    if val_error < min_val_error:\n",
    "        min_val_error = val_error\n",
    "        error_going_up = 0\n",
    "    else:\n",
    "        error_going_up += 1\n",
    "        if error_going_up == 5:\n",
    "            break"
   ]
  },
  {
   "cell_type": "markdown",
   "id": "e233e77a-fa70-48fd-8819-7af6334b4946",
   "metadata": {},
   "source": [
    "The `GradientBoostingRegressor` class also supports a `subsample` hyperparameter, which specifies the fraction of training instances to be used for training each tree. For example, if `subsample = 0.25`, then each tree is trained on 25% of the training instances, selected randomly. As you can probably guess by now, this technique trade a higher bias for a lower variance. It also speeds up training considerable. This is called *stochastic gradient boosting*.\n",
    "\n",
    "It is worth noting that an optimised implementation of gradient boosting is available in the popular python library `xgboost`, which stands for extreme gradient boosting. This package was initially developed by Tianqi Chen as part of the Distributed (Deep) Machine Learning Community (DMLC), & it aims to be extremely fast, scalable, & portable. In fact, xgboost is often an important component of the winning entries in ML competitions. XGBoost's API is quite similar to scikit-learns:"
   ]
  },
  {
   "cell_type": "code",
   "execution_count": 41,
   "id": "819a4433-1e96-4949-a2d8-6534580989dd",
   "metadata": {},
   "outputs": [],
   "source": [
    "import xgboost\n",
    "\n",
    "xgb_regression = xgboost.XGBRegressor()\n",
    "xgb_regression.fit(X_train, y_train)\n",
    "y_pred = xgb_regression.predict(X_val)"
   ]
  },
  {
   "cell_type": "markdown",
   "id": "df8e1e50-9004-4382-bb4e-b05d8d11551d",
   "metadata": {},
   "source": [
    "XGBoost also offers several nice features, such as automatically taking care of early stopping:"
   ]
  },
  {
   "cell_type": "code",
   "execution_count": 43,
   "id": "41a10250-fb03-455b-ad74-5d3418558daa",
   "metadata": {},
   "outputs": [
    {
     "name": "stdout",
     "output_type": "stream",
     "text": [
      "[0]\tvalidation_0-rmse:0.20391\n",
      "[1]\tvalidation_0-rmse:0.15822\n",
      "[2]\tvalidation_0-rmse:0.12129\n",
      "[3]\tvalidation_0-rmse:0.09943\n",
      "[4]\tvalidation_0-rmse:0.08471\n",
      "[5]\tvalidation_0-rmse:0.07288\n",
      "[6]\tvalidation_0-rmse:0.06541\n",
      "[7]\tvalidation_0-rmse:0.06082\n",
      "[8]\tvalidation_0-rmse:0.05825\n",
      "[9]\tvalidation_0-rmse:0.05654\n",
      "[10]\tvalidation_0-rmse:0.05598\n",
      "[11]\tvalidation_0-rmse:0.05572\n",
      "[12]\tvalidation_0-rmse:0.05564\n",
      "[13]\tvalidation_0-rmse:0.05587\n"
     ]
    }
   ],
   "source": [
    "xgb_regression.fit(X_train, y_train, \n",
    "                   eval_set = [(X_val, y_val)],\n",
    "                   early_stopping_rounds = 2)\n",
    "y_pred = xgb_regression.predict(X_val)"
   ]
  },
  {
   "cell_type": "markdown",
   "id": "8fb57b58-4374-4efc-9dfc-78685d54705c",
   "metadata": {},
   "source": [
    "Definitely check it out!"
   ]
  },
  {
   "cell_type": "markdown",
   "id": "b91d512a-2aa1-417a-8926-f97998448f01",
   "metadata": {},
   "source": [
    "---"
   ]
  },
  {
   "cell_type": "markdown",
   "id": "4d12d753-b166-43ba-95e9-034c13df75fa",
   "metadata": {},
   "source": [
    "# Stacking\n",
    "\n",
    "The last ensemble method we will discuss in this lesson is called *stacking* (short for *stacked generalisation*). It is based on a simple idea: instead of using trivial functions (such as hard voting) to aggregate the predictions of all predictors in an ensemble, why don't we train a model to perform this aggregation? The below figure shows scuh an ensemble performing a regression task on a new instance. Each of the bottom tree predictors predicts a different value (3.1, 2.7, 2.9), & then the final predictor (called the *blender*, or *meta learner*) takes these predictions as inputs & makes the final prediction (3.0).\n",
    "\n",
    "<img src = \"Images/Blending Predictor.png\" width = \"550\" style = \"margin:auto\"/>\n",
    "\n",
    "To train the belnder, a common approach is to use a hold-out set. Let's see how it works. First, the training set is split into two subsets. The first subset is used to train the predictors in the first layer.\n",
    "\n",
    "<img src = \"Images/Blending Predictor HoldOut.png\" width = \"550\" style = \"margin:auto\"/>\n",
    "\n",
    "Next, the first layer's predictors are used to make predictions on the second (held-out) set. This ensures that the predictions are 'clean\", since the predictors never saw these instances during training. For each instance in the hold-out set, there are three predicted values. We can create a new training set using these predicted values as input features (which makes this new training set 3D), & keeping the target values. The blender is trained on this new training set, so it learns to predict the target value, given the first layer's predictions.\n",
    "\n",
    "<img src = \"Images/Training the Blender.png\" width = \"550\" style = \"margin:auto\"/>\n",
    "\n",
    "It is actually possible to train several different blenders this way (e.g., one using linear regression, another using random forest regression), to get a whole layer of blenders. The trick is to split the training set into three subsets: the first one is used to train the first layer, the second one is used to create the training set used to train the second layer (using predictions made by the predictors of the first layer), & the third one is used to create the training set to train the third layer (using predictions made by the predictors of the second layer). Once this is done, we can make a prediction for a new instance by going through each layer sequentially.\n",
    "\n",
    "<img src = \"Images/Predictions in Multilayer Stacking Ensemble.png\" width = \"500\" style = \"margin:auto\"/>\n",
    "\n",
    "Unfortunately, scikit-learn does not support stacking directly, it isn't too hard to roll out your own implementation. Alternatively, you can use an open source implementation such as `DESlib`."
   ]
  }
 ],
 "metadata": {
  "kernelspec": {
   "display_name": "Python 3 (ipykernel)",
   "language": "python",
   "name": "python3"
  },
  "language_info": {
   "codemirror_mode": {
    "name": "ipython",
    "version": 3
   },
   "file_extension": ".py",
   "mimetype": "text/x-python",
   "name": "python",
   "nbconvert_exporter": "python",
   "pygments_lexer": "ipython3",
   "version": "3.9.7"
  }
 },
 "nbformat": 4,
 "nbformat_minor": 5
}
