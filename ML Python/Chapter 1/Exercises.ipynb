{
 "cells": [
  {
   "cell_type": "markdown",
   "id": "2c3bf30d-eba1-4c75-83d7-13e5c0d44702",
   "metadata": {},
   "source": [
    "# Exercises\n",
    "\n",
    "1. How would you define machine learning?\n",
    "2. Can you name four types of problems where it shines?\n",
    "3. What is a labeled training set?\n",
    "4. What are the two most common supervised tasks?\n",
    "5. Can you name four common unsupervised tasks?\n",
    "6. What type of machine learning algorithm would you use to allow a robot to walk in various unknown terrains?\n",
    "7. What type of algorithm would you use to segment your customers into multiple groups?\n",
    "8. Would you frame the problem of spam detection as a supervised learning problem or an unsupervised learning problem?\n",
    "9. What is an online learning system?\n",
    "10. What is out-of-core learning?\n",
    "11. What type of learning algorithm relies on a similarity measure to make predictions?\n",
    "12. What is the difference between a model parameter & a learning algorithm's hyperparameter?\n",
    "13. What do model-based learning algorithms search for? What is the most common strategy they use to succeed? How do they make predictions?\n",
    "14. Can you name four of the main challenges in machine learning?\n",
    "15. If your model performs great on the training data, but generalises poorly to new instances, what is happening? Can you name three possible solutions?\n",
    "16. What is a test set & why would you want to use it?\n",
    "17. What is the purpose of a validation set?\n",
    "18. What can go wrong if you tune hyperparameters using the test set?\n",
    "19. What is repeated cross-validation & why would you prefer it to using a single validation set?"
   ]
  },
  {
   "cell_type": "markdown",
   "id": "69792a52-abe3-4140-b474-5de0f5704010",
   "metadata": {},
   "source": [
    "---"
   ]
  },
  {
   "cell_type": "markdown",
   "id": "11467ba1-d0c2-44dc-989c-f9602d880515",
   "metadata": {},
   "source": [
    "1. Machine learning is the process of training a computer to figure out how to perform a task.\n",
    "2. Machine learning is good for problems where the solution require a long list of rules or tuning -- it can help to simplify the process of finding the solution. It is also great for complex problems that we do not have good solutions to. Machine learning can also help with gaining insight on said problems & exploring huge amounts of data. Machine learning can adapt to changing data, so it can thrive in environments where variables are constantly changing.\n",
    "3. A labeled training set is a subset of your data that is used to train & evaluate your model's ability to predict on the training set.\n",
    "4. The two most common supervised tasks are classification & regression.\n",
    "5. Four common unsupervised tasks are clustering, anomaly or novelty detection, dimension reduction or feature selection, & association rule learning.\n",
    "6. Since the terrain is unknown, we would use an unsupervised learning algorithm.\n",
    "7. If the groups are already defined, I would use a supervised classification algorithm. If the groups aren't defined, I would use an unsupervised clustering algorithm.\n",
    "8. Spam detection is a supervised learning problem because it requires someone to identify emails as spam before any model is trained to distinguish emails between spam & not spam. If it was an unsupervised learning algorithm, a model might be able to separate emails into multiple groups, but we would not know what the groups mean.\n",
    "9. Online learning is when you train a model incrementally while receiving data as a continuous flow, sequentially, or in small groups. It's also great for saving computation resources because as soon as the model has learned about the new data, it can be discarded.\n",
    "10. Out-of-core learning is for when your dataset is so big your computer does not have enough main memory to process the entire dataset. Instead, the algorithm will load mini-batches of data & trains on that mini-batch until all the data is loaded & trained on.\n",
    "11. I think the question is referring to the K-nearest neighbours classifier. The classifier picks the k nearest (or most similar in terms of Euclidean distance) to the new instance & the majority class of the k neighbours becomes the class of the new instance.\n",
    "12. Model parameters define the function that the model will use to predict on data. Model hyperparameters are the learning algorithm's parameters -- they define how the model is learned. Hyperparameters may affect model parameters, but model parameters will not affect hyperparameters.\n",
    "13. Model-based learning algorithms search for a function that will fit the data the best. The most common method they use to succeed is to minimise a cost function. Model based learning algorithms is able to make predictions after it has been trained to find the optimal parameters for the model. The model parameters fit to the data to make predictions.\n",
    "14. Some challenges machine learning algorithms face are bad algorithms or bad data. Data can be poor-quality, nonrepresentative, irrelevant or there may not be a sufficient quantity. Even if we have a good algorithm, our bad data could make our model not able to generalise well. Our models can overfit or underfit the data -- in both cases, the model is not able to accurately predict on new data.\n",
    "15. Performing well on training data but poorly on new data is the hallmark of an overfit model. Possible solutions include picking another learning algorithm, regularisation, or reducing the number of features we use to train the learning algorithm.\n",
    "16. A test set is a labeled subset of the data used for a learning algorithm to predict on new unseen data.\n",
    "17. The validation set is a part of the training set that is held out during cross-validation, so that after the learning algorithm has found the best hyperparameters for the model, it can use the validation set to get an estimate of the model's ability to generalise.\n",
    "18. We will get a model & hyperparameters that is adapted for the test set. This means that the model will be overfit to the test set & is unlikely to perform well on new unseen data.\n",
    "19. Repeated cross-validation performs cross-validation many times. By holding out a part of the training set for validation (validation set), we are able to get the best set of hyperparameters for our model & get an unbiased estimate of the model's performance. By performing this repeatedly, using many validation sets, we are able to get an average of our model evaluations, which is a more accurate measure of its performance."
   ]
  },
  {
   "cell_type": "code",
   "execution_count": null,
   "id": "6456c9b5-9b32-42e6-8a03-19420d277f29",
   "metadata": {},
   "outputs": [],
   "source": []
  }
 ],
 "metadata": {
  "kernelspec": {
   "display_name": "Python 3 (ipykernel)",
   "language": "python",
   "name": "python3"
  },
  "language_info": {
   "codemirror_mode": {
    "name": "ipython",
    "version": 3
   },
   "file_extension": ".py",
   "mimetype": "text/x-python",
   "name": "python",
   "nbconvert_exporter": "python",
   "pygments_lexer": "ipython3",
   "version": "3.9.7"
  }
 },
 "nbformat": 4,
 "nbformat_minor": 5
}
