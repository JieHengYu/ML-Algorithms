{
 "cells": [
  {
   "cell_type": "markdown",
   "id": "0adebdb4-0bcd-4478-8c33-7efd75b1a488",
   "metadata": {},
   "source": [
    "# Exercises\n",
    "\n",
    "1. Why would you want to use the Data API?\n",
    "2. What are the benefits of splitting a large dataset into multiple files?\n",
    "3. During training, how can you tell that your input pipeline is the bottleneck? What can you do to fix it?\n",
    "4. Can you save any binary data to a tfrecord file, or only serialised protocol buffers?\n",
    "5. Why would you go through the hassle of converting all your data to the `Example` protobuf format? Why not use your own protobuf definition?\n",
    "6. When using tf records, when would you want to activate compression? Why not do it systematically?\n",
    "7. Data can be preprocessed directly when writing the data files, or within the tf.data pipeline, or in preprocessing layers within your model, or using tf transform. Can you list a few pros & cons of each option?\n",
    "8. Name a few common techniques you can use to encode categorical features. What about text?\n",
    "9. Load the fashion MNIST dataset; split it into a training set, validation set, & a test set; shuffle the training set; & save each dataset to multiple tfrecord files. Each record should be a serialised `Example` protobuf with two features: the serialised image (use `tf.io.serialize_tensor()` to serialise each image), & the label. Then use tf.data to create an efficient dataset for each set. Finally, use a keras model to train these datasets, including a preprocessing layer to standardise each input feature. Try to make the input pipeline as efficient as possible, using tensorboard to visualise profiling data.\n",
    "10. In this exercise, you will download a dataset, split it, create a `tf.data.Dataset` to load it & preprocess it efficiently, then build & train a binaary classification model containing an `Embedding` layer.\n",
    "   - Download the Large Movie Review dataset, which contains 50,000 movie reviews from the internet movie database. The data is organised in two directories *train* & *test*, each containing a *pos* subdirectory with 12,500 positive reviews & a *neg* subdirectory with 12,500 negative reviews. Each review is stored in a separate text file. There are other files & folders (including pre-processed bag-of-words), but we will ignore them in this exercise.\n",
    "   - Split the test set into a validation set (15,000) & a test set (15,000).\n",
    "   - Use tf.data to create an efficient dataset for each set.\n",
    "   - Create a binary classification model, using `TextVectorization` layer to preprocess each review.\n",
    "   - Add an `Embedding` layer & compute the mean embedding for each review, multiplied by the square root of the number of words. This rescaled mean embedding can then be passed to the rest of your model.\n",
    "   - Train the model & see what accuracy you get. Try to optimise your pipelines to make training as fast as possible.\n",
    "   - Use TFDS to load the same dataset more easily: `tfds.load(\"imdb_reviews\")`."
   ]
  },
  {
   "cell_type": "markdown",
   "id": "5306afc8-2eea-43cb-8410-f9139817831b",
   "metadata": {},
   "source": [
    "---"
   ]
  },
  {
   "cell_type": "markdown",
   "id": "78c7fe51-ba9d-4d07-b8cf-f40c9412d17c",
   "metadata": {},
   "source": [
    "1. The data API makes loading & preprocessing data with TensorFlow easier. It can ingest large datasets & preprocess them simply: you just create a dataset object & specify where to get the data & how to transfrom it. It can also read from a variety of file types & supports reading from SQL databases.\n",
    "2. Gradient descent works best when the instances of a dataset are independent & identically distributed. This means that we need to shuffle the instances of a dataset. For large datasets that cannot fit into memory, one possible solution is to split the dataset into multiple files. You can then pick multiple files randomly & read them simultaneously, interleaving their records. On top of that, you could also add a shuffling buffer, which will improve shuffling a lot more.\n",
    "3. You want to make sure your GPU is close to 100% utilised. To do this, you employ prefetching & multithreading. Prefetching means that while our training algorithm is working on one batch, the dataset will be working in parallel on getting the next batch ready (load & preprocess). If you also ensure that loading & preprocessing is multi-threaded (set `num_parallel_calls` when calling `interleave()` & `map()`), then you can exploit multiple cores on the CPU so that the time for loading & preprocessing is less than the time for training on the GPU.\n",
    "4. You can save binary data to both a tfrecord file & serialised protocol buffers. To serialise your protocol buffer, use the `SerializetToString()` method.\n",
    "5. We go through the hassle of converting all our data to the `Example` protobuf format instead of using our protobuf definition because the custom protobuf methods are not TensorFlow operations, which mean that they cannot be included in a TensorFlow function (except for wrapping them in a `tf.py_function()` operation, which slows down training & makes the code less portable.\n",
    "6. You want to compress your tfrecord files if they need to be loaded via network connection. This means that if you are going to download the compressed tf record files, then you will want to activate compression. Otherwise, if the files are on the same machine, then it's preferable to leave compression off.\n",
    "7. *(1)* If you preprocess the data when creating the data files, then training will run faster, since it will not have to perform preprocessing. *(2)* If the data is preprocessed with a tf.data pipeline, it can be very efficient (with multithreading & prefetching). However, preprocessing data this way slows down training, because it is done on the fly. This also means that each training instance will be preprocessed multiple times (once per epoch) rather than just once, if the data was preprocessing when creating the data files. *(3)* If you add preprocessing layers to your model, then it will also slow down training & each instance will be preprocessed multiple times (once per epoch). However, you can speed this up by multithreading & prefetching. *(4)* With tf transform, each instance is preprocessed just once, which speeds up training. It also automatically generates preprocessing layers, which is great for maintenance because your preprocessing is all in one place.\n",
    "8. For categorical features, you can use encode them as one-hot vectors. For large datasets, where learning the full vocabulary of the categorical features is a hassle, you can use out-of-vocabulary buckets. You can also use embeddings for categorical features."
   ]
  },
  {
   "cell_type": "markdown",
   "id": "42eba353-93a7-418e-b332-f36f098390c6",
   "metadata": {},
   "source": [
    "# 9."
   ]
  },
  {
   "cell_type": "code",
   "execution_count": 1,
   "id": "0c437f12-4fb9-4750-9e53-ddb6fc7a7867",
   "metadata": {
    "tags": []
   },
   "outputs": [],
   "source": [
    "import tensorflow as tf\n",
    "\n",
    "(X_train, y_train), (X_test, y_test) = tf.keras.datasets.fashion_mnist.load_data()\n",
    "X_train, y_train = X_train[5000:], y_train[5000:]\n",
    "X_val, y_val = X_train[:5000], y_train[:5000]"
   ]
  },
  {
   "cell_type": "code",
   "execution_count": 2,
   "id": "81322993-2e49-41e9-864a-e403b8717722",
   "metadata": {
    "tags": []
   },
   "outputs": [],
   "source": [
    "train_set = tf.data.Dataset.from_tensor_slices((X_train, y_train)).shuffle(buffer_size = len(X_train))\n",
    "val_set = tf.data.Dataset.from_tensor_slices((X_val, y_val))\n",
    "test_set = tf.data.Dataset.from_tensor_slices((X_test, y_test))"
   ]
  },
  {
   "cell_type": "code",
   "execution_count": 3,
   "id": "8942fe33-fc55-4403-9ce3-2703d78e257c",
   "metadata": {
    "tags": []
   },
   "outputs": [],
   "source": [
    "BytesList = tf.train.BytesList\n",
    "FloatList = tf.train.FloatList\n",
    "Int64List = tf.train.Int64List\n",
    "Feature = tf.train.Feature\n",
    "Features = tf.train.Features\n",
    "Example = tf.train.Example\n",
    "\n",
    "def create_example(image, label):\n",
    "    image_data = tf.io.serialize_tensor(image)\n",
    "    return Example(features = Features(feature = {\"image\": Feature(bytes_list = BytesList(value = [image_data.numpy()])),\n",
    "                                                  \"label\": Feature(int64_list = Int64List(value = [label]))}))"
   ]
  },
  {
   "cell_type": "code",
   "execution_count": 4,
   "id": "73158328-8d14-4875-a16a-d269ac203f5f",
   "metadata": {
    "tags": []
   },
   "outputs": [
    {
     "name": "stdout",
     "output_type": "stream",
     "text": [
      "features {\n",
      "  feature {\n",
      "    key: \"label\"\n",
      "    value {\n",
      "      int64_list {\n",
      "        value: 4\n",
      "      }\n",
      "    }\n",
      "  }\n",
      "  feature {\n",
      "    key: \"image\"\n",
      "    value {\n",
      "      bytes_list {\n",
      "        value: \"\\010\\004\\022\\010\\022\\002\\010\\034\\022\\002\\010\\034\\\"\\220\\006\\000\\000\\000\\000\\000\\000\\000\\000\\000\\000\\000\\000\\000\\000\\000\\000\\000\\000\\000\\001\\000\\000\\000\\000\\000\\000\\000\\000\\000\\000\\000\\000\\000\\000\\000\\000\\000\\000\\000,\\177\\266\\271\\241x7\\000\\000\\000\\000\\000\\000\\000\\000\\000\\000\\000\\000\\000\\000\\000\\000\\000\\000\\000*\\306\\373\\377\\373\\371\\367\\377\\374\\326d\\000\\000\\000\\000\\000\\000\\000\\000\\000\\000\\000\\000\\000\\000\\002\\000\\000\\351\\374\\355\\357\\352\\355\\353\\355\\355\\376\\343\\000\\000\\000\\000\\001\\000\\000\\000\\000\\000\\000\\000\\000\\002\\000\\000\\020\\322\\341\\327\\257\\331\\330\\301\\304\\342\\335\\3212\\000\\000\\002\\000\\000\\000\\000\\000\\000\\000\\000\\002\\000\\000\\307\\345\\350\\346\\365\\314\\333\\375\\365\\317\\302\\337\\347\\354\\353\\000\\000\\003\\000\\000\\000\\000\\000\\000\\000\\001\\000\\211\\353\\314\\321\\311\\321\\352\\276\\352\\332\\327\\356\\357\\314\\275\\340\\232\\000\\000\\000\\000\\000\\000\\000\\000\\000\\000\\000\\302\\311\\310\\321\\312\\301\\315\\302\\267\\332\\347\\305\\254\\265\\301\\315\\307\\000\\000\\000\\000\\000\\000\\000\\000\\000\\000\\003\\324\\313\\274\\275\\304\\306\\306\\311\\304\\331\\263\\247\\267\\331\\305\\312\\333\\036\\000\\000\\000\\000\\000\\000\\000\\000\\000\\\"\\341\\310\\302\\276\\274\\300\\304\\300\\252\\312\\276\\311\\303\\310\\311\\321\\3432\\000\\000\\000\\000\\000\\000\\000\\000\\000D\\341\\322\\323\\306\\300\\304\\314\\304\\265\\324\\305\\303\\300\\316\\334\\322\\345]\\000\\000\\000\\000\\000\\000\\000\\000\\000o\\337\\343\\375\\321\\304\\314\\323\\316\\267\\330\\316\\322\\313\\327\\364\\340\\343\\226\\000\\000\\000\\000\\000\\000\\000\\000\\000\\213\\341\\340\\377\\312\\316\\324\\321\\323\\276\\325\\312\\317\\316\\336\\377\\346\\334\\276\\000\\000\\000\\000\\000\\000\\000\\000\\000\\264\\342\\340\\377\\307\\314\\317\\326\\326\\276\\330\\316\\313\\315\\333\\363\\340\\326\\352\\000\\000\\000\\000\\000\\000\\000\\000\\000\\341\\337\\344\\376\\321\\316\\320\\325\\322\\277\\327\\317\\314\\320\\323\\371\\342\\326\\377&\\000\\000\\000\\000\\000\\000\\000\\000\\372\\350\\360\\357\\323\\313\\321\\315\\323\\305\\327\\320\\320\\326\\325\\357\\347\\333\\377Q\\000\\000\\000\\000\\000\\000\\000\\000\\370\\354\\367\\360\\313\\310\\320\\316\\326\\301\\325\\324\\320\\324\\323\\363\\362\\341\\376B\\000\\000\\000\\000\\000\\000\\000\\000\\367\\346\\374\\342\\307\\323\\312\\323\\325\\266\\325\\324\\316\\312\\333\\317\\367\\336\\355h\\000\\000\\000\\000\\000\\000\\000\\n\\364\\333\\372\\315\\307\\321\\312\\321\\323\\275\\326\\316\\322\\310\\324\\232\\360\\320\\333\\214\\000\\000\\000\\000\\000\\000\\000\\025\\377\\336\\356\\270\\322\\300\\316\\321\\322\\275\\325\\323\\321\\300\\344\\233\\342\\356\\361\\246\\000\\000\\000\\000\\000\\000\\000%\\365\\342\\361\\226\\305\\275\\314\\321\\322\\267\\325\\325\\311\\270\\327\\222\\330\\354\\341\\232\\000\\000\\000\\000\\000\\000\\000:\\357\\343\\377\\236\\301\\303\\314\\321\\325\\264\\317\\331\\307\\302\\323\\236\\333\\354\\330\\227\\000\\000\\000\\000\\000\\000\\000D\\351\\342\\363\\213\\310\\301\\315\\322\\320\\264\\315\\324\\313\\304\\330\\235\\263\\377\\330\\233\\000\\000\\000\\000\\000\\000\\000Q\\341\\340\\323\\212\\333\\271\\311\\325\\317\\305\\342\\324\\310\\276\\327\\267Z\\377\\323\\223\\000\\000\\000\\000\\000\\000\\000[\\322\\346\\236r\\315\\273\\320\\321\\316\\301\\322\\323\\314\\303\\314\\265\\027\\377\\325\\236\\000\\000\\000\\000\\000\\000\\000W\\315\\350m\\244\\377\\326\\340\\336\\322\\305\\326\\341\\336\\323\\334\\331\\000\\352\\330\\251\\000\\000\\000\\000\\000\\000\\000\\\\\\325\\350\\222\\005\\206\\227\\242\\252\\267\\266\\244\\246\\262\\242\\234b\\000\\360\\341\\322\\000\\000\\000\\000\\000\\000\\000+\\244\\316\\215\\000\\000\\000\\000\\000\\000\\000\\000\\000\\000\\000\\000\\000\\000\\177}L\\000\\000\\000\"\n",
      "      }\n",
      "    }\n",
      "  }\n",
      "}\n",
      "\n"
     ]
    }
   ],
   "source": [
    "for image, label in val_set.take(1):\n",
    "    print(create_example(image, label))"
   ]
  },
  {
   "cell_type": "code",
   "execution_count": 5,
   "id": "fbc9dcac-b4a4-4c39-9583-a5088e2564c6",
   "metadata": {
    "tags": []
   },
   "outputs": [],
   "source": [
    "from contextlib import ExitStack\n",
    "\n",
    "def write_tfrecords(name, dataset, n_shards = 10):\n",
    "    paths = [\"{}.tfrecord-{:05d}-of-{:05d}\".format(name, index, n_shards)\n",
    "             for index in range(n_shards)]\n",
    "    with ExitStack() as stack:\n",
    "        writers = [stack.enter_context(tf.io.TFRecordWriter(path))\n",
    "                   for path in paths]\n",
    "        for index, (image, label) in dataset.enumerate():\n",
    "            shard = index % n_shards\n",
    "            example = create_example(image, label)\n",
    "            writers[shard].write(example.SerializeToString())\n",
    "    return paths"
   ]
  },
  {
   "cell_type": "code",
   "execution_count": 6,
   "id": "db363851-4f9e-436f-8d00-2a677a6f4748",
   "metadata": {
    "tags": []
   },
   "outputs": [],
   "source": [
    "train_filepaths = write_tfrecords(\"my_fashion_mnist.train\", train_set)\n",
    "val_filepaths = write_tfrecords(\"my_fashion_mnist.val\", val_set)\n",
    "test_filepaths = write_tfrecords(\"my_fashion_mnist.test\", test_set)"
   ]
  },
  {
   "cell_type": "code",
   "execution_count": 7,
   "id": "c9df5a91-ba23-42db-a993-bf353aec65b1",
   "metadata": {
    "tags": []
   },
   "outputs": [],
   "source": [
    "def preprocess(tfrecord):\n",
    "    feature_descriptions = {\n",
    "        \"image\": tf.io.FixedLenFeature([], tf.string, default_value=\"\"),\n",
    "        \"label\": tf.io.FixedLenFeature([], tf.int64, default_value=-1)\n",
    "    }\n",
    "    example = tf.io.parse_single_example(tfrecord, feature_descriptions)\n",
    "    image = tf.io.parse_tensor(example[\"image\"], out_type = tf.uint8)\n",
    "    #image = tf.io.decode_jpeg(example[\"image\"])\n",
    "    image = tf.reshape(image, shape=[28, 28])\n",
    "    return image, example[\"label\"]\n",
    "\n",
    "def mnist_dataset(filepaths, n_read_threads = 5, shuffle_buffer_size = None,\n",
    "                  n_parse_threads = 5, batch_size = 32, cache = True):\n",
    "    dataset = tf.data.TFRecordDataset(filepaths,\n",
    "                                      num_parallel_reads = n_read_threads)\n",
    "    if cache:\n",
    "        dataset = dataset.cache()\n",
    "    if shuffle_buffer_size:\n",
    "        dataset = dataset.shuffle(shuffle_buffer_size)\n",
    "    dataset = dataset.map(preprocess, num_parallel_calls = n_parse_threads)\n",
    "    dataset = dataset.batch(batch_size)\n",
    "    return dataset.prefetch(1)"
   ]
  },
  {
   "cell_type": "code",
   "execution_count": 8,
   "id": "40ace7d6-3f5b-431d-a2de-3ef48bf18ff8",
   "metadata": {
    "tags": []
   },
   "outputs": [],
   "source": [
    "train_set = mnist_dataset(train_filepaths, shuffle_buffer_size = 60000)\n",
    "val_set = mnist_dataset(val_filepaths)\n",
    "test_set = mnist_dataset(test_filepaths)"
   ]
  },
  {
   "cell_type": "code",
   "execution_count": 9,
   "id": "6bcf6bea-3928-4448-a1cd-de099096f048",
   "metadata": {
    "tags": []
   },
   "outputs": [
    {
     "name": "stderr",
     "output_type": "stream",
     "text": [
      "C:\\Users\\yuj22\\AppData\\Local\\Temp\\ipykernel_20292\\1909499068.py:11: UserWarning: Do not pass an `input_shape`/`input_dim` argument to a layer. When using Sequential models, prefer using an `Input(shape)` object as the first layer in the model instead.\n",
      "  standardization = Standardization(input_shape=[28, 28])\n"
     ]
    },
    {
     "name": "stdout",
     "output_type": "stream",
     "text": [
      "WARNING:tensorflow:From C:\\Users\\yuj22\\AppData\\Local\\anaconda3\\Lib\\site-packages\\keras\\src\\backend\\tensorflow\\core.py:204: The name tf.placeholder is deprecated. Please use tf.compat.v1.placeholder instead.\n",
      "\n"
     ]
    }
   ],
   "source": [
    "from tensorflow import keras\n",
    "import numpy as np\n",
    "\n",
    "class Standardization(keras.layers.Layer):\n",
    "    def adapt(self, data_sample):\n",
    "        self.means_ = np.mean(data_sample, axis=0, keepdims=True)\n",
    "        self.stds_ = np.std(data_sample, axis=0, keepdims=True)\n",
    "    def call(self, inputs):\n",
    "        return (inputs - self.means_) / (self.stds_ + keras.backend.epsilon())\n",
    "\n",
    "standardization = Standardization(input_shape=[28, 28])\n",
    "\n",
    "sample_image_batches = train_set.take(100).map(lambda image, label: image)\n",
    "sample_images = np.concatenate(list(sample_image_batches.as_numpy_iterator()),\n",
    "                               axis = 0).astype(np.float32)\n",
    "standardization.adapt(sample_images)\n",
    "\n",
    "model = keras.models.Sequential([\n",
    "    standardization,\n",
    "    keras.layers.Flatten(),\n",
    "    keras.layers.Dense(100, activation = \"relu\"),\n",
    "    keras.layers.Dense(10, activation = \"softmax\")\n",
    "])\n",
    "model.compile(loss = \"sparse_categorical_crossentropy\",\n",
    "              optimizer = \"nadam\", metrics = [\"accuracy\"])"
   ]
  },
  {
   "cell_type": "code",
   "execution_count": 12,
   "id": "177fb849-9349-40ec-9cd5-a8577b42a5a8",
   "metadata": {
    "tags": []
   },
   "outputs": [
    {
     "name": "stdout",
     "output_type": "stream",
     "text": [
      "Epoch 1/5\n",
      "   1707/Unknown \u001b[1m3s\u001b[0m 1ms/step - accuracy: 0.8056 - loss: 0.5495"
     ]
    },
    {
     "name": "stderr",
     "output_type": "stream",
     "text": [
      "C:\\Users\\yuj22\\AppData\\Local\\anaconda3\\Lib\\contextlib.py:155: UserWarning: Your input ran out of data; interrupting training. Make sure that your dataset or generator can generate at least `steps_per_epoch * epochs` batches. You may need to use the `.repeat()` function when building your dataset.\n",
      "  self.gen.throw(typ, value, traceback)\n"
     ]
    },
    {
     "name": "stdout",
     "output_type": "stream",
     "text": [
      "\u001b[1m1719/1719\u001b[0m \u001b[32m━━━━━━━━━━━━━━━━━━━━\u001b[0m\u001b[37m\u001b[0m \u001b[1m3s\u001b[0m 1ms/step - accuracy: 0.8059 - loss: 0.5488 - val_accuracy: 0.8790 - val_loss: 0.3301\n",
      "Epoch 2/5\n",
      "\u001b[1m1719/1719\u001b[0m \u001b[32m━━━━━━━━━━━━━━━━━━━━\u001b[0m\u001b[37m\u001b[0m \u001b[1m2s\u001b[0m 1ms/step - accuracy: 0.8794 - loss: 0.3334 - val_accuracy: 0.8934 - val_loss: 0.2791\n",
      "Epoch 3/5\n",
      "\u001b[1m1719/1719\u001b[0m \u001b[32m━━━━━━━━━━━━━━━━━━━━\u001b[0m\u001b[37m\u001b[0m \u001b[1m2s\u001b[0m 1ms/step - accuracy: 0.8936 - loss: 0.2900 - val_accuracy: 0.9038 - val_loss: 0.2505\n",
      "Epoch 4/5\n",
      "\u001b[1m1719/1719\u001b[0m \u001b[32m━━━━━━━━━━━━━━━━━━━━\u001b[0m\u001b[37m\u001b[0m \u001b[1m2s\u001b[0m 1ms/step - accuracy: 0.9038 - loss: 0.2572 - val_accuracy: 0.9152 - val_loss: 0.2188\n",
      "Epoch 5/5\n",
      "\u001b[1m1719/1719\u001b[0m \u001b[32m━━━━━━━━━━━━━━━━━━━━\u001b[0m\u001b[37m\u001b[0m \u001b[1m2s\u001b[0m 1ms/step - accuracy: 0.9125 - loss: 0.2406 - val_accuracy: 0.9166 - val_loss: 0.2238\n"
     ]
    },
    {
     "data": {
      "text/plain": [
       "<keras.src.callbacks.history.History at 0x1eca64c7d90>"
      ]
     },
     "execution_count": 12,
     "metadata": {},
     "output_type": "execute_result"
    }
   ],
   "source": [
    "from datetime import datetime\n",
    "import os\n",
    "\n",
    "logs = os.path.join(os.curdir, \"my_logs\",\n",
    "                    \"run_\" + datetime.now().strftime(\"%Y%m%d_%H%M%S\"))\n",
    "\n",
    "tensorboard_cb = tf.keras.callbacks.TensorBoard(\n",
    "    log_dir = logs, histogram_freq = 1, profile_batch = 10)\n",
    "\n",
    "model.fit(train_set, epochs = 5, validation_data = val_set,\n",
    "          callbacks = [tensorboard_cb])"
   ]
  },
  {
   "cell_type": "code",
   "execution_count": 13,
   "id": "5dfff734-082c-49b4-8cff-d42680a6e7e3",
   "metadata": {
    "tags": []
   },
   "outputs": [
    {
     "data": {
      "text/html": [
       "\n",
       "      <iframe id=\"tensorboard-frame-76543bcbcacfb97c\" width=\"100%\" height=\"800\" frameborder=\"0\">\n",
       "      </iframe>\n",
       "      <script>\n",
       "        (function() {\n",
       "          const frame = document.getElementById(\"tensorboard-frame-76543bcbcacfb97c\");\n",
       "          const url = new URL(\"/\", window.location);\n",
       "          const port = 6006;\n",
       "          if (port) {\n",
       "            url.port = port;\n",
       "          }\n",
       "          frame.src = url;\n",
       "        })();\n",
       "      </script>\n",
       "    "
      ],
      "text/plain": [
       "<IPython.core.display.HTML object>"
      ]
     },
     "metadata": {},
     "output_type": "display_data"
    }
   ],
   "source": [
    "%load_ext tensorboard\n",
    "%tensorboard --logdir=\"C:\\Users\\yuj22\\Desktop\\ML_Python\\Chapter 13\\my_logs\" --port=6006"
   ]
  },
  {
   "cell_type": "markdown",
   "id": "bb4d2008-7c1c-49a0-add0-6242625c682e",
   "metadata": {},
   "source": [
    "# 10."
   ]
  },
  {
   "cell_type": "code",
   "execution_count": null,
   "id": "88164d65-b59a-4dee-af61-f6aac354373d",
   "metadata": {},
   "outputs": [],
   "source": []
  }
 ],
 "metadata": {
  "kernelspec": {
   "display_name": "Python 3 (ipykernel)",
   "language": "python",
   "name": "python3"
  },
  "language_info": {
   "codemirror_mode": {
    "name": "ipython",
    "version": 3
   },
   "file_extension": ".py",
   "mimetype": "text/x-python",
   "name": "python",
   "nbconvert_exporter": "python",
   "pygments_lexer": "ipython3",
   "version": "3.11.5"
  }
 },
 "nbformat": 4,
 "nbformat_minor": 5
}
