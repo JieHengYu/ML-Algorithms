{
 "cells": [
  {
   "cell_type": "markdown",
   "id": "72bd80d0-206c-4f96-bdc6-0cedbbbb90e3",
   "metadata": {},
   "source": [
    "# Exercises\n",
    "\n",
    "1. The Tensorflow playground is a handy neural network simulator built by the Tensorflow team. In this exercise, you will train several binary classifiers in just a few clicks, & tweak the model's architecture & its hyperparameters to gain some intuition on how neural networks work & what their hyperparameters do. Take some time to explore the following:\n",
    "   a. The patterns learned by a neural net. Try training the default neural network by clicking the Run button (top left). Notice how it quickly finds a good solution for the classification task. The neurons in the first hidden layer have learned simple patterns, while the neurons in the second hidden layer have learned to combine the simple patterns of the first hidden layer into more complex patterns. In general, the more layers there are, the more complex the patterns can be.\n",
    "   b. Activation functions. Try replacing the tanh activation with a ReLU activation function, & train the network again. Notice that it finds a solution even faster, but this time the boundaries are linear. This is due to the shape of the ReLU function.\n",
    "   c. The risk of local minima. Modify the network architecture to have just one hidden layer with three neurons. Train it multiple times (to reset the network weights, click the Reset button next to the Play button). Notice that the training time varies a lot, & sometimes it even gets stuck in a local minimum.\n",
    "   d. What happens when neural nets are too small? Remove one neuron to keep just two. Notice that the neural network is now incapable of finding a good solution, even if you try multiple times. The model has too few parameters & systematically underfits the training set.\n",
    "   e. What happens when neural nets are large enough? Set the number of neurons to eight, & train the network several times. Notice that it is now consistently fast & never gets stuck. This highlights an important finding in neural network theory: large neural networks almost never get stuck in local minima, & even when they do these local optima are almost as good as the global optimum. However, they can still get stuck on long plateaus for a long time.\n",
    "   f. The risk of vanishing gradients in deep networks. Select the spiral dataset (the bottom-right dataset under \"DATA\"), & change the network architecture to have four hidden layers with eight neurons each. Notice that training takes much longer & often gets stuck on plateaus for long periods of time. Also notice that the neurons in the highest layers (on the right) tend to evolve faster than neurons in the lowest layers (on the left). This problem, called the \"vanishing gradients\" problem, can be alleviated with better weight initialisation & other techniques, better optimisers (such as AdaGrad or Adam), or batch normalisation.\n",
    "   g. Go further. Take an hour or so to play around with other parameters & get a feel for what they do, to build an intuitive understanding about neural networks.\n",
    "2. Draw an ANN using the original artificial neurons that computes $A \\oplus B$ (where $\\oplus$ represents the XOR operation). Hint: $A \\oplus B = (A \\land \\neg B) \\lor (\\neg A \\land B)$.\n",
    "3. Why is it generally preferrable to use a logistic regression classifier rather than a classical perceptron (i.e., a single layer of threshold logic units trained using the perceptron training algorithm)? How can you tweak a perceptron to make it equivalent to a logistic regression classifier?\n",
    "4. Why was the logistic activation function a key ingredient in training the first MLPs?\n",
    "5. Name three popular activation functions. Can you draw them?\n",
    "6. Suppose you have an MLP composed of one input layer with 10 passthrough neurons, followed by one hidden layer with 50 artificial neurons, & finally one output layer with 3 artificial neurons. All artificial neurons use the ReLU activation function.\n",
    "   * What is the shape of the input matrix $X$?\n",
    "   * What are the shapes of the hidden layer's weight vector $W_j$ & its bias vector $b_h$?\n",
    "   * What are the shapes of the output layer's weight vector $W_o$ & its bias vector $b_o$?\n",
    "   * What is the shape of the network's output matrix $Y$?\n",
    "   * Write the equation that computes the network's output matrix $Y$ as a function of $X$, $W_h$, $b_h$, $W_o$, & $b_o$.\n",
    "7. How many neurons do you need in the output layer if you want to classify email into spam or ham? What activation function should you use in the output layer? If instead you want to tackle MNIST, how many neurons do you need in the output layer, & which activation function should you use? What about for getting your network to predict housing prices?\n",
    "8. What is backpropagation & how does it work? What is the difference between backpropagation & reverse-mode autodiff?\n",
    "9. Can you list all the hyperparameters you can tweak in a basic MLP? If the MLP overfits the training data, how could you tweak these hyperparameters to try to solve the problem?\n",
    "10. Train a deep MLP on the MNIST dataset (you can load it using the `keras.datasets.mnist.load_data()`. See if you can get over 98% precision. Try searching for the optimal learning rate by using the approach presented in this chapter (i.e., by growing the learning rate by using the approach presented in this chapter (i.e., by growing the learning rate exponentially, plotting the loss, & finding the point where the loss shoots up). Try adding all the bells & whistles -- save checkpoints, use early stopping, & plot learning curves using Tensorboard."
   ]
  },
  {
   "cell_type": "markdown",
   "id": "36104382-ca17-4eea-a2da-6c567c5222c7",
   "metadata": {},
   "source": [
    "---"
   ]
  },
  {
   "cell_type": "markdown",
   "id": "b0945dc6-3288-4516-8a9b-afff5df55318",
   "metadata": {},
   "source": [
    "1. [Tensorflow Playground](https://playground.tensorflow.org/#activation=tanh&batchSize=10&dataset=circle&regDataset=reg-plane&learningRate=0.03&regularizationRate=0&noise=0&networkShape=4,2&seed=0.27089&showTestData=false&discretize=false&percTrainData=50&x=true&y=true&xTimesY=false&xSquared=false&ySquared=false&cosX=false&sinX=false&cosY=false&sinY=false&collectStats=false&problem=classification&initZero=false&hideText=false)\n",
    "2. <img src = \"Images/Xor Operation.png\" width = \"600\" style = \"margin:auto\"/>\n",
    "3. Perceptrons do not output a class probability; they make predictions based on a hard threshold, unlike logistic regression classifiers, which output class probabilities. Also, perceptrons can only converge to a solution if the training instances are linearly separable (*perceptron convergence theorem*). You can make a perceptron equivalent to a logistic regression classifier by changing the activation function to the  logistic activation function (softmax activation function for multiple outputs). Then you train it with gradient descent, similar to logistic regression.\n",
    "4. It's derivative is never zero, the MLP could always converge to a solution.\n",
    "5. <img src = \"Images/Activation Functions & Their Derivatives.png\" widht = \"600\" style = \"margin:auto\"/>\n",
    "6. The input matrix has 10 input neurons, so its size would be 10 rows x $m$ columns, where $m$ is the mini-batch size (# of instances). The shape of the hidden layer's weight vector $W_j$ & its bias vector $b_h$ is (10, 50) & 50, respectively. The shape of the outputer layer's weight vector $W_o$ & its bias vector $b_o$ is (50, 3) & 3, respectively. The shape of the network's output matrix $Y$ is 3 * $m$; once again, $m$ is the mini-batch size.\n",
    "7. The equation is $\\phi((\\phi(XW_h + b_h))W_o + b_o)$ where $\\phi$ is ReLU activation function.\n",
    "8. Backpropagation is a technique used to find out each connection weight & each bias term in a neural network with regard to every single model parameter. It handles one mini-batch at a time & goes through the full training set multiple times. Each mini-batch is passed through the network's input layer, which sends it to the first hidden layer. The algorithm then computes the output of all the neurons in this hidden layer for each instance in the mini-batch, & the output is passed on to the next layer. This process is repeaeted until we get the output of the last layer, the output layer. This is the *forward pass*; it is exactly like making a prediction, but the intermediate results are preserved for the *backward pass*. The algorithm then measure the network's output error using a loss function that compares the desired output & the actual output of the network, returning some measure of the error. Then it computes how much each output connection contributed to the error. The algorithm then computes how much of these error contributions came from the connection in the layer below, & so on, until it reaches the first hidden layer. Finally, the algorithm performs gradient descent to tweak all the connection weights in the network using the error gradients it computed. Reverse-mode auto diff performs forward pass through a network & then performs a reverse pass, computing the error gradients. In essence, backpropagation is the entire process of training a neural network using backpropagation steps, computing the error gradient & performing gradient descent on each mini-batch, until its gone through the training set multiple times. Reverse-mode auto diff is the technique of computing the gradients efficiently, which backpropagation happens to use.\n",
    "9. Number of hidden layers, number of neurons in hidden layers, learning rate, optimiser, activation function, number of training iterations. If a MLP overfits the training data, you can reduce the number hidden layers & reduce the number of neurons in your hidden layers."
   ]
  },
  {
   "cell_type": "markdown",
   "id": "1a339698-f953-4db1-8d20-0a7569befe01",
   "metadata": {},
   "source": [
    "# 10."
   ]
  },
  {
   "cell_type": "code",
   "execution_count": 3,
   "id": "fcaecd7f-6f3f-4941-9660-06d8f565cfef",
   "metadata": {},
   "outputs": [],
   "source": [
    "import tensorflow as tf\n",
    "from tensorflow import keras\n",
    "\n",
    "(X_train, y_train), (X_test, y_test) = keras.datasets.mnist.load_data()\n",
    "X_val, X_train = X_train[:5000] / 255.0, X_train[5000:] / 255.0\n",
    "y_val, y_train = y_train[:5000], y_train[5000:]\n",
    "X_test = X_test / 255.0"
   ]
  },
  {
   "cell_type": "code",
   "execution_count": 12,
   "id": "ad704fe7-22bb-40e2-af92-0dd4c22e195a",
   "metadata": {},
   "outputs": [],
   "source": [
    "K = keras.backend\n",
    "\n",
    "# Define a function that will capture the learning rate & loss.\n",
    "class ExponentialLearningRate(keras.callbacks.Callback):\n",
    "    def __init__(self, factor):\n",
    "        self.factor = factor\n",
    "        self.rates = []\n",
    "        self.losses = []\n",
    "    def on_batch_end(self, batch, logs):\n",
    "        self.rates.append(K.get_value(self.model.optimizer.learning_rate))\n",
    "        self.losses.append(logs[\"loss\"])\n",
    "        K.set_value(self.model.optimizer.learning_rate, self.model.optimizer.learning_rate * self.factor)"
   ]
  },
  {
   "cell_type": "code",
   "execution_count": 19,
   "id": "a3c5578e-101a-4617-be6c-da40ef564f37",
   "metadata": {},
   "outputs": [],
   "source": [
    "keras.backend.clear_session()\n",
    "\n",
    "model = keras.models.Sequential([\n",
    "    keras.layers.Flatten(input_shape = [28, 28]),\n",
    "    keras.layers.Dense(300, activation = \"relu\"),\n",
    "    keras.layers.Dense(100, activation = \"relu\"),\n",
    "    keras.layers.Dense(10, activation = \"softmax\")\n",
    "])"
   ]
  },
  {
   "cell_type": "code",
   "execution_count": 20,
   "id": "f81c7ae0-f8fb-4334-8d10-94f993604889",
   "metadata": {},
   "outputs": [],
   "source": [
    "# Start with a learning rate of 1e-3 & grow it by 0.5% at each iteration.\n",
    "model.compile(loss = \"sparse_categorical_crossentropy\",\n",
    "              optimizer = keras.optimizers.SGD(learning_rate = 1e-3),\n",
    "              metrics = [\"accuracy\"])\n",
    "exp_lr = ExponentialLearningRate(factor = 1.005)"
   ]
  },
  {
   "cell_type": "code",
   "execution_count": 21,
   "id": "4e30b94f-bf49-46ee-ae25-d7cc1231811d",
   "metadata": {},
   "outputs": [
    {
     "name": "stdout",
     "output_type": "stream",
     "text": [
      "1719/1719 [==============================] - 6s 3ms/step - loss: nan - accuracy: 0.6005 - val_loss: nan - val_accuracy: 0.0958\n"
     ]
    }
   ],
   "source": [
    "# Train the model for 1 epoch.\n",
    "history = model.fit(X_train, y_train, epochs = 1,\n",
    "                    validation_data = (X_val, y_val),\n",
    "                    callbacks = [exp_lr])"
   ]
  },
  {
   "cell_type": "markdown",
   "id": "de4ee663-5e4b-4c34-9f90-eacefdd06963",
   "metadata": {},
   "source": [
    "Now we will plot the loss against learning rate."
   ]
  },
  {
   "cell_type": "code",
   "execution_count": 24,
   "id": "5675ca51-bc16-47c0-af24-60fccd9f2e34",
   "metadata": {},
   "outputs": [
    {
     "data": {
      "text/plain": [
       "Text(0, 0.5, 'Loss')"
      ]
     },
     "execution_count": 24,
     "metadata": {},
     "output_type": "execute_result"
    },
    {
     "data": {
      "image/png": "[encoded data removed]",
      "text/plain": [
       "<Figure size 432x288 with 1 Axes>"
      ]
     },
     "metadata": {
      "needs_background": "light"
     },
     "output_type": "display_data"
    }
   ],
   "source": [
    "%matplotlib inline\n",
    "import matplotlib.pyplot as plt\n",
    "\n",
    "plt.plot(exp_lr.rates, exp_lr.losses)\n",
    "plt.gca().set_xscale(\"log\")\n",
    "plt.hlines(min(exp_lr.losses), min(exp_lr.rates), max(exp_lr.rates))\n",
    "plt.axis([min(exp_lr.rates), max(exp_lr.rates), 0, exp_lr.losses[0]])\n",
    "plt.grid()\n",
    "plt.xlabel(\"Learning Rate\")\n",
    "plt.ylabel(\"Loss\")"
   ]
  },
  {
   "cell_type": "markdown",
   "id": "40686636-d9e6-41ea-b59b-4a742bee0c90",
   "metadata": {},
   "source": [
    "It seems like anything before 1 will work."
   ]
  },
  {
   "cell_type": "code",
   "execution_count": 25,
   "id": "7162da45-3ead-4734-91d6-85181c3b8473",
   "metadata": {},
   "outputs": [
    {
     "data": {
      "text/plain": [
       "1.3488259"
      ]
     },
     "execution_count": 25,
     "metadata": {},
     "output_type": "execute_result"
    }
   ],
   "source": [
    "import numpy as np\n",
    "\n",
    "exp_lr.rates[np.argmin(exp_lr.losses)]"
   ]
  },
  {
   "cell_type": "code",
   "execution_count": 30,
   "id": "c6921314-5381-4612-90e2-87b206050683",
   "metadata": {},
   "outputs": [],
   "source": [
    "keras.backend.clear_session()\n",
    "\n",
    "model = keras.models.Sequential([\n",
    "    keras.layers.Flatten(input_shape = [28, 28]),\n",
    "    keras.layers.Dense(300, activation = \"relu\"),\n",
    "    keras.layers.Dense(100, activation = \"relu\"),\n",
    "    keras.layers.Dense(10, activation = \"softmax\")\n",
    "])\n",
    "model.compile(loss = \"sparse_categorical_crossentropy\",\n",
    "              optimizer = keras.optimizers.SGD(learning_rate = 0.1),\n",
    "              metrics = [\"accuracy\"])"
   ]
  },
  {
   "cell_type": "code",
   "execution_count": 31,
   "id": "c88ad07f-8973-41c3-9f99-13cf70fd7e8b",
   "metadata": {},
   "outputs": [
    {
     "name": "stdout",
     "output_type": "stream",
     "text": [
      "Epoch 1/100\n",
      "1719/1719 [==============================] - 5s 3ms/step - loss: 0.2681 - accuracy: 0.9194 - val_loss: 0.1349 - val_accuracy: 0.9612\n",
      "Epoch 2/100\n",
      "1719/1719 [==============================] - 5s 3ms/step - loss: 0.1094 - accuracy: 0.9669 - val_loss: 0.1124 - val_accuracy: 0.9682\n",
      "Epoch 3/100\n",
      "1719/1719 [==============================] - 5s 3ms/step - loss: 0.0737 - accuracy: 0.9777 - val_loss: 0.0811 - val_accuracy: 0.9746\n",
      "Epoch 4/100\n",
      "1719/1719 [==============================] - 5s 3ms/step - loss: 0.0538 - accuracy: 0.9833 - val_loss: 0.0775 - val_accuracy: 0.9774\n",
      "Epoch 5/100\n",
      "1719/1719 [==============================] - 6s 3ms/step - loss: 0.0399 - accuracy: 0.9876 - val_loss: 0.0695 - val_accuracy: 0.9788\n",
      "Epoch 6/100\n",
      "1719/1719 [==============================] - 7s 4ms/step - loss: 0.0301 - accuracy: 0.9903 - val_loss: 0.0713 - val_accuracy: 0.9776\n",
      "Epoch 7/100\n",
      "1719/1719 [==============================] - 5s 3ms/step - loss: 0.0225 - accuracy: 0.9932 - val_loss: 0.0711 - val_accuracy: 0.9790\n",
      "Epoch 8/100\n",
      "1719/1719 [==============================] - 5s 3ms/step - loss: 0.0176 - accuracy: 0.9949 - val_loss: 0.0788 - val_accuracy: 0.9772\n",
      "Epoch 9/100\n",
      "1719/1719 [==============================] - 7s 4ms/step - loss: 0.0131 - accuracy: 0.9964 - val_loss: 0.0688 - val_accuracy: 0.9804\n",
      "Epoch 10/100\n",
      "1719/1719 [==============================] - 5s 3ms/step - loss: 0.0085 - accuracy: 0.9981 - val_loss: 0.0708 - val_accuracy: 0.9828\n",
      "Epoch 11/100\n",
      "1719/1719 [==============================] - 4s 2ms/step - loss: 0.0055 - accuracy: 0.9989 - val_loss: 0.0723 - val_accuracy: 0.9814\n",
      "Epoch 12/100\n",
      "1719/1719 [==============================] - 4s 2ms/step - loss: 0.0038 - accuracy: 0.9994 - val_loss: 0.0707 - val_accuracy: 0.9818\n",
      "Epoch 13/100\n",
      "1719/1719 [==============================] - 4s 2ms/step - loss: 0.0024 - accuracy: 0.9997 - val_loss: 0.0695 - val_accuracy: 0.9836\n",
      "Epoch 14/100\n",
      "1719/1719 [==============================] - 4s 2ms/step - loss: 0.0016 - accuracy: 0.9999 - val_loss: 0.0710 - val_accuracy: 0.9834\n",
      "Epoch 15/100\n",
      "1719/1719 [==============================] - 4s 2ms/step - loss: 0.0013 - accuracy: 1.0000 - val_loss: 0.0731 - val_accuracy: 0.9832\n",
      "Epoch 16/100\n",
      "1719/1719 [==============================] - 4s 2ms/step - loss: 9.9477e-04 - accuracy: 1.0000 - val_loss: 0.0750 - val_accuracy: 0.9830\n",
      "Epoch 17/100\n",
      "1719/1719 [==============================] - 4s 2ms/step - loss: 8.6445e-04 - accuracy: 1.0000 - val_loss: 0.0746 - val_accuracy: 0.9826\n",
      "Epoch 18/100\n",
      "1719/1719 [==============================] - 4s 2ms/step - loss: 7.4017e-04 - accuracy: 1.0000 - val_loss: 0.0769 - val_accuracy: 0.9826\n",
      "Epoch 19/100\n",
      "1719/1719 [==============================] - 4s 2ms/step - loss: 6.7061e-04 - accuracy: 1.0000 - val_loss: 0.0763 - val_accuracy: 0.9834\n",
      "Epoch 20/100\n",
      "1719/1719 [==============================] - 4s 2ms/step - loss: 6.0011e-04 - accuracy: 1.0000 - val_loss: 0.0780 - val_accuracy: 0.9828\n",
      "Epoch 21/100\n",
      "1719/1719 [==============================] - 4s 2ms/step - loss: 5.4999e-04 - accuracy: 1.0000 - val_loss: 0.0782 - val_accuracy: 0.9832\n",
      "Epoch 22/100\n",
      "1719/1719 [==============================] - 4s 2ms/step - loss: 5.0533e-04 - accuracy: 1.0000 - val_loss: 0.0785 - val_accuracy: 0.9830\n",
      "Epoch 23/100\n",
      "1719/1719 [==============================] - 4s 2ms/step - loss: 4.6980e-04 - accuracy: 1.0000 - val_loss: 0.0792 - val_accuracy: 0.9832\n",
      "Epoch 24/100\n",
      "1719/1719 [==============================] - 4s 2ms/step - loss: 4.3691e-04 - accuracy: 1.0000 - val_loss: 0.0798 - val_accuracy: 0.9834\n",
      "Epoch 25/100\n",
      "1719/1719 [==============================] - 4s 2ms/step - loss: 4.0618e-04 - accuracy: 1.0000 - val_loss: 0.0800 - val_accuracy: 0.9830\n",
      "Epoch 26/100\n",
      "1719/1719 [==============================] - 4s 2ms/step - loss: 3.8409e-04 - accuracy: 1.0000 - val_loss: 0.0807 - val_accuracy: 0.9832\n",
      "Epoch 27/100\n",
      "1719/1719 [==============================] - 4s 2ms/step - loss: 3.6255e-04 - accuracy: 1.0000 - val_loss: 0.0818 - val_accuracy: 0.9826\n",
      "Epoch 28/100\n",
      "1719/1719 [==============================] - 4s 2ms/step - loss: 3.4262e-04 - accuracy: 1.0000 - val_loss: 0.0814 - val_accuracy: 0.9832\n",
      "Epoch 29/100\n",
      "1719/1719 [==============================] - 4s 2ms/step - loss: 3.2305e-04 - accuracy: 1.0000 - val_loss: 0.0823 - val_accuracy: 0.9830\n"
     ]
    }
   ],
   "source": [
    "import os\n",
    "\n",
    "# Increment at every run\n",
    "run_index = 1\n",
    "run_logdir = os.path.join(os.curdir, \"my_mnist_logs\", \"run_{:03d}\".format(run_index))\n",
    "\n",
    "early_stopping_cb = keras.callbacks.EarlyStopping(patience = 20)\n",
    "checkpoint_cb = keras.callbacks.ModelCheckpoint(\"mnist_exercise.h5\", save_best_only = True)\n",
    "tensorboard_cb = keras.callbacks.TensorBoard(run_logdir)\n",
    "\n",
    "history = model.fit(X_train, y_train, epochs = 100,\n",
    "                    validation_data = (X_val, y_val),\n",
    "                    callbacks = [checkpoint_cb, early_stopping_cb, tensorboard_cb])"
   ]
  },
  {
   "cell_type": "code",
   "execution_count": 32,
   "id": "46f96268-f3ba-4f28-a88e-299efbf3af59",
   "metadata": {},
   "outputs": [
    {
     "data": {
      "image/png": "[encoded data removed]",
      "text/plain": [
       "<Figure size 576x360 with 1 Axes>"
      ]
     },
     "metadata": {
      "needs_background": "light"
     },
     "output_type": "display_data"
    }
   ],
   "source": [
    "import pandas as pd\n",
    "\n",
    "pd.DataFrame(history.history).plot(figsize = (8, 5))\n",
    "plt.grid(True)\n",
    "plt.gca().set_ylim(0, 1) \n",
    "plt.show()"
   ]
  },
  {
   "cell_type": "markdown",
   "id": "285b037d-7d88-4aa8-9b19-87a52317506c",
   "metadata": {},
   "source": [
    "We'll grab our best model."
   ]
  },
  {
   "cell_type": "code",
   "execution_count": 33,
   "id": "29321d6c-2d50-4b06-bf51-8e6325ba9fc2",
   "metadata": {},
   "outputs": [
    {
     "name": "stdout",
     "output_type": "stream",
     "text": [
      "313/313 [==============================] - 1s 2ms/step - loss: 0.0691 - accuracy: 0.9804\n"
     ]
    },
    {
     "data": {
      "text/plain": [
       "[0.06912047415971756, 0.980400025844574]"
      ]
     },
     "execution_count": 33,
     "metadata": {},
     "output_type": "execute_result"
    }
   ],
   "source": [
    "model = keras.models.load_model(\"mnist_exercise.h5\")\n",
    "model.evaluate(X_test, y_test)"
   ]
  },
  {
   "cell_type": "markdown",
   "id": "ba888337-6dfe-463b-aa64-efb3d888055e",
   "metadata": {},
   "source": [
    "We can look at the learning curves using TensorBoard."
   ]
  },
  {
   "cell_type": "code",
   "execution_count": 40,
   "id": "6b356f41-5c85-4845-9d8e-e3617716ab39",
   "metadata": {},
   "outputs": [
    {
     "name": "stdout",
     "output_type": "stream",
     "text": [
      "The tensorboard extension is already loaded. To reload it, use:\n",
      "  %reload_ext tensorboard\n"
     ]
    },
    {
     "data": {
      "text/html": [
       "\n",
       "      <iframe id=\"tensorboard-frame-4c23e567a8fd607d\" width=\"100%\" height=\"800\" frameborder=\"0\">\n",
       "      </iframe>\n",
       "      <script>\n",
       "        (function() {\n",
       "          const frame = document.getElementById(\"tensorboard-frame-4c23e567a8fd607d\");\n",
       "          const url = new URL(\"/\", window.location);\n",
       "          const port = 6006;\n",
       "          if (port) {\n",
       "            url.port = port;\n",
       "          }\n",
       "          frame.src = url;\n",
       "        })();\n",
       "      </script>\n",
       "    "
      ],
      "text/plain": [
       "<IPython.core.display.HTML object>"
      ]
     },
     "metadata": {},
     "output_type": "display_data"
    }
   ],
   "source": [
    "%load_ext tensorboard\n",
    "%tensorboard --logdir=\"/Users/jiehengyu/Desktop/ML Python/Chapter 10/my_mnist_logs\" --port=6006"
   ]
  },
  {
   "cell_type": "code",
   "execution_count": null,
   "id": "8180925d-b7ca-484f-b4c2-daed20c5df1c",
   "metadata": {},
   "outputs": [],
   "source": []
  }
 ],
 "metadata": {
  "kernelspec": {
   "display_name": "Python 3 (ipykernel)",
   "language": "python",
   "name": "python3"
  },
  "language_info": {
   "codemirror_mode": {
    "name": "ipython",
    "version": 3
   },
   "file_extension": ".py",
   "mimetype": "text/x-python",
   "name": "python",
   "nbconvert_exporter": "python",
   "pygments_lexer": "ipython3",
   "version": "3.9.7"
  }
 },
 "nbformat": 4,
 "nbformat_minor": 5
}
