{
 "cells": [
  {
   "cell_type": "markdown",
   "id": "3ed16dfa-9da8-4c46-b2dd-6f18ba96b724",
   "metadata": {},
   "source": [
    "# Exercises\n",
    "\n",
    "1. What are the advantages of a CNN over a fully connected DNN for image classification?\n",
    "2. Consider a CNN composed of three convolutional layers, each with 3 x 3 kernels, a stride of 2, & `\"SAME\"` padding. The lowest layer outputs 100 feature maps, the middle on outputs 200, & the top one outputs 400. The input images are RGB images of 200 x 300 pixels. What is the total number of parameters in the CNN? If we are using 32-bit floats, at least how much RAM will this network require when making a prediction for a single instance? What about when training on a mini-batch of 50 images?\n",
    "3. If your GPU runs out of memory while training a CNN, what are five things you could try to solve the problem?\n",
    "4. Why would you want to add a max pooling layer rather than a convolutional layer with the same stride?\n",
    "5. When would you want to add a local response normalisation layer?\n",
    "6. Can you name the main innovations in AlexNet, compared to LeNet-5? What about the main innovations in GoogLeNet, ResNet, SENet, & Xception?\n",
    "7. What is a fully convolutional network? How can you convert a dense layer into a convolutional layer?\n",
    "8. What is the main technical difficulty of semantic segmentation?\n",
    "9. Build your own CNN from scratch & try to achieve the highest possible accuracy on MNIST.\n",
    "10. Use transfer learning for large image classification, going through these steps:\n",
    "   - Create a training set containing at least 100 images per class. For example, you could classify your own images based on the location (beach, mountain, city, etc.), or alternatively you can use an existing dataset (e.g., from TensorFlow datasets)\n",
    "   - Split it into a training set, a validation set, & a test set.\n",
    "   - Build the input pipeline, including the appropriate preprocessing operations & optionally add data augmentation.\n",
    "   - Fine-tune a pretrained model on this dataset.\n",
    "11. Go through TensorFlow's style transfer tutorial. It is a fun way to generate art using deep learning."
   ]
  },
  {
   "cell_type": "markdown",
   "id": "e81ce6a3-9c8b-493b-a00c-de3543611d2c",
   "metadata": {},
   "source": [
    "---"
   ]
  },
  {
   "cell_type": "markdown",
   "id": "5e821fbc-400c-497b-b243-602bdc11c29d",
   "metadata": {},
   "source": [
    "1. A fully connected DNN would work fine for small image classification, but it would become problematic as larger images. For example, a 100 x 100 pixel image has 10,000 pixels, & if the first layer of the network has 1000 neurons, then that is 10,000,000 connections, only for the first layer. You can kinda see how this might lead to an enormous number of parameters. CNNs can solve this problem by using partially connected layers & weight sharing. By na\n",
    "2. $$\\begin{split}\n",
    "(3 * 3 * 3 + 1) * 100 = 2700 \\\\\n",
    "(3 * 3 * 3 + 1) * 200 = 5400 \\\\ \n",
    "(3 * 3 * 3 + 1) * 400 = 10800 \\\\\n",
    "2700 + 5400 + 10800 = 18900\n",
    "\\end{split}$$\n",
    "The total number of parameters is 18900. During inference (i.e., when making a prediction for a new instance) the RAM occupied by one layer can be released as soon as the next layer has been computed, so you only need as much RAM as required by two consecutive layers. Since, the question asks \"at least\", we'll compute the amount of RAM used by the two layers that output the most feature maps.\n",
    "$$\\begin{split}\n",
    "200 * 200 * 300 * 32 = 384,000,000 \\\\\n",
    "400 * 200 * 300 * 32 = 768,000,000 \\\\\n",
    "384,000,000 + 768,000,000 = 1,152,000,000 \\\\\n",
    "1,152,000,000 * \\frac{1}{8,000,000} = 144\n",
    "\\end{split}$$\n",
    "If we are using 32-bit floats, the network will require at least 144MB of RAM when making a prediction for a single instance. During training, everything computed during the forward pass is preserved for the reverse pass, so the amount of RAM needed is (at least) the total amount of RAM required by all layers.\n",
    "$$\\begin{split}\n",
    "100 * 200 * 300 * 32 = 192,000,000 \\\\\n",
    "200 * 200 * 300 * 32 = 384,000,000 \\\\\n",
    "400 * 200 * 300 * 32 = 768,000,000 \\\\\n",
    "192,000,000 + 384,000,000 + 768,000,000 = 1,344,000,000 \\\\\n",
    "1,344,000,000 * \\frac{1}{8,000,000} = 168 \\\\\n",
    "168 * 50 = 8,400\n",
    "\\end{split}$$\n",
    "When we are training on a mini-batch of 50 images & using 32-bit floats, the network will require at least 8,400MB or 8.4GB of RAM.\n",
    "3. If training crashes due to out-of-memroy error, there are several ways to solve the problem. You can reduce the mini-batch size. Alternatively, you can reduce dimensionality by increasing stride. You can even remove some layers from your network. Instead of using 32-bit floats, you can use 16-bit floats. Or you can even distribute your CNN across multiple devices.\n",
    "4. You might want to add a max pooling layer rather than a convolutional layer with the same stride because a max pooling layer can reduce computational load, memory usage, & the number of parameters. For example, if we use a 2 x 2 kernel, with a stride of 2 & no padding, then only the max input value in each receptive fields will be passed as output to the next layers, while other inputs are dropped. Other than the aforementioned benefits, a max pooling layer introduces some level of invariance to small translations. Moreover, max pooling offers a small amount of rotational invariance & slight scale invariance as well, depending on the stride & kernel. Although there are many benefits of having max pooling layers, they are very destructive. They drop a huge percentage of the input variables. Also, sometimes, invariance isn't desirable, depending on the goal.\n",
    "5. You may want to add a local response normalisation layer to improve generalisation of your network. In a local response normalisation layer, the most strongly activated neurons inhibit other neurons located at the same position in neighbouring feature maps, encouraging different feature maps to specialise, pushing them apart & forcing them to explore a wider range of features, ultimately improving generalisation.\n",
    "6. Compared to LeNet-5, AlexNet was the first to stack convolutional layers directly on top of one another, instead of stacking a pooling layer on top of each convolutional layer. AlexNet was also a much deeper network than LeNet-5, & included multiple regularisation techniques: dropout, data augmentation, & local response normalisation. GoogLeNet's network was much deeper than the previously mentioned networks, made possible by subnetworks called inception modules, which allowed GoogLeNet to use parameters more efficiently than previous architectures. These inception modules are configured to output fewer feature maps than their inputs, so they serve as bottleneck layers, meaning they reduce dimensionality, cutting the computation cost & the number of parameters, speeding up training & improving generalisation. ResNet was an extremely deep network that included skip connections. Its skip connections allowed for the network to make progress even if the layer has not started learning yet. The network can be seen as a stack of residual units (RUs), where each residual unit is a small neural network with a skip connection. Within the deep stack of residual units, the number of feature maps are doubled every few residual units; at the same time, their height & width are halved using a convolutional layer with stride 2. When this happenes, the inputs cannot be added directly to the output sof the residual unit because they don't have the same shape. To solve this problem, the inputs as passed through a 1 x 1 convolutional layer with stride 2 & the right number of output feature maps. Xception was a variant of the GoogleNet architecture, but it replaced the inception modules with a depthwise separable convolution layer (separable convolution layer for short). Whilea regular convolutional layer uses filters that try to simultaneously capture spatial patterns (e.g., an oval) & cross-channel patterns (e.g., mouth + nose + eyes = face), a separable convolution layer assumes that spatial patterns & cross-channel patterns can be modeled separately. Thus, it is composed of two parts: the first part applies a single spatial filter for each input filter map, while the second part looks exclusively for cross-channel patterns. SENet extends existing architectures such as inception moduels & residual units, but boosting their performance. The boost comes from the fact that a SENet adds a small neural network called an SE block to every unit in the original architecture (to every inception module & every residual unit). The SE block is composed of just three layers, a global average pooling layer, a hidden dense layer using the ReLU activation function & a dense output layer using the sigmoid activation function. The SE block analyses the output of the unit it is attached to, focusing exclusively on the depth dimension (it doesn't look for any spatial pattern), & it learns which features are usually most active together. For example, an SE Block may learn that mouths, noses, & eyes usually appear together in pictures. So if the block see a strong activation in the mouth & nose feature maps, but only mild activation in the eye feature map, it will boost the eye feature map by reducing the irrelevant feature map. If the eyes were somewhat confused with something else, this feature map recalibration will help resolve the ambiguity. The global average pooling layer computes the mean activation for each feature map: for example, if its inputs contains 256 feature maps, it will output 256 numbers representing the overall level of response for each filter. The next layer has significantly fewer -- typically 16 times less -- fewer than the number of feature maps -- so the 256 numbers get compressed into a small vector. This is a low dimensional vector representation (i.e., an embedding) of the distribution of feautre responses. The bottleneck stops the SE block to learn a general representation of the feature combinations. Finally, the output layer takes the low-dimensional representation (embedding) & outputs a recalibration vector containing one number per feature map (e.g., 256), each between 0 & 1. The feature maps are then multiplied by the recalibration vector, so irrelevant features (with a low recalibration score) get scaled down while relevant feature (with a recalibration score closer to 1) are left alone.\n",
    "7.  #Fully Convolutional Networks"
   ]
  },
  {
   "cell_type": "code",
   "execution_count": null,
   "id": "3e3dc72a-a95e-47a0-8434-2208ae532ef1",
   "metadata": {},
   "outputs": [],
   "source": []
  }
 ],
 "metadata": {
  "kernelspec": {
   "display_name": "Python 3 (ipykernel)",
   "language": "python",
   "name": "python3"
  },
  "language_info": {
   "codemirror_mode": {
    "name": "ipython",
    "version": 3
   },
   "file_extension": ".py",
   "mimetype": "text/x-python",
   "name": "python",
   "nbconvert_exporter": "python",
   "pygments_lexer": "ipython3",
   "version": "3.11.5"
  }
 },
 "nbformat": 4,
 "nbformat_minor": 5
}
