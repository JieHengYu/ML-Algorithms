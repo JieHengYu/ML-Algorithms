{
 "cells": [
  {
   "cell_type": "markdown",
   "id": "e38daf08-a299-47d5-904b-cd79bcd0b3ca",
   "metadata": {},
   "source": [
    "# Exercises\n",
    "\n",
    "1. Can you think of a few applications for a sequence-to-sequence RNN? What about a sequence-to-vector RNN, & a vector-to-sequence RNN?\n",
    "2. How many dimensions must the inputs of an RNN layer have? What does each dimension represent? What about its outputs?\n",
    "3. If you want to build a deep sequence-to-sequence RNN, which RNN layers should have `return_sequences = True`? What about a sequence-to-vector RNN?\n",
    "4. Suppose you have a daily univariate time series, & you want to forecast the next seven days. Which RNN architecture should you use?\n",
    "5. What are the main difficulties when training RNNs? How can you handle them?\n",
    "6. Can you sketch the LSTM cell's architecture?\n",
    "7. Why would you want to use 1D convolutional layers in an RNN?\n",
    "8. Which neural network architecture could you use to classify videos?\n",
    "9. Train a classification model for the sketchrnn dataset, available in tensorflow datasets.\n",
    "10. Download the bach chorales dataset & unzip it. It is composed of 382 chorales composed by Johann Sebastian Bach. Each chorale is 100 to 640 time steps long, & each time step contains 4 integers, where each integer corresponds to a note's index on a piano (except for the value 0, which means that no note). Train a model -- recurrent, convolutional, or both -- that can predict the next time step (four notes), given a sequence of time steps from a chorale. Then use this model to generate Bach-like music, one note at a time: you can do this by giving the model the start of a chorale & asking it to predict the next time step, then appending these time steps to the input sequence & asking the model for the next note, & so on. Also make sure to check out Google's coconet model, which was used for a nice Google doodle about Bach."
   ]
  },
  {
   "cell_type": "markdown",
   "id": "673cf0a5-2333-42f3-a9bc-7ae852a37e95",
   "metadata": {},
   "source": [
    "---"
   ]
  },
  {
   "cell_type": "markdown",
   "id": "908cbc1c-3107-4eb2-b1ad-29f5b21a7939",
   "metadata": {},
   "source": [
    "1. A sequence-to-sequence RNN can be used for predicting time series, such as stock prices. You feed it the prices of the last N days, & it must output the prices shifted by one day into the future (i.e., from N - 1 days ago to tomorrow). A sequence-to-vector RNN takes in a sequence of inputs & ignores all outputs excet for the last one. For example you can feed this network a sequence of words corresponding to a movie revier, & the network would output a sentiment score (e.g., from -1 [hate] to +1 [love]). Conversely, you could feed the network the same input over & over again at each time step & let it output a sequence. This is a vector-to-sequence network, which can be used for image captions.\n",
    "2. The input features of an RNN layer are generally represented in 3 dimensions, in arrays of shape [*batch size*, *time steps*, *dimensionality*], where *dimensionality* is 1 for univariate time series & more for multivariate time series. The output features are also 3 dimensional with the same first two dimensions, but the last dimension is the number of neurons.\n",
    "3. For a deep sequence-to-sequence model, you must set `return_sequences = True` in all recurrent layers. For a deep sequence-to-vector model, leave want to set `return_sequences = True` to all recurrent layers but the top recurrent layer.\n",
    "4. We should use a sequence-to-sequence RNN so that we can train it to forecast the next 7 values at each & every step. We could also use a sequence-to-vector RNN, but it would train the model to forecast the next 7 values only at the very last time step.\n",
    "5. The two main difficulties that RNNs face are unstable gradients & limited short-term memory. Unstable gradients can be alleviated using various techniques, such as dropout & layer normalisation. The short term memory can be extended using LSTM & GRU cells.\n",
    "6. <img src = \"Images/LSTM Cell.png\" width = \"500\" style = \"margin:auto\"/>\n",
    "7. Since a 1D convolutional layer is not recurrent, it suffers less from unstable gradients. One or more 1D convolutional layers can be useful in a RNN by downsampling, thereby helping the RNN layers detect long-term patterns more efficiently. In fact, it is possible to use many convolutional layers, for example, when you build a wavenet architecture.\n",
    "8. For videos, you have the visual & auditory content. For parallel processing, you could put the visual content into a CNN, where each frame of the video is a different image. You can then take the output of this CNN & run it thorugh a sequence-to-vector RNN that outputs through a softmax layer, giving you the class of your visual content. For the audio content, you would have to downsample by adding a stack of 1D convolutional layers, & then once again, with the output, run it through a sequence-to-vector RNN that outputs through a softmax layer. To combine them both, you would concatenate the outputs of the convolutional layers along the last dimension before running it through the RNN."
   ]
  },
  {
   "cell_type": "markdown",
   "id": "596d590d-271d-4287-a7ea-eacdb8ccf709",
   "metadata": {},
   "source": [
    "# 9."
   ]
  },
  {
   "cell_type": "code",
   "execution_count": 1,
   "id": "471ab4cd-ce6b-4e41-904e-f728f199d300",
   "metadata": {},
   "outputs": [],
   "source": [
    "import tensorflow as tf\n",
    "from tensorflow import keras\n",
    "\n",
    "download_root = \"http://download.tensorflow.org/data/\"\n",
    "file_name = \"quickdraw_tutorial_dataset_v1.tar.gz\"\n",
    "filepath = keras.utils.get_file(file_name, download_root + file_name,\n",
    "                                cache_subdir = \"data\", extract = True)"
   ]
  },
  {
   "cell_type": "code",
   "execution_count": 3,
   "id": "34879c33-2e1d-439d-9910-b1075a1f4b5a",
   "metadata": {},
   "outputs": [
    {
     "data": {
      "text/plain": [
       "['/Users/jiehengyu/.keras/data/training.tfrecord-00000-of-00010',\n",
       " '/Users/jiehengyu/.keras/data/training.tfrecord-00001-of-00010',\n",
       " '/Users/jiehengyu/.keras/data/training.tfrecord-00002-of-00010',\n",
       " '/Users/jiehengyu/.keras/data/training.tfrecord-00003-of-00010',\n",
       " '/Users/jiehengyu/.keras/data/training.tfrecord-00004-of-00010',\n",
       " '/Users/jiehengyu/.keras/data/training.tfrecord-00005-of-00010',\n",
       " '/Users/jiehengyu/.keras/data/training.tfrecord-00006-of-00010',\n",
       " '/Users/jiehengyu/.keras/data/training.tfrecord-00007-of-00010',\n",
       " '/Users/jiehengyu/.keras/data/training.tfrecord-00008-of-00010',\n",
       " '/Users/jiehengyu/.keras/data/training.tfrecord-00009-of-00010']"
      ]
     },
     "execution_count": 3,
     "metadata": {},
     "output_type": "execute_result"
    }
   ],
   "source": [
    "from pathlib import Path\n",
    "\n",
    "quickdraw_dir = Path(filepath).parent\n",
    "train_files = sorted([str(path) for path in quickdraw_dir.glob(\"training.tfrecord-*\")])\n",
    "eval_files = sorted([str(path) for path in quickdraw_dir.glob(\"eval.tfrecord-*\")])\n",
    "train_files"
   ]
  },
  {
   "cell_type": "code",
   "execution_count": 4,
   "id": "f42883f0-c1b1-45b8-90cd-de95d3807778",
   "metadata": {},
   "outputs": [
    {
     "data": {
      "text/plain": [
       "['/Users/jiehengyu/.keras/data/eval.tfrecord-00000-of-00010',\n",
       " '/Users/jiehengyu/.keras/data/eval.tfrecord-00001-of-00010',\n",
       " '/Users/jiehengyu/.keras/data/eval.tfrecord-00002-of-00010',\n",
       " '/Users/jiehengyu/.keras/data/eval.tfrecord-00003-of-00010',\n",
       " '/Users/jiehengyu/.keras/data/eval.tfrecord-00004-of-00010',\n",
       " '/Users/jiehengyu/.keras/data/eval.tfrecord-00005-of-00010',\n",
       " '/Users/jiehengyu/.keras/data/eval.tfrecord-00006-of-00010',\n",
       " '/Users/jiehengyu/.keras/data/eval.tfrecord-00007-of-00010',\n",
       " '/Users/jiehengyu/.keras/data/eval.tfrecord-00008-of-00010',\n",
       " '/Users/jiehengyu/.keras/data/eval.tfrecord-00009-of-00010']"
      ]
     },
     "execution_count": 4,
     "metadata": {},
     "output_type": "execute_result"
    }
   ],
   "source": [
    "eval_files"
   ]
  },
  {
   "cell_type": "code",
   "execution_count": 5,
   "id": "910ae3b3-9f64-4275-ac05-bf5fbc5adffa",
   "metadata": {},
   "outputs": [],
   "source": [
    "with open(quickdraw_dir / \"eval.tfrecord.classes\") as test_classes_file:\n",
    "    test_classes = test_classes_file.readlines()\n",
    "\n",
    "with open(quickdraw_dir / \"training.tfrecord.classes\") as train_classes_file:\n",
    "    train_classes = train_classes_file.readlines()"
   ]
  },
  {
   "cell_type": "code",
   "execution_count": 6,
   "id": "a6cd8028-51b4-4829-b3b4-8a37bcfa1d6e",
   "metadata": {},
   "outputs": [
    {
     "data": {
      "text/plain": [
       "['aircraft carrier',\n",
       " 'airplane',\n",
       " 'alarm clock',\n",
       " 'ambulance',\n",
       " 'angel',\n",
       " 'animal migration',\n",
       " 'ant',\n",
       " 'anvil',\n",
       " 'apple',\n",
       " 'arm',\n",
       " 'asparagus',\n",
       " 'axe',\n",
       " 'backpack',\n",
       " 'banana',\n",
       " 'bandage',\n",
       " 'barn',\n",
       " 'baseball',\n",
       " 'baseball bat',\n",
       " 'basket',\n",
       " 'basketball',\n",
       " 'bat',\n",
       " 'bathtub',\n",
       " 'beach',\n",
       " 'bear',\n",
       " 'beard',\n",
       " 'bed',\n",
       " 'bee',\n",
       " 'belt',\n",
       " 'bench',\n",
       " 'bicycle',\n",
       " 'binoculars',\n",
       " 'bird',\n",
       " 'birthday cake',\n",
       " 'blackberry',\n",
       " 'blueberry',\n",
       " 'book',\n",
       " 'boomerang',\n",
       " 'bottlecap',\n",
       " 'bowtie',\n",
       " 'bracelet',\n",
       " 'brain',\n",
       " 'bread',\n",
       " 'bridge',\n",
       " 'broccoli',\n",
       " 'broom',\n",
       " 'bucket',\n",
       " 'bulldozer',\n",
       " 'bus',\n",
       " 'bush',\n",
       " 'butterfly',\n",
       " 'cactus',\n",
       " 'cake',\n",
       " 'calculator',\n",
       " 'calendar',\n",
       " 'camel',\n",
       " 'camera',\n",
       " 'camouflage',\n",
       " 'campfire',\n",
       " 'candle',\n",
       " 'cannon',\n",
       " 'canoe',\n",
       " 'car',\n",
       " 'carrot',\n",
       " 'castle',\n",
       " 'cat',\n",
       " 'ceiling fan',\n",
       " 'cell phone',\n",
       " 'cello',\n",
       " 'chair',\n",
       " 'chandelier',\n",
       " 'church',\n",
       " 'circle',\n",
       " 'clarinet',\n",
       " 'clock',\n",
       " 'cloud',\n",
       " 'coffee cup',\n",
       " 'compass',\n",
       " 'computer',\n",
       " 'cookie',\n",
       " 'cooler',\n",
       " 'couch',\n",
       " 'cow',\n",
       " 'crab',\n",
       " 'crayon',\n",
       " 'crocodile',\n",
       " 'crown',\n",
       " 'cruise ship',\n",
       " 'cup',\n",
       " 'diamond',\n",
       " 'dishwasher',\n",
       " 'diving board',\n",
       " 'dog',\n",
       " 'dolphin',\n",
       " 'donut',\n",
       " 'door',\n",
       " 'dragon',\n",
       " 'dresser',\n",
       " 'drill',\n",
       " 'drums',\n",
       " 'duck',\n",
       " 'dumbbell',\n",
       " 'ear',\n",
       " 'elbow',\n",
       " 'elephant',\n",
       " 'envelope',\n",
       " 'eraser',\n",
       " 'eye',\n",
       " 'eyeglasses',\n",
       " 'face',\n",
       " 'fan',\n",
       " 'feather',\n",
       " 'fence',\n",
       " 'finger',\n",
       " 'fire hydrant',\n",
       " 'fireplace',\n",
       " 'firetruck',\n",
       " 'fish',\n",
       " 'flamingo',\n",
       " 'flashlight',\n",
       " 'flip flops',\n",
       " 'floor lamp',\n",
       " 'flower',\n",
       " 'flying saucer',\n",
       " 'foot',\n",
       " 'fork',\n",
       " 'frog',\n",
       " 'frying pan',\n",
       " 'garden',\n",
       " 'garden hose',\n",
       " 'giraffe',\n",
       " 'goatee',\n",
       " 'golf club',\n",
       " 'grapes',\n",
       " 'grass',\n",
       " 'guitar',\n",
       " 'hamburger',\n",
       " 'hammer',\n",
       " 'hand',\n",
       " 'harp',\n",
       " 'hat',\n",
       " 'headphones',\n",
       " 'hedgehog',\n",
       " 'helicopter',\n",
       " 'helmet',\n",
       " 'hexagon',\n",
       " 'hockey puck',\n",
       " 'hockey stick',\n",
       " 'horse',\n",
       " 'hospital',\n",
       " 'hot air balloon',\n",
       " 'hot dog',\n",
       " 'hot tub',\n",
       " 'hourglass',\n",
       " 'house',\n",
       " 'house plant',\n",
       " 'hurricane',\n",
       " 'ice cream',\n",
       " 'jacket',\n",
       " 'jail',\n",
       " 'kangaroo',\n",
       " 'key',\n",
       " 'keyboard',\n",
       " 'knee',\n",
       " 'knife',\n",
       " 'ladder',\n",
       " 'lantern',\n",
       " 'laptop',\n",
       " 'leaf',\n",
       " 'leg',\n",
       " 'light bulb',\n",
       " 'lighter',\n",
       " 'lighthouse',\n",
       " 'lightning',\n",
       " 'line',\n",
       " 'lion',\n",
       " 'lipstick',\n",
       " 'lobster',\n",
       " 'lollipop',\n",
       " 'mailbox',\n",
       " 'map',\n",
       " 'marker',\n",
       " 'matches',\n",
       " 'megaphone',\n",
       " 'mermaid',\n",
       " 'microphone',\n",
       " 'microwave',\n",
       " 'monkey',\n",
       " 'moon',\n",
       " 'mosquito',\n",
       " 'motorbike',\n",
       " 'mountain',\n",
       " 'mouse',\n",
       " 'moustache',\n",
       " 'mouth',\n",
       " 'mug',\n",
       " 'mushroom',\n",
       " 'nail',\n",
       " 'necklace',\n",
       " 'nose',\n",
       " 'ocean',\n",
       " 'octagon',\n",
       " 'octopus',\n",
       " 'onion',\n",
       " 'oven',\n",
       " 'owl',\n",
       " 'paint can',\n",
       " 'paintbrush',\n",
       " 'palm tree',\n",
       " 'panda',\n",
       " 'pants',\n",
       " 'paper clip',\n",
       " 'parachute',\n",
       " 'parrot',\n",
       " 'passport',\n",
       " 'peanut',\n",
       " 'pear',\n",
       " 'peas',\n",
       " 'pencil',\n",
       " 'penguin',\n",
       " 'piano',\n",
       " 'pickup truck',\n",
       " 'picture frame',\n",
       " 'pig',\n",
       " 'pillow',\n",
       " 'pineapple',\n",
       " 'pizza',\n",
       " 'pliers',\n",
       " 'police car',\n",
       " 'pond',\n",
       " 'pool',\n",
       " 'popsicle',\n",
       " 'postcard',\n",
       " 'potato',\n",
       " 'power outlet',\n",
       " 'purse',\n",
       " 'rabbit',\n",
       " 'raccoon',\n",
       " 'radio',\n",
       " 'rain',\n",
       " 'rainbow',\n",
       " 'rake',\n",
       " 'remote control',\n",
       " 'rhinoceros',\n",
       " 'rifle',\n",
       " 'river',\n",
       " 'roller coaster',\n",
       " 'rollerskates',\n",
       " 'sailboat',\n",
       " 'sandwich',\n",
       " 'saw',\n",
       " 'saxophone',\n",
       " 'school bus',\n",
       " 'scissors',\n",
       " 'scorpion',\n",
       " 'screwdriver',\n",
       " 'sea turtle',\n",
       " 'see saw',\n",
       " 'shark',\n",
       " 'sheep',\n",
       " 'shoe',\n",
       " 'shorts',\n",
       " 'shovel',\n",
       " 'sink',\n",
       " 'skateboard',\n",
       " 'skull',\n",
       " 'skyscraper',\n",
       " 'sleeping bag',\n",
       " 'smiley face',\n",
       " 'snail',\n",
       " 'snake',\n",
       " 'snorkel',\n",
       " 'snowflake',\n",
       " 'snowman',\n",
       " 'soccer ball',\n",
       " 'sock',\n",
       " 'speedboat',\n",
       " 'spider',\n",
       " 'spoon',\n",
       " 'spreadsheet',\n",
       " 'square',\n",
       " 'squiggle',\n",
       " 'squirrel',\n",
       " 'stairs',\n",
       " 'star',\n",
       " 'steak',\n",
       " 'stereo',\n",
       " 'stethoscope',\n",
       " 'stitches',\n",
       " 'stop sign',\n",
       " 'stove',\n",
       " 'strawberry',\n",
       " 'streetlight',\n",
       " 'string bean',\n",
       " 'submarine',\n",
       " 'suitcase',\n",
       " 'sun',\n",
       " 'swan',\n",
       " 'sweater',\n",
       " 'swing set',\n",
       " 'sword',\n",
       " 'syringe',\n",
       " 't-shirt',\n",
       " 'table',\n",
       " 'teapot',\n",
       " 'teddy-bear',\n",
       " 'telephone',\n",
       " 'television',\n",
       " 'tennis racquet',\n",
       " 'tent',\n",
       " 'the eiffel tower',\n",
       " 'the great wall of china',\n",
       " 'the mona lisa',\n",
       " 'tiger',\n",
       " 'toaster',\n",
       " 'toe',\n",
       " 'toilet',\n",
       " 'tooth',\n",
       " 'toothbrush',\n",
       " 'toothpaste',\n",
       " 'tornado',\n",
       " 'tractor',\n",
       " 'traffic light',\n",
       " 'train',\n",
       " 'tree',\n",
       " 'triangle',\n",
       " 'trombone',\n",
       " 'truck',\n",
       " 'trumpet',\n",
       " 'umbrella',\n",
       " 'underwear',\n",
       " 'van',\n",
       " 'vase',\n",
       " 'violin',\n",
       " 'washing machine',\n",
       " 'watermelon',\n",
       " 'waterslide',\n",
       " 'whale',\n",
       " 'wheel',\n",
       " 'windmill',\n",
       " 'wine bottle',\n",
       " 'wine glass',\n",
       " 'wristwatch',\n",
       " 'yoga',\n",
       " 'zebra',\n",
       " 'zigzag']"
      ]
     },
     "execution_count": 6,
     "metadata": {},
     "output_type": "execute_result"
    }
   ],
   "source": [
    "assert train_classes == test_classes\n",
    "class_names = [name.strip().lower() for name in train_classes]\n",
    "sorted(class_names)"
   ]
  },
  {
   "cell_type": "code",
   "execution_count": 7,
   "id": "d41ac9a8-9ea4-43c2-9e4b-f1738db898f5",
   "metadata": {},
   "outputs": [],
   "source": [
    "def parse(data_batch):\n",
    "    feature_descriptions = {\n",
    "        \"ink\": tf.io.VarLenFeature(dtype = tf.float32),\n",
    "        \"shape\": tf.io.FixedLenFeature([2], dtype = tf.int64),\n",
    "        \"class_index\": tf.io.FixedLenFeature([1], dtype = tf.int64)\n",
    "    }\n",
    "    examples = tf.io.parse_example(data_batch, feature_descriptions)\n",
    "    flat_sketches = tf.sparse.to_dense(examples[\"ink\"])\n",
    "    sketches = tf.reshape(flat_sketches, shape = [tf.size(data_batch), -1, 3])\n",
    "    lengths = examples[\"shape\"][:, 0]\n",
    "    labels = examples[\"class_index\"][:, 0]\n",
    "    return sketches, lengths, labels"
   ]
  },
  {
   "cell_type": "code",
   "execution_count": 8,
   "id": "81f54487-571a-4e03-8a60-acf109e66bbc",
   "metadata": {},
   "outputs": [],
   "source": [
    "def quickdraw_dataset(filepaths, batch_size = 32, shuffle_buffer_size = None,\n",
    "                      n_parse_threads = 5, n_read_threads = 5, cache = False):\n",
    "    dataset = tf.data.TFRecordDataset(filepaths, \n",
    "                                      num_parallel_reads = n_read_threads)\n",
    "    if cache:\n",
    "        dataset = dataset.cache()\n",
    "    if shuffle_buffer_size:\n",
    "        dataset = dataset.shuffle(shuffle_buffer_size)\n",
    "    dataset = dataset.batch(batch_size)\n",
    "    dataset = dataset.map(parse, num_parallel_calls = n_parse_threads)\n",
    "    return dataset.prefetch(1)"
   ]
  },
  {
   "cell_type": "code",
   "execution_count": 9,
   "id": "895078a6-8569-4576-a393-96095206c5fa",
   "metadata": {},
   "outputs": [
    {
     "name": "stdout",
     "output_type": "stream",
     "text": [
      "sketches = tf.Tensor(\n",
      "[[[-0.046875    0.7647059   0.        ]\n",
      "  [ 0.0625      0.18823528  0.        ]\n",
      "  [ 0.046875    0.04313725  1.        ]\n",
      "  ...\n",
      "  [ 0.          0.          0.        ]\n",
      "  [ 0.          0.          0.        ]\n",
      "  [ 0.          0.          0.        ]]\n",
      "\n",
      " [[-0.7007874   0.5         0.        ]\n",
      "  [-0.00393701  0.09500003  0.        ]\n",
      "  [ 0.02362205  0.04499996  0.        ]\n",
      "  ...\n",
      "  [ 0.          0.          0.        ]\n",
      "  [ 0.          0.          0.        ]\n",
      "  [ 0.          0.          0.        ]]\n",
      "\n",
      " [[-0.43529415  0.09500003  0.        ]\n",
      "  [-0.20784314  0.065       0.        ]\n",
      "  [ 0.         -0.65999997  0.        ]\n",
      "  ...\n",
      "  [ 0.          0.          0.        ]\n",
      "  [ 0.          0.          0.        ]\n",
      "  [ 0.          0.          0.        ]]\n",
      "\n",
      " ...\n",
      "\n",
      " [[ 0.11848342 -0.19291341  0.        ]\n",
      "  [ 0.02843601 -0.13779527  0.        ]\n",
      "  [ 0.00947869 -0.21259841  0.        ]\n",
      "  ...\n",
      "  [ 0.          0.          0.        ]\n",
      "  [ 0.          0.          0.        ]\n",
      "  [ 0.          0.          0.        ]]\n",
      "\n",
      " [[ 0.19607843 -0.24074073  0.        ]\n",
      "  [ 0.33725494 -0.12037037  0.        ]\n",
      "  [ 0.30196077  0.03703704  0.        ]\n",
      "  ...\n",
      "  [ 0.          0.          0.        ]\n",
      "  [ 0.          0.          0.        ]\n",
      "  [ 0.          0.          0.        ]]\n",
      "\n",
      " [[ 0.01176471 -0.39007097  0.        ]\n",
      "  [-0.01176471 -0.26950353  0.        ]\n",
      "  [-0.01568627 -0.09929077  0.        ]\n",
      "  ...\n",
      "  [ 0.          0.          0.        ]\n",
      "  [ 0.          0.          0.        ]\n",
      "  [ 0.          0.          0.        ]]], shape=(32, 65, 3), dtype=float32)\n",
      "lengths = tf.Tensor(\n",
      "[11 25 47 22 21 16 56 51 45 33 45 24 62 51 35 37 30 40 54 30 22 53 55 18\n",
      " 58 37 65 58 36 53 14 28], shape=(32,), dtype=int64)\n",
      "labels = tf.Tensor(\n",
      "[ 56 184  80 244  64 178 208 175 291 153  73  85 115 291 114 243  70  18\n",
      " 267 326 304 167 160 275 319  92 209 136 165  84 275 299], shape=(32,), dtype=int64)\n"
     ]
    },
    {
     "name": "stderr",
     "output_type": "stream",
     "text": [
      "2024-09-22 18:28:55.265130: W tensorflow/core/framework/local_rendezvous.cc:404] Local rendezvous is aborting with status: OUT_OF_RANGE: End of sequence\n"
     ]
    }
   ],
   "source": [
    "train_set = quickdraw_dataset(train_files, shuffle_buffer_size = 10000)\n",
    "valid_set = quickdraw_dataset(eval_files[:5])\n",
    "test_set = quickdraw_dataset(eval_files[5:])\n",
    "\n",
    "for sketches, lengths, labels in train_set.take(1):\n",
    "    print(\"sketches =\", sketches)\n",
    "    print(\"lengths =\", lengths)\n",
    "    print(\"labels =\", labels)"
   ]
  },
  {
   "cell_type": "code",
   "execution_count": 10,
   "id": "fe6e1062-bb6b-4304-a71b-2ad0f0f3e370",
   "metadata": {},
   "outputs": [],
   "source": [
    "def crop_long_sketches(dataset, max_length = 100):\n",
    "    return dataset.map(lambda inks, lengths, labels: (inks[:, :max_length], labels))\n",
    "\n",
    "cropped_train_set = crop_long_sketches(train_set)\n",
    "cropped_val_set = crop_long_sketches(valid_set)\n",
    "cropped_test_set = crop_long_sketches(test_set)"
   ]
  },
  {
   "cell_type": "code",
   "execution_count": 11,
   "id": "de40bb77-9b14-480f-b8e6-90e605e82ef4",
   "metadata": {},
   "outputs": [
    {
     "name": "stdout",
     "output_type": "stream",
     "text": [
      "Epoch 1/2\n",
      " 107812/Unknown \u001b[1m1982s\u001b[0m 18ms/step - accuracy: 0.0817 - loss: 4.8276 - sparse_top_k_categorical_accuracy: 0.2099"
     ]
    },
    {
     "name": "stderr",
     "output_type": "stream",
     "text": [
      "2024-09-22 19:01:59.130475: W tensorflow/core/framework/local_rendezvous.cc:404] Local rendezvous is aborting with status: OUT_OF_RANGE: End of sequence\n",
      "\t [[{{node IteratorGetNext}}]]\n",
      "/Users/jiehengyu/opt/anaconda3/lib/python3.12/contextlib.py:158: UserWarning: Your input ran out of data; interrupting training. Make sure that your dataset or generator can generate at least `steps_per_epoch * epochs` batches. You may need to use the `.repeat()` function when building your dataset.\n",
      "  self.gen.throw(value)\n"
     ]
    },
    {
     "name": "stdout",
     "output_type": "stream",
     "text": [
      "\u001b[1m107813/107813\u001b[0m \u001b[32m━━━━━━━━━━━━━━━━━━━━\u001b[0m\u001b[37m\u001b[0m \u001b[1m2013s\u001b[0m 19ms/step - accuracy: 0.0817 - loss: 4.8276 - sparse_top_k_categorical_accuracy: 0.2099 - val_accuracy: 0.3102 - val_loss: 3.0906 - val_sparse_top_k_categorical_accuracy: 0.5922\n",
      "Epoch 2/2\n",
      "\u001b[1m     4/107813\u001b[0m \u001b[37m━━━━━━━━━━━━━━━━━━━━\u001b[0m \u001b[1m33:28\u001b[0m 19ms/step - accuracy: 0.3021 - loss: 3.2948 - sparse_top_k_categorical_accuracy: 0.5755   "
     ]
    },
    {
     "name": "stderr",
     "output_type": "stream",
     "text": [
      "2024-09-22 19:02:29.919296: W tensorflow/core/framework/local_rendezvous.cc:404] Local rendezvous is aborting with status: OUT_OF_RANGE: End of sequence\n",
      "\t [[{{node IteratorGetNext}}]]\n"
     ]
    },
    {
     "name": "stdout",
     "output_type": "stream",
     "text": [
      "\u001b[1m107810/107813\u001b[0m \u001b[32m━━━━━━━━━━━━━━━━━━━\u001b[0m\u001b[37m━\u001b[0m \u001b[1m0s\u001b[0m 19ms/step - accuracy: 0.3494 - loss: 2.8666 - sparse_top_k_categorical_accuracy: 0.6371"
     ]
    },
    {
     "name": "stderr",
     "output_type": "stream",
     "text": [
      "2024-09-22 19:36:34.403395: W tensorflow/core/framework/local_rendezvous.cc:404] Local rendezvous is aborting with status: OUT_OF_RANGE: End of sequence\n",
      "\t [[{{node IteratorGetNext}}]]\n"
     ]
    },
    {
     "name": "stdout",
     "output_type": "stream",
     "text": [
      "\u001b[1m107813/107813\u001b[0m \u001b[32m━━━━━━━━━━━━━━━━━━━━\u001b[0m\u001b[37m\u001b[0m \u001b[1m2074s\u001b[0m 19ms/step - accuracy: 0.3494 - loss: 2.8666 - sparse_top_k_categorical_accuracy: 0.6371 - val_accuracy: 0.4173 - val_loss: 2.4942 - val_sparse_top_k_categorical_accuracy: 0.7061\n"
     ]
    },
    {
     "name": "stderr",
     "output_type": "stream",
     "text": [
      "2024-09-22 19:37:03.866586: W tensorflow/core/framework/local_rendezvous.cc:404] Local rendezvous is aborting with status: OUT_OF_RANGE: End of sequence\n",
      "\t [[{{node IteratorGetNext}}]]\n"
     ]
    }
   ],
   "source": [
    "keras.backend.clear_session()\n",
    "\n",
    "model = keras.models.Sequential([\n",
    "    keras.layers.Conv1D(32, kernel_size = 5, strides = 2, activation = \"relu\"),\n",
    "    keras.layers.BatchNormalization(),\n",
    "    keras.layers.Conv1D(64, kernel_size = 5, strides = 2, activation = \"relu\"),\n",
    "    keras.layers.BatchNormalization(),\n",
    "    keras.layers.Conv1D(128, kernel_size = 3, strides = 2, activation = \"relu\"),\n",
    "    keras.layers.BatchNormalization(),\n",
    "    keras.layers.LSTM(128, return_sequences = True),\n",
    "    keras.layers.LSTM(128),\n",
    "    keras.layers.Dense(len(class_names), activation = \"softmax\")\n",
    "])\n",
    "optimizer = keras.optimizers.SGD(learning_rate = 0.01, clipnorm = 1.0)\n",
    "model.compile(loss = \"sparse_categorical_crossentropy\",\n",
    "              optimizer = optimizer,\n",
    "              metrics = [\"accuracy\", \"sparse_top_k_categorical_accuracy\"])\n",
    "history = model.fit(cropped_train_set, epochs = 2,\n",
    "                    validation_data = cropped_val_set)"
   ]
  },
  {
   "cell_type": "code",
   "execution_count": 16,
   "id": "02d0d123-08b6-473d-a494-b5735c073425",
   "metadata": {},
   "outputs": [],
   "source": [
    "import matplotlib.pyplot as plt\n",
    "import numpy as np\n",
    "\n",
    "def draw_sketch(sketch, label = None):\n",
    "    origin = np.array([[0.0, 0.0, 0.0]])\n",
    "    sketch = np.r_[origin, sketch]\n",
    "    stroke_end_indices = np.argwhere(sketch[:, -1] == 1.0)[:, 0]\n",
    "    coordinates = np.cumsum(sketch[:, :2], axis = 0)\n",
    "    strokes = np.split(coordinates, stroke_end_indices + 1)\n",
    "    title = class_names[label.numpy()] if label is not None else \"Try to guess\"\n",
    "    plt.title(title)\n",
    "    plt.plot(coordinates[:, 0], -coordinates[:, 1], \"y:\")\n",
    "    for stroke in strokes:\n",
    "        plt.plot(stroke[:, 0], -stroke[:, 1], \".-\")\n",
    "    plt.axis(\"off\")"
   ]
  },
  {
   "cell_type": "code",
   "execution_count": 17,
   "id": "1f19fcd3-dd12-43c2-9d8a-a6a0ded8c82a",
   "metadata": {},
   "outputs": [
    {
     "name": "stdout",
     "output_type": "stream",
     "text": [
      "\u001b[1m1/1\u001b[0m \u001b[32m━━━━━━━━━━━━━━━━━━━━\u001b[0m\u001b[37m\u001b[0m \u001b[1m0s\u001b[0m 26ms/step\n"
     ]
    },
    {
     "data": {
      "image/png": "[encoded data removed]",
      "text/plain": [
       "<Figure size 300x350 with 1 Axes>"
      ]
     },
     "metadata": {},
     "output_type": "display_data"
    },
    {
     "name": "stdout",
     "output_type": "stream",
     "text": [
      "Top-5 predictions:\n",
      "  1. ladder 39.032%\n",
      "  2. skyscraper 6.765%\n",
      "  3. tent 3.842%\n",
      "  4. fence 3.820%\n",
      "  5. bed 3.804%\n",
      "Answer: leg\n"
     ]
    },
    {
     "data": {
      "image/png": "[encoded data removed]",
      "text/plain": [
       "<Figure size 300x350 with 1 Axes>"
      ]
     },
     "metadata": {},
     "output_type": "display_data"
    },
    {
     "name": "stdout",
     "output_type": "stream",
     "text": [
      "Top-5 predictions:\n",
      "  1. pencil 14.983%\n",
      "  2. crayon 8.765%\n",
      "  3. toothpaste 7.313%\n",
      "  4. eraser 7.148%\n",
      "  5. marker 5.451%\n",
      "Answer: see saw\n"
     ]
    },
    {
     "data": {
      "image/png": "[encoded data removed]",
      "text/plain": [
       "<Figure size 300x350 with 1 Axes>"
      ]
     },
     "metadata": {},
     "output_type": "display_data"
    },
    {
     "name": "stdout",
     "output_type": "stream",
     "text": [
      "Top-5 predictions:\n",
      "  1. fireplace 41.948%\n",
      "  2. camouflage 6.925%\n",
      "  3. map 4.219%\n",
      "  4. passport 4.048%\n",
      "  5. the mona lisa 2.540%\n",
      "Answer: fireplace\n"
     ]
    },
    {
     "data": {
      "image/png": "[encoded data removed]",
      "text/plain": [
       "<Figure size 300x350 with 1 Axes>"
      ]
     },
     "metadata": {},
     "output_type": "display_data"
    },
    {
     "name": "stdout",
     "output_type": "stream",
     "text": [
      "Top-5 predictions:\n",
      "  1. the great wall of china 34.701%\n",
      "  2. ocean 25.872%\n",
      "  3. beach 8.585%\n",
      "  4. grass 6.445%\n",
      "  5. river 3.537%\n",
      "Answer: ocean\n"
     ]
    },
    {
     "data": {
      "image/png": "[encoded data removed]",
      "text/plain": [
       "<Figure size 300x350 with 1 Axes>"
      ]
     },
     "metadata": {},
     "output_type": "display_data"
    },
    {
     "name": "stdout",
     "output_type": "stream",
     "text": [
      "Top-5 predictions:\n",
      "  1. moon 43.277%\n",
      "  2. hourglass 13.551%\n",
      "  3. boomerang 12.745%\n",
      "  4. peanut 5.369%\n",
      "  5. telephone 5.054%\n",
      "Answer: moon\n"
     ]
    }
   ],
   "source": [
    "n_new = 5\n",
    "y_probas = model.predict(sketches)\n",
    "top_k = tf.nn.top_k(y_probas, k = 5)\n",
    "for index in range(n_new):\n",
    "    plt.figure(figsize = (3, 3.5))\n",
    "    draw_sketch(sketches[index])\n",
    "    plt.show()\n",
    "    print(\"Top-5 predictions:\".format(index + 1))\n",
    "    for k in range(5):\n",
    "        class_name = class_names[top_k.indices[index, k]]\n",
    "        proba = 100 * top_k.values[index, k]\n",
    "        print(\"  {}. {} {:.3f}%\".format(k + 1, class_name, proba))\n",
    "    print(\"Answer: {}\".format(class_names[labels[index].numpy()]))"
   ]
  },
  {
   "cell_type": "markdown",
   "id": "eae15bca-8197-4503-9cf4-36c285be960d",
   "metadata": {},
   "source": [
    "---"
   ]
  },
  {
   "cell_type": "markdown",
   "id": "6d68c6ed-6a74-4d66-9058-96fcf90881bb",
   "metadata": {},
   "source": [
    "# 10."
   ]
  },
  {
   "cell_type": "code",
   "execution_count": null,
   "id": "475878a7-5179-403b-9aee-c08f53c4a41e",
   "metadata": {},
   "outputs": [],
   "source": []
  }
 ],
 "metadata": {
  "kernelspec": {
   "display_name": "Python 3 (ipykernel)",
   "language": "python",
   "name": "python3"
  },
  "language_info": {
   "codemirror_mode": {
    "name": "ipython",
    "version": 3
   },
   "file_extension": ".py",
   "mimetype": "text/x-python",
   "name": "python",
   "nbconvert_exporter": "python",
   "pygments_lexer": "ipython3",
   "version": "3.12.4"
  }
 },
 "nbformat": 4,
 "nbformat_minor": 5
}
